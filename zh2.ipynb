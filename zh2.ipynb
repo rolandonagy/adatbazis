{
    "metadata": {
        "kernelspec": {
            "name": "SQL",
            "display_name": "SQL",
            "language": "sql"
        },
        "language_info": {
            "name": "sql",
            "version": ""
        }
    },
    "nbformat_minor": 2,
    "nbformat": 4,
    "cells": [
        {
            "cell_type": "markdown",
            "source": [
                "Készítsünk listát az egyes szálláshelyek átlagos csillagszámáról típus, illetve hely szerint csoportosítva (külön-külön)!\n",
                "\n",
                "- Az átlag 2 tizedesre kerekítve jelenjen meg\n",
                "- Hagyjuk ki azokat a szálláshelyeket, amelyek nevében kötőjel (-) van!"
            ],
            "metadata": {
                "azdata_cell_guid": "109ceda8-c831-4cbf-9759-72297b7c9222"
            },
            "attachments": {}
        },
        {
            "cell_type": "code",
            "source": [
                "SELECT ROUND(avg(csillagok_szama) OVER (PARTITION by tipus), 2) as 'Típusonkénti csillagszám', ROUND(avg(CSILLAGOK_SZAMA) over(PARTITION by hely),2) as 'Hely szerinti csillagok száma'\r\n",
                "FROM szallashely sz\r\n",
                "WHERE CHARINDEX('-',SZALLAS_NEV) = 0"
            ],
            "metadata": {
                "azdata_cell_guid": "2a5ec117-0856-422c-b040-283686a399ca",
                "language": "sql",
                "tags": []
            },
            "outputs": [
{
    "output_type": "display_data",
    "data": {
        "text/html": "(20 rows affected)"
    },
    "metadata": {}
}, {
    "output_type": "display_data",
    "data": {
        "text/html": "Total execution time: 00:00:00.005"
    },
    "metadata": {}
}, {
    "output_type": "execute_result",
    "metadata": {},
    "execution_count": 12,
    "data": {
        "application/vnd.dataresource+json": {
            "schema": {
                "fields": [
                    {
                        "name": "Típusonkénti csillagszám"
                    },
                    {
                        "name": "Hely szerinti csillagok száma"
                    }
                ]
            },
            "data": [
                {
                    "Típusonkénti csillagszám": "0",
                    "Hely szerinti csillagok száma": "2"
                },
                {
                    "Típusonkénti csillagszám": "3",
                    "Hely szerinti csillagok száma": "2"
                },
                {
                    "Típusonkénti csillagszám": "3",
                    "Hely szerinti csillagok száma": "2"
                },
                {
                    "Típusonkénti csillagszám": "3",
                    "Hely szerinti csillagok száma": "2"
                },
                {
                    "Típusonkénti csillagszám": "3",
                    "Hely szerinti csillagok száma": "2"
                },
                {
                    "Típusonkénti csillagszám": "0",
                    "Hely szerinti csillagok száma": "2"
                },
                {
                    "Típusonkénti csillagszám": "0",
                    "Hely szerinti csillagok száma": "0"
                },
                {
                    "Típusonkénti csillagszám": "3",
                    "Hely szerinti csillagok száma": "3"
                },
                {
                    "Típusonkénti csillagszám": "3",
                    "Hely szerinti csillagok száma": "2"
                },
                {
                    "Típusonkénti csillagszám": "3",
                    "Hely szerinti csillagok száma": "2"
                },
                {
                    "Típusonkénti csillagszám": "0",
                    "Hely szerinti csillagok száma": "2"
                },
                {
                    "Típusonkénti csillagszám": "3",
                    "Hely szerinti csillagok száma": "2"
                },
                {
                    "Típusonkénti csillagszám": "0",
                    "Hely szerinti csillagok száma": "1"
                },
                {
                    "Típusonkénti csillagszám": "3",
                    "Hely szerinti csillagok száma": "1"
                },
                {
                    "Típusonkénti csillagszám": "0",
                    "Hely szerinti csillagok száma": "0"
                },
                {
                    "Típusonkénti csillagszám": "0",
                    "Hely szerinti csillagok száma": "0"
                },
                {
                    "Típusonkénti csillagszám": "0",
                    "Hely szerinti csillagok száma": "0"
                },
                {
                    "Típusonkénti csillagszám": "0",
                    "Hely szerinti csillagok száma": "0"
                },
                {
                    "Típusonkénti csillagszám": "3",
                    "Hely szerinti csillagok száma": "3"
                },
                {
                    "Típusonkénti csillagszám": "3",
                    "Hely szerinti csillagok száma": "4"
                }
            ]
        },
        "text/html": [
            "<table>",
            "<tr><th>Típusonkénti csillagszám</th><th>Hely szerinti csillagok száma</th></tr>",
            "<tr><td>0</td><td>2</td></tr>",
            "<tr><td>3</td><td>2</td></tr>",
            "<tr><td>3</td><td>2</td></tr>",
            "<tr><td>3</td><td>2</td></tr>",
            "<tr><td>3</td><td>2</td></tr>",
            "<tr><td>0</td><td>2</td></tr>",
            "<tr><td>0</td><td>0</td></tr>",
            "<tr><td>3</td><td>3</td></tr>",
            "<tr><td>3</td><td>2</td></tr>",
            "<tr><td>3</td><td>2</td></tr>",
            "<tr><td>0</td><td>2</td></tr>",
            "<tr><td>3</td><td>2</td></tr>",
            "<tr><td>0</td><td>1</td></tr>",
            "<tr><td>3</td><td>1</td></tr>",
            "<tr><td>0</td><td>0</td></tr>",
            "<tr><td>0</td><td>0</td></tr>",
            "<tr><td>0</td><td>0</td></tr>",
            "<tr><td>0</td><td>0</td></tr>",
            "<tr><td>3</td><td>3</td></tr>",
            "<tr><td>3</td><td>4</td></tr>",
            "</table>"
        ]
    }
}
],
            "execution_count": 12
        }
    ]
}