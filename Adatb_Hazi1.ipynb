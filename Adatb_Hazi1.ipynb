{
    "metadata": {
        "kernelspec": {
            "name": "SQL",
            "display_name": "SQL",
            "language": "sql"
        },
        "language_info": {
            "name": "sql",
            "version": ""
        }
    },
    "nbformat_minor": 2,
    "nbformat": 4,
    "cells": [
        {
            "cell_type": "markdown",
            "source": [
                "# **A választott adatbázis: diakmunka, választott tábla belőle a dbo.munka**"
            ],
            "metadata": {
                "azdata_cell_guid": "74f18f3a-508f-44b1-8bf9-fc5a916d8fa5"
            },
            "attachments": {}
        },
        {
            "cell_type": "markdown",
            "source": [
                "## **DiakAz oszlop profilozása:**"
            ],
            "metadata": {
                "azdata_cell_guid": "c33eb14e-a454-4a07-bfa4-d381577e7a5d"
            },
            "attachments": {}
        },
        {
            "cell_type": "markdown",
            "source": [
                "### **Első profilozás:**"
            ],
            "metadata": {
                "azdata_cell_guid": "3b879820-e159-442d-822a-b24558759df5"
            },
            "attachments": {}
        },
        {
            "cell_type": "code",
            "source": [
                "SELECT Count(CASE WHEN DiakAz IS NOT NULL THEN 1 END) as 'Betöltött állások',\r\n",
                "        COUNT(*)-Count(CASE WHEN DiakAz IS NOT NULL THEN 1 END) as 'Betöltetlen állások'\r\n",
                "FROM munka"
            ],
            "metadata": {
                "azdata_cell_guid": "b265b1cb-3358-4194-a622-cb568b2a311f",
                "language": "sql",
                "tags": []
            },
            "outputs": [
                {
                    "output_type": "display_data",
                    "data": {
                        "text/html": "Warning: Null value is eliminated by an aggregate or other SET operation."
                    },
                    "metadata": {}
                },
                {
                    "output_type": "display_data",
                    "data": {
                        "text/html": "(1 row affected)"
                    },
                    "metadata": {}
                },
                {
                    "output_type": "display_data",
                    "data": {
                        "text/html": "Total execution time: 00:00:00.012"
                    },
                    "metadata": {}
                },
                {
                    "output_type": "execute_result",
                    "metadata": {},
                    "execution_count": 22,
                    "data": {
                        "application/vnd.dataresource+json": {
                            "schema": {
                                "fields": [
                                    {
                                        "name": "Betöltött állások"
                                    },
                                    {
                                        "name": "Betöltetlen állások"
                                    }
                                ]
                            },
                            "data": [
                                {
                                    "Betöltött állások": "31",
                                    "Betöltetlen állások": "10"
                                }
                            ]
                        },
                        "text/html": [
                            "<table>",
                            "<tr><th>Betöltött állások</th><th>Betöltetlen állások</th></tr>",
                            "<tr><td>31</td><td>10</td></tr>",
                            "</table>"
                        ]
                    }
                }
            ],
            "execution_count": 22
        },
        {
            "cell_type": "markdown",
            "source": [
                "Az alábbi diagramról jól látható, hogy az összesen 41 munkából 31-nek találtak megfelelő munkaerőt, míg 10-nek nem. Ez azt jelenti, hogy a munkák közel 25%-hoz nincs hozzárendelve diák. Az így kapott adatokat NULL érték segítségével számoltam ki.  \n",
                "![](data:image/png;base64,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)"
            ],
            "metadata": {
                "azdata_cell_guid": "229a28e2-2d58-476b-aad1-b669fc046463"
            },
            "attachments": {}
        },
        {
            "cell_type": "markdown",
            "source": [
                "### **Második profilozás**"
            ],
            "metadata": {
                "azdata_cell_guid": "6b38f841-c34a-4d68-a00a-4a19f933e55b"
            },
            "attachments": {}
        },
        {
            "cell_type": "code",
            "source": [
                "SELECT TOP 3 diakaz as 'Diák azonosítója',COUNT(*) as 'Mennyi munkát vállalt'\r\n",
                "FROM munka\r\n",
                "WHERE DiakAz is not null\r\n",
                "GROUP BY diakaz\r\n",
                "ORDER BY 2 DESC"
            ],
            "metadata": {
                "azdata_cell_guid": "02316c44-7ae2-4395-a468-dbf3374d86c9",
                "language": "sql"
            },
            "outputs": [
                {
                    "output_type": "display_data",
                    "data": {
                        "text/html": "(3 rows affected)"
                    },
                    "metadata": {}
                },
                {
                    "output_type": "display_data",
                    "data": {
                        "text/html": "Total execution time: 00:00:00.052"
                    },
                    "metadata": {}
                },
                {
                    "output_type": "execute_result",
                    "metadata": {},
                    "execution_count": 28,
                    "data": {
                        "application/vnd.dataresource+json": {
                            "schema": {
                                "fields": [
                                    {
                                        "name": "Diák azonosítója"
                                    },
                                    {
                                        "name": "Mennyi munkát vállalt"
                                    }
                                ]
                            },
                            "data": [
                                {
                                    "Diák azonosítója": "8",
                                    "Mennyi munkát vállalt": "6"
                                },
                                {
                                    "Diák azonosítója": "5",
                                    "Mennyi munkát vállalt": "4"
                                },
                                {
                                    "Diák azonosítója": "6",
                                    "Mennyi munkát vállalt": "4"
                                }
                            ]
                        },
                        "text/html": [
                            "<table>",
                            "<tr><th>Diák azonosítója</th><th>Mennyi munkát vállalt</th></tr>",
                            "<tr><td>8</td><td>6</td></tr>",
                            "<tr><td>5</td><td>4</td></tr>",
                            "<tr><td>6</td><td>4</td></tr>",
                            "</table>"
                        ]
                    }
                }
            ],
            "execution_count": 28
        },
        {
            "cell_type": "markdown",
            "source": [
                "Az alábbi diagrammon az látható, hogy diákzonosító alapján ki az a három diák, aki a legtöbb munkát vállalja.\n",
                "\n",
                "![](data:image/png;base64,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)"
            ],
            "metadata": {
                "azdata_cell_guid": "10a631c9-c055-4bfe-bb85-608e59614efa"
            },
            "attachments": {}
        },
        {
            "cell_type": "markdown",
            "source": [
                "## **Harmadik profilozás:**"
            ],
            "metadata": {
                "azdata_cell_guid": "23e55282-e595-42b8-b453-0b986312eef4"
            },
            "attachments": {}
        },
        {
            "cell_type": "code",
            "source": [
                "SELECT COUNT(DISTINCT diakAz) AS 'Foglalkoztatott diákok száma'\r\n",
                "FROM munka\r\n",
                "WHERE diakAz IS NOT NULL"
            ],
            "metadata": {
                "azdata_cell_guid": "8b4655f0-27c9-4fe4-adf9-b5a0aaad3f83",
                "language": "sql"
            },
            "outputs": [
                {
                    "output_type": "display_data",
                    "data": {
                        "text/html": "(1 row affected)"
                    },
                    "metadata": {}
                },
                {
                    "output_type": "display_data",
                    "data": {
                        "text/html": "Total execution time: 00:00:00.081"
                    },
                    "metadata": {}
                },
                {
                    "output_type": "execute_result",
                    "metadata": {},
                    "execution_count": 29,
                    "data": {
                        "application/vnd.dataresource+json": {
                            "schema": {
                                "fields": [
                                    {
                                        "name": "Foglalkoztatott diákok száma"
                                    }
                                ]
                            },
                            "data": [
                                {
                                    "Foglalkoztatott diákok száma": "10"
                                }
                            ]
                        },
                        "text/html": [
                            "<table>",
                            "<tr><th>Foglalkoztatott diákok száma</th></tr>",
                            "<tr><td>10</td></tr>",
                            "</table>"
                        ]
                    }
                }
            ],
            "execution_count": 29
        },
        {
            "cell_type": "markdown",
            "source": [
                "A fentebbi lekérdezésben pedig az látható, hogy mennyi egyedi diakazonosító található meg a diakAz oszlopban."
            ],
            "metadata": {
                "azdata_cell_guid": "0406bb9a-1938-458d-b7eb-fe67ac9967db"
            },
            "attachments": {}
        },
        {
            "cell_type": "markdown",
            "source": [
                "## **Óradíj oszlop profilozása:**"
            ],
            "metadata": {
                "azdata_cell_guid": "dc7efb45-fb44-4466-b705-23d4cc389253"
            },
            "attachments": {}
        },
        {
            "cell_type": "markdown",
            "source": [
                "### **Első profilozás:**"
            ],
            "metadata": {
                "azdata_cell_guid": "ddaa8842-df03-4c25-90b3-d52778e08588"
            },
            "attachments": {}
        },
        {
            "cell_type": "code",
            "source": [
                "SELECT MIN(oradij) AS 'Minimum fizetés',\r\n",
                "       MAX(oradij) AS 'Maximum fizetés',\r\n",
                "       AVG(oradij) AS 'Átlag fizetés'\r\n",
                "FROM munka\r\n",
                "WHERE oradij IS NOT NULL"
            ],
            "metadata": {
                "azdata_cell_guid": "8194bf90-019c-433b-99b1-fc65d3d6b0b2",
                "language": "sql"
            },
            "outputs": [
                {
                    "output_type": "display_data",
                    "data": {
                        "text/html": "(1 row affected)"
                    },
                    "metadata": {}
                },
                {
                    "output_type": "display_data",
                    "data": {
                        "text/html": "Total execution time: 00:00:00.082"
                    },
                    "metadata": {}
                },
                {
                    "output_type": "execute_result",
                    "metadata": {},
                    "execution_count": 34,
                    "data": {
                        "application/vnd.dataresource+json": {
                            "schema": {
                                "fields": [
                                    {
                                        "name": "Minimum fizetés"
                                    },
                                    {
                                        "name": "Maximum fizetés"
                                    },
                                    {
                                        "name": "Átlag fizetés"
                                    }
                                ]
                            },
                            "data": [
                                {
                                    "Minimum fizetés": "200",
                                    "Maximum fizetés": "500",
                                    "Átlag fizetés": "346"
                                }
                            ]
                        },
                        "text/html": [
                            "<table>",
                            "<tr><th>Minimum fizetés</th><th>Maximum fizetés</th><th>Átlag fizetés</th></tr>",
                            "<tr><td>200</td><td>500</td><td>346</td></tr>",
                            "</table>"
                        ]
                    }
                }
            ],
            "execution_count": 34
        },
        {
            "cell_type": "markdown",
            "source": [
                "Az alábbi profilozásban azt láthatjuk, hogy a minimum fizetés 200, a max 500 és átlagosan egy stabil 346-os fizetés van.  \n",
                "![](data:image/png;base64,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)"
            ],
            "metadata": {
                "azdata_cell_guid": "ff50bd49-4aec-43ac-9f2b-15770178982a"
            },
            "attachments": {}
        },
        {
            "cell_type": "markdown",
            "source": [
                "### **Második profilozás**"
            ],
            "metadata": {
                "azdata_cell_guid": "8db74109-6bac-4f37-b29e-57c9011c5ebc"
            },
            "attachments": {}
        },
        {
            "cell_type": "code",
            "source": [
                "SELECT \r\n",
                "    SUM(CASE WHEN oradij < 325 THEN 1 ELSE 0 end) AS 'Nem megelelő összeg',\r\n",
                "    SUM(CASE WHEN oradij BETWEEN 325 and 390 THEN 1 ELSE 0 end) AS 'Megfelelő összeg',\r\n",
                "    SUM(CASE WHEN oradij > 390 THEN 1 ELSE 0 end) AS 'Túl nagy összeg'\r\n",
                "FROM munka"
            ],
            "metadata": {
                "azdata_cell_guid": "3672c714-353c-4305-8a53-23de6488cd8e",
                "language": "sql"
            },
            "outputs": [
                {
                    "output_type": "display_data",
                    "data": {
                        "text/html": "(1 row affected)"
                    },
                    "metadata": {}
                },
                {
                    "output_type": "display_data",
                    "data": {
                        "text/html": "Total execution time: 00:00:00.015"
                    },
                    "metadata": {}
                },
                {
                    "output_type": "execute_result",
                    "metadata": {},
                    "execution_count": 44,
                    "data": {
                        "application/vnd.dataresource+json": {
                            "schema": {
                                "fields": [
                                    {
                                        "name": "Nem megelelő összeg"
                                    },
                                    {
                                        "name": "Megfelelő összeg"
                                    },
                                    {
                                        "name": "Túl nagy összeg"
                                    }
                                ]
                            },
                            "data": [
                                {
                                    "Nem megelelő összeg": "20",
                                    "Megfelelő összeg": "3",
                                    "Túl nagy összeg": "18"
                                }
                            ]
                        },
                        "text/html": [
                            "<table>",
                            "<tr><th>Nem megelelő összeg</th><th>Megfelelő összeg</th><th>Túl nagy összeg</th></tr>",
                            "<tr><td>20</td><td>3</td><td>18</td></tr>",
                            "</table>"
                        ]
                    }
                }
            ],
            "execution_count": 44
        },
        {
            "cell_type": "markdown",
            "source": [
                "Az alábbi profilozásban azt néztem meg, hogy mennyi olyan munka van ami belefér a 325-ös minimum, de 390-es maximum óradíjba, majd ebből csináltam egy fánkdiagrammot.  \n",
                "![](data:image/png;base64,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)"
            ],
            "metadata": {
                "azdata_cell_guid": "fac638de-ecc2-4ff4-89d3-5914922dda18"
            },
            "attachments": {}
        },
        {
            "cell_type": "markdown",
            "source": [
                "### **Harmadik profilozás**"
            ],
            "metadata": {
                "azdata_cell_guid": "99c67051-1396-4d88-8001-b50f36b16d92"
            },
            "attachments": {}
        },
        {
            "cell_type": "code",
            "source": [
                "SELECT DISTINCT oradij as 'Óradíjak'\r\n",
                "FROM munka"
            ],
            "metadata": {
                "azdata_cell_guid": "bfc25db2-0fa8-4749-a192-b009ce796b1c",
                "language": "sql"
            },
            "outputs": [
                {
                    "output_type": "display_data",
                    "data": {
                        "text/html": "(7 rows affected)"
                    },
                    "metadata": {}
                },
                {
                    "output_type": "display_data",
                    "data": {
                        "text/html": "Total execution time: 00:00:00.020"
                    },
                    "metadata": {}
                },
                {
                    "output_type": "execute_result",
                    "metadata": {},
                    "execution_count": 40,
                    "data": {
                        "application/vnd.dataresource+json": {
                            "schema": {
                                "fields": [
                                    {
                                        "name": "oradij"
                                    }
                                ]
                            },
                            "data": [
                                {
                                    "oradij": "200"
                                },
                                {
                                    "oradij": "250"
                                },
                                {
                                    "oradij": "300"
                                },
                                {
                                    "oradij": "350"
                                },
                                {
                                    "oradij": "400"
                                },
                                {
                                    "oradij": "450"
                                },
                                {
                                    "oradij": "500"
                                }
                            ]
                        },
                        "text/html": [
                            "<table>",
                            "<tr><th>oradij</th></tr>",
                            "<tr><td>200</td></tr>",
                            "<tr><td>250</td></tr>",
                            "<tr><td>300</td></tr>",
                            "<tr><td>350</td></tr>",
                            "<tr><td>400</td></tr>",
                            "<tr><td>450</td></tr>",
                            "<tr><td>500</td></tr>",
                            "</table>"
                        ]
                    }
                }
            ],
            "execution_count": 40
        },
        {
            "cell_type": "markdown",
            "source": [
                "Az alábbi profilozásban azt néztem meg, hogy milyen fizetések találhatóak az olszopban, jól látszik hogy a fizetések 50-esével nőnek és ez a diagramról is leolvasható  \n",
                "![](data:image/png;base64,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)"
            ],
            "metadata": {
                "azdata_cell_guid": "d1953355-f543-4c8d-ab1c-a5a8802b20d9"
            },
            "attachments": {}
        }
    ]
}