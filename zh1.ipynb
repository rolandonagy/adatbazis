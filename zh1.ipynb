{
    "metadata": {
        "kernelspec": {
            "name": "SQL",
            "display_name": "SQL",
            "language": "sql"
        },
        "language_info": {
            "name": "sql",
            "version": ""
        }
    },
    "nbformat_minor": 2,
    "nbformat": 4,
    "cells": [
        {
            "cell_type": "markdown",
            "source": [
                "Hány olyan foglalás történt, amely során a foglalás kezdete és vége azonos évre, de különböző hónapra esett?\n",
                "\n",
                "a. Csak a megfelelő számérték jelenjen meg\n",
                "\n",
                "b. Az oszlopot nevezzük el értelemszerűen"
            ],
            "metadata": {
                "azdata_cell_guid": "cf71df26-6bbe-4d0c-94c1-f5e5b9e40b3f"
            },
            "attachments": {}
        },
        {
            "cell_type": "code",
            "source": [
                "SELECT COUNT(*) as 'Foglalások száma'\r\n",
                "FROM Foglalas\r\n",
                "WHERE YEAR(METTOL) = YEAR(MEDDIG) AND MONTH(METTOL) <> MONTH(MEDDIG)"
            ],
            "metadata": {
                "azdata_cell_guid": "049d399c-4854-46b5-ad64-4d98b4c832f6",
                "language": "sql"
            },
            "outputs": [
                {
                    "output_type": "display_data",
                    "data": {
                        "text/html": "(1 row affected)"
                    },
                    "metadata": {}
                },
                {
                    "output_type": "display_data",
                    "data": {
                        "text/html": "Total execution time: 00:00:00.007"
                    },
                    "metadata": {}
                },
                {
                    "output_type": "execute_result",
                    "metadata": {},
                    "execution_count": 6,
                    "data": {
                        "application/vnd.dataresource+json": {
                            "schema": {
                                "fields": [
                                    {
                                        "name": "Foglalások száma"
                                    }
                                ]
                            },
                            "data": [
                                {
                                    "Foglalások száma": "131"
                                }
                            ]
                        },
                        "text/html": [
                            "<table>",
                            "<tr><th>Foglalások száma</th></tr>",
                            "<tr><td>131</td></tr>",
                            "</table>"
                        ]
                    }
                }
            ],
            "execution_count": 6
        },
        {
            "cell_type": "code",
            "source": [
                "Készítsen lekérdezést, amely megjeleníti, hogy szobánként (SZOBA_FK) hány olyan foglalás történt, ahol a felnőttek száma nagyobb volt a gyermekek számánál!\r\n",
                "\r\n",
                "a. Az eredményt rendezzük sorba a foglalásszám szerint növekvően!\r\n",
                "\r\n",
                "b. Hagyjuk ki azokat a csoportokat, ahol az említett foglalásszám 2 alatti!"
            ],
            "metadata": {
                "azdata_cell_guid": "d47b8574-c79d-47a7-86df-56f262d9c37b",
                "language": "sql"
            },
            "outputs": [],
            "execution_count": null
        },
        {
            "cell_type": "code",
            "source": [
                "SELECT SZOBA_FK,COUNT(*) as 'Foglalások száma'\r\n",
                "FROM Foglalas\r\n",
                "WHERE GYERMEK_SZAM > FELNOTT_SZAM\r\n",
                "GROUP BY SZOBA_FK\r\n",
                "HAVING COUNT(*) > 2\r\n",
                "ORDER BY 2 ASC"
            ],
            "metadata": {
                "azdata_cell_guid": "19f3fe45-7a65-4bad-a8bb-afeb374904a5",
                "language": "sql",
                "tags": []
            },
            "outputs": [
{
    "output_type": "display_data",
    "data": {
        "text/html": "(12 rows affected)"
    },
    "metadata": {}
}, {
    "output_type": "display_data",
    "data": {
        "text/html": "Total execution time: 00:00:00.010"
    },
    "metadata": {}
}, {
    "output_type": "execute_result",
    "metadata": {},
    "execution_count": 11,
    "data": {
        "application/vnd.dataresource+json": {
            "schema": {
                "fields": [
                    {
                        "name": "SZOBA_FK"
                    },
                    {
                        "name": "Foglalások száma"
                    }
                ]
            },
            "data": [
                {
                    "SZOBA_FK": "109",
                    "Foglalások száma": "3"
                },
                {
                    "SZOBA_FK": "118",
                    "Foglalások száma": "3"
                },
                {
                    "SZOBA_FK": "120",
                    "Foglalások száma": "3"
                },
                {
                    "SZOBA_FK": "122",
                    "Foglalások száma": "3"
                },
                {
                    "SZOBA_FK": "128",
                    "Foglalások száma": "3"
                },
                {
                    "SZOBA_FK": "160",
                    "Foglalások száma": "3"
                },
                {
                    "SZOBA_FK": "178",
                    "Foglalások száma": "3"
                },
                {
                    "SZOBA_FK": "193",
                    "Foglalások száma": "3"
                },
                {
                    "SZOBA_FK": "38",
                    "Foglalások száma": "3"
                },
                {
                    "SZOBA_FK": "48",
                    "Foglalások száma": "3"
                },
                {
                    "SZOBA_FK": "55",
                    "Foglalások száma": "4"
                },
                {
                    "SZOBA_FK": "3",
                    "Foglalások száma": "4"
                }
            ]
        },
        "text/html": [
            "<table>",
            "<tr><th>SZOBA_FK</th><th>Foglalások száma</th></tr>",
            "<tr><td>109</td><td>3</td></tr>",
            "<tr><td>118</td><td>3</td></tr>",
            "<tr><td>120</td><td>3</td></tr>",
            "<tr><td>122</td><td>3</td></tr>",
            "<tr><td>128</td><td>3</td></tr>",
            "<tr><td>160</td><td>3</td></tr>",
            "<tr><td>178</td><td>3</td></tr>",
            "<tr><td>193</td><td>3</td></tr>",
            "<tr><td>38</td><td>3</td></tr>",
            "<tr><td>48</td><td>3</td></tr>",
            "<tr><td>55</td><td>4</td></tr>",
            "<tr><td>3</td><td>4</td></tr>",
            "</table>"
        ]
    }
}
],
            "execution_count": 11
        }
    ]
}