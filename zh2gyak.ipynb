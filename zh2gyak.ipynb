{
    "metadata": {
        "kernelspec": {
            "name": "SQL",
            "display_name": "SQL",
            "language": "sql"
        },
        "language_info": {
            "name": "sql",
            "version": ""
        }
    },
    "nbformat_minor": 2,
    "nbformat": 4,
    "cells": [
        {
            "cell_type": "markdown",
            "source": [
                "Kérdezzük le, hogy melyik ügyfél(USERNEV) hány különbőző szálláshelyen foglalt!\n",
                "\n",
                "a, A listában azok az ügyfelek is jelenjenek meg, akiknek még nem volt foglalásuk.\n",
                "\n",
                "b, Megfelelően jelölve jelenjen meg a végösszeg is."
            ],
            "metadata": {
                "azdata_cell_guid": "e16651c0-812c-4ae8-b3f0-f68db2ec0689"
            },
            "attachments": {}
        },
        {
            "cell_type": "code",
            "source": [
                "SELECT IIF(v.USERNEV IS NULL,'Végösszeg', v.USERNEV) as 'Ügyfél azonosító',COUNT(DISTINCT sz.SZALLAS_ID) as 'Szám'\r\n",
                "FROM Vendeg v LEFT JOIN Foglalas f ON v.USERNEV = f.UGYFEL_FK  LEFT JOIN Szoba szb ON szb.SZOBA_ID = f.SZOBA_FK  LEFT JOIN Szallashely sz ON sz.SZALLAS_ID = szb.SZALLAS_FK\r\n",
                "GROUP BY ROLLUP(v.USERNEV)"
            ],
            "metadata": {
                "azdata_cell_guid": "86ea348c-bcd1-4eae-b2bf-d10d50cee496",
                "language": "sql"
            },
            "outputs": [
{
    "output_type": "display_data",
    "data": {
        "text/html": "Warning: Null value is eliminated by an aggregate or other SET operation."
    },
    "metadata": {}
}, {
    "output_type": "display_data",
    "data": {
        "text/html": "(197 rows affected)"
    },
    "metadata": {}
}, {
    "output_type": "display_data",
    "data": {
        "text/html": "Total execution time: 00:00:00.024"
    },
    "metadata": {}
}, {
    "output_type": "execute_result",
    "metadata": {},
    "execution_count": 24,
    "data": {
        "application/vnd.dataresource+json": {
            "schema": {
                "fields": [
                    {
                        "name": "Ügyfél azonosító"
                    },
                    {
                        "name": "Szám"
                    }
                ]
            },
            "data": [
                {
                    "Ügyfél azonosító": "adam1",
                    "Szám": "2"
                },
                {
                    "Ügyfél azonosító": "adam3",
                    "Szám": "2"
                },
                {
                    "Ügyfél azonosító": "adam4",
                    "Szám": "5"
                },
                {
                    "Ügyfél azonosító": "agnes",
                    "Szám": "4"
                },
                {
                    "Ügyfél azonosító": "agnes3",
                    "Szám": "3"
                },
                {
                    "Ügyfél azonosító": "AGNESH",
                    "Szám": "5"
                },
                {
                    "Ügyfél azonosító": "AGNESK",
                    "Szám": "3"
                },
                {
                    "Ügyfél azonosító": "akos",
                    "Szám": "7"
                },
                {
                    "Ügyfél azonosító": "aladar",
                    "Szám": "3"
                },
                {
                    "Ügyfél azonosító": "alexandra",
                    "Szám": "6"
                },
                {
                    "Ügyfél azonosító": "andi",
                    "Szám": "4"
                },
                {
                    "Ügyfél azonosító": "andras2",
                    "Szám": "3"
                },
                {
                    "Ügyfél azonosító": "andras21",
                    "Szám": "6"
                },
                {
                    "Ügyfél azonosító": "andras3",
                    "Szám": "5"
                },
                {
                    "Ügyfél azonosító": "andras4",
                    "Szám": "2"
                },
                {
                    "Ügyfél azonosító": "andras41",
                    "Szám": "5"
                },
                {
                    "Ügyfél azonosító": "ANDRASE",
                    "Szám": "3"
                },
                {
                    "Ügyfél azonosító": "ANDRASN",
                    "Szám": "1"
                },
                {
                    "Ügyfél azonosító": "andrea",
                    "Szám": "4"
                },
                {
                    "Ügyfél azonosító": "andrea3",
                    "Szám": "1"
                },
                {
                    "Ügyfél azonosító": "andrea4",
                    "Szám": "2"
                },
                {
                    "Ügyfél azonosító": "ANDREAT",
                    "Szám": "2"
                },
                {
                    "Ügyfél azonosító": "anett3",
                    "Szám": "6"
                },
                {
                    "Ügyfél azonosító": "aniko",
                    "Szám": "3"
                },
                {
                    "Ügyfél azonosító": "aniko4",
                    "Szám": "3"
                },
                {
                    "Ügyfél azonosító": "ANIKOS",
                    "Szám": "6"
                },
                {
                    "Ügyfél azonosító": "anita",
                    "Szám": "4"
                },
                {
                    "Ügyfél azonosító": "annamaria1",
                    "Szám": "1"
                },
                {
                    "Ügyfél azonosító": "ANNAMARIAR",
                    "Szám": "5"
                },
                {
                    "Ügyfél azonosító": "aron2",
                    "Szám": "5"
                },
                {
                    "Ügyfél azonosító": "ARONK",
                    "Szám": "8"
                },
                {
                    "Ügyfél azonosító": "arpad2",
                    "Szám": "4"
                },
                {
                    "Ügyfél azonosító": "ARPADH",
                    "Szám": "3"
                },
                {
                    "Ügyfél azonosító": "ARPADM",
                    "Szám": "5"
                },
                {
                    "Ügyfél azonosító": "attila",
                    "Szám": "3"
                },
                {
                    "Ügyfél azonosító": "attila1",
                    "Szám": "5"
                },
                {
                    "Ügyfél azonosító": "attila4",
                    "Szám": "3"
                },
                {
                    "Ügyfél azonosító": "ATTILAO",
                    "Szám": "2"
                },
                {
                    "Ügyfél azonosító": "balazs1",
                    "Szám": "6"
                },
                {
                    "Ügyfél azonosító": "balazs2",
                    "Szám": "8"
                },
                {
                    "Ügyfél azonosító": "balazs3",
                    "Szám": "4"
                },
                {
                    "Ügyfél azonosító": "balint",
                    "Szám": "3"
                },
                {
                    "Ügyfél azonosító": "balint1",
                    "Szám": "9"
                },
                {
                    "Ügyfél azonosító": "balint2",
                    "Szám": "1"
                },
                {
                    "Ügyfél azonosító": "balu",
                    "Szám": "2"
                },
                {
                    "Ügyfél azonosító": "beata4",
                    "Szám": "4"
                },
                {
                    "Ügyfél azonosító": "BEATRIXK",
                    "Szám": "7"
                },
                {
                    "Ügyfél azonosító": "BEATRIXS",
                    "Szám": "5"
                },
                {
                    "Ügyfél azonosító": "BELAF",
                    "Szám": "3"
                },
                {
                    "Ügyfél azonosító": "bence",
                    "Szám": "6"
                },
                {
                    "Ügyfél azonosító": "BENCEB",
                    "Szám": "4"
                },
                {
                    "Ügyfél azonosító": "bernadett1",
                    "Szám": "5"
                },
                {
                    "Ügyfél azonosító": "bernadett2",
                    "Szám": "5"
                },
                {
                    "Ügyfél azonosító": "BERNADETTO",
                    "Szám": "6"
                },
                {
                    "Ügyfél azonosító": "bertalan",
                    "Szám": "4"
                },
                {
                    "Ügyfél azonosító": "brigitta",
                    "Szám": "4"
                },
                {
                    "Ügyfél azonosító": "brigitta3",
                    "Szám": "4"
                },
                {
                    "Ügyfél azonosító": "csongor3",
                    "Szám": "6"
                },
                {
                    "Ügyfél azonosító": "dani",
                    "Szám": "6"
                },
                {
                    "Ügyfél azonosító": "daniel",
                    "Szám": "5"
                },
                {
                    "Ügyfél azonosító": "daniel1",
                    "Szám": "5"
                },
                {
                    "Ügyfél azonosító": "david",
                    "Szám": "6"
                },
                {
                    "Ügyfél azonosító": "david1",
                    "Szám": "5"
                },
                {
                    "Ügyfél azonosító": "david4",
                    "Szám": "1"
                },
                {
                    "Ügyfél azonosító": "debora",
                    "Szám": "4"
                },
                {
                    "Ügyfél azonosító": "denes",
                    "Szám": "3"
                },
                {
                    "Ügyfél azonosító": "dora3",
                    "Szám": "4"
                },
                {
                    "Ügyfél azonosító": "edit",
                    "Szám": "5"
                },
                {
                    "Ügyfél azonosító": "emese",
                    "Szám": "3"
                },
                {
                    "Ügyfél azonosító": "eszter",
                    "Szám": "4"
                },
                {
                    "Ügyfél azonosító": "eszter2",
                    "Szám": "5"
                },
                {
                    "Ügyfél azonosító": "eszter4",
                    "Szám": "3"
                },
                {
                    "Ügyfél azonosító": "ESZTERE",
                    "Szám": "3"
                },
                {
                    "Ügyfél azonosító": "eva",
                    "Szám": "2"
                },
                {
                    "Ügyfél azonosító": "eva2",
                    "Szám": "3"
                },
                {
                    "Ügyfél azonosító": "EVAV",
                    "Szám": "4"
                },
                {
                    "Ügyfél azonosító": "ferenc1",
                    "Szám": "4"
                },
                {
                    "Ügyfél azonosító": "fruzsina4",
                    "Szám": "5"
                },
                {
                    "Ügyfél azonosító": "gabor1",
                    "Szám": "5"
                },
                {
                    "Ügyfél azonosító": "gabor4",
                    "Szám": "4"
                },
                {
                    "Ügyfél azonosító": "GABORS",
                    "Szám": "0"
                },
                {
                    "Ügyfél azonosító": "gabriella1",
                    "Szám": "4"
                },
                {
                    "Ügyfél azonosító": "gabriella10",
                    "Szám": "1"
                },
                {
                    "Ügyfél azonosító": "georgij",
                    "Szám": "4"
                },
                {
                    "Ügyfél azonosító": "gusztav",
                    "Szám": "5"
                },
                {
                    "Ügyfél azonosító": "GYONGYIK",
                    "Szám": "7"
                },
                {
                    "Ügyfél azonosító": "GYORGYO",
                    "Szám": "3"
                },
                {
                    "Ügyfél azonosító": "henrik3",
                    "Szám": "3"
                },
                {
                    "Ügyfél azonosító": "IBOLYAA",
                    "Szám": "2"
                },
                {
                    "Ügyfél azonosító": "ilona3",
                    "Szám": "2"
                },
                {
                    "Ügyfél azonosító": "imre",
                    "Szám": "2"
                },
                {
                    "Ügyfél azonosító": "imre1",
                    "Szám": "4"
                },
                {
                    "Ügyfél azonosító": "istvan",
                    "Szám": "3"
                },
                {
                    "Ügyfél azonosító": "istvan1",
                    "Szám": "4"
                },
                {
                    "Ügyfél azonosító": "ISTVANV",
                    "Szám": "2"
                },
                {
                    "Ügyfél azonosító": "janos3",
                    "Szám": "5"
                },
                {
                    "Ügyfél azonosító": "JANOSG",
                    "Szám": "3"
                },
                {
                    "Ügyfél azonosító": "JANOSP",
                    "Szám": "3"
                },
                {
                    "Ügyfél azonosító": "jozsef",
                    "Szám": "3"
                },
                {
                    "Ügyfél azonosító": "jozsef2",
                    "Szám": "3"
                },
                {
                    "Ügyfél azonosító": "JOZSEFG",
                    "Szám": "5"
                },
                {
                    "Ügyfél azonosító": "JUDITH",
                    "Szám": "3"
                },
                {
                    "Ügyfél azonosító": "julia",
                    "Szám": "2"
                },
                {
                    "Ügyfél azonosító": "julia4",
                    "Szám": "2"
                },
                {
                    "Ügyfél azonosító": "julianna4",
                    "Szám": "4"
                },
                {
                    "Ügyfél azonosító": "kata",
                    "Szám": "5"
                },
                {
                    "Ügyfél azonosító": "katalin",
                    "Szám": "6"
                },
                {
                    "Ügyfél azonosító": "katalin4",
                    "Szám": "3"
                },
                {
                    "Ügyfél azonosító": "kati",
                    "Szám": "4"
                },
                {
                    "Ügyfél azonosító": "katka",
                    "Szám": "4"
                },
                {
                    "Ügyfél azonosító": "klaudia2",
                    "Szám": "3"
                },
                {
                    "Ügyfél azonosító": "kornel4",
                    "Szám": "3"
                },
                {
                    "Ügyfél azonosító": "kristof4",
                    "Szám": "2"
                },
                {
                    "Ügyfél azonosító": "kriszti",
                    "Szám": "6"
                },
                {
                    "Ügyfél azonosító": "krisztian4",
                    "Szám": "6"
                },
                {
                    "Ügyfél azonosító": "KRISZTIANM",
                    "Szám": "6"
                },
                {
                    "Ügyfél azonosító": "krisztina",
                    "Szám": "5"
                },
                {
                    "Ügyfél azonosító": "krisztina1",
                    "Szám": "4"
                },
                {
                    "Ügyfél azonosító": "KRISZTINAG",
                    "Szám": "5"
                },
                {
                    "Ügyfél azonosító": "lajos",
                    "Szám": "3"
                },
                {
                    "Ügyfél azonosító": "lala",
                    "Szám": "5"
                },
                {
                    "Ügyfél azonosító": "laszlo1",
                    "Szám": "1"
                },
                {
                    "Ügyfél azonosító": "laszlo2",
                    "Szám": "5"
                },
                {
                    "Ügyfél azonosító": "LASZLOA",
                    "Szám": "3"
                },
                {
                    "Ügyfél azonosító": "LASZLON",
                    "Szám": "5"
                },
                {
                    "Ügyfél azonosító": "maria1",
                    "Szám": "6"
                },
                {
                    "Ügyfél azonosító": "mark",
                    "Szám": "3"
                },
                {
                    "Ügyfél azonosító": "MARKH",
                    "Szám": "2"
                },
                {
                    "Ügyfél azonosító": "marton",
                    "Szám": "6"
                },
                {
                    "Ügyfél azonosító": "MATEK",
                    "Szám": "3"
                },
                {
                    "Ügyfél azonosító": "matyas2",
                    "Szám": "2"
                },
                {
                    "Ügyfél azonosító": "MATYASS",
                    "Szám": "5"
                },
                {
                    "Ügyfél azonosító": "MIHALYJ",
                    "Szám": "4"
                },
                {
                    "Ügyfél azonosító": "miklos2",
                    "Szám": "3"
                },
                {
                    "Ügyfél azonosító": "MIKLOSB",
                    "Szám": "3"
                },
                {
                    "Ügyfél azonosító": "MONIKAM",
                    "Szám": "5"
                },
                {
                    "Ügyfél azonosító": "NANDORF",
                    "Szám": "2"
                },
                {
                    "Ügyfél azonosító": "nikolett3",
                    "Szám": "4"
                },
                {
                    "Ügyfél azonosító": "nikoletta4",
                    "Szám": "4"
                },
                {
                    "Ügyfél azonosító": "NIKOLETTAT",
                    "Szám": "4"
                },
                {
                    "Ügyfél azonosító": "norbert",
                    "Szám": "4"
                },
                {
                    "Ügyfél azonosító": "norbert2",
                    "Szám": "5"
                },
                {
                    "Ügyfél azonosító": "norbert4",
                    "Szám": "5"
                },
                {
                    "Ügyfél azonosító": "norbert5",
                    "Szám": "2"
                },
                {
                    "Ügyfél azonosító": "pal",
                    "Szám": "3"
                },
                {
                    "Ügyfél azonosító": "peter1",
                    "Szám": "3"
                },
                {
                    "Ügyfél azonosító": "peter2",
                    "Szám": "4"
                },
                {
                    "Ügyfél azonosító": "peter3",
                    "Szám": "3"
                },
                {
                    "Ügyfél azonosító": "peter4",
                    "Szám": "7"
                },
                {
                    "Ügyfél azonosító": "PETERB",
                    "Szám": "3"
                },
                {
                    "Ügyfél azonosító": "polla",
                    "Szám": "4"
                },
                {
                    "Ügyfél azonosító": "rajmond4",
                    "Szám": "4"
                },
                {
                    "Ügyfél azonosító": "reka4",
                    "Szám": "4"
                },
                {
                    "Ügyfél azonosító": "RENATAK",
                    "Szám": "5"
                },
                {
                    "Ügyfél azonosító": "RENATAS",
                    "Szám": "3"
                },
                {
                    "Ügyfél azonosító": "robert2",
                    "Szám": "4"
                },
                {
                    "Ügyfél azonosító": "ROBERTI",
                    "Szám": "4"
                },
                {
                    "Ügyfél azonosító": "ROBERTP",
                    "Szám": "2"
                },
                {
                    "Ügyfél azonosító": "roland",
                    "Szám": "3"
                },
                {
                    "Ügyfél azonosító": "roland1",
                    "Szám": "4"
                },
                {
                    "Ügyfél azonosító": "roza2",
                    "Szám": "3"
                },
                {
                    "Ügyfél azonosító": "sandor",
                    "Szám": "4"
                },
                {
                    "Ügyfél azonosító": "sandor3",
                    "Szám": "3"
                },
                {
                    "Ügyfél azonosító": "sandor4",
                    "Szám": "3"
                },
                {
                    "Ügyfél azonosító": "sara",
                    "Szám": "9"
                },
                {
                    "Ügyfél azonosító": "SEBASTIANF",
                    "Szám": "3"
                },
                {
                    "Ügyfél azonosító": "sebestyen",
                    "Szám": "2"
                },
                {
                    "Ügyfél azonosító": "szabolcs",
                    "Szám": "1"
                },
                {
                    "Ügyfél azonosító": "SZABOLCSM",
                    "Szám": "4"
                },
                {
                    "Ügyfél azonosító": "SZILARDS",
                    "Szám": "5"
                },
                {
                    "Ügyfél azonosító": "szilvia1",
                    "Szám": "6"
                },
                {
                    "Ügyfél azonosító": "tamara2",
                    "Szám": "2"
                },
                {
                    "Ügyfél azonosító": "tamas",
                    "Szám": "4"
                },
                {
                    "Ügyfél azonosító": "TAMASF",
                    "Szám": "6"
                },
                {
                    "Ügyfél azonosító": "tibor",
                    "Szám": "2"
                },
                {
                    "Ügyfél azonosító": "tibor2",
                    "Szám": "1"
                },
                {
                    "Ügyfél azonosító": "tihamer",
                    "Szám": "4"
                },
                {
                    "Ügyfél azonosító": "timea",
                    "Szám": "1"
                },
                {
                    "Ügyfél azonosító": "timea2",
                    "Szám": "5"
                },
                {
                    "Ügyfél azonosító": "tunde",
                    "Szám": "7"
                },
                {
                    "Ügyfél azonosító": "valentin",
                    "Szám": "5"
                },
                {
                    "Ügyfél azonosító": "veronika4",
                    "Szám": "4"
                },
                {
                    "Ügyfél azonosító": "VIKTORIAU",
                    "Szám": "4"
                },
                {
                    "Ügyfél azonosító": "VIKTORK",
                    "Szám": "2"
                },
                {
                    "Ügyfél azonosító": "vivien3",
                    "Szám": "5"
                },
                {
                    "Ügyfél azonosító": "zoltan",
                    "Szám": "2"
                },
                {
                    "Ügyfél azonosító": "zoltan4",
                    "Szám": "5"
                },
                {
                    "Ügyfél azonosító": "ZOLTANP",
                    "Szám": "3"
                },
                {
                    "Ügyfél azonosító": "ZOLTANT",
                    "Szám": "2"
                },
                {
                    "Ügyfél azonosító": "zsofi1",
                    "Szám": "2"
                },
                {
                    "Ügyfél azonosító": "zsolt1",
                    "Szám": "2"
                },
                {
                    "Ügyfél azonosító": "ZSOLTJ",
                    "Szám": "6"
                },
                {
                    "Ügyfél azonosító": "zsuzsa",
                    "Szám": "2"
                },
                {
                    "Ügyfél azonosító": "zsuzsa3",
                    "Szám": "4"
                },
                {
                    "Ügyfél azonosító": "zsuzsanna",
                    "Szám": "4"
                },
                {
                    "Ügyfél azonosító": "ZSUZSAV",
                    "Szám": "5"
                },
                {
                    "Ügyfél azonosító": "Végösszeg",
                    "Szám": "12"
                }
            ]
        },
        "text/html": [
            "<table>",
            "<tr><th>Ügyfél azonosító</th><th>Szám</th></tr>",
            "<tr><td>adam1</td><td>2</td></tr>",
            "<tr><td>adam3</td><td>2</td></tr>",
            "<tr><td>adam4</td><td>5</td></tr>",
            "<tr><td>agnes</td><td>4</td></tr>",
            "<tr><td>agnes3</td><td>3</td></tr>",
            "<tr><td>AGNESH</td><td>5</td></tr>",
            "<tr><td>AGNESK</td><td>3</td></tr>",
            "<tr><td>akos</td><td>7</td></tr>",
            "<tr><td>aladar</td><td>3</td></tr>",
            "<tr><td>alexandra</td><td>6</td></tr>",
            "<tr><td>andi</td><td>4</td></tr>",
            "<tr><td>andras2</td><td>3</td></tr>",
            "<tr><td>andras21</td><td>6</td></tr>",
            "<tr><td>andras3</td><td>5</td></tr>",
            "<tr><td>andras4</td><td>2</td></tr>",
            "<tr><td>andras41</td><td>5</td></tr>",
            "<tr><td>ANDRASE</td><td>3</td></tr>",
            "<tr><td>ANDRASN</td><td>1</td></tr>",
            "<tr><td>andrea</td><td>4</td></tr>",
            "<tr><td>andrea3</td><td>1</td></tr>",
            "<tr><td>andrea4</td><td>2</td></tr>",
            "<tr><td>ANDREAT</td><td>2</td></tr>",
            "<tr><td>anett3</td><td>6</td></tr>",
            "<tr><td>aniko</td><td>3</td></tr>",
            "<tr><td>aniko4</td><td>3</td></tr>",
            "<tr><td>ANIKOS</td><td>6</td></tr>",
            "<tr><td>anita</td><td>4</td></tr>",
            "<tr><td>annamaria1</td><td>1</td></tr>",
            "<tr><td>ANNAMARIAR</td><td>5</td></tr>",
            "<tr><td>aron2</td><td>5</td></tr>",
            "<tr><td>ARONK</td><td>8</td></tr>",
            "<tr><td>arpad2</td><td>4</td></tr>",
            "<tr><td>ARPADH</td><td>3</td></tr>",
            "<tr><td>ARPADM</td><td>5</td></tr>",
            "<tr><td>attila</td><td>3</td></tr>",
            "<tr><td>attila1</td><td>5</td></tr>",
            "<tr><td>attila4</td><td>3</td></tr>",
            "<tr><td>ATTILAO</td><td>2</td></tr>",
            "<tr><td>balazs1</td><td>6</td></tr>",
            "<tr><td>balazs2</td><td>8</td></tr>",
            "<tr><td>balazs3</td><td>4</td></tr>",
            "<tr><td>balint</td><td>3</td></tr>",
            "<tr><td>balint1</td><td>9</td></tr>",
            "<tr><td>balint2</td><td>1</td></tr>",
            "<tr><td>balu</td><td>2</td></tr>",
            "<tr><td>beata4</td><td>4</td></tr>",
            "<tr><td>BEATRIXK</td><td>7</td></tr>",
            "<tr><td>BEATRIXS</td><td>5</td></tr>",
            "<tr><td>BELAF</td><td>3</td></tr>",
            "<tr><td>bence</td><td>6</td></tr>",
            "<tr><td>BENCEB</td><td>4</td></tr>",
            "<tr><td>bernadett1</td><td>5</td></tr>",
            "<tr><td>bernadett2</td><td>5</td></tr>",
            "<tr><td>BERNADETTO</td><td>6</td></tr>",
            "<tr><td>bertalan</td><td>4</td></tr>",
            "<tr><td>brigitta</td><td>4</td></tr>",
            "<tr><td>brigitta3</td><td>4</td></tr>",
            "<tr><td>csongor3</td><td>6</td></tr>",
            "<tr><td>dani</td><td>6</td></tr>",
            "<tr><td>daniel</td><td>5</td></tr>",
            "<tr><td>daniel1</td><td>5</td></tr>",
            "<tr><td>david</td><td>6</td></tr>",
            "<tr><td>david1</td><td>5</td></tr>",
            "<tr><td>david4</td><td>1</td></tr>",
            "<tr><td>debora</td><td>4</td></tr>",
            "<tr><td>denes</td><td>3</td></tr>",
            "<tr><td>dora3</td><td>4</td></tr>",
            "<tr><td>edit</td><td>5</td></tr>",
            "<tr><td>emese</td><td>3</td></tr>",
            "<tr><td>eszter</td><td>4</td></tr>",
            "<tr><td>eszter2</td><td>5</td></tr>",
            "<tr><td>eszter4</td><td>3</td></tr>",
            "<tr><td>ESZTERE</td><td>3</td></tr>",
            "<tr><td>eva</td><td>2</td></tr>",
            "<tr><td>eva2</td><td>3</td></tr>",
            "<tr><td>EVAV</td><td>4</td></tr>",
            "<tr><td>ferenc1</td><td>4</td></tr>",
            "<tr><td>fruzsina4</td><td>5</td></tr>",
            "<tr><td>gabor1</td><td>5</td></tr>",
            "<tr><td>gabor4</td><td>4</td></tr>",
            "<tr><td>GABORS</td><td>0</td></tr>",
            "<tr><td>gabriella1</td><td>4</td></tr>",
            "<tr><td>gabriella10</td><td>1</td></tr>",
            "<tr><td>georgij</td><td>4</td></tr>",
            "<tr><td>gusztav</td><td>5</td></tr>",
            "<tr><td>GYONGYIK</td><td>7</td></tr>",
            "<tr><td>GYORGYO</td><td>3</td></tr>",
            "<tr><td>henrik3</td><td>3</td></tr>",
            "<tr><td>IBOLYAA</td><td>2</td></tr>",
            "<tr><td>ilona3</td><td>2</td></tr>",
            "<tr><td>imre</td><td>2</td></tr>",
            "<tr><td>imre1</td><td>4</td></tr>",
            "<tr><td>istvan</td><td>3</td></tr>",
            "<tr><td>istvan1</td><td>4</td></tr>",
            "<tr><td>ISTVANV</td><td>2</td></tr>",
            "<tr><td>janos3</td><td>5</td></tr>",
            "<tr><td>JANOSG</td><td>3</td></tr>",
            "<tr><td>JANOSP</td><td>3</td></tr>",
            "<tr><td>jozsef</td><td>3</td></tr>",
            "<tr><td>jozsef2</td><td>3</td></tr>",
            "<tr><td>JOZSEFG</td><td>5</td></tr>",
            "<tr><td>JUDITH</td><td>3</td></tr>",
            "<tr><td>julia</td><td>2</td></tr>",
            "<tr><td>julia4</td><td>2</td></tr>",
            "<tr><td>julianna4</td><td>4</td></tr>",
            "<tr><td>kata</td><td>5</td></tr>",
            "<tr><td>katalin</td><td>6</td></tr>",
            "<tr><td>katalin4</td><td>3</td></tr>",
            "<tr><td>kati</td><td>4</td></tr>",
            "<tr><td>katka</td><td>4</td></tr>",
            "<tr><td>klaudia2</td><td>3</td></tr>",
            "<tr><td>kornel4</td><td>3</td></tr>",
            "<tr><td>kristof4</td><td>2</td></tr>",
            "<tr><td>kriszti</td><td>6</td></tr>",
            "<tr><td>krisztian4</td><td>6</td></tr>",
            "<tr><td>KRISZTIANM</td><td>6</td></tr>",
            "<tr><td>krisztina</td><td>5</td></tr>",
            "<tr><td>krisztina1</td><td>4</td></tr>",
            "<tr><td>KRISZTINAG</td><td>5</td></tr>",
            "<tr><td>lajos</td><td>3</td></tr>",
            "<tr><td>lala</td><td>5</td></tr>",
            "<tr><td>laszlo1</td><td>1</td></tr>",
            "<tr><td>laszlo2</td><td>5</td></tr>",
            "<tr><td>LASZLOA</td><td>3</td></tr>",
            "<tr><td>LASZLON</td><td>5</td></tr>",
            "<tr><td>maria1</td><td>6</td></tr>",
            "<tr><td>mark</td><td>3</td></tr>",
            "<tr><td>MARKH</td><td>2</td></tr>",
            "<tr><td>marton</td><td>6</td></tr>",
            "<tr><td>MATEK</td><td>3</td></tr>",
            "<tr><td>matyas2</td><td>2</td></tr>",
            "<tr><td>MATYASS</td><td>5</td></tr>",
            "<tr><td>MIHALYJ</td><td>4</td></tr>",
            "<tr><td>miklos2</td><td>3</td></tr>",
            "<tr><td>MIKLOSB</td><td>3</td></tr>",
            "<tr><td>MONIKAM</td><td>5</td></tr>",
            "<tr><td>NANDORF</td><td>2</td></tr>",
            "<tr><td>nikolett3</td><td>4</td></tr>",
            "<tr><td>nikoletta4</td><td>4</td></tr>",
            "<tr><td>NIKOLETTAT</td><td>4</td></tr>",
            "<tr><td>norbert</td><td>4</td></tr>",
            "<tr><td>norbert2</td><td>5</td></tr>",
            "<tr><td>norbert4</td><td>5</td></tr>",
            "<tr><td>norbert5</td><td>2</td></tr>",
            "<tr><td>pal</td><td>3</td></tr>",
            "<tr><td>peter1</td><td>3</td></tr>",
            "<tr><td>peter2</td><td>4</td></tr>",
            "<tr><td>peter3</td><td>3</td></tr>",
            "<tr><td>peter4</td><td>7</td></tr>",
            "<tr><td>PETERB</td><td>3</td></tr>",
            "<tr><td>polla</td><td>4</td></tr>",
            "<tr><td>rajmond4</td><td>4</td></tr>",
            "<tr><td>reka4</td><td>4</td></tr>",
            "<tr><td>RENATAK</td><td>5</td></tr>",
            "<tr><td>RENATAS</td><td>3</td></tr>",
            "<tr><td>robert2</td><td>4</td></tr>",
            "<tr><td>ROBERTI</td><td>4</td></tr>",
            "<tr><td>ROBERTP</td><td>2</td></tr>",
            "<tr><td>roland</td><td>3</td></tr>",
            "<tr><td>roland1</td><td>4</td></tr>",
            "<tr><td>roza2</td><td>3</td></tr>",
            "<tr><td>sandor</td><td>4</td></tr>",
            "<tr><td>sandor3</td><td>3</td></tr>",
            "<tr><td>sandor4</td><td>3</td></tr>",
            "<tr><td>sara</td><td>9</td></tr>",
            "<tr><td>SEBASTIANF</td><td>3</td></tr>",
            "<tr><td>sebestyen</td><td>2</td></tr>",
            "<tr><td>szabolcs</td><td>1</td></tr>",
            "<tr><td>SZABOLCSM</td><td>4</td></tr>",
            "<tr><td>SZILARDS</td><td>5</td></tr>",
            "<tr><td>szilvia1</td><td>6</td></tr>",
            "<tr><td>tamara2</td><td>2</td></tr>",
            "<tr><td>tamas</td><td>4</td></tr>",
            "<tr><td>TAMASF</td><td>6</td></tr>",
            "<tr><td>tibor</td><td>2</td></tr>",
            "<tr><td>tibor2</td><td>1</td></tr>",
            "<tr><td>tihamer</td><td>4</td></tr>",
            "<tr><td>timea</td><td>1</td></tr>",
            "<tr><td>timea2</td><td>5</td></tr>",
            "<tr><td>tunde</td><td>7</td></tr>",
            "<tr><td>valentin</td><td>5</td></tr>",
            "<tr><td>veronika4</td><td>4</td></tr>",
            "<tr><td>VIKTORIAU</td><td>4</td></tr>",
            "<tr><td>VIKTORK</td><td>2</td></tr>",
            "<tr><td>vivien3</td><td>5</td></tr>",
            "<tr><td>zoltan</td><td>2</td></tr>",
            "<tr><td>zoltan4</td><td>5</td></tr>",
            "<tr><td>ZOLTANP</td><td>3</td></tr>",
            "<tr><td>ZOLTANT</td><td>2</td></tr>",
            "<tr><td>zsofi1</td><td>2</td></tr>",
            "<tr><td>zsolt1</td><td>2</td></tr>",
            "<tr><td>ZSOLTJ</td><td>6</td></tr>",
            "<tr><td>zsuzsa</td><td>2</td></tr>",
            "<tr><td>zsuzsa3</td><td>4</td></tr>",
            "<tr><td>zsuzsanna</td><td>4</td></tr>",
            "<tr><td>ZSUZSAV</td><td>5</td></tr>",
            "<tr><td>Végösszeg</td><td>12</td></tr>",
            "</table>"
        ]
    }
}
],
            "execution_count": 24
        }
    ]
}