{
    "metadata": {
        "kernelspec": {
            "name": "SQL",
            "display_name": "SQL",
            "language": "sql"
        },
        "language_info": {
            "name": "sql",
            "version": ""
        }
    },
    "nbformat_minor": 2,
    "nbformat": 4,
    "cells": [
        {
            "cell_type": "markdown",
            "source": [
                "Listázzuk \"laszlo2\" vendég gyermek nélküli foglalásainak adatait!\n",
                "\n",
                "a. Egy új oszlopban jelenítsük meg, hogy a foglalás a nyári szezonban (június, július, augusztus) történt-e (Igen/Nem). \n",
                "\n",
                "b. A foglalás dátumánál a METTOL oszlopot vegyük figyelembe"
            ],
            "metadata": {
                "azdata_cell_guid": "6041509f-2327-4b7f-b252-47fc8f99aa06"
            },
            "attachments": {}
        },
        {
            "cell_type": "code",
            "source": [
                "SELECT *,IIF(month(METTOL)IN (6,7,8),'Igen','Nem') as 'Nyári szezon'\r\n",
                "FROM Foglalas\r\n",
                "WHERE UGYFEL_FK = 'laszlo2' AND GYERMEK_SZAM = 0"
            ],
            "metadata": {
                "azdata_cell_guid": "7f5c0623-a64b-412c-9837-00d0774a4824",
                "language": "sql"
            },
            "outputs": [
                {
                    "output_type": "display_data",
                    "data": {
                        "text/html": "(1 row affected)"
                    },
                    "metadata": {}
                },
                {
                    "output_type": "display_data",
                    "data": {
                        "text/html": "Total execution time: 00:00:00.007"
                    },
                    "metadata": {}
                },
                {
                    "output_type": "execute_result",
                    "execution_count": 5,
                    "data": {
                        "application/vnd.dataresource+json": {
                            "schema": {
                                "fields": [
                                    {
                                        "name": "FOGLALAS_PK"
                                    },
                                    {
                                        "name": "UGYFEL_FK"
                                    },
                                    {
                                        "name": "SZOBA_FK"
                                    },
                                    {
                                        "name": "METTOL"
                                    },
                                    {
                                        "name": "MEDDIG"
                                    },
                                    {
                                        "name": "FELNOTT_SZAM"
                                    },
                                    {
                                        "name": "GYERMEK_SZAM"
                                    },
                                    {
                                        "name": "Nyári szezon"
                                    }
                                ]
                            },
                            "data": [
                                {
                                    "FOGLALAS_PK": "561",
                                    "UGYFEL_FK": "laszlo2",
                                    "SZOBA_FK": "42",
                                    "METTOL": "2016-04-06",
                                    "MEDDIG": "2016-04-10",
                                    "FELNOTT_SZAM": "2",
                                    "GYERMEK_SZAM": "0",
                                    "Nyári szezon": "Nem"
                                }
                            ]
                        },
                        "text/html": "<table><tr><th>FOGLALAS_PK</th><th>UGYFEL_FK</th><th>SZOBA_FK</th><th>METTOL</th><th>MEDDIG</th><th>FELNOTT_SZAM</th><th>GYERMEK_SZAM</th><th>Nyári szezon</th></tr><tr><td>561</td><td>laszlo2</td><td>42</td><td>2016-04-06</td><td>2016-04-10</td><td>2</td><td>0</td><td>Nem</td></tr></table>"
                    },
                    "metadata": {}
                }
            ],
            "execution_count": 5
        },
        {
            "cell_type": "markdown",
            "source": [
                "Egészítsük ki a megkezdett lekérdezést, amely listázza, hogy szálláshely típusonként, azon belül éves és havi bontában hány foglalás történt! \n",
                "\n",
                " a. Az év és hónap megjelenítésénél a foglalás tábla METTOL oszlopát használjuk! \n",
                "\n",
                " b. A számolásnál csak a legalább 5 napos foglalásokat vegyük figyelembe!"
            ],
            "metadata": {
                "azdata_cell_guid": "68d73b7c-47d1-4f71-b501-ffb54e2fc724"
            },
            "attachments": {}
        },
        {
            "cell_type": "code",
            "source": [
                "SELECT szh.TIPUS, YEAR(f.METTOL) AS 'Év', MONTH(f.METTOL) AS 'Hónap', COUNT(*) as 'Mennyi foglalás'\r\n",
                "FROM Foglalas f JOIN Szoba sz ON f.SZOBA_FK = sz.SZOBA_ID JOIN Szallashely szh ON szh.SZALLAS_ID = sz.SZALLAS_FK\r\n",
                "WHERE DATEDIFF(day,METTOL,MEDDIG) >=5\r\n",
                "GROUP BY szh.TIPUS, YEAR(f.METTOL),MONTH(f.METTOL)\r\n",
                ""
            ],
            "metadata": {
                "azdata_cell_guid": "48d6cf88-2793-4df3-bd9d-1cdfbb416765",
                "language": "sql"
            },
            "outputs": [
                {
                    "output_type": "display_data",
                    "data": {
                        "text/html": "(45 rows affected)"
                    },
                    "metadata": {}
                },
                {
                    "output_type": "display_data",
                    "data": {
                        "text/html": "Total execution time: 00:00:00.022"
                    },
                    "metadata": {}
                },
                {
                    "output_type": "execute_result",
                    "execution_count": 17,
                    "data": {
                        "application/vnd.dataresource+json": {
                            "schema": {
                                "fields": [
                                    {
                                        "name": "TIPUS"
                                    },
                                    {
                                        "name": "Év"
                                    },
                                    {
                                        "name": "Hónap"
                                    },
                                    {
                                        "name": "Mennyi foglalás"
                                    }
                                ]
                            },
                            "data": [
                                {
                                    "TIPUS": "Apartman",
                                    "Év": "2016",
                                    "Hónap": "4",
                                    "Mennyi foglalás": "2"
                                },
                                {
                                    "TIPUS": "Apartman",
                                    "Év": "2016",
                                    "Hónap": "5",
                                    "Mennyi foglalás": "1"
                                },
                                {
                                    "TIPUS": "Apartman",
                                    "Év": "2016",
                                    "Hónap": "6",
                                    "Mennyi foglalás": "1"
                                },
                                {
                                    "TIPUS": "Apartman",
                                    "Év": "2016",
                                    "Hónap": "7",
                                    "Mennyi foglalás": "1"
                                },
                                {
                                    "TIPUS": "Apartman",
                                    "Év": "2016",
                                    "Hónap": "8",
                                    "Mennyi foglalás": "2"
                                },
                                {
                                    "TIPUS": "Apartman",
                                    "Év": "2016",
                                    "Hónap": "9",
                                    "Mennyi foglalás": "3"
                                },
                                {
                                    "TIPUS": "Apartman",
                                    "Év": "2016",
                                    "Hónap": "10",
                                    "Mennyi foglalás": "9"
                                },
                                {
                                    "TIPUS": "Apartman",
                                    "Év": "2016",
                                    "Hónap": "11",
                                    "Mennyi foglalás": "3"
                                },
                                {
                                    "TIPUS": "Apartman",
                                    "Év": "2016",
                                    "Hónap": "12",
                                    "Mennyi foglalás": "2"
                                },
                                {
                                    "TIPUS": "Apartman",
                                    "Év": "2017",
                                    "Hónap": "1",
                                    "Mennyi foglalás": "1"
                                },
                                {
                                    "TIPUS": "Apartman",
                                    "Év": "2017",
                                    "Hónap": "2",
                                    "Mennyi foglalás": "5"
                                },
                                {
                                    "TIPUS": "Hotel",
                                    "Év": "2016",
                                    "Hónap": "4",
                                    "Mennyi foglalás": "16"
                                },
                                {
                                    "TIPUS": "Hotel",
                                    "Év": "2016",
                                    "Hónap": "5",
                                    "Mennyi foglalás": "32"
                                },
                                {
                                    "TIPUS": "Hotel",
                                    "Év": "2016",
                                    "Hónap": "6",
                                    "Mennyi foglalás": "29"
                                },
                                {
                                    "TIPUS": "Hotel",
                                    "Év": "2016",
                                    "Hónap": "7",
                                    "Mennyi foglalás": "30"
                                },
                                {
                                    "TIPUS": "Hotel",
                                    "Év": "2016",
                                    "Hónap": "8",
                                    "Mennyi foglalás": "22"
                                },
                                {
                                    "TIPUS": "Hotel",
                                    "Év": "2016",
                                    "Hónap": "9",
                                    "Mennyi foglalás": "19"
                                },
                                {
                                    "TIPUS": "Hotel",
                                    "Év": "2016",
                                    "Hónap": "10",
                                    "Mennyi foglalás": "36"
                                },
                                {
                                    "TIPUS": "Hotel",
                                    "Év": "2016",
                                    "Hónap": "11",
                                    "Mennyi foglalás": "27"
                                },
                                {
                                    "TIPUS": "Hotel",
                                    "Év": "2016",
                                    "Hónap": "12",
                                    "Mennyi foglalás": "25"
                                },
                                {
                                    "TIPUS": "Hotel",
                                    "Év": "2017",
                                    "Hónap": "1",
                                    "Mennyi foglalás": "28"
                                },
                                {
                                    "TIPUS": "Hotel",
                                    "Év": "2017",
                                    "Hónap": "2",
                                    "Mennyi foglalás": "21"
                                },
                                {
                                    "TIPUS": "Hotel",
                                    "Év": "2017",
                                    "Hónap": "3",
                                    "Mennyi foglalás": "1"
                                },
                                {
                                    "TIPUS": "panzió",
                                    "Év": "2016",
                                    "Hónap": "4",
                                    "Mennyi foglalás": "2"
                                },
                                {
                                    "TIPUS": "panzió",
                                    "Év": "2016",
                                    "Hónap": "5",
                                    "Mennyi foglalás": "9"
                                },
                                {
                                    "TIPUS": "panzió",
                                    "Év": "2016",
                                    "Hónap": "6",
                                    "Mennyi foglalás": "10"
                                },
                                {
                                    "TIPUS": "panzió",
                                    "Év": "2016",
                                    "Hónap": "7",
                                    "Mennyi foglalás": "7"
                                },
                                {
                                    "TIPUS": "panzió",
                                    "Év": "2016",
                                    "Hónap": "8",
                                    "Mennyi foglalás": "6"
                                },
                                {
                                    "TIPUS": "panzió",
                                    "Év": "2016",
                                    "Hónap": "9",
                                    "Mennyi foglalás": "6"
                                },
                                {
                                    "TIPUS": "panzió",
                                    "Év": "2016",
                                    "Hónap": "10",
                                    "Mennyi foglalás": "11"
                                },
                                {
                                    "TIPUS": "panzió",
                                    "Év": "2016",
                                    "Hónap": "11",
                                    "Mennyi foglalás": "3"
                                },
                                {
                                    "TIPUS": "panzió",
                                    "Év": "2016",
                                    "Hónap": "12",
                                    "Mennyi foglalás": "6"
                                },
                                {
                                    "TIPUS": "panzió",
                                    "Év": "2017",
                                    "Hónap": "1",
                                    "Mennyi foglalás": "5"
                                },
                                {
                                    "TIPUS": "panzió",
                                    "Év": "2017",
                                    "Hónap": "2",
                                    "Mennyi foglalás": "5"
                                },
                                {
                                    "TIPUS": "panzió",
                                    "Év": "2017",
                                    "Hónap": "3",
                                    "Mennyi foglalás": "1"
                                },
                                {
                                    "TIPUS": "vendégház",
                                    "Év": "2016",
                                    "Hónap": "4",
                                    "Mennyi foglalás": "2"
                                },
                                {
                                    "TIPUS": "vendégház",
                                    "Év": "2016",
                                    "Hónap": "5",
                                    "Mennyi foglalás": "5"
                                },
                                {
                                    "TIPUS": "vendégház",
                                    "Év": "2016",
                                    "Hónap": "6",
                                    "Mennyi foglalás": "3"
                                },
                                {
                                    "TIPUS": "vendégház",
                                    "Év": "2016",
                                    "Hónap": "7",
                                    "Mennyi foglalás": "5"
                                },
                                {
                                    "TIPUS": "vendégház",
                                    "Év": "2016",
                                    "Hónap": "8",
                                    "Mennyi foglalás": "5"
                                },
                                {
                                    "TIPUS": "vendégház",
                                    "Év": "2016",
                                    "Hónap": "9",
                                    "Mennyi foglalás": "4"
                                },
                                {
                                    "TIPUS": "vendégház",
                                    "Év": "2016",
                                    "Hónap": "10",
                                    "Mennyi foglalás": "7"
                                },
                                {
                                    "TIPUS": "vendégház",
                                    "Év": "2016",
                                    "Hónap": "11",
                                    "Mennyi foglalás": "4"
                                },
                                {
                                    "TIPUS": "vendégház",
                                    "Év": "2017",
                                    "Hónap": "1",
                                    "Mennyi foglalás": "1"
                                },
                                {
                                    "TIPUS": "vendégház",
                                    "Év": "2017",
                                    "Hónap": "2",
                                    "Mennyi foglalás": "3"
                                }
                            ]
                        },
                        "text/html": "<table><tr><th>TIPUS</th><th>Év</th><th>Hónap</th><th>Mennyi foglalás</th></tr><tr><td>Apartman</td><td>2016</td><td>4</td><td>2</td></tr><tr><td>Apartman</td><td>2016</td><td>5</td><td>1</td></tr><tr><td>Apartman</td><td>2016</td><td>6</td><td>1</td></tr><tr><td>Apartman</td><td>2016</td><td>7</td><td>1</td></tr><tr><td>Apartman</td><td>2016</td><td>8</td><td>2</td></tr><tr><td>Apartman</td><td>2016</td><td>9</td><td>3</td></tr><tr><td>Apartman</td><td>2016</td><td>10</td><td>9</td></tr><tr><td>Apartman</td><td>2016</td><td>11</td><td>3</td></tr><tr><td>Apartman</td><td>2016</td><td>12</td><td>2</td></tr><tr><td>Apartman</td><td>2017</td><td>1</td><td>1</td></tr><tr><td>Apartman</td><td>2017</td><td>2</td><td>5</td></tr><tr><td>Hotel</td><td>2016</td><td>4</td><td>16</td></tr><tr><td>Hotel</td><td>2016</td><td>5</td><td>32</td></tr><tr><td>Hotel</td><td>2016</td><td>6</td><td>29</td></tr><tr><td>Hotel</td><td>2016</td><td>7</td><td>30</td></tr><tr><td>Hotel</td><td>2016</td><td>8</td><td>22</td></tr><tr><td>Hotel</td><td>2016</td><td>9</td><td>19</td></tr><tr><td>Hotel</td><td>2016</td><td>10</td><td>36</td></tr><tr><td>Hotel</td><td>2016</td><td>11</td><td>27</td></tr><tr><td>Hotel</td><td>2016</td><td>12</td><td>25</td></tr><tr><td>Hotel</td><td>2017</td><td>1</td><td>28</td></tr><tr><td>Hotel</td><td>2017</td><td>2</td><td>21</td></tr><tr><td>Hotel</td><td>2017</td><td>3</td><td>1</td></tr><tr><td>panzió</td><td>2016</td><td>4</td><td>2</td></tr><tr><td>panzió</td><td>2016</td><td>5</td><td>9</td></tr><tr><td>panzió</td><td>2016</td><td>6</td><td>10</td></tr><tr><td>panzió</td><td>2016</td><td>7</td><td>7</td></tr><tr><td>panzió</td><td>2016</td><td>8</td><td>6</td></tr><tr><td>panzió</td><td>2016</td><td>9</td><td>6</td></tr><tr><td>panzió</td><td>2016</td><td>10</td><td>11</td></tr><tr><td>panzió</td><td>2016</td><td>11</td><td>3</td></tr><tr><td>panzió</td><td>2016</td><td>12</td><td>6</td></tr><tr><td>panzió</td><td>2017</td><td>1</td><td>5</td></tr><tr><td>panzió</td><td>2017</td><td>2</td><td>5</td></tr><tr><td>panzió</td><td>2017</td><td>3</td><td>1</td></tr><tr><td>vendégház</td><td>2016</td><td>4</td><td>2</td></tr><tr><td>vendégház</td><td>2016</td><td>5</td><td>5</td></tr><tr><td>vendégház</td><td>2016</td><td>6</td><td>3</td></tr><tr><td>vendégház</td><td>2016</td><td>7</td><td>5</td></tr><tr><td>vendégház</td><td>2016</td><td>8</td><td>5</td></tr><tr><td>vendégház</td><td>2016</td><td>9</td><td>4</td></tr><tr><td>vendégház</td><td>2016</td><td>10</td><td>7</td></tr><tr><td>vendégház</td><td>2016</td><td>11</td><td>4</td></tr><tr><td>vendégház</td><td>2017</td><td>1</td><td>1</td></tr><tr><td>vendégház</td><td>2017</td><td>2</td><td>3</td></tr></table>"
                    },
                    "metadata": {}
                }
            ],
            "execution_count": 17
        },
        {
            "cell_type": "markdown",
            "source": [
                "Jelenítsük meg azon szobák adatait, amelyeket még egyszer sem adtak ki!\n",
                "\n",
                "a. Minden szoba alapára naponta 20 ezer Ft. Ha a szoba még klímás is, akkor a napi felár 5000 Ft. \n",
                "\n",
                "b. Egy új oszlopban jelenítsük meg a ki nem adott szobák napi árát is!\n",
                "\n",
                "c. Az oszlop neve legyen 'Napi ár'"
            ],
            "metadata": {
                "azdata_cell_guid": "c621c604-f013-4338-9ce7-1316f08d8422"
            },
            "attachments": {}
        },
        {
            "cell_type": "code",
            "source": [
                "SELECT sz.SZOBA_ID,sz.SZOBA_SZAMA,sz.FEROHELY,sz.POTAGY,sz.KLIMAS,sz.SZALLAS_FK,IIF((sz.KLIMAS = 'i'),25000,20000) as 'Napi ár'\r\n",
                "FROM szoba sz LEFT JOIN Foglalas f ON sz.SZOBA_ID = f.SZOBA_FK\r\n",
                "WHERE f.FOGLALAS_PK IS NULL"
            ],
            "metadata": {
                "azdata_cell_guid": "98cee2df-bf86-454f-9f08-adcd2c77e955",
                "language": "sql",
                "tags": []
            },
            "outputs": [
                {
                    "output_type": "display_data",
                    "data": {
                        "text/html": "(97 rows affected)"
                    },
                    "metadata": {}
                },
                {
                    "output_type": "display_data",
                    "data": {
                        "text/html": "Total execution time: 00:00:00.017"
                    },
                    "metadata": {}
                },
                {
                    "output_type": "execute_result",
                    "execution_count": 39,
                    "data": {
                        "application/vnd.dataresource+json": {
                            "schema": {
                                "fields": [
                                    {
                                        "name": "SZOBA_ID"
                                    },
                                    {
                                        "name": "SZOBA_SZAMA"
                                    },
                                    {
                                        "name": "FEROHELY"
                                    },
                                    {
                                        "name": "POTAGY"
                                    },
                                    {
                                        "name": "KLIMAS"
                                    },
                                    {
                                        "name": "SZALLAS_FK"
                                    },
                                    {
                                        "name": "Napi ár"
                                    }
                                ]
                            },
                            "data": [
                                {
                                    "SZOBA_ID": "261",
                                    "SZOBA_SZAMA": "19",
                                    "FEROHELY": "1",
                                    "POTAGY": "1",
                                    "KLIMAS": "n",
                                    "SZALLAS_FK": "16",
                                    "Napi ár": "20000"
                                },
                                {
                                    "SZOBA_ID": "238",
                                    "SZOBA_SZAMA": "8",
                                    "FEROHELY": "3",
                                    "POTAGY": "1",
                                    "KLIMAS": "i",
                                    "SZALLAS_FK": "15",
                                    "Napi ár": "25000"
                                },
                                {
                                    "SZOBA_ID": "215",
                                    "SZOBA_SZAMA": "1",
                                    "FEROHELY": "2",
                                    "POTAGY": "1",
                                    "KLIMAS": "i",
                                    "SZALLAS_FK": "13",
                                    "Napi ár": "25000"
                                },
                                {
                                    "SZOBA_ID": "209",
                                    "SZOBA_SZAMA": "45",
                                    "FEROHELY": "3",
                                    "POTAGY": "2",
                                    "KLIMAS": "n",
                                    "SZALLAS_FK": "12",
                                    "Napi ár": "20000"
                                },
                                {
                                    "SZOBA_ID": "284",
                                    "SZOBA_SZAMA": "4",
                                    "FEROHELY": "2",
                                    "POTAGY": "2",
                                    "KLIMAS": "i",
                                    "SZALLAS_FK": "19",
                                    "Napi ár": "25000"
                                },
                                {
                                    "SZOBA_ID": "232",
                                    "SZOBA_SZAMA": "2",
                                    "FEROHELY": "2",
                                    "POTAGY": "0",
                                    "KLIMAS": "i",
                                    "SZALLAS_FK": "15",
                                    "Napi ár": "25000"
                                },
                                {
                                    "SZOBA_ID": "278",
                                    "SZOBA_SZAMA": "1",
                                    "FEROHELY": "3",
                                    "POTAGY": "1",
                                    "KLIMAS": "i",
                                    "SZALLAS_FK": "18",
                                    "Napi ár": "25000"
                                },
                                {
                                    "SZOBA_ID": "221",
                                    "SZOBA_SZAMA": "7",
                                    "FEROHELY": "3",
                                    "POTAGY": "0",
                                    "KLIMAS": "i",
                                    "SZALLAS_FK": "13",
                                    "Napi ár": "25000"
                                },
                                {
                                    "SZOBA_ID": "201",
                                    "SZOBA_SZAMA": "37",
                                    "FEROHELY": "3",
                                    "POTAGY": "1",
                                    "KLIMAS": "n",
                                    "SZALLAS_FK": "12",
                                    "Napi ár": "20000"
                                },
                                {
                                    "SZOBA_ID": "244",
                                    "SZOBA_SZAMA": "2",
                                    "FEROHELY": "2",
                                    "POTAGY": "1",
                                    "KLIMAS": "i",
                                    "SZALLAS_FK": "16",
                                    "Napi ár": "25000"
                                },
                                {
                                    "SZOBA_ID": "252",
                                    "SZOBA_SZAMA": "10",
                                    "FEROHELY": "3",
                                    "POTAGY": "1",
                                    "KLIMAS": "i",
                                    "SZALLAS_FK": "16",
                                    "Napi ár": "25000"
                                },
                                {
                                    "SZOBA_ID": "258",
                                    "SZOBA_SZAMA": "16",
                                    "FEROHELY": "2",
                                    "POTAGY": "0",
                                    "KLIMAS": "i",
                                    "SZALLAS_FK": "16",
                                    "Napi ár": "25000"
                                },
                                {
                                    "SZOBA_ID": "264",
                                    "SZOBA_SZAMA": "2",
                                    "FEROHELY": "3",
                                    "POTAGY": "0",
                                    "KLIMAS": "i",
                                    "SZALLAS_FK": "17",
                                    "Napi ár": "25000"
                                },
                                {
                                    "SZOBA_ID": "281",
                                    "SZOBA_SZAMA": "1",
                                    "FEROHELY": "2",
                                    "POTAGY": "0",
                                    "KLIMAS": "n",
                                    "SZALLAS_FK": "19",
                                    "Napi ár": "20000"
                                },
                                {
                                    "SZOBA_ID": "212",
                                    "SZOBA_SZAMA": "48",
                                    "FEROHELY": "3",
                                    "POTAGY": "0",
                                    "KLIMAS": "n",
                                    "SZALLAS_FK": "12",
                                    "Napi ár": "20000"
                                },
                                {
                                    "SZOBA_ID": "235",
                                    "SZOBA_SZAMA": "5",
                                    "FEROHELY": "3",
                                    "POTAGY": "0",
                                    "KLIMAS": "i",
                                    "SZALLAS_FK": "15",
                                    "Napi ár": "25000"
                                },
                                {
                                    "SZOBA_ID": "218",
                                    "SZOBA_SZAMA": "4",
                                    "FEROHELY": "3",
                                    "POTAGY": "0",
                                    "KLIMAS": "i",
                                    "SZALLAS_FK": "13",
                                    "Napi ár": "25000"
                                },
                                {
                                    "SZOBA_ID": "229",
                                    "SZOBA_SZAMA": "3",
                                    "FEROHELY": "2",
                                    "POTAGY": "0",
                                    "KLIMAS": "i",
                                    "SZALLAS_FK": "14",
                                    "Napi ár": "25000"
                                },
                                {
                                    "SZOBA_ID": "275",
                                    "SZOBA_SZAMA": "13",
                                    "FEROHELY": "2",
                                    "POTAGY": "1",
                                    "KLIMAS": "n",
                                    "SZALLAS_FK": "17",
                                    "Napi ár": "20000"
                                },
                                {
                                    "SZOBA_ID": "272",
                                    "SZOBA_SZAMA": "10",
                                    "FEROHELY": "3",
                                    "POTAGY": "0",
                                    "KLIMAS": "i",
                                    "SZALLAS_FK": "17",
                                    "Napi ár": "25000"
                                },
                                {
                                    "SZOBA_ID": "255",
                                    "SZOBA_SZAMA": "13",
                                    "FEROHELY": "3",
                                    "POTAGY": "0",
                                    "KLIMAS": "n",
                                    "SZALLAS_FK": "16",
                                    "Napi ár": "20000"
                                },
                                {
                                    "SZOBA_ID": "292",
                                    "SZOBA_SZAMA": "8",
                                    "FEROHELY": "2",
                                    "POTAGY": "1",
                                    "KLIMAS": "i",
                                    "SZALLAS_FK": "20",
                                    "Napi ár": "25000"
                                },
                                {
                                    "SZOBA_ID": "241",
                                    "SZOBA_SZAMA": "11",
                                    "FEROHELY": "2",
                                    "POTAGY": "0",
                                    "KLIMAS": "i",
                                    "SZALLAS_FK": "15",
                                    "Napi ár": "25000"
                                },
                                {
                                    "SZOBA_ID": "213",
                                    "SZOBA_SZAMA": "49",
                                    "FEROHELY": "3",
                                    "POTAGY": "0",
                                    "KLIMAS": "i",
                                    "SZALLAS_FK": "12",
                                    "Napi ár": "25000"
                                },
                                {
                                    "SZOBA_ID": "236",
                                    "SZOBA_SZAMA": "6",
                                    "FEROHELY": "3",
                                    "POTAGY": "1",
                                    "KLIMAS": "n",
                                    "SZALLAS_FK": "15",
                                    "Napi ár": "20000"
                                },
                                {
                                    "SZOBA_ID": "259",
                                    "SZOBA_SZAMA": "17",
                                    "FEROHELY": "2",
                                    "POTAGY": "0",
                                    "KLIMAS": "i",
                                    "SZALLAS_FK": "16",
                                    "Napi ár": "25000"
                                },
                                {
                                    "SZOBA_ID": "267",
                                    "SZOBA_SZAMA": "5",
                                    "FEROHELY": "2",
                                    "POTAGY": "1",
                                    "KLIMAS": "n",
                                    "SZALLAS_FK": "17",
                                    "Napi ár": "20000"
                                },
                                {
                                    "SZOBA_ID": "230",
                                    "SZOBA_SZAMA": "4",
                                    "FEROHELY": "3",
                                    "POTAGY": "2",
                                    "KLIMAS": "i",
                                    "SZALLAS_FK": "14",
                                    "Napi ár": "25000"
                                },
                                {
                                    "SZOBA_ID": "276",
                                    "SZOBA_SZAMA": "14",
                                    "FEROHELY": "2",
                                    "POTAGY": "0",
                                    "KLIMAS": "i",
                                    "SZALLAS_FK": "17",
                                    "Napi ár": "25000"
                                },
                                {
                                    "SZOBA_ID": "273",
                                    "SZOBA_SZAMA": "11",
                                    "FEROHELY": "2",
                                    "POTAGY": "1",
                                    "KLIMAS": "i",
                                    "SZALLAS_FK": "17",
                                    "Napi ár": "25000"
                                },
                                {
                                    "SZOBA_ID": "250",
                                    "SZOBA_SZAMA": "8",
                                    "FEROHELY": "3",
                                    "POTAGY": "1",
                                    "KLIMAS": "n",
                                    "SZALLAS_FK": "16",
                                    "Napi ár": "20000"
                                },
                                {
                                    "SZOBA_ID": "207",
                                    "SZOBA_SZAMA": "43",
                                    "FEROHELY": "2",
                                    "POTAGY": "1",
                                    "KLIMAS": "i",
                                    "SZALLAS_FK": "12",
                                    "Napi ár": "25000"
                                },
                                {
                                    "SZOBA_ID": "256",
                                    "SZOBA_SZAMA": "14",
                                    "FEROHELY": "3",
                                    "POTAGY": "1",
                                    "KLIMAS": "i",
                                    "SZALLAS_FK": "16",
                                    "Napi ár": "25000"
                                },
                                {
                                    "SZOBA_ID": "293",
                                    "SZOBA_SZAMA": "9",
                                    "FEROHELY": "2",
                                    "POTAGY": "1",
                                    "KLIMAS": "i",
                                    "SZALLAS_FK": "20",
                                    "Napi ár": "25000"
                                },
                                {
                                    "SZOBA_ID": "239",
                                    "SZOBA_SZAMA": "9",
                                    "FEROHELY": "2",
                                    "POTAGY": "2",
                                    "KLIMAS": "i",
                                    "SZALLAS_FK": "15",
                                    "Napi ár": "25000"
                                },
                                {
                                    "SZOBA_ID": "216",
                                    "SZOBA_SZAMA": "2",
                                    "FEROHELY": "3",
                                    "POTAGY": "1",
                                    "KLIMAS": "i",
                                    "SZALLAS_FK": "13",
                                    "Napi ár": "25000"
                                },
                                {
                                    "SZOBA_ID": "287",
                                    "SZOBA_SZAMA": "3",
                                    "FEROHELY": "3",
                                    "POTAGY": "0",
                                    "KLIMAS": "n",
                                    "SZALLAS_FK": "20",
                                    "Napi ár": "20000"
                                },
                                {
                                    "SZOBA_ID": "233",
                                    "SZOBA_SZAMA": "3",
                                    "FEROHELY": "3",
                                    "POTAGY": "0",
                                    "KLIMAS": "n",
                                    "SZALLAS_FK": "15",
                                    "Napi ár": "20000"
                                },
                                {
                                    "SZOBA_ID": "210",
                                    "SZOBA_SZAMA": "46",
                                    "FEROHELY": "2",
                                    "POTAGY": "0",
                                    "KLIMAS": "i",
                                    "SZALLAS_FK": "12",
                                    "Napi ár": "25000"
                                },
                                {
                                    "SZOBA_ID": "279",
                                    "SZOBA_SZAMA": "2",
                                    "FEROHELY": "2",
                                    "POTAGY": "1",
                                    "KLIMAS": "i",
                                    "SZALLAS_FK": "18",
                                    "Napi ár": "25000"
                                },
                                {
                                    "SZOBA_ID": "270",
                                    "SZOBA_SZAMA": "8",
                                    "FEROHELY": "3",
                                    "POTAGY": "0",
                                    "KLIMAS": "n",
                                    "SZALLAS_FK": "17",
                                    "Napi ár": "20000"
                                },
                                {
                                    "SZOBA_ID": "224",
                                    "SZOBA_SZAMA": "10",
                                    "FEROHELY": "2",
                                    "POTAGY": "0",
                                    "KLIMAS": "i",
                                    "SZALLAS_FK": "13",
                                    "Napi ár": "25000"
                                },
                                {
                                    "SZOBA_ID": "227",
                                    "SZOBA_SZAMA": "1",
                                    "FEROHELY": "2",
                                    "POTAGY": "1",
                                    "KLIMAS": "i",
                                    "SZALLAS_FK": "14",
                                    "Napi ár": "25000"
                                },
                                {
                                    "SZOBA_ID": "204",
                                    "SZOBA_SZAMA": "40",
                                    "FEROHELY": "3",
                                    "POTAGY": "1",
                                    "KLIMAS": "i",
                                    "SZALLAS_FK": "12",
                                    "Napi ár": "25000"
                                },
                                {
                                    "SZOBA_ID": "253",
                                    "SZOBA_SZAMA": "11",
                                    "FEROHELY": "2",
                                    "POTAGY": "0",
                                    "KLIMAS": "i",
                                    "SZALLAS_FK": "16",
                                    "Napi ár": "25000"
                                },
                                {
                                    "SZOBA_ID": "290",
                                    "SZOBA_SZAMA": "6",
                                    "FEROHELY": "2",
                                    "POTAGY": "1",
                                    "KLIMAS": "i",
                                    "SZALLAS_FK": "20",
                                    "Napi ár": "25000"
                                },
                                {
                                    "SZOBA_ID": "247",
                                    "SZOBA_SZAMA": "5",
                                    "FEROHELY": "2",
                                    "POTAGY": "0",
                                    "KLIMAS": "i",
                                    "SZALLAS_FK": "16",
                                    "Napi ár": "25000"
                                },
                                {
                                    "SZOBA_ID": "211",
                                    "SZOBA_SZAMA": "47",
                                    "FEROHELY": "2",
                                    "POTAGY": "1",
                                    "KLIMAS": "i",
                                    "SZALLAS_FK": "12",
                                    "Napi ár": "25000"
                                },
                                {
                                    "SZOBA_ID": "282",
                                    "SZOBA_SZAMA": "2",
                                    "FEROHELY": "2",
                                    "POTAGY": "0",
                                    "KLIMAS": "i",
                                    "SZALLAS_FK": "19",
                                    "Napi ár": "25000"
                                },
                                {
                                    "SZOBA_ID": "288",
                                    "SZOBA_SZAMA": "4",
                                    "FEROHELY": "2",
                                    "POTAGY": "1",
                                    "KLIMAS": "i",
                                    "SZALLAS_FK": "20",
                                    "Napi ár": "25000"
                                },
                                {
                                    "SZOBA_ID": "234",
                                    "SZOBA_SZAMA": "4",
                                    "FEROHELY": "3",
                                    "POTAGY": "1",
                                    "KLIMAS": "i",
                                    "SZALLAS_FK": "15",
                                    "Napi ár": "25000"
                                },
                                {
                                    "SZOBA_ID": "219",
                                    "SZOBA_SZAMA": "5",
                                    "FEROHELY": "2",
                                    "POTAGY": "0",
                                    "KLIMAS": "n",
                                    "SZALLAS_FK": "13",
                                    "Napi ár": "20000"
                                },
                                {
                                    "SZOBA_ID": "265",
                                    "SZOBA_SZAMA": "3",
                                    "FEROHELY": "3",
                                    "POTAGY": "0",
                                    "KLIMAS": "i",
                                    "SZALLAS_FK": "17",
                                    "Napi ár": "25000"
                                },
                                {
                                    "SZOBA_ID": "271",
                                    "SZOBA_SZAMA": "9",
                                    "FEROHELY": "3",
                                    "POTAGY": "0",
                                    "KLIMAS": "i",
                                    "SZALLAS_FK": "17",
                                    "Napi ár": "25000"
                                },
                                {
                                    "SZOBA_ID": "228",
                                    "SZOBA_SZAMA": "2",
                                    "FEROHELY": "3",
                                    "POTAGY": "0",
                                    "KLIMAS": "i",
                                    "SZALLAS_FK": "14",
                                    "Napi ár": "25000"
                                },
                                {
                                    "SZOBA_ID": "205",
                                    "SZOBA_SZAMA": "41",
                                    "FEROHELY": "3",
                                    "POTAGY": "0",
                                    "KLIMAS": "i",
                                    "SZALLAS_FK": "12",
                                    "Napi ár": "25000"
                                },
                                {
                                    "SZOBA_ID": "291",
                                    "SZOBA_SZAMA": "7",
                                    "FEROHELY": "2",
                                    "POTAGY": "1",
                                    "KLIMAS": "i",
                                    "SZALLAS_FK": "20",
                                    "Napi ár": "25000"
                                },
                                {
                                    "SZOBA_ID": "242",
                                    "SZOBA_SZAMA": "12",
                                    "FEROHELY": "2",
                                    "POTAGY": "1",
                                    "KLIMAS": "i",
                                    "SZALLAS_FK": "15",
                                    "Napi ár": "25000"
                                },
                                {
                                    "SZOBA_ID": "254",
                                    "SZOBA_SZAMA": "12",
                                    "FEROHELY": "2",
                                    "POTAGY": "0",
                                    "KLIMAS": "i",
                                    "SZALLAS_FK": "16",
                                    "Napi ár": "25000"
                                },
                                {
                                    "SZOBA_ID": "199",
                                    "SZOBA_SZAMA": "35",
                                    "FEROHELY": "3",
                                    "POTAGY": "2",
                                    "KLIMAS": "i",
                                    "SZALLAS_FK": "12",
                                    "Napi ár": "25000"
                                },
                                {
                                    "SZOBA_ID": "248",
                                    "SZOBA_SZAMA": "6",
                                    "FEROHELY": "2",
                                    "POTAGY": "2",
                                    "KLIMAS": "i",
                                    "SZALLAS_FK": "16",
                                    "Napi ár": "25000"
                                },
                                {
                                    "SZOBA_ID": "285",
                                    "SZOBA_SZAMA": "1",
                                    "FEROHELY": "2",
                                    "POTAGY": "1",
                                    "KLIMAS": "i",
                                    "SZALLAS_FK": "20",
                                    "Napi ár": "25000"
                                },
                                {
                                    "SZOBA_ID": "262",
                                    "SZOBA_SZAMA": "20",
                                    "FEROHELY": "1",
                                    "POTAGY": "0",
                                    "KLIMAS": "n",
                                    "SZALLAS_FK": "16",
                                    "Napi ár": "20000"
                                },
                                {
                                    "SZOBA_ID": "231",
                                    "SZOBA_SZAMA": "1",
                                    "FEROHELY": "2",
                                    "POTAGY": "0",
                                    "KLIMAS": "i",
                                    "SZALLAS_FK": "15",
                                    "Napi ár": "25000"
                                },
                                {
                                    "SZOBA_ID": "268",
                                    "SZOBA_SZAMA": "6",
                                    "FEROHELY": "2",
                                    "POTAGY": "2",
                                    "KLIMAS": "n",
                                    "SZALLAS_FK": "17",
                                    "Napi ár": "20000"
                                },
                                {
                                    "SZOBA_ID": "222",
                                    "SZOBA_SZAMA": "8",
                                    "FEROHELY": "2",
                                    "POTAGY": "0",
                                    "KLIMAS": "n",
                                    "SZALLAS_FK": "13",
                                    "Napi ár": "20000"
                                },
                                {
                                    "SZOBA_ID": "202",
                                    "SZOBA_SZAMA": "38",
                                    "FEROHELY": "3",
                                    "POTAGY": "1",
                                    "KLIMAS": "i",
                                    "SZALLAS_FK": "12",
                                    "Napi ár": "25000"
                                },
                                {
                                    "SZOBA_ID": "225",
                                    "SZOBA_SZAMA": "11",
                                    "FEROHELY": "2",
                                    "POTAGY": "1",
                                    "KLIMAS": "i",
                                    "SZALLAS_FK": "13",
                                    "Napi ár": "25000"
                                },
                                {
                                    "SZOBA_ID": "274",
                                    "SZOBA_SZAMA": "12",
                                    "FEROHELY": "3",
                                    "POTAGY": "1",
                                    "KLIMAS": "i",
                                    "SZALLAS_FK": "17",
                                    "Napi ár": "25000"
                                },
                                {
                                    "SZOBA_ID": "251",
                                    "SZOBA_SZAMA": "9",
                                    "FEROHELY": "3",
                                    "POTAGY": "0",
                                    "KLIMAS": "n",
                                    "SZALLAS_FK": "16",
                                    "Napi ár": "20000"
                                },
                                {
                                    "SZOBA_ID": "159",
                                    "SZOBA_SZAMA": "25",
                                    "FEROHELY": "3",
                                    "POTAGY": "1",
                                    "KLIMAS": "n",
                                    "SZALLAS_FK": "10",
                                    "Napi ár": "20000"
                                },
                                {
                                    "SZOBA_ID": "208",
                                    "SZOBA_SZAMA": "44",
                                    "FEROHELY": "2",
                                    "POTAGY": "1",
                                    "KLIMAS": "i",
                                    "SZALLAS_FK": "12",
                                    "Napi ár": "25000"
                                },
                                {
                                    "SZOBA_ID": "294",
                                    "SZOBA_SZAMA": "10",
                                    "FEROHELY": "3",
                                    "POTAGY": "0",
                                    "KLIMAS": "i",
                                    "SZALLAS_FK": "20",
                                    "Napi ár": "25000"
                                },
                                {
                                    "SZOBA_ID": "245",
                                    "SZOBA_SZAMA": "3",
                                    "FEROHELY": "2",
                                    "POTAGY": "1",
                                    "KLIMAS": "i",
                                    "SZALLAS_FK": "16",
                                    "Napi ár": "25000"
                                },
                                {
                                    "SZOBA_ID": "286",
                                    "SZOBA_SZAMA": "2",
                                    "FEROHELY": "3",
                                    "POTAGY": "0",
                                    "KLIMAS": "i",
                                    "SZALLAS_FK": "20",
                                    "Napi ár": "25000"
                                },
                                {
                                    "SZOBA_ID": "263",
                                    "SZOBA_SZAMA": "1",
                                    "FEROHELY": "2",
                                    "POTAGY": "2",
                                    "KLIMAS": "i",
                                    "SZALLAS_FK": "17",
                                    "Napi ár": "25000"
                                },
                                {
                                    "SZOBA_ID": "240",
                                    "SZOBA_SZAMA": "10",
                                    "FEROHELY": "3",
                                    "POTAGY": "0",
                                    "KLIMAS": "i",
                                    "SZALLAS_FK": "15",
                                    "Napi ár": "25000"
                                },
                                {
                                    "SZOBA_ID": "257",
                                    "SZOBA_SZAMA": "15",
                                    "FEROHELY": "2",
                                    "POTAGY": "0",
                                    "KLIMAS": "i",
                                    "SZALLAS_FK": "16",
                                    "Napi ár": "25000"
                                },
                                {
                                    "SZOBA_ID": "280",
                                    "SZOBA_SZAMA": "3",
                                    "FEROHELY": "3",
                                    "POTAGY": "0",
                                    "KLIMAS": "n",
                                    "SZALLAS_FK": "18",
                                    "Napi ár": "20000"
                                },
                                {
                                    "SZOBA_ID": "217",
                                    "SZOBA_SZAMA": "3",
                                    "FEROHELY": "2",
                                    "POTAGY": "1",
                                    "KLIMAS": "n",
                                    "SZALLAS_FK": "13",
                                    "Napi ár": "20000"
                                },
                                {
                                    "SZOBA_ID": "223",
                                    "SZOBA_SZAMA": "9",
                                    "FEROHELY": "2",
                                    "POTAGY": "1",
                                    "KLIMAS": "i",
                                    "SZALLAS_FK": "13",
                                    "Napi ár": "25000"
                                },
                                {
                                    "SZOBA_ID": "269",
                                    "SZOBA_SZAMA": "7",
                                    "FEROHELY": "2",
                                    "POTAGY": "1",
                                    "KLIMAS": "i",
                                    "SZALLAS_FK": "17",
                                    "Napi ár": "25000"
                                },
                                {
                                    "SZOBA_ID": "226",
                                    "SZOBA_SZAMA": "12",
                                    "FEROHELY": "3",
                                    "POTAGY": "1",
                                    "KLIMAS": "n",
                                    "SZALLAS_FK": "13",
                                    "Napi ár": "20000"
                                },
                                {
                                    "SZOBA_ID": "203",
                                    "SZOBA_SZAMA": "39",
                                    "FEROHELY": "3",
                                    "POTAGY": "0",
                                    "KLIMAS": "i",
                                    "SZALLAS_FK": "12",
                                    "Napi ár": "25000"
                                },
                                {
                                    "SZOBA_ID": "289",
                                    "SZOBA_SZAMA": "5",
                                    "FEROHELY": "3",
                                    "POTAGY": "0",
                                    "KLIMAS": "i",
                                    "SZALLAS_FK": "20",
                                    "Napi ár": "25000"
                                },
                                {
                                    "SZOBA_ID": "246",
                                    "SZOBA_SZAMA": "4",
                                    "FEROHELY": "2",
                                    "POTAGY": "0",
                                    "KLIMAS": "i",
                                    "SZALLAS_FK": "16",
                                    "Napi ár": "25000"
                                },
                                {
                                    "SZOBA_ID": "214",
                                    "SZOBA_SZAMA": "50",
                                    "FEROHELY": "3",
                                    "POTAGY": "1",
                                    "KLIMAS": "i",
                                    "SZALLAS_FK": "12",
                                    "Napi ár": "25000"
                                },
                                {
                                    "SZOBA_ID": "237",
                                    "SZOBA_SZAMA": "7",
                                    "FEROHELY": "2",
                                    "POTAGY": "2",
                                    "KLIMAS": "n",
                                    "SZALLAS_FK": "15",
                                    "Napi ár": "20000"
                                },
                                {
                                    "SZOBA_ID": "260",
                                    "SZOBA_SZAMA": "18",
                                    "FEROHELY": "2",
                                    "POTAGY": "0",
                                    "KLIMAS": "i",
                                    "SZALLAS_FK": "16",
                                    "Napi ár": "25000"
                                },
                                {
                                    "SZOBA_ID": "283",
                                    "SZOBA_SZAMA": "3",
                                    "FEROHELY": "2",
                                    "POTAGY": "0",
                                    "KLIMAS": "n",
                                    "SZALLAS_FK": "19",
                                    "Napi ár": "20000"
                                },
                                {
                                    "SZOBA_ID": "220",
                                    "SZOBA_SZAMA": "6",
                                    "FEROHELY": "3",
                                    "POTAGY": "0",
                                    "KLIMAS": "i",
                                    "SZALLAS_FK": "13",
                                    "Napi ár": "25000"
                                },
                                {
                                    "SZOBA_ID": "266",
                                    "SZOBA_SZAMA": "4",
                                    "FEROHELY": "2",
                                    "POTAGY": "1",
                                    "KLIMAS": "i",
                                    "SZALLAS_FK": "17",
                                    "Napi ár": "25000"
                                },
                                {
                                    "SZOBA_ID": "277",
                                    "SZOBA_SZAMA": "15",
                                    "FEROHELY": "2",
                                    "POTAGY": "0",
                                    "KLIMAS": "i",
                                    "SZALLAS_FK": "17",
                                    "Napi ár": "25000"
                                },
                                {
                                    "SZOBA_ID": "249",
                                    "SZOBA_SZAMA": "7",
                                    "FEROHELY": "2",
                                    "POTAGY": "1",
                                    "KLIMAS": "n",
                                    "SZALLAS_FK": "16",
                                    "Napi ár": "20000"
                                },
                                {
                                    "SZOBA_ID": "206",
                                    "SZOBA_SZAMA": "42",
                                    "FEROHELY": "2",
                                    "POTAGY": "1",
                                    "KLIMAS": "i",
                                    "SZALLAS_FK": "12",
                                    "Napi ár": "25000"
                                },
                                {
                                    "SZOBA_ID": "243",
                                    "SZOBA_SZAMA": "1",
                                    "FEROHELY": "2",
                                    "POTAGY": "0",
                                    "KLIMAS": "i",
                                    "SZALLAS_FK": "16",
                                    "Napi ár": "25000"
                                },
                                {
                                    "SZOBA_ID": "200",
                                    "SZOBA_SZAMA": "36",
                                    "FEROHELY": "2",
                                    "POTAGY": "0",
                                    "KLIMAS": "i",
                                    "SZALLAS_FK": "12",
                                    "Napi ár": "25000"
                                }
                            ]
                        },
                        "text/html": "<table><tr><th>SZOBA_ID</th><th>SZOBA_SZAMA</th><th>FEROHELY</th><th>POTAGY</th><th>KLIMAS</th><th>SZALLAS_FK</th><th>Napi ár</th></tr><tr><td>261</td><td>19</td><td>1</td><td>1</td><td>n</td><td>16</td><td>20000</td></tr><tr><td>238</td><td>8</td><td>3</td><td>1</td><td>i</td><td>15</td><td>25000</td></tr><tr><td>215</td><td>1</td><td>2</td><td>1</td><td>i</td><td>13</td><td>25000</td></tr><tr><td>209</td><td>45</td><td>3</td><td>2</td><td>n</td><td>12</td><td>20000</td></tr><tr><td>284</td><td>4</td><td>2</td><td>2</td><td>i</td><td>19</td><td>25000</td></tr><tr><td>232</td><td>2</td><td>2</td><td>0</td><td>i</td><td>15</td><td>25000</td></tr><tr><td>278</td><td>1</td><td>3</td><td>1</td><td>i</td><td>18</td><td>25000</td></tr><tr><td>221</td><td>7</td><td>3</td><td>0</td><td>i</td><td>13</td><td>25000</td></tr><tr><td>201</td><td>37</td><td>3</td><td>1</td><td>n</td><td>12</td><td>20000</td></tr><tr><td>244</td><td>2</td><td>2</td><td>1</td><td>i</td><td>16</td><td>25000</td></tr><tr><td>252</td><td>10</td><td>3</td><td>1</td><td>i</td><td>16</td><td>25000</td></tr><tr><td>258</td><td>16</td><td>2</td><td>0</td><td>i</td><td>16</td><td>25000</td></tr><tr><td>264</td><td>2</td><td>3</td><td>0</td><td>i</td><td>17</td><td>25000</td></tr><tr><td>281</td><td>1</td><td>2</td><td>0</td><td>n</td><td>19</td><td>20000</td></tr><tr><td>212</td><td>48</td><td>3</td><td>0</td><td>n</td><td>12</td><td>20000</td></tr><tr><td>235</td><td>5</td><td>3</td><td>0</td><td>i</td><td>15</td><td>25000</td></tr><tr><td>218</td><td>4</td><td>3</td><td>0</td><td>i</td><td>13</td><td>25000</td></tr><tr><td>229</td><td>3</td><td>2</td><td>0</td><td>i</td><td>14</td><td>25000</td></tr><tr><td>275</td><td>13</td><td>2</td><td>1</td><td>n</td><td>17</td><td>20000</td></tr><tr><td>272</td><td>10</td><td>3</td><td>0</td><td>i</td><td>17</td><td>25000</td></tr><tr><td>255</td><td>13</td><td>3</td><td>0</td><td>n</td><td>16</td><td>20000</td></tr><tr><td>292</td><td>8</td><td>2</td><td>1</td><td>i</td><td>20</td><td>25000</td></tr><tr><td>241</td><td>11</td><td>2</td><td>0</td><td>i</td><td>15</td><td>25000</td></tr><tr><td>213</td><td>49</td><td>3</td><td>0</td><td>i</td><td>12</td><td>25000</td></tr><tr><td>236</td><td>6</td><td>3</td><td>1</td><td>n</td><td>15</td><td>20000</td></tr><tr><td>259</td><td>17</td><td>2</td><td>0</td><td>i</td><td>16</td><td>25000</td></tr><tr><td>267</td><td>5</td><td>2</td><td>1</td><td>n</td><td>17</td><td>20000</td></tr><tr><td>230</td><td>4</td><td>3</td><td>2</td><td>i</td><td>14</td><td>25000</td></tr><tr><td>276</td><td>14</td><td>2</td><td>0</td><td>i</td><td>17</td><td>25000</td></tr><tr><td>273</td><td>11</td><td>2</td><td>1</td><td>i</td><td>17</td><td>25000</td></tr><tr><td>250</td><td>8</td><td>3</td><td>1</td><td>n</td><td>16</td><td>20000</td></tr><tr><td>207</td><td>43</td><td>2</td><td>1</td><td>i</td><td>12</td><td>25000</td></tr><tr><td>256</td><td>14</td><td>3</td><td>1</td><td>i</td><td>16</td><td>25000</td></tr><tr><td>293</td><td>9</td><td>2</td><td>1</td><td>i</td><td>20</td><td>25000</td></tr><tr><td>239</td><td>9</td><td>2</td><td>2</td><td>i</td><td>15</td><td>25000</td></tr><tr><td>216</td><td>2</td><td>3</td><td>1</td><td>i</td><td>13</td><td>25000</td></tr><tr><td>287</td><td>3</td><td>3</td><td>0</td><td>n</td><td>20</td><td>20000</td></tr><tr><td>233</td><td>3</td><td>3</td><td>0</td><td>n</td><td>15</td><td>20000</td></tr><tr><td>210</td><td>46</td><td>2</td><td>0</td><td>i</td><td>12</td><td>25000</td></tr><tr><td>279</td><td>2</td><td>2</td><td>1</td><td>i</td><td>18</td><td>25000</td></tr><tr><td>270</td><td>8</td><td>3</td><td>0</td><td>n</td><td>17</td><td>20000</td></tr><tr><td>224</td><td>10</td><td>2</td><td>0</td><td>i</td><td>13</td><td>25000</td></tr><tr><td>227</td><td>1</td><td>2</td><td>1</td><td>i</td><td>14</td><td>25000</td></tr><tr><td>204</td><td>40</td><td>3</td><td>1</td><td>i</td><td>12</td><td>25000</td></tr><tr><td>253</td><td>11</td><td>2</td><td>0</td><td>i</td><td>16</td><td>25000</td></tr><tr><td>290</td><td>6</td><td>2</td><td>1</td><td>i</td><td>20</td><td>25000</td></tr><tr><td>247</td><td>5</td><td>2</td><td>0</td><td>i</td><td>16</td><td>25000</td></tr><tr><td>211</td><td>47</td><td>2</td><td>1</td><td>i</td><td>12</td><td>25000</td></tr><tr><td>282</td><td>2</td><td>2</td><td>0</td><td>i</td><td>19</td><td>25000</td></tr><tr><td>288</td><td>4</td><td>2</td><td>1</td><td>i</td><td>20</td><td>25000</td></tr><tr><td>234</td><td>4</td><td>3</td><td>1</td><td>i</td><td>15</td><td>25000</td></tr><tr><td>219</td><td>5</td><td>2</td><td>0</td><td>n</td><td>13</td><td>20000</td></tr><tr><td>265</td><td>3</td><td>3</td><td>0</td><td>i</td><td>17</td><td>25000</td></tr><tr><td>271</td><td>9</td><td>3</td><td>0</td><td>i</td><td>17</td><td>25000</td></tr><tr><td>228</td><td>2</td><td>3</td><td>0</td><td>i</td><td>14</td><td>25000</td></tr><tr><td>205</td><td>41</td><td>3</td><td>0</td><td>i</td><td>12</td><td>25000</td></tr><tr><td>291</td><td>7</td><td>2</td><td>1</td><td>i</td><td>20</td><td>25000</td></tr><tr><td>242</td><td>12</td><td>2</td><td>1</td><td>i</td><td>15</td><td>25000</td></tr><tr><td>254</td><td>12</td><td>2</td><td>0</td><td>i</td><td>16</td><td>25000</td></tr><tr><td>199</td><td>35</td><td>3</td><td>2</td><td>i</td><td>12</td><td>25000</td></tr><tr><td>248</td><td>6</td><td>2</td><td>2</td><td>i</td><td>16</td><td>25000</td></tr><tr><td>285</td><td>1</td><td>2</td><td>1</td><td>i</td><td>20</td><td>25000</td></tr><tr><td>262</td><td>20</td><td>1</td><td>0</td><td>n</td><td>16</td><td>20000</td></tr><tr><td>231</td><td>1</td><td>2</td><td>0</td><td>i</td><td>15</td><td>25000</td></tr><tr><td>268</td><td>6</td><td>2</td><td>2</td><td>n</td><td>17</td><td>20000</td></tr><tr><td>222</td><td>8</td><td>2</td><td>0</td><td>n</td><td>13</td><td>20000</td></tr><tr><td>202</td><td>38</td><td>3</td><td>1</td><td>i</td><td>12</td><td>25000</td></tr><tr><td>225</td><td>11</td><td>2</td><td>1</td><td>i</td><td>13</td><td>25000</td></tr><tr><td>274</td><td>12</td><td>3</td><td>1</td><td>i</td><td>17</td><td>25000</td></tr><tr><td>251</td><td>9</td><td>3</td><td>0</td><td>n</td><td>16</td><td>20000</td></tr><tr><td>159</td><td>25</td><td>3</td><td>1</td><td>n</td><td>10</td><td>20000</td></tr><tr><td>208</td><td>44</td><td>2</td><td>1</td><td>i</td><td>12</td><td>25000</td></tr><tr><td>294</td><td>10</td><td>3</td><td>0</td><td>i</td><td>20</td><td>25000</td></tr><tr><td>245</td><td>3</td><td>2</td><td>1</td><td>i</td><td>16</td><td>25000</td></tr><tr><td>286</td><td>2</td><td>3</td><td>0</td><td>i</td><td>20</td><td>25000</td></tr><tr><td>263</td><td>1</td><td>2</td><td>2</td><td>i</td><td>17</td><td>25000</td></tr><tr><td>240</td><td>10</td><td>3</td><td>0</td><td>i</td><td>15</td><td>25000</td></tr><tr><td>257</td><td>15</td><td>2</td><td>0</td><td>i</td><td>16</td><td>25000</td></tr><tr><td>280</td><td>3</td><td>3</td><td>0</td><td>n</td><td>18</td><td>20000</td></tr><tr><td>217</td><td>3</td><td>2</td><td>1</td><td>n</td><td>13</td><td>20000</td></tr><tr><td>223</td><td>9</td><td>2</td><td>1</td><td>i</td><td>13</td><td>25000</td></tr><tr><td>269</td><td>7</td><td>2</td><td>1</td><td>i</td><td>17</td><td>25000</td></tr><tr><td>226</td><td>12</td><td>3</td><td>1</td><td>n</td><td>13</td><td>20000</td></tr><tr><td>203</td><td>39</td><td>3</td><td>0</td><td>i</td><td>12</td><td>25000</td></tr><tr><td>289</td><td>5</td><td>3</td><td>0</td><td>i</td><td>20</td><td>25000</td></tr><tr><td>246</td><td>4</td><td>2</td><td>0</td><td>i</td><td>16</td><td>25000</td></tr><tr><td>214</td><td>50</td><td>3</td><td>1</td><td>i</td><td>12</td><td>25000</td></tr><tr><td>237</td><td>7</td><td>2</td><td>2</td><td>n</td><td>15</td><td>20000</td></tr><tr><td>260</td><td>18</td><td>2</td><td>0</td><td>i</td><td>16</td><td>25000</td></tr><tr><td>283</td><td>3</td><td>2</td><td>0</td><td>n</td><td>19</td><td>20000</td></tr><tr><td>220</td><td>6</td><td>3</td><td>0</td><td>i</td><td>13</td><td>25000</td></tr><tr><td>266</td><td>4</td><td>2</td><td>1</td><td>i</td><td>17</td><td>25000</td></tr><tr><td>277</td><td>15</td><td>2</td><td>0</td><td>i</td><td>17</td><td>25000</td></tr><tr><td>249</td><td>7</td><td>2</td><td>1</td><td>n</td><td>16</td><td>20000</td></tr><tr><td>206</td><td>42</td><td>2</td><td>1</td><td>i</td><td>12</td><td>25000</td></tr><tr><td>243</td><td>1</td><td>2</td><td>0</td><td>i</td><td>16</td><td>25000</td></tr><tr><td>200</td><td>36</td><td>2</td><td>0</td><td>i</td><td>12</td><td>25000</td></tr></table>"
                    },
                    "metadata": {}
                }
            ],
            "execution_count": 39
        }
    ]
}