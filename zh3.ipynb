{
    "metadata": {
        "kernelspec": {
            "name": "SQL",
            "display_name": "SQL",
            "language": "sql"
        },
        "language_info": {
            "name": "sql",
            "version": ""
        }
    },
    "nbformat_minor": 2,
    "nbformat": 4,
    "cells": [
        {
            "cell_type": "markdown",
            "source": [
                "# 1\\. Feladat"
            ],
            "metadata": {
                "azdata_cell_guid": "fd4dd57c-471c-4a43-8278-a87acf2113f8"
            },
            "attachments": {}
        },
        {
            "cell_type": "markdown",
            "source": [
                "Filter:{\"languages.0\": \"English\", \"awards.wins\": 2}\n",
                "\n",
                "Project:{\\_id: 0, title: 1, directors: 1, writers:1, year: 1}\n",
                "\n",
                "Sort:{year: -1}"
            ],
            "metadata": {
                "azdata_cell_guid": "6086e29e-32db-41b9-8d4e-8b2eba46adcb"
            },
            "attachments": {}
        },
        {
            "cell_type": "markdown",
            "source": [
                "![](data:image/png;base64,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)"
            ],
            "metadata": {
                "azdata_cell_guid": "38d6df8c-9de6-490e-b0ee-c526548f2101"
            },
            "attachments": {}
        },
        {
            "cell_type": "markdown",
            "source": [
                "# 2\\. Feladat"
            ],
            "metadata": {
                "azdata_cell_guid": "5db54dae-f98b-48dc-b7ad-b6271471461c"
            },
            "attachments": {}
        },
        {
            "cell_type": "markdown",
            "source": [
                "<u>db.users.find({email:{$regex: \".com\"}},{\\_id: 0,name: 1, email: 1})</u>"
            ],
            "metadata": {
                "azdata_cell_guid": "794bf173-a617-41d5-a34e-ee06db3f6944"
            },
            "attachments": {}
        },
        {
            "cell_type": "markdown",
            "source": [
                "# 3\\. Feladat"
            ],
            "metadata": {
                "azdata_cell_guid": "4b540f00-2f29-46b0-9e93-335ac84911ea"
            },
            "attachments": {}
        },
        {
            "cell_type": "markdown",
            "source": [
                "db.movies.aggregate(\\[{$match: {year: {$gt: 1950}}},{$group: {\\_id: \"$rated\", atlag: {$avg: \"$runtime\"}}}\\])"
            ],
            "metadata": {
                "azdata_cell_guid": "3674681d-e685-41db-a89d-67be36f99358"
            },
            "attachments": {}
        },
        {
            "cell_type": "markdown",
            "source": [
                "# 4\\. Feladat"
            ],
            "metadata": {
                "azdata_cell_guid": "c6f700b5-bafb-4a63-bd2a-a0e193948f9a"
            },
            "attachments": {}
        },
        {
            "cell_type": "markdown",
            "source": [
                "<span style=\"color: #859900;\">MATCH</span> <span style=\"color: #586e75;\">(</span><span style=\"color: #333333;\">actor</span><span style=\"color: #586e75;\">)-[:</span><span style=\"color: #333333;\">ACTED_IN</span><span style=\"color: #586e75;\">]-&gt;(</span><span style=\"color: #333333;\">movie</span><span style=\"color: #586e75;\">)</span>\n",
                "\n",
                "<span style=\"color: #859900;\">WHERE</span> <span style=\"color: #333333;\">&nbsp;movie</span><span style=\"color: #586e75;\">.</span><span style=\"color: #333333;\">released&nbsp;</span> <span style=\"color: #586e75;\">&gt;=</span> <span style=\"color: #2aa198;\">1960</span>\n",
                "\n",
                "<span style=\"color: #859900;\">RETURN</span> <span style=\"color: #333333;\">&nbsp;actor</span><span style=\"color: #586e75;\">.</span><span style=\"color: #859900;\">name</span> <span style=\"color: #859900;\">AS</span> <span style=\"color: #333333;\">&nbsp;Név</span><span style=\"color: #586e75;\">,</span> <span style=\"color: #333333;\">&nbsp;movie</span><span style=\"color: #586e75;\">.</span><span style=\"color: #333333;\">title&nbsp;</span> <span style=\"color: #859900;\">AS</span> <span style=\"color: #333333;\">&nbsp;Cím,</span> <span style=\"color: #333333;\">&nbsp;movie</span><span style=\"color: #586e75;\">.</span><span style=\"color: #333333;\">released&nbsp;</span> <span style=\"color: #859900;\">AS</span> <span style=\"color: #333333;\">&nbsp;Kiadási_Év</span>\n",
                "\n",
                "<span style=\"color: #859900;\">ORDER</span> <span style=\"color: #859900;\">BY</span> <span style=\"color: #333333;\">&nbsp;movie</span><span style=\"color: #586e75;\">.</span><span style=\"color: #333333;\">released&nbsp;</span> <span style=\"color: #859900;\">DESC</span>"
            ],
            "metadata": {
                "azdata_cell_guid": "677744d7-ec3d-48e7-9dee-a3396a56e8f1"
            },
            "attachments": {}
        },
        {
            "cell_type": "markdown",
            "source": [
                "# 5\\. Feladat"
            ],
            "metadata": {
                "azdata_cell_guid": "8d088bd1-a5e9-4e83-9578-c7a554d63f7f"
            },
            "attachments": {}
        },
        {
            "cell_type": "markdown",
            "source": [
                "<span style=\"color: #859900;\">MATCH</span> <span style=\"color: #586e75;\">(</span><span style=\"color: #333333;\">p</span><span style=\"color: #586e75;\">:</span><span style=\"color: #333333;\">Person</span><span style=\"color: #586e75;\">)-[:</span><span style=\"color: #333333;\">DIRECTED</span><span style=\"color: #586e75;\">]-&gt;(</span><span style=\"color: #333333;\">m</span><span style=\"color: #586e75;\">:</span><span style=\"color: #333333;\">Movie</span><span style=\"color: #586e75;\">)</span>\n",
                "<span style=\"color: #859900;\">RETURN</span> <span style=\"color: #333333;\">&nbsp;p</span><span style=\"color: #586e75;\">.</span><span style=\"color: #859900;\">name</span> <span style=\"color: #859900;\">AS</span> <span style=\"color: #333333;\">&nbsp;Director</span><span style=\"color: #586e75;\">,</span> <span style=\"color: #859900;\">COUNT</span><span style=\"color: #586e75;\">(*)</span> <span style=\"color: #859900;\">AS</span> <span style=\"color: #333333;\">&nbsp;NumMoviesDirected</span>\n",
                "<span style=\"color: #859900;\">ORDER</span> <span style=\"color: #859900;\">BY</span> <span style=\"color: #333333;\">&nbsp;NumMoviesDirected&nbsp;</span> <span style=\"color: #859900;\">DESC</span>\n",
                "<span style=\"color: #859900;\">LIMIT</span> <span style=\"color: #2aa198;\">5</span>"
            ],
            "metadata": {
                "azdata_cell_guid": "cef9c9a1-ac77-48c6-8df0-8840e8538a6d"
            },
            "attachments": {}
        }
    ]
}