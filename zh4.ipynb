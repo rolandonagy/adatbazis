{
    "metadata": {
        "kernelspec": {
            "name": "SQL",
            "display_name": "SQL",
            "language": "sql"
        },
        "language_info": {
            "name": "sql",
            "version": ""
        }
    },
    "nbformat_minor": 2,
    "nbformat": 4,
    "cells": [
        {
            "cell_type": "markdown",
            "source": [
                "Listázzuk azon vendégek nevét, email-címét és felhasználói nevét, akik egynél többször foglaltak!\n",
                "\n",
                "- Hagyjuk ki azokat a vendégeket, akik május hónapban születtek!"
            ],
            "metadata": {
                "azdata_cell_guid": "ffe08708-c4a7-4107-a98e-16e1a515d43f"
            },
            "attachments": {}
        },
        {
            "cell_type": "code",
            "source": [
                "SELECT v.NEV AS 'Név', v.EMAIL AS 'Email', v.USERNEV AS 'Felhasználónév'\r\n",
                "FROM Vendeg v JOIN Foglalas f ON v.USERNEV = f.UGYFEL_FK\r\n",
                "WHERE MONTH(v.SZUL_DAT) != 5\r\n",
                "GROUP BY v.NEV, v.EMAIL, v.USERNEV\r\n",
                "HAVING COUNT(f.FOGLALAS_PK) > 1;"
            ],
            "metadata": {
                "azdata_cell_guid": "f76a9a4b-e82c-4e7a-8e3d-24a173612021",
                "language": "sql"
            },
            "outputs": [
                {
                    "output_type": "display_data",
                    "data": {
                        "text/html": "(169 rows affected)"
                    },
                    "metadata": {}
                },
                {
                    "output_type": "display_data",
                    "data": {
                        "text/html": "Total execution time: 00:00:00.056"
                    },
                    "metadata": {}
                },
                {
                    "output_type": "execute_result",
                    "metadata": {},
                    "execution_count": 1,
                    "data": {
                        "application/vnd.dataresource+json": {
                            "schema": {
                                "fields": [
                                    {
                                        "name": "Név"
                                    },
                                    {
                                        "name": "Email"
                                    },
                                    {
                                        "name": "Felhasználónév"
                                    }
                                ]
                            },
                            "data": [
                                {
                                    "Név": "Kiss Ádám",
                                    "Email": "ádám.kiss@mail.hu",
                                    "Felhasználónév": "adam1"
                                },
                                {
                                    "Név": "Barkóci Ádám",
                                    "Email": "adam3@gmail.com",
                                    "Felhasználónév": "adam3"
                                },
                                {
                                    "Név": "Bieniek Ádám",
                                    "Email": "ádám.bieniek@mail.hu",
                                    "Felhasználónév": "adam4"
                                },
                                {
                                    "Név": "Lengyel Ágnes",
                                    "Email": "agnes@gmail.com",
                                    "Felhasználónév": "agnes"
                                },
                                {
                                    "Név": "Hartyánszky Ágnes",
                                    "Email": "agnes3@gmail.com",
                                    "Felhasználónév": "agnes3"
                                },
                                {
                                    "Név": "Horváth Ágnes",
                                    "Email": "AGNESH@gmail.com",
                                    "Felhasználónév": "AGNESH"
                                },
                                {
                                    "Név": "Kovács Ágnes",
                                    "Email": "AGNESK@gmail.com",
                                    "Felhasználónév": "AGNESK"
                                },
                                {
                                    "Név": "Bíró Ákos",
                                    "Email": "ákos.bíró@mail.hu",
                                    "Felhasználónév": "akos"
                                },
                                {
                                    "Név": "Dunai Aladár",
                                    "Email": "aladár.dunai@mail.hu",
                                    "Felhasználónév": "aladar"
                                },
                                {
                                    "Név": "Bagóczki Alexandra",
                                    "Email": "alexandra.bagóczki@mail.hu",
                                    "Felhasználónév": "alexandra"
                                },
                                {
                                    "Név": "Tóth András",
                                    "Email": "andrás.tóth@mail.hu",
                                    "Felhasználónév": "andras2"
                                },
                                {
                                    "Név": "Molnár András",
                                    "Email": "andrás.molnár@mail.hu",
                                    "Felhasználónév": "andras21"
                                },
                                {
                                    "Név": "Vígh András",
                                    "Email": "andrás.vígh@mail.hu",
                                    "Felhasználónév": "andras3"
                                },
                                {
                                    "Név": "Back András",
                                    "Email": "andras4@gmail.com",
                                    "Felhasználónév": "andras4"
                                },
                                {
                                    "Név": "Komjáti András",
                                    "Email": "andras41@gmail.com",
                                    "Felhasználónév": "andras41"
                                },
                                {
                                    "Név": "Kiss Andrea",
                                    "Email": "andrea.kiss@mail.hu",
                                    "Felhasználónév": "andrea"
                                },
                                {
                                    "Név": "Tornyos Andrea",
                                    "Email": "ANDREAT@gmail.com",
                                    "Felhasználónév": "ANDREAT"
                                },
                                {
                                    "Név": "Pivarcsi Anett",
                                    "Email": "anett.pivarcsi@mail.hu",
                                    "Felhasználónév": "anett3"
                                },
                                {
                                    "Név": "Tóth Anikó",
                                    "Email": "aniko@gmail.com",
                                    "Felhasználónév": "aniko"
                                },
                                {
                                    "Név": "Böröcz Anikó",
                                    "Email": "aniko4@gmail.com",
                                    "Felhasználónév": "aniko4"
                                },
                                {
                                    "Név": "Simon Anikó",
                                    "Email": "ANIKOS@gmail.com",
                                    "Felhasználónév": "ANIKOS"
                                },
                                {
                                    "Név": "Hamvay-Kovács Anita",
                                    "Email": "anita.hamvay-kovács@mail.hu",
                                    "Felhasználónév": "anita"
                                },
                                {
                                    "Név": "Szűcs Annamária",
                                    "Email": "annamária.szűcs@mail.hu",
                                    "Felhasználónév": "annamaria1"
                                },
                                {
                                    "Név": "Regős Annamária",
                                    "Email": "ANNAMARIAR@gmail.com",
                                    "Felhasználónév": "ANNAMARIAR"
                                },
                                {
                                    "Név": "Jakab Áron",
                                    "Email": "aron2@gmail.com",
                                    "Felhasználónév": "aron2"
                                },
                                {
                                    "Név": "Kelemen Áron",
                                    "Email": "áron.kelemen@mail.hu",
                                    "Felhasználónév": "ARONK"
                                },
                                {
                                    "Név": "Ötvös Árpád",
                                    "Email": "árpád.ötvös@mail.hu",
                                    "Felhasználónév": "arpad2"
                                },
                                {
                                    "Név": "Móricz Árpád",
                                    "Email": "árpád.móricz@mail.hu",
                                    "Felhasználónév": "ARPADM"
                                },
                                {
                                    "Név": "Csóti Attila",
                                    "Email": "attila@gmail.com",
                                    "Felhasználónév": "attila"
                                },
                                {
                                    "Név": "Gulyás Attila",
                                    "Email": "attila.gulyás@mail.hu",
                                    "Felhasználónév": "attila1"
                                },
                                {
                                    "Név": "Baróti Attila",
                                    "Email": "attila.baróti@mail.hu",
                                    "Felhasználónév": "attila4"
                                },
                                {
                                    "Név": "Bozsik Balázs",
                                    "Email": "balázs.bozsik@mail.hu",
                                    "Felhasználónév": "balazs1"
                                },
                                {
                                    "Név": "Szűcs Balázs",
                                    "Email": "balázs.szűcs@mail.hu",
                                    "Felhasználónév": "balazs2"
                                },
                                {
                                    "Név": "Bakódy Balázs",
                                    "Email": "balazs3@gmail.com",
                                    "Felhasználónév": "balazs3"
                                },
                                {
                                    "Név": "Horváth Bálint",
                                    "Email": "balint@gmail.com",
                                    "Felhasználónév": "balint"
                                },
                                {
                                    "Név": "Molnár Bálint",
                                    "Email": "balint1@gmail.com",
                                    "Felhasználónév": "balint1"
                                },
                                {
                                    "Név": "Vukasinovity Bálint",
                                    "Email": "balint2@gmail.com",
                                    "Felhasználónév": "balint2"
                                },
                                {
                                    "Név": "Endresz Bálint",
                                    "Email": "bálint.endresz@mail.hu",
                                    "Felhasználónév": "balu"
                                },
                                {
                                    "Név": "Bagi Beáta",
                                    "Email": "beáta.bagi@mail.hu",
                                    "Felhasználónév": "beata4"
                                },
                                {
                                    "Név": "Kerényi Beatrix",
                                    "Email": "beatrix.kerényi@mail.hu",
                                    "Felhasználónév": "BEATRIXK"
                                },
                                {
                                    "Név": "Szekendi Beatrix",
                                    "Email": "beatrix.szekendi@mail.hu",
                                    "Felhasználónév": "BEATRIXS"
                                },
                                {
                                    "Név": "Farkas Béla",
                                    "Email": "BELAF@gmail.com",
                                    "Felhasználónév": "BELAF"
                                },
                                {
                                    "Név": "Győrffy Bence",
                                    "Email": "bence@gmail.com",
                                    "Felhasználónév": "bence"
                                },
                                {
                                    "Név": "Bajusz Bence",
                                    "Email": "bence.bajusz@mail.hu",
                                    "Felhasználónév": "BENCEB"
                                },
                                {
                                    "Név": "Simon Bernadett",
                                    "Email": "bernadett1@gmail.com",
                                    "Felhasználónév": "bernadett1"
                                },
                                {
                                    "Név": "Kovács Bernadett",
                                    "Email": "bernadett.kovács@mail.hu",
                                    "Felhasználónév": "bernadett2"
                                },
                                {
                                    "Név": "Orbán Bernadett",
                                    "Email": "bernadett.orbán@mail.hu",
                                    "Felhasználónév": "BERNADETTO"
                                },
                                {
                                    "Név": "Csiger Bertalan",
                                    "Email": "bertalan@gmail.com",
                                    "Felhasználónév": "bertalan"
                                },
                                {
                                    "Név": "Székely Brigitta",
                                    "Email": "brigitta.székely@mail.hu",
                                    "Felhasználónév": "brigitta"
                                },
                                {
                                    "Név": "Nagymihály Csongor",
                                    "Email": "csongor.nagymihály@mail.hu",
                                    "Felhasználónév": "csongor3"
                                },
                                {
                                    "Név": "Vörös Dániel",
                                    "Email": "daniel@gmail.com",
                                    "Felhasználónév": "dani"
                                },
                                {
                                    "Név": "Rácz Dániel",
                                    "Email": "dániel.rácz@mail.hu",
                                    "Felhasználónév": "daniel"
                                },
                                {
                                    "Név": "Keszler Dániel",
                                    "Email": "dániel.keszler@mail.hu",
                                    "Felhasználónév": "daniel1"
                                },
                                {
                                    "Név": "Ambrus Dávid",
                                    "Email": "david@gmail.com",
                                    "Felhasználónév": "david"
                                },
                                {
                                    "Név": "Sobják Dávid",
                                    "Email": "david1@gmail.com",
                                    "Felhasználónév": "david1"
                                },
                                {
                                    "Név": "Barna Debóra",
                                    "Email": "debóra.barna@mail.hu",
                                    "Felhasználónév": "debora"
                                },
                                {
                                    "Név": "Tömböly Dénes",
                                    "Email": "denes@gmail.com",
                                    "Felhasználónév": "denes"
                                },
                                {
                                    "Név": "Bittmann Edit",
                                    "Email": "edit.bittmann@mail.hu",
                                    "Felhasználónév": "edit"
                                },
                                {
                                    "Név": "Kuruc Emese",
                                    "Email": "emese.kuruc@mail.hu",
                                    "Felhasználónév": "emese"
                                },
                                {
                                    "Név": "Balogh Eszter",
                                    "Email": "eszter.balogh@mail.hu",
                                    "Felhasználónév": "eszter2"
                                },
                                {
                                    "Név": "Fülöp Eszter",
                                    "Email": "eszter.fülöp@mail.hu",
                                    "Felhasználónév": "eszter4"
                                },
                                {
                                    "Név": "Érsek Eszter",
                                    "Email": "eszter.érsek@mail.hu",
                                    "Felhasználónév": "ESZTERE"
                                },
                                {
                                    "Név": "Enyedi Éva",
                                    "Email": "eva@gmail.com",
                                    "Felhasználónév": "eva"
                                },
                                {
                                    "Név": "Perlinger Éva",
                                    "Email": "eva2@gmail.com",
                                    "Felhasználónév": "eva2"
                                },
                                {
                                    "Név": "Viktor Éva",
                                    "Email": "EVAV@gmail.com",
                                    "Felhasználónév": "EVAV"
                                },
                                {
                                    "Név": "Orosz Ferenc",
                                    "Email": "ferenc.orosz@mail.hu",
                                    "Felhasználónév": "ferenc1"
                                },
                                {
                                    "Név": "Frank Fruzsina",
                                    "Email": "fruzsina4@gmail.com",
                                    "Felhasználónév": "fruzsina4"
                                },
                                {
                                    "Név": "Köves Gábor",
                                    "Email": "gabor1@gmail.com",
                                    "Felhasználónév": "gabor1"
                                },
                                {
                                    "Név": "Telek Gábor",
                                    "Email": "gábor.telek@mail.hu",
                                    "Felhasználónév": "gabor4"
                                },
                                {
                                    "Név": "Nagy Gabriella",
                                    "Email": "gabriella1@gmail.com",
                                    "Felhasználónév": "gabriella1"
                                },
                                {
                                    "Név": "Nyíri Georgij",
                                    "Email": "georgij.nyíri@mail.hu",
                                    "Felhasználónév": "georgij"
                                },
                                {
                                    "Név": "Bárci Gusztáv",
                                    "Email": "gusztav@gmail.com",
                                    "Felhasználónév": "gusztav"
                                },
                                {
                                    "Név": "Kornseé Gyöngyi",
                                    "Email": "gyöngyi.kornseé@mail.hu",
                                    "Felhasználónév": "GYONGYIK"
                                },
                                {
                                    "Név": "Oroszi György",
                                    "Email": "GYORGYO@gmail.com",
                                    "Felhasználónév": "GYORGYO"
                                },
                                {
                                    "Név": "Nádudvari Henrik",
                                    "Email": "henrik.nádudvari@mail.hu",
                                    "Felhasználónév": "henrik3"
                                },
                                {
                                    "Név": "Andor Ibolya",
                                    "Email": "ibolya.andor@mail.hu",
                                    "Felhasználónév": "IBOLYAA"
                                },
                                {
                                    "Név": "Bosnyák Ilona",
                                    "Email": "ilona3@gmail.com",
                                    "Felhasználónév": "ilona3"
                                },
                                {
                                    "Név": "Búza Imre",
                                    "Email": "imre.búza@mail.hu",
                                    "Felhasználónév": "imre"
                                },
                                {
                                    "Név": "Papp Imre",
                                    "Email": "imre.papp@mail.hu",
                                    "Felhasználónév": "imre1"
                                },
                                {
                                    "Név": "Soós István",
                                    "Email": "istvan@gmail.com",
                                    "Felhasználónév": "istvan"
                                },
                                {
                                    "Név": "Vizi István",
                                    "Email": "istván.vizi@mail.hu",
                                    "Felhasználónév": "istvan1"
                                },
                                {
                                    "Név": "Varga István",
                                    "Email": "ISTVANV@gmail.com",
                                    "Felhasználónév": "ISTVANV"
                                },
                                {
                                    "Név": "Harangozó János",
                                    "Email": "janos3@gmail.com",
                                    "Felhasználónév": "janos3"
                                },
                                {
                                    "Név": "Giliga János",
                                    "Email": "JANOSG@gmail.com",
                                    "Felhasználónév": "JANOSG"
                                },
                                {
                                    "Név": "Pálinkás János",
                                    "Email": "JANOSP@gmail.com",
                                    "Felhasználónév": "JANOSP"
                                },
                                {
                                    "Név": "Gergely József",
                                    "Email": "jozsef@gmail.com",
                                    "Felhasználónév": "jozsef"
                                },
                                {
                                    "Név": "Vajda József",
                                    "Email": "józsef.vajda@mail.hu",
                                    "Felhasználónév": "jozsef2"
                                },
                                {
                                    "Név": "Hídasi Judit",
                                    "Email": "JUDITH@gmail.com",
                                    "Felhasználónév": "JUDITH"
                                },
                                {
                                    "Név": "Tóth Júlia",
                                    "Email": "julia@gmail.com",
                                    "Felhasználónév": "julia"
                                },
                                {
                                    "Név": "Nagy Júlia",
                                    "Email": "julia4@gmail.com",
                                    "Felhasználónév": "julia4"
                                },
                                {
                                    "Név": "Szabó Julianna",
                                    "Email": "julianna4@gmail.com",
                                    "Felhasználónév": "julianna4"
                                },
                                {
                                    "Név": "Gondos Katalin",
                                    "Email": "katalin.gondos@mail.hu",
                                    "Felhasználónév": "kata"
                                },
                                {
                                    "Név": "Horváth Katalin",
                                    "Email": "katalin.horváth@mail.hu",
                                    "Felhasználónév": "katalin"
                                },
                                {
                                    "Név": "Kertész Katalin",
                                    "Email": "katalin4@gmail.com",
                                    "Felhasználónév": "katalin4"
                                },
                                {
                                    "Név": "Kovács Katalin",
                                    "Email": "katalin.kovács@mail.hu",
                                    "Felhasználónév": "katka"
                                },
                                {
                                    "Név": "Bakó Klaudia",
                                    "Email": "klaudia.bakó@mail.hu",
                                    "Felhasználónév": "klaudia2"
                                },
                                {
                                    "Név": "Lukács Kornél",
                                    "Email": "kornél.lukács@mail.hu",
                                    "Felhasználónév": "kornel4"
                                },
                                {
                                    "Név": "Poprádi Kristóf",
                                    "Email": "kristof4@gmail.com",
                                    "Felhasználónév": "kristof4"
                                },
                                {
                                    "Név": "Horváth Krisztina",
                                    "Email": "kriszti@gmail.com",
                                    "Felhasználónév": "kriszti"
                                },
                                {
                                    "Név": "Czérna Krisztián",
                                    "Email": "krisztián.czérna@mail.hu",
                                    "Felhasználónév": "krisztian4"
                                },
                                {
                                    "Név": "Bori Krisztina",
                                    "Email": "krisztina.bori@mail.hu",
                                    "Felhasználónév": "krisztina1"
                                },
                                {
                                    "Név": "Gyárfás Krisztina",
                                    "Email": "KRISZTINAG@gmail.com",
                                    "Felhasználónév": "KRISZTINAG"
                                },
                                {
                                    "Név": "Kiss Lajos",
                                    "Email": "lajos.kiss@mail.hu",
                                    "Felhasználónév": "lajos"
                                },
                                {
                                    "Név": "Nagymihály Lajos",
                                    "Email": "lajos.nagymihály@mail.hu",
                                    "Felhasználónév": "lala"
                                },
                                {
                                    "Név": "Móra László",
                                    "Email": "lászló.móra@mail.hu",
                                    "Felhasználónév": "laszlo2"
                                },
                                {
                                    "Név": "Antal László",
                                    "Email": "lászló.antal@mail.hu",
                                    "Felhasználónév": "LASZLOA"
                                },
                                {
                                    "Név": "Nagy László",
                                    "Email": "lászló.nagy@mail.hu",
                                    "Felhasználónév": "LASZLON"
                                },
                                {
                                    "Név": "Baráth Mária",
                                    "Email": "mária.baráth@mail.hu",
                                    "Felhasználónév": "maria1"
                                },
                                {
                                    "Név": "Kispál Márk",
                                    "Email": "márk.kispál@mail.hu",
                                    "Felhasználónév": "mark"
                                },
                                {
                                    "Név": "Horváth Márk",
                                    "Email": "márk.horváth@mail.hu",
                                    "Felhasználónév": "MARKH"
                                },
                                {
                                    "Név": "Kalacsi Márton",
                                    "Email": "marton@gmail.com",
                                    "Felhasználónév": "marton"
                                },
                                {
                                    "Név": "Koza Máté",
                                    "Email": "máté.koza@mail.hu",
                                    "Felhasználónév": "MATEK"
                                },
                                {
                                    "Név": "Botka Mátyás",
                                    "Email": "matyas2@gmail.com",
                                    "Felhasználónév": "matyas2"
                                },
                                {
                                    "Név": "Szilágyi Mátyás",
                                    "Email": "mátyás.szilágyi@mail.hu",
                                    "Felhasználónév": "MATYASS"
                                },
                                {
                                    "Név": "Juhász Mihály",
                                    "Email": "mihály.juhász@mail.hu",
                                    "Felhasználónév": "MIHALYJ"
                                },
                                {
                                    "Név": "Gondos Miklós",
                                    "Email": "miklos2@gmail.com",
                                    "Felhasználónév": "miklos2"
                                },
                                {
                                    "Név": "Balla Miklós",
                                    "Email": "miklós.balla@mail.hu",
                                    "Felhasználónév": "MIKLOSB"
                                },
                                {
                                    "Név": "Mohos Mónika",
                                    "Email": "mónika.mohos@mail.hu",
                                    "Felhasználónév": "MONIKAM"
                                },
                                {
                                    "Név": "Fő Nándor",
                                    "Email": "nándor.fő@mail.hu",
                                    "Felhasználónév": "NANDORF"
                                },
                                {
                                    "Név": "Horváth Nikolett",
                                    "Email": "nikolett3@gmail.com",
                                    "Felhasználónév": "nikolett3"
                                },
                                {
                                    "Név": "Kő Nikoletta",
                                    "Email": "nikoletta4@gmail.com",
                                    "Felhasználónév": "nikoletta4"
                                },
                                {
                                    "Név": "Tatár Nikoletta",
                                    "Email": "nikoletta.tatár@mail.hu",
                                    "Felhasználónév": "NIKOLETTAT"
                                },
                                {
                                    "Név": "Szűcs Norbert",
                                    "Email": "norbert@gmail.com",
                                    "Felhasználónév": "norbert"
                                },
                                {
                                    "Név": "Hegedűs Norbert",
                                    "Email": "norbert.hegedűs@mail.hu",
                                    "Felhasználónév": "norbert2"
                                },
                                {
                                    "Név": "Mile Norbert",
                                    "Email": "norbert4@gmail.com",
                                    "Felhasználónév": "norbert4"
                                },
                                {
                                    "Név": "Béres Norbert",
                                    "Email": "norbert5@gmail.com",
                                    "Felhasználónév": "norbert5"
                                },
                                {
                                    "Név": "Barabás Pál",
                                    "Email": "pál.barabás@mail.hu",
                                    "Felhasználónév": "pal"
                                },
                                {
                                    "Név": "Kozma Péter",
                                    "Email": "peter1@gmail.com",
                                    "Felhasználónév": "peter1"
                                },
                                {
                                    "Név": "Bozsó Péter",
                                    "Email": "peter2@gmail.com",
                                    "Felhasználónév": "peter2"
                                },
                                {
                                    "Név": "Szalai Péter",
                                    "Email": "peter3@gmail.com",
                                    "Felhasználónév": "peter3"
                                },
                                {
                                    "Név": "Bíró Péter",
                                    "Email": "péter.bíró@mail.hu",
                                    "Felhasználónév": "peter4"
                                },
                                {
                                    "Név": "Berendi Péter",
                                    "Email": "péter.berendi@mail.hu",
                                    "Felhasználónév": "PETERB"
                                },
                                {
                                    "Név": "Palágyi Polla",
                                    "Email": "polla@gmail.com",
                                    "Felhasználónév": "polla"
                                },
                                {
                                    "Név": "Rácz Rajmond",
                                    "Email": "rajmond.rácz@mail.hu",
                                    "Felhasználónév": "rajmond4"
                                },
                                {
                                    "Név": "Szikszai Réka",
                                    "Email": "réka.szikszai@mail.hu",
                                    "Felhasználónév": "reka4"
                                },
                                {
                                    "Név": "Szirmai Renáta",
                                    "Email": "RENATAS@gmail.com",
                                    "Felhasználónév": "RENATAS"
                                },
                                {
                                    "Név": "Patay Róbert",
                                    "Email": "robert2@gmail.com",
                                    "Felhasználónév": "robert2"
                                },
                                {
                                    "Név": "Iván Róbert",
                                    "Email": "róbert.iván@mail.hu",
                                    "Felhasználónév": "ROBERTI"
                                },
                                {
                                    "Név": "Tóth Roland",
                                    "Email": "roland@gmail.com",
                                    "Felhasználónév": "roland"
                                },
                                {
                                    "Név": "Ferencz Roland",
                                    "Email": "roland.ferencz@mail.hu",
                                    "Felhasználónév": "roland1"
                                },
                                {
                                    "Név": "Bucskó Róza",
                                    "Email": "roza2@gmail.com",
                                    "Felhasználónév": "roza2"
                                },
                                {
                                    "Név": "Karasz Sándor",
                                    "Email": "sandor@gmail.com",
                                    "Felhasználónév": "sandor"
                                },
                                {
                                    "Név": "Farkas Sándor",
                                    "Email": "sándor.farkas@mail.hu",
                                    "Felhasználónév": "sandor3"
                                },
                                {
                                    "Név": "Nagy Sándor",
                                    "Email": "sandor4@gmail.com",
                                    "Felhasználónév": "sandor4"
                                },
                                {
                                    "Név": "Farkas Sára",
                                    "Email": "sára.farkas@mail.hu",
                                    "Felhasználónév": "sara"
                                },
                                {
                                    "Név": "Foltényi Sebastián",
                                    "Email": "SEBASTIANF@gmail.com",
                                    "Felhasználónév": "SEBASTIANF"
                                },
                                {
                                    "Név": "Rab Sebestyén",
                                    "Email": "sebestyen@gmail.com",
                                    "Felhasználónév": "sebestyen"
                                },
                                {
                                    "Név": "Miklós Szabolcs",
                                    "Email": "szabolcs.miklós@mail.hu",
                                    "Felhasználónév": "SZABOLCSM"
                                },
                                {
                                    "Név": "Szalai Szilárd",
                                    "Email": "szilárd.szalai@mail.hu",
                                    "Felhasználónév": "SZILARDS"
                                },
                                {
                                    "Név": "Tari Szilvia",
                                    "Email": "szilvia.tari@mail.hu",
                                    "Felhasználónév": "szilvia1"
                                },
                                {
                                    "Név": "Miklós Tamara",
                                    "Email": "tamara.miklós@mail.hu",
                                    "Felhasználónév": "tamara2"
                                },
                                {
                                    "Név": "Antal Tamás",
                                    "Email": "tamás.antal@mail.hu",
                                    "Felhasználónév": "tamas"
                                },
                                {
                                    "Név": "Fényes Tamás",
                                    "Email": "TAMASF@gmail.com",
                                    "Felhasználónév": "TAMASF"
                                },
                                {
                                    "Név": "Gombos Tibor",
                                    "Email": "tibor.gombos@mail.hu",
                                    "Felhasználónév": "tibor"
                                },
                                {
                                    "Név": "Kazy Tihamér",
                                    "Email": "tihamér.kazy@mail.hu",
                                    "Felhasználónév": "tihamer"
                                },
                                {
                                    "Név": "Dusha Tímea",
                                    "Email": "tímea.dusha@mail.hu",
                                    "Felhasználónév": "timea2"
                                },
                                {
                                    "Név": "Turcsik Tünde",
                                    "Email": "tunde@gmail.com",
                                    "Felhasználónév": "tunde"
                                },
                                {
                                    "Név": "Feró Valentin",
                                    "Email": "valentin.feró@mail.hu",
                                    "Felhasználónév": "valentin"
                                },
                                {
                                    "Név": "Tankó Veronika",
                                    "Email": "veronika4@gmail.com",
                                    "Felhasználónév": "veronika4"
                                },
                                {
                                    "Név": "Boros Vivien",
                                    "Email": "vivien3@gmail.com",
                                    "Felhasználónév": "vivien3"
                                },
                                {
                                    "Név": "Fodor Zoltán",
                                    "Email": "zoltán.fodor@mail.hu",
                                    "Felhasználónév": "zoltan"
                                },
                                {
                                    "Név": "Pintér Zoltán",
                                    "Email": "zoltán.pintér@mail.hu",
                                    "Felhasználónév": "ZOLTANP"
                                },
                                {
                                    "Név": "Tóth Zoltán",
                                    "Email": "zoltán.tóth@mail.hu",
                                    "Felhasználónév": "ZOLTANT"
                                },
                                {
                                    "Név": "Molnár Zsófi",
                                    "Email": "zsofi1@gmail.com",
                                    "Felhasználónév": "zsofi1"
                                },
                                {
                                    "Név": "Józsa Zsolt",
                                    "Email": "ZSOLTJ@gmail.com",
                                    "Felhasználónév": "ZSOLTJ"
                                },
                                {
                                    "Név": "Pusztai Zsuzsanna",
                                    "Email": "zsuzsanna@gmail.com",
                                    "Felhasználónév": "zsuzsa"
                                },
                                {
                                    "Név": "Varsányi Zsuzsa",
                                    "Email": "zsuzsa.varsányi@mail.hu",
                                    "Felhasználónév": "zsuzsa3"
                                },
                                {
                                    "Név": "Barta Zsuzsanna",
                                    "Email": "zsuzsanna.barta@mail.hu",
                                    "Felhasználónév": "zsuzsanna"
                                },
                                {
                                    "Név": "Vajda Zsuzsa",
                                    "Email": "zsuzsa.vajda@mail.hu",
                                    "Felhasználónév": "ZSUZSAV"
                                }
                            ]
                        },
                        "text/html": [
                            "<table>",
                            "<tr><th>Név</th><th>Email</th><th>Felhasználónév</th></tr>",
                            "<tr><td>Kiss Ádám</td><td>ádám.kiss@mail.hu</td><td>adam1</td></tr>",
                            "<tr><td>Barkóci Ádám</td><td>adam3@gmail.com</td><td>adam3</td></tr>",
                            "<tr><td>Bieniek Ádám</td><td>ádám.bieniek@mail.hu</td><td>adam4</td></tr>",
                            "<tr><td>Lengyel Ágnes</td><td>agnes@gmail.com</td><td>agnes</td></tr>",
                            "<tr><td>Hartyánszky Ágnes</td><td>agnes3@gmail.com</td><td>agnes3</td></tr>",
                            "<tr><td>Horváth Ágnes</td><td>AGNESH@gmail.com</td><td>AGNESH</td></tr>",
                            "<tr><td>Kovács Ágnes</td><td>AGNESK@gmail.com</td><td>AGNESK</td></tr>",
                            "<tr><td>Bíró Ákos</td><td>ákos.bíró@mail.hu</td><td>akos</td></tr>",
                            "<tr><td>Dunai Aladár</td><td>aladár.dunai@mail.hu</td><td>aladar</td></tr>",
                            "<tr><td>Bagóczki Alexandra</td><td>alexandra.bagóczki@mail.hu</td><td>alexandra</td></tr>",
                            "<tr><td>Tóth András</td><td>andrás.tóth@mail.hu</td><td>andras2</td></tr>",
                            "<tr><td>Molnár András</td><td>andrás.molnár@mail.hu</td><td>andras21</td></tr>",
                            "<tr><td>Vígh András</td><td>andrás.vígh@mail.hu</td><td>andras3</td></tr>",
                            "<tr><td>Back András</td><td>andras4@gmail.com</td><td>andras4</td></tr>",
                            "<tr><td>Komjáti András</td><td>andras41@gmail.com</td><td>andras41</td></tr>",
                            "<tr><td>Kiss Andrea</td><td>andrea.kiss@mail.hu</td><td>andrea</td></tr>",
                            "<tr><td>Tornyos Andrea</td><td>ANDREAT@gmail.com</td><td>ANDREAT</td></tr>",
                            "<tr><td>Pivarcsi Anett</td><td>anett.pivarcsi@mail.hu</td><td>anett3</td></tr>",
                            "<tr><td>Tóth Anikó</td><td>aniko@gmail.com</td><td>aniko</td></tr>",
                            "<tr><td>Böröcz Anikó</td><td>aniko4@gmail.com</td><td>aniko4</td></tr>",
                            "<tr><td>Simon Anikó</td><td>ANIKOS@gmail.com</td><td>ANIKOS</td></tr>",
                            "<tr><td>Hamvay-Kovács Anita</td><td>anita.hamvay-kovács@mail.hu</td><td>anita</td></tr>",
                            "<tr><td>Szűcs Annamária</td><td>annamária.szűcs@mail.hu</td><td>annamaria1</td></tr>",
                            "<tr><td>Regős Annamária</td><td>ANNAMARIAR@gmail.com</td><td>ANNAMARIAR</td></tr>",
                            "<tr><td>Jakab Áron</td><td>aron2@gmail.com</td><td>aron2</td></tr>",
                            "<tr><td>Kelemen Áron</td><td>áron.kelemen@mail.hu</td><td>ARONK</td></tr>",
                            "<tr><td>Ötvös Árpád</td><td>árpád.ötvös@mail.hu</td><td>arpad2</td></tr>",
                            "<tr><td>Móricz Árpád</td><td>árpád.móricz@mail.hu</td><td>ARPADM</td></tr>",
                            "<tr><td>Csóti Attila</td><td>attila@gmail.com</td><td>attila</td></tr>",
                            "<tr><td>Gulyás Attila</td><td>attila.gulyás@mail.hu</td><td>attila1</td></tr>",
                            "<tr><td>Baróti Attila</td><td>attila.baróti@mail.hu</td><td>attila4</td></tr>",
                            "<tr><td>Bozsik Balázs</td><td>balázs.bozsik@mail.hu</td><td>balazs1</td></tr>",
                            "<tr><td>Szűcs Balázs</td><td>balázs.szűcs@mail.hu</td><td>balazs2</td></tr>",
                            "<tr><td>Bakódy Balázs</td><td>balazs3@gmail.com</td><td>balazs3</td></tr>",
                            "<tr><td>Horváth Bálint</td><td>balint@gmail.com</td><td>balint</td></tr>",
                            "<tr><td>Molnár Bálint</td><td>balint1@gmail.com</td><td>balint1</td></tr>",
                            "<tr><td>Vukasinovity Bálint</td><td>balint2@gmail.com</td><td>balint2</td></tr>",
                            "<tr><td>Endresz Bálint</td><td>bálint.endresz@mail.hu</td><td>balu</td></tr>",
                            "<tr><td>Bagi Beáta</td><td>beáta.bagi@mail.hu</td><td>beata4</td></tr>",
                            "<tr><td>Kerényi Beatrix</td><td>beatrix.kerényi@mail.hu</td><td>BEATRIXK</td></tr>",
                            "<tr><td>Szekendi Beatrix</td><td>beatrix.szekendi@mail.hu</td><td>BEATRIXS</td></tr>",
                            "<tr><td>Farkas Béla</td><td>BELAF@gmail.com</td><td>BELAF</td></tr>",
                            "<tr><td>Győrffy Bence</td><td>bence@gmail.com</td><td>bence</td></tr>",
                            "<tr><td>Bajusz Bence</td><td>bence.bajusz@mail.hu</td><td>BENCEB</td></tr>",
                            "<tr><td>Simon Bernadett</td><td>bernadett1@gmail.com</td><td>bernadett1</td></tr>",
                            "<tr><td>Kovács Bernadett</td><td>bernadett.kovács@mail.hu</td><td>bernadett2</td></tr>",
                            "<tr><td>Orbán Bernadett</td><td>bernadett.orbán@mail.hu</td><td>BERNADETTO</td></tr>",
                            "<tr><td>Csiger Bertalan</td><td>bertalan@gmail.com</td><td>bertalan</td></tr>",
                            "<tr><td>Székely Brigitta</td><td>brigitta.székely@mail.hu</td><td>brigitta</td></tr>",
                            "<tr><td>Nagymihály Csongor</td><td>csongor.nagymihály@mail.hu</td><td>csongor3</td></tr>",
                            "<tr><td>Vörös Dániel</td><td>daniel@gmail.com</td><td>dani</td></tr>",
                            "<tr><td>Rácz Dániel</td><td>dániel.rácz@mail.hu</td><td>daniel</td></tr>",
                            "<tr><td>Keszler Dániel</td><td>dániel.keszler@mail.hu</td><td>daniel1</td></tr>",
                            "<tr><td>Ambrus Dávid</td><td>david@gmail.com</td><td>david</td></tr>",
                            "<tr><td>Sobják Dávid</td><td>david1@gmail.com</td><td>david1</td></tr>",
                            "<tr><td>Barna Debóra</td><td>debóra.barna@mail.hu</td><td>debora</td></tr>",
                            "<tr><td>Tömböly Dénes</td><td>denes@gmail.com</td><td>denes</td></tr>",
                            "<tr><td>Bittmann Edit</td><td>edit.bittmann@mail.hu</td><td>edit</td></tr>",
                            "<tr><td>Kuruc Emese</td><td>emese.kuruc@mail.hu</td><td>emese</td></tr>",
                            "<tr><td>Balogh Eszter</td><td>eszter.balogh@mail.hu</td><td>eszter2</td></tr>",
                            "<tr><td>Fülöp Eszter</td><td>eszter.fülöp@mail.hu</td><td>eszter4</td></tr>",
                            "<tr><td>Érsek Eszter</td><td>eszter.érsek@mail.hu</td><td>ESZTERE</td></tr>",
                            "<tr><td>Enyedi Éva</td><td>eva@gmail.com</td><td>eva</td></tr>",
                            "<tr><td>Perlinger Éva</td><td>eva2@gmail.com</td><td>eva2</td></tr>",
                            "<tr><td>Viktor Éva</td><td>EVAV@gmail.com</td><td>EVAV</td></tr>",
                            "<tr><td>Orosz Ferenc</td><td>ferenc.orosz@mail.hu</td><td>ferenc1</td></tr>",
                            "<tr><td>Frank Fruzsina</td><td>fruzsina4@gmail.com</td><td>fruzsina4</td></tr>",
                            "<tr><td>Köves Gábor</td><td>gabor1@gmail.com</td><td>gabor1</td></tr>",
                            "<tr><td>Telek Gábor</td><td>gábor.telek@mail.hu</td><td>gabor4</td></tr>",
                            "<tr><td>Nagy Gabriella</td><td>gabriella1@gmail.com</td><td>gabriella1</td></tr>",
                            "<tr><td>Nyíri Georgij</td><td>georgij.nyíri@mail.hu</td><td>georgij</td></tr>",
                            "<tr><td>Bárci Gusztáv</td><td>gusztav@gmail.com</td><td>gusztav</td></tr>",
                            "<tr><td>Kornseé Gyöngyi</td><td>gyöngyi.kornseé@mail.hu</td><td>GYONGYIK</td></tr>",
                            "<tr><td>Oroszi György</td><td>GYORGYO@gmail.com</td><td>GYORGYO</td></tr>",
                            "<tr><td>Nádudvari Henrik</td><td>henrik.nádudvari@mail.hu</td><td>henrik3</td></tr>",
                            "<tr><td>Andor Ibolya</td><td>ibolya.andor@mail.hu</td><td>IBOLYAA</td></tr>",
                            "<tr><td>Bosnyák Ilona</td><td>ilona3@gmail.com</td><td>ilona3</td></tr>",
                            "<tr><td>Búza Imre</td><td>imre.búza@mail.hu</td><td>imre</td></tr>",
                            "<tr><td>Papp Imre</td><td>imre.papp@mail.hu</td><td>imre1</td></tr>",
                            "<tr><td>Soós István</td><td>istvan@gmail.com</td><td>istvan</td></tr>",
                            "<tr><td>Vizi István</td><td>istván.vizi@mail.hu</td><td>istvan1</td></tr>",
                            "<tr><td>Varga István</td><td>ISTVANV@gmail.com</td><td>ISTVANV</td></tr>",
                            "<tr><td>Harangozó János</td><td>janos3@gmail.com</td><td>janos3</td></tr>",
                            "<tr><td>Giliga János</td><td>JANOSG@gmail.com</td><td>JANOSG</td></tr>",
                            "<tr><td>Pálinkás János</td><td>JANOSP@gmail.com</td><td>JANOSP</td></tr>",
                            "<tr><td>Gergely József</td><td>jozsef@gmail.com</td><td>jozsef</td></tr>",
                            "<tr><td>Vajda József</td><td>józsef.vajda@mail.hu</td><td>jozsef2</td></tr>",
                            "<tr><td>Hídasi Judit</td><td>JUDITH@gmail.com</td><td>JUDITH</td></tr>",
                            "<tr><td>Tóth Júlia</td><td>julia@gmail.com</td><td>julia</td></tr>",
                            "<tr><td>Nagy Júlia</td><td>julia4@gmail.com</td><td>julia4</td></tr>",
                            "<tr><td>Szabó Julianna</td><td>julianna4@gmail.com</td><td>julianna4</td></tr>",
                            "<tr><td>Gondos Katalin</td><td>katalin.gondos@mail.hu</td><td>kata</td></tr>",
                            "<tr><td>Horváth Katalin</td><td>katalin.horváth@mail.hu</td><td>katalin</td></tr>",
                            "<tr><td>Kertész Katalin</td><td>katalin4@gmail.com</td><td>katalin4</td></tr>",
                            "<tr><td>Kovács Katalin</td><td>katalin.kovács@mail.hu</td><td>katka</td></tr>",
                            "<tr><td>Bakó Klaudia</td><td>klaudia.bakó@mail.hu</td><td>klaudia2</td></tr>",
                            "<tr><td>Lukács Kornél</td><td>kornél.lukács@mail.hu</td><td>kornel4</td></tr>",
                            "<tr><td>Poprádi Kristóf</td><td>kristof4@gmail.com</td><td>kristof4</td></tr>",
                            "<tr><td>Horváth Krisztina</td><td>kriszti@gmail.com</td><td>kriszti</td></tr>",
                            "<tr><td>Czérna Krisztián</td><td>krisztián.czérna@mail.hu</td><td>krisztian4</td></tr>",
                            "<tr><td>Bori Krisztina</td><td>krisztina.bori@mail.hu</td><td>krisztina1</td></tr>",
                            "<tr><td>Gyárfás Krisztina</td><td>KRISZTINAG@gmail.com</td><td>KRISZTINAG</td></tr>",
                            "<tr><td>Kiss Lajos</td><td>lajos.kiss@mail.hu</td><td>lajos</td></tr>",
                            "<tr><td>Nagymihály Lajos</td><td>lajos.nagymihály@mail.hu</td><td>lala</td></tr>",
                            "<tr><td>Móra László</td><td>lászló.móra@mail.hu</td><td>laszlo2</td></tr>",
                            "<tr><td>Antal László</td><td>lászló.antal@mail.hu</td><td>LASZLOA</td></tr>",
                            "<tr><td>Nagy László</td><td>lászló.nagy@mail.hu</td><td>LASZLON</td></tr>",
                            "<tr><td>Baráth Mária</td><td>mária.baráth@mail.hu</td><td>maria1</td></tr>",
                            "<tr><td>Kispál Márk</td><td>márk.kispál@mail.hu</td><td>mark</td></tr>",
                            "<tr><td>Horváth Márk</td><td>márk.horváth@mail.hu</td><td>MARKH</td></tr>",
                            "<tr><td>Kalacsi Márton</td><td>marton@gmail.com</td><td>marton</td></tr>",
                            "<tr><td>Koza Máté</td><td>máté.koza@mail.hu</td><td>MATEK</td></tr>",
                            "<tr><td>Botka Mátyás</td><td>matyas2@gmail.com</td><td>matyas2</td></tr>",
                            "<tr><td>Szilágyi Mátyás</td><td>mátyás.szilágyi@mail.hu</td><td>MATYASS</td></tr>",
                            "<tr><td>Juhász Mihály</td><td>mihály.juhász@mail.hu</td><td>MIHALYJ</td></tr>",
                            "<tr><td>Gondos Miklós</td><td>miklos2@gmail.com</td><td>miklos2</td></tr>",
                            "<tr><td>Balla Miklós</td><td>miklós.balla@mail.hu</td><td>MIKLOSB</td></tr>",
                            "<tr><td>Mohos Mónika</td><td>mónika.mohos@mail.hu</td><td>MONIKAM</td></tr>",
                            "<tr><td>Fő Nándor</td><td>nándor.fő@mail.hu</td><td>NANDORF</td></tr>",
                            "<tr><td>Horváth Nikolett</td><td>nikolett3@gmail.com</td><td>nikolett3</td></tr>",
                            "<tr><td>Kő Nikoletta</td><td>nikoletta4@gmail.com</td><td>nikoletta4</td></tr>",
                            "<tr><td>Tatár Nikoletta</td><td>nikoletta.tatár@mail.hu</td><td>NIKOLETTAT</td></tr>",
                            "<tr><td>Szűcs Norbert</td><td>norbert@gmail.com</td><td>norbert</td></tr>",
                            "<tr><td>Hegedűs Norbert</td><td>norbert.hegedűs@mail.hu</td><td>norbert2</td></tr>",
                            "<tr><td>Mile Norbert</td><td>norbert4@gmail.com</td><td>norbert4</td></tr>",
                            "<tr><td>Béres Norbert</td><td>norbert5@gmail.com</td><td>norbert5</td></tr>",
                            "<tr><td>Barabás Pál</td><td>pál.barabás@mail.hu</td><td>pal</td></tr>",
                            "<tr><td>Kozma Péter</td><td>peter1@gmail.com</td><td>peter1</td></tr>",
                            "<tr><td>Bozsó Péter</td><td>peter2@gmail.com</td><td>peter2</td></tr>",
                            "<tr><td>Szalai Péter</td><td>peter3@gmail.com</td><td>peter3</td></tr>",
                            "<tr><td>Bíró Péter</td><td>péter.bíró@mail.hu</td><td>peter4</td></tr>",
                            "<tr><td>Berendi Péter</td><td>péter.berendi@mail.hu</td><td>PETERB</td></tr>",
                            "<tr><td>Palágyi Polla</td><td>polla@gmail.com</td><td>polla</td></tr>",
                            "<tr><td>Rácz Rajmond</td><td>rajmond.rácz@mail.hu</td><td>rajmond4</td></tr>",
                            "<tr><td>Szikszai Réka</td><td>réka.szikszai@mail.hu</td><td>reka4</td></tr>",
                            "<tr><td>Szirmai Renáta</td><td>RENATAS@gmail.com</td><td>RENATAS</td></tr>",
                            "<tr><td>Patay Róbert</td><td>robert2@gmail.com</td><td>robert2</td></tr>",
                            "<tr><td>Iván Róbert</td><td>róbert.iván@mail.hu</td><td>ROBERTI</td></tr>",
                            "<tr><td>Tóth Roland</td><td>roland@gmail.com</td><td>roland</td></tr>",
                            "<tr><td>Ferencz Roland</td><td>roland.ferencz@mail.hu</td><td>roland1</td></tr>",
                            "<tr><td>Bucskó Róza</td><td>roza2@gmail.com</td><td>roza2</td></tr>",
                            "<tr><td>Karasz Sándor</td><td>sandor@gmail.com</td><td>sandor</td></tr>",
                            "<tr><td>Farkas Sándor</td><td>sándor.farkas@mail.hu</td><td>sandor3</td></tr>",
                            "<tr><td>Nagy Sándor</td><td>sandor4@gmail.com</td><td>sandor4</td></tr>",
                            "<tr><td>Farkas Sára</td><td>sára.farkas@mail.hu</td><td>sara</td></tr>",
                            "<tr><td>Foltényi Sebastián</td><td>SEBASTIANF@gmail.com</td><td>SEBASTIANF</td></tr>",
                            "<tr><td>Rab Sebestyén</td><td>sebestyen@gmail.com</td><td>sebestyen</td></tr>",
                            "<tr><td>Miklós Szabolcs</td><td>szabolcs.miklós@mail.hu</td><td>SZABOLCSM</td></tr>",
                            "<tr><td>Szalai Szilárd</td><td>szilárd.szalai@mail.hu</td><td>SZILARDS</td></tr>",
                            "<tr><td>Tari Szilvia</td><td>szilvia.tari@mail.hu</td><td>szilvia1</td></tr>",
                            "<tr><td>Miklós Tamara</td><td>tamara.miklós@mail.hu</td><td>tamara2</td></tr>",
                            "<tr><td>Antal Tamás</td><td>tamás.antal@mail.hu</td><td>tamas</td></tr>",
                            "<tr><td>Fényes Tamás</td><td>TAMASF@gmail.com</td><td>TAMASF</td></tr>",
                            "<tr><td>Gombos Tibor</td><td>tibor.gombos@mail.hu</td><td>tibor</td></tr>",
                            "<tr><td>Kazy Tihamér</td><td>tihamér.kazy@mail.hu</td><td>tihamer</td></tr>",
                            "<tr><td>Dusha Tímea</td><td>tímea.dusha@mail.hu</td><td>timea2</td></tr>",
                            "<tr><td>Turcsik Tünde</td><td>tunde@gmail.com</td><td>tunde</td></tr>",
                            "<tr><td>Feró Valentin</td><td>valentin.feró@mail.hu</td><td>valentin</td></tr>",
                            "<tr><td>Tankó Veronika</td><td>veronika4@gmail.com</td><td>veronika4</td></tr>",
                            "<tr><td>Boros Vivien</td><td>vivien3@gmail.com</td><td>vivien3</td></tr>",
                            "<tr><td>Fodor Zoltán</td><td>zoltán.fodor@mail.hu</td><td>zoltan</td></tr>",
                            "<tr><td>Pintér Zoltán</td><td>zoltán.pintér@mail.hu</td><td>ZOLTANP</td></tr>",
                            "<tr><td>Tóth Zoltán</td><td>zoltán.tóth@mail.hu</td><td>ZOLTANT</td></tr>",
                            "<tr><td>Molnár Zsófi</td><td>zsofi1@gmail.com</td><td>zsofi1</td></tr>",
                            "<tr><td>Józsa Zsolt</td><td>ZSOLTJ@gmail.com</td><td>ZSOLTJ</td></tr>",
                            "<tr><td>Pusztai Zsuzsanna</td><td>zsuzsanna@gmail.com</td><td>zsuzsa</td></tr>",
                            "<tr><td>Varsányi Zsuzsa</td><td>zsuzsa.varsányi@mail.hu</td><td>zsuzsa3</td></tr>",
                            "<tr><td>Barta Zsuzsanna</td><td>zsuzsanna.barta@mail.hu</td><td>zsuzsanna</td></tr>",
                            "<tr><td>Vajda Zsuzsa</td><td>zsuzsa.vajda@mail.hu</td><td>ZSUZSAV</td></tr>",
                            "</table>"
                        ]
                    }
                }
            ],
            "execution_count": 1
        },
        {
            "cell_type": "markdown",
            "source": [
                "Listázzuk azon vendégek adatait, akik a legtöbb férőhelyes szobát (vagy szobákat) már lefoglalták!\n",
                "\n",
                "- Csak klímás szoba jöhet számításba"
            ],
            "metadata": {
                "azdata_cell_guid": "730a3b18-6d86-4322-9d57-df98281cc50f"
            },
            "attachments": {}
        },
        {
            "cell_type": "code",
            "source": [
                "SELECT v.USERNEV as 'Felhasználónév', v.NEV as 'Név', v.EMAIL as 'Email', v.SZAML_CIM as 'Számlázási cím', v.SZUL_DAT as 'Születési dátum'\r\n",
                "FROM szoba sz JOIN foglalas f ON sz.SZOBA_ID = f.SZOBA_FK JOIN vendeg v ON v.usernev = f.ugyfel_fk\r\n",
                "WHERE sz.FEROHELY IN (SELECT max(FEROHELY) FROM szoba WHERE KLIMAS = 'i')\r\n",
                "GROUP BY v.USERNEV, v.NEV, v.EMAIL, v.SZAML_CIM, v.SZUL_DAT, sz.FEROHELY"
            ],
            "metadata": {
                "azdata_cell_guid": "f279699b-4f3d-430f-8690-feb2f62d9c34",
                "language": "sql"
            },
            "outputs": [
                {
                    "output_type": "display_data",
                    "data": {
                        "text/html": "(3 rows affected)"
                    },
                    "metadata": {}
                },
                {
                    "output_type": "display_data",
                    "data": {
                        "text/html": "Total execution time: 00:00:00.006"
                    },
                    "metadata": {}
                },
                {
                    "output_type": "execute_result",
                    "metadata": {},
                    "execution_count": 12,
                    "data": {
                        "application/vnd.dataresource+json": {
                            "schema": {
                                "fields": [
                                    {
                                        "name": "Felhasználónév"
                                    },
                                    {
                                        "name": "Név"
                                    },
                                    {
                                        "name": "Email"
                                    },
                                    {
                                        "name": "Számlázási cím"
                                    },
                                    {
                                        "name": "Születési dátum"
                                    },
                                    {
                                        "name": "FEROHELY"
                                    }
                                ]
                            },
                            "data": [
                                {
                                    "Felhasználónév": "JOZSEFG",
                                    "Név": "Gyuris József",
                                    "Email": "józsef.gyuris@mail.hu",
                                    "Számlázási cím": "2660 Balassagyarmat Petőfi utca 1/2.",
                                    "Születési dátum": "1975-05-26",
                                    "FEROHELY": "4"
                                },
                                {
                                    "Felhasználónév": "PETERB",
                                    "Név": "Berendi Péter",
                                    "Email": "péter.berendi@mail.hu",
                                    "Számlázási cím": "3980 Sátoraljaújhely Vasút utca 4/10.",
                                    "Születési dátum": "1969-01-01",
                                    "FEROHELY": "4"
                                },
                                {
                                    "Felhasználónév": "tunde",
                                    "Név": "Turcsik Tünde",
                                    "Email": "tunde@gmail.com",
                                    "Számlázási cím": "7130 Tolna Fő út 122.",
                                    "Születési dátum": "1974-02-12",
                                    "FEROHELY": "4"
                                }
                            ]
                        },
                        "text/html": [
                            "<table>",
                            "<tr><th>Felhasználónév</th><th>Név</th><th>Email</th><th>Számlázási cím</th><th>Születési dátum</th><th>FEROHELY</th></tr>",
                            "<tr><td>JOZSEFG</td><td>Gyuris József</td><td>józsef.gyuris@mail.hu</td><td>2660 Balassagyarmat Petőfi utca 1/2.</td><td>1975-05-26</td><td>4</td></tr>",
                            "<tr><td>PETERB</td><td>Berendi Péter</td><td>péter.berendi@mail.hu</td><td>3980 Sátoraljaújhely Vasút utca 4/10.</td><td>1969-01-01</td><td>4</td></tr>",
                            "<tr><td>tunde</td><td>Turcsik Tünde</td><td>tunde@gmail.com</td><td>7130 Tolna Fő út 122.</td><td>1974-02-12</td><td>4</td></tr>",
                            "</table>"
                        ]
                    }
                }
            ],
            "execution_count": 12
        },
        {
            "cell_type": "markdown",
            "source": [
                "Listázzuk a vendégek azonosítóját, nevét és születési dátumát!\n",
                "\n",
                "- Vegyünk fel két új oszlopot, amelyben a vendég legelső, illetve legutolsó foglalásának dátuma szerepel\n",
                "- A foglalás dátumánál a METTOL oszlopot használjuk"
            ],
            "metadata": {
                "azdata_cell_guid": "f68928ce-9a21-4000-8e5e-34d2c957d736"
            },
            "attachments": {}
        },
        {
            "cell_type": "code",
            "source": [
                "SELECT v.USERNEV AS 'Azonosító', v.NEV AS 'Név', v.SZUL_DAT AS 'Születési dátum',MIN(f.METTOL) AS 'Legelső', MAX(f.METTOL) AS 'Legutolsó'\r\n",
                "FROM Vendeg v\r\n",
                "LEFT JOIN Foglalas f ON v.USERNEV = f.UGYFEL_FK\r\n",
                "GROUP BY v.USERNEV, v.NEV, v.SZUL_DAT;"
            ],
            "metadata": {
                "azdata_cell_guid": "e126af6f-65c3-4ba9-a892-160e2c13a33b",
                "language": "sql",
                "tags": []
            },
            "outputs": [
                {
                    "output_type": "display_data",
                    "data": {
                        "text/html": "(196 rows affected)"
                    },
                    "metadata": {}
                },
                {
                    "output_type": "display_data",
                    "data": {
                        "text/html": "Total execution time: 00:00:00.030"
                    },
                    "metadata": {}
                },
                {
                    "output_type": "execute_result",
                    "metadata": {},
                    "execution_count": 13,
                    "data": {
                        "application/vnd.dataresource+json": {
                            "schema": {
                                "fields": [
                                    {
                                        "name": "Azonosító"
                                    },
                                    {
                                        "name": "Név"
                                    },
                                    {
                                        "name": "Születési dátum"
                                    },
                                    {
                                        "name": "Legelső foglalás dátuma"
                                    },
                                    {
                                        "name": "Legutolsó foglalás dátuma"
                                    }
                                ]
                            },
                            "data": [
                                {
                                    "Azonosító": "adam1",
                                    "Név": "Kiss Ádám",
                                    "Születési dátum": "1991-12-28",
                                    "Legelső foglalás dátuma": "2016-05-28",
                                    "Legutolsó foglalás dátuma": "2016-10-19"
                                },
                                {
                                    "Azonosító": "adam3",
                                    "Név": "Barkóci Ádám",
                                    "Születési dátum": "1970-06-07",
                                    "Legelső foglalás dátuma": "2016-09-12",
                                    "Legutolsó foglalás dátuma": "2017-02-06"
                                },
                                {
                                    "Azonosító": "adam4",
                                    "Név": "Bieniek Ádám",
                                    "Születési dátum": "1976-08-01",
                                    "Legelső foglalás dátuma": "2016-08-28",
                                    "Legutolsó foglalás dátuma": "2017-02-23"
                                },
                                {
                                    "Azonosító": "agnes",
                                    "Név": "Lengyel Ágnes",
                                    "Születési dátum": "1979-12-10",
                                    "Legelső foglalás dátuma": "2016-05-09",
                                    "Legutolsó foglalás dátuma": "2016-11-07"
                                },
                                {
                                    "Azonosító": "agnes3",
                                    "Név": "Hartyánszky Ágnes",
                                    "Születési dátum": "1967-04-11",
                                    "Legelső foglalás dátuma": "2016-08-04",
                                    "Legutolsó foglalás dátuma": "2017-02-16"
                                },
                                {
                                    "Azonosító": "AGNESH",
                                    "Név": "Horváth Ágnes",
                                    "Születési dátum": "1981-12-24",
                                    "Legelső foglalás dátuma": "2016-04-10",
                                    "Legutolsó foglalás dátuma": "2017-01-16"
                                },
                                {
                                    "Azonosító": "AGNESK",
                                    "Név": "Kovács Ágnes",
                                    "Születési dátum": "1988-10-02",
                                    "Legelső foglalás dátuma": "2016-07-29",
                                    "Legutolsó foglalás dátuma": "2016-12-17"
                                },
                                {
                                    "Azonosító": "akos",
                                    "Név": "Bíró Ákos",
                                    "Születési dátum": "1982-04-24",
                                    "Legelső foglalás dátuma": "2016-05-18",
                                    "Legutolsó foglalás dátuma": "2016-12-29"
                                },
                                {
                                    "Azonosító": "aladar",
                                    "Név": "Dunai Aladár",
                                    "Születési dátum": "1980-11-01",
                                    "Legelső foglalás dátuma": "2016-05-17",
                                    "Legutolsó foglalás dátuma": "2016-11-22"
                                },
                                {
                                    "Azonosító": "alexandra",
                                    "Név": "Bagóczki Alexandra",
                                    "Születési dátum": "1992-03-25",
                                    "Legelső foglalás dátuma": "2016-05-21",
                                    "Legutolsó foglalás dátuma": "2017-01-19"
                                },
                                {
                                    "Azonosító": "andi",
                                    "Név": "Maródi Andrea",
                                    "Születési dátum": "1968-05-07",
                                    "Legelső foglalás dátuma": "2016-05-08",
                                    "Legutolsó foglalás dátuma": "2017-01-13"
                                },
                                {
                                    "Azonosító": "andras2",
                                    "Név": "Tóth András",
                                    "Születési dátum": "1997-10-31",
                                    "Legelső foglalás dátuma": "2016-05-30",
                                    "Legutolsó foglalás dátuma": "2017-02-08"
                                },
                                {
                                    "Azonosító": "andras21",
                                    "Név": "Molnár András",
                                    "Születési dátum": "1977-11-16",
                                    "Legelső foglalás dátuma": "2016-06-21",
                                    "Legutolsó foglalás dátuma": "2017-01-28"
                                },
                                {
                                    "Azonosító": "andras3",
                                    "Név": "Vígh András",
                                    "Születési dátum": "1971-04-02",
                                    "Legelső foglalás dátuma": "2016-05-01",
                                    "Legutolsó foglalás dátuma": "2017-02-02"
                                },
                                {
                                    "Azonosító": "andras4",
                                    "Név": "Back András",
                                    "Születési dátum": "1984-04-07",
                                    "Legelső foglalás dátuma": "2016-09-17",
                                    "Legutolsó foglalás dátuma": "2017-01-09"
                                },
                                {
                                    "Azonosító": "andras41",
                                    "Név": "Komjáti András",
                                    "Születési dátum": "1997-10-25",
                                    "Legelső foglalás dátuma": "2016-05-14",
                                    "Legutolsó foglalás dátuma": "2016-11-23"
                                },
                                {
                                    "Azonosító": "ANDRASE",
                                    "Név": "Erdei András",
                                    "Születési dátum": "1997-05-29",
                                    "Legelső foglalás dátuma": "2016-04-24",
                                    "Legutolsó foglalás dátuma": "2016-11-29"
                                },
                                {
                                    "Azonosító": "ANDRASN",
                                    "Név": "Nagy András",
                                    "Születési dátum": "1980-09-05",
                                    "Legelső foglalás dátuma": "2016-11-25",
                                    "Legutolsó foglalás dátuma": "2016-11-25"
                                },
                                {
                                    "Azonosító": "andrea",
                                    "Név": "Kiss Andrea",
                                    "Születési dátum": "1993-03-25",
                                    "Legelső foglalás dátuma": "2016-07-27",
                                    "Legutolsó foglalás dátuma": "2017-02-09"
                                },
                                {
                                    "Azonosító": "andrea3",
                                    "Név": "Szomor Andrea",
                                    "Születési dátum": "1996-05-10",
                                    "Legelső foglalás dátuma": "2016-11-19",
                                    "Legutolsó foglalás dátuma": "2016-11-19"
                                },
                                {
                                    "Azonosító": "andrea4",
                                    "Név": "Neizer Andrea",
                                    "Születési dátum": "1981-05-17",
                                    "Legelső foglalás dátuma": "2016-05-27",
                                    "Legutolsó foglalás dátuma": "2017-01-22"
                                },
                                {
                                    "Azonosító": "ANDREAT",
                                    "Név": "Tornyos Andrea",
                                    "Születési dátum": "1986-11-14",
                                    "Legelső foglalás dátuma": "2016-07-27",
                                    "Legutolsó foglalás dátuma": "2016-10-08"
                                },
                                {
                                    "Azonosító": "anett3",
                                    "Név": "Pivarcsi Anett",
                                    "Születési dátum": "1967-01-03",
                                    "Legelső foglalás dátuma": "2016-04-10",
                                    "Legutolsó foglalás dátuma": "2016-10-16"
                                },
                                {
                                    "Azonosító": "aniko",
                                    "Név": "Tóth Anikó",
                                    "Születési dátum": "1973-06-03",
                                    "Legelső foglalás dátuma": "2016-06-25",
                                    "Legutolsó foglalás dátuma": "2017-02-23"
                                },
                                {
                                    "Azonosító": "aniko4",
                                    "Név": "Böröcz Anikó",
                                    "Születési dátum": "1978-03-26",
                                    "Legelső foglalás dátuma": "2016-07-02",
                                    "Legutolsó foglalás dátuma": "2016-10-16"
                                },
                                {
                                    "Azonosító": "ANIKOS",
                                    "Név": "Simon Anikó",
                                    "Születési dátum": "1988-12-14",
                                    "Legelső foglalás dátuma": "2016-04-19",
                                    "Legutolsó foglalás dátuma": "2016-11-10"
                                },
                                {
                                    "Azonosító": "anita",
                                    "Név": "Hamvay-Kovács Anita",
                                    "Születési dátum": "1971-03-20",
                                    "Legelső foglalás dátuma": "2016-09-28",
                                    "Legutolsó foglalás dátuma": "2017-02-20"
                                },
                                {
                                    "Azonosító": "annamaria1",
                                    "Név": "Szűcs Annamária",
                                    "Születési dátum": "1990-04-27",
                                    "Legelső foglalás dátuma": "2016-06-06",
                                    "Legutolsó foglalás dátuma": "2017-01-30"
                                },
                                {
                                    "Azonosító": "ANNAMARIAR",
                                    "Név": "Regős Annamária",
                                    "Születési dátum": "1977-09-26",
                                    "Legelső foglalás dátuma": "2016-06-08",
                                    "Legutolsó foglalás dátuma": "2017-02-16"
                                },
                                {
                                    "Azonosító": "aron2",
                                    "Név": "Jakab Áron",
                                    "Születési dátum": "1971-04-26",
                                    "Legelső foglalás dátuma": "2016-04-11",
                                    "Legutolsó foglalás dátuma": "2017-02-26"
                                },
                                {
                                    "Azonosító": "ARONK",
                                    "Név": "Kelemen Áron",
                                    "Születési dátum": "1989-08-10",
                                    "Legelső foglalás dátuma": "2016-04-06",
                                    "Legutolsó foglalás dátuma": "2017-02-21"
                                },
                                {
                                    "Azonosító": "arpad2",
                                    "Név": "Ötvös Árpád",
                                    "Születési dátum": "1990-06-08",
                                    "Legelső foglalás dátuma": "2016-06-05",
                                    "Legutolsó foglalás dátuma": "2017-02-18"
                                },
                                {
                                    "Azonosító": "ARPADH",
                                    "Név": "Horváth Árpád",
                                    "Születési dátum": "1990-05-18",
                                    "Legelső foglalás dátuma": "2016-06-06",
                                    "Legutolsó foglalás dátuma": "2017-02-16"
                                },
                                {
                                    "Azonosító": "ARPADM",
                                    "Név": "Móricz Árpád",
                                    "Születési dátum": "1986-04-20",
                                    "Legelső foglalás dátuma": "2016-05-29",
                                    "Legutolsó foglalás dátuma": "2017-02-12"
                                },
                                {
                                    "Azonosító": "attila",
                                    "Név": "Csóti Attila",
                                    "Születési dátum": "1979-12-25",
                                    "Legelső foglalás dátuma": "2016-09-30",
                                    "Legutolsó foglalás dátuma": "2016-12-22"
                                },
                                {
                                    "Azonosító": "attila1",
                                    "Név": "Gulyás Attila",
                                    "Születési dátum": "1982-08-16",
                                    "Legelső foglalás dátuma": "2016-05-20",
                                    "Legutolsó foglalás dátuma": "2017-01-23"
                                },
                                {
                                    "Azonosító": "attila4",
                                    "Név": "Baróti Attila",
                                    "Születési dátum": "1975-11-06",
                                    "Legelső foglalás dátuma": "2016-08-18",
                                    "Legutolsó foglalás dátuma": "2017-02-15"
                                },
                                {
                                    "Azonosító": "ATTILAO",
                                    "Név": "Opra Attila",
                                    "Születési dátum": "1995-05-08",
                                    "Legelső foglalás dátuma": "2016-05-21",
                                    "Legutolsó foglalás dátuma": "2017-02-22"
                                },
                                {
                                    "Azonosító": "balazs1",
                                    "Név": "Bozsik Balázs",
                                    "Születési dátum": "1992-11-03",
                                    "Legelső foglalás dátuma": "2016-05-07",
                                    "Legutolsó foglalás dátuma": "2017-02-12"
                                },
                                {
                                    "Azonosító": "balazs2",
                                    "Név": "Szűcs Balázs",
                                    "Születési dátum": "1984-10-31",
                                    "Legelső foglalás dátuma": "2016-04-16",
                                    "Legutolsó foglalás dátuma": "2017-02-27"
                                },
                                {
                                    "Azonosító": "balazs3",
                                    "Név": "Bakódy Balázs",
                                    "Születési dátum": "1986-09-09",
                                    "Legelső foglalás dátuma": "2016-07-17",
                                    "Legutolsó foglalás dátuma": "2017-01-20"
                                },
                                {
                                    "Azonosító": "balint",
                                    "Név": "Horváth Bálint",
                                    "Születési dátum": "1996-03-17",
                                    "Legelső foglalás dátuma": "2016-04-22",
                                    "Legutolsó foglalás dátuma": "2016-11-24"
                                },
                                {
                                    "Azonosító": "balint1",
                                    "Név": "Molnár Bálint",
                                    "Születési dátum": "1989-08-24",
                                    "Legelső foglalás dátuma": "2016-06-07",
                                    "Legutolsó foglalás dátuma": "2017-01-03"
                                },
                                {
                                    "Azonosító": "balint2",
                                    "Név": "Vukasinovity Bálint",
                                    "Születési dátum": "1997-09-03",
                                    "Legelső foglalás dátuma": "2016-07-21",
                                    "Legutolsó foglalás dátuma": "2016-12-04"
                                },
                                {
                                    "Azonosító": "balu",
                                    "Név": "Endresz Bálint",
                                    "Születési dátum": "1976-08-01",
                                    "Legelső foglalás dátuma": "2016-08-06",
                                    "Legutolsó foglalás dátuma": "2016-12-22"
                                },
                                {
                                    "Azonosító": "beata4",
                                    "Név": "Bagi Beáta",
                                    "Születési dátum": "1994-03-19",
                                    "Legelső foglalás dátuma": "2016-04-20",
                                    "Legutolsó foglalás dátuma": "2016-10-03"
                                },
                                {
                                    "Azonosító": "BEATRIXK",
                                    "Név": "Kerényi Beatrix",
                                    "Születési dátum": "1972-04-06",
                                    "Legelső foglalás dátuma": "2016-06-10",
                                    "Legutolsó foglalás dátuma": "2017-02-08"
                                },
                                {
                                    "Azonosító": "BEATRIXS",
                                    "Név": "Szekendi Beatrix",
                                    "Születési dátum": "1981-04-06",
                                    "Legelső foglalás dátuma": "2016-04-18",
                                    "Legutolsó foglalás dátuma": "2017-02-03"
                                },
                                {
                                    "Azonosító": "BELAF",
                                    "Név": "Farkas Béla",
                                    "Születési dátum": "1995-02-24",
                                    "Legelső foglalás dátuma": "2016-07-27",
                                    "Legutolsó foglalás dátuma": "2016-12-06"
                                },
                                {
                                    "Azonosító": "bence",
                                    "Név": "Győrffy Bence",
                                    "Születési dátum": "1987-07-09",
                                    "Legelső foglalás dátuma": "2016-05-08",
                                    "Legutolsó foglalás dátuma": "2017-02-05"
                                },
                                {
                                    "Azonosító": "BENCEB",
                                    "Név": "Bajusz Bence",
                                    "Születési dátum": "1973-06-21",
                                    "Legelső foglalás dátuma": "2016-05-14",
                                    "Legutolsó foglalás dátuma": "2017-02-12"
                                },
                                {
                                    "Azonosító": "bernadett1",
                                    "Név": "Simon Bernadett",
                                    "Születési dátum": "1984-10-13",
                                    "Legelső foglalás dátuma": "2016-06-12",
                                    "Legutolsó foglalás dátuma": "2017-02-24"
                                },
                                {
                                    "Azonosító": "bernadett2",
                                    "Név": "Kovács Bernadett",
                                    "Születési dátum": "1996-08-20",
                                    "Legelső foglalás dátuma": "2016-05-01",
                                    "Legutolsó foglalás dátuma": "2017-01-24"
                                },
                                {
                                    "Azonosító": "BERNADETTO",
                                    "Név": "Orbán Bernadett",
                                    "Születési dátum": "1987-12-07",
                                    "Legelső foglalás dátuma": "2016-04-10",
                                    "Legutolsó foglalás dátuma": "2017-01-28"
                                },
                                {
                                    "Azonosító": "bertalan",
                                    "Név": "Csiger Bertalan",
                                    "Születési dátum": "1977-10-15",
                                    "Legelső foglalás dátuma": "2016-05-18",
                                    "Legutolsó foglalás dátuma": "2017-02-20"
                                },
                                {
                                    "Azonosító": "brigitta",
                                    "Név": "Székely Brigitta",
                                    "Születési dátum": "1978-09-13",
                                    "Legelső foglalás dátuma": "2016-05-30",
                                    "Legutolsó foglalás dátuma": "2017-01-23"
                                },
                                {
                                    "Azonosító": "brigitta3",
                                    "Név": "Pataki Brigitta",
                                    "Születési dátum": "1991-05-23",
                                    "Legelső foglalás dátuma": "2016-06-01",
                                    "Legutolsó foglalás dátuma": "2017-02-09"
                                },
                                {
                                    "Azonosító": "csongor3",
                                    "Név": "Nagymihály Csongor",
                                    "Születési dátum": "1984-03-05",
                                    "Legelső foglalás dátuma": "2016-05-01",
                                    "Legutolsó foglalás dátuma": "2017-02-13"
                                },
                                {
                                    "Azonosító": "dani",
                                    "Név": "Vörös Dániel",
                                    "Születési dátum": "1986-10-14",
                                    "Legelső foglalás dátuma": "2016-06-06",
                                    "Legutolsó foglalás dátuma": "2017-02-25"
                                },
                                {
                                    "Azonosító": "daniel",
                                    "Név": "Rácz Dániel",
                                    "Születési dátum": "1978-11-28",
                                    "Legelső foglalás dátuma": "2016-04-10",
                                    "Legutolsó foglalás dátuma": "2017-02-20"
                                },
                                {
                                    "Azonosító": "daniel1",
                                    "Név": "Keszler Dániel",
                                    "Születési dátum": "1969-07-16",
                                    "Legelső foglalás dátuma": "2016-04-10",
                                    "Legutolsó foglalás dátuma": "2017-03-01"
                                },
                                {
                                    "Azonosító": "david",
                                    "Név": "Ambrus Dávid",
                                    "Születési dátum": "1974-02-11",
                                    "Legelső foglalás dátuma": "2016-05-18",
                                    "Legutolsó foglalás dátuma": "2017-01-18"
                                },
                                {
                                    "Azonosító": "david1",
                                    "Név": "Sobják Dávid",
                                    "Születési dátum": "1970-08-16",
                                    "Legelső foglalás dátuma": "2016-09-20",
                                    "Legutolsó foglalás dátuma": "2017-02-25"
                                },
                                {
                                    "Azonosító": "david4",
                                    "Név": "Berta Dávid",
                                    "Születési dátum": "1990-10-08",
                                    "Legelső foglalás dátuma": "2017-02-16",
                                    "Legutolsó foglalás dátuma": "2017-02-16"
                                },
                                {
                                    "Azonosító": "debora",
                                    "Név": "Barna Debóra",
                                    "Születési dátum": "1976-10-14",
                                    "Legelső foglalás dátuma": "2016-06-22",
                                    "Legutolsó foglalás dátuma": "2017-02-04"
                                },
                                {
                                    "Azonosító": "denes",
                                    "Név": "Tömböly Dénes",
                                    "Születési dátum": "1975-03-14",
                                    "Legelső foglalás dátuma": "2016-05-27",
                                    "Legutolsó foglalás dátuma": "2016-11-06"
                                },
                                {
                                    "Azonosító": "dora3",
                                    "Név": "Sarodi Dóra",
                                    "Születési dátum": "1995-05-18",
                                    "Legelső foglalás dátuma": "2016-08-16",
                                    "Legutolsó foglalás dátuma": "2016-11-22"
                                },
                                {
                                    "Azonosító": "edit",
                                    "Név": "Bittmann Edit",
                                    "Születési dátum": "1984-04-20",
                                    "Legelső foglalás dátuma": "2016-07-14",
                                    "Legutolsó foglalás dátuma": "2017-02-08"
                                },
                                {
                                    "Azonosító": "emese",
                                    "Név": "Kuruc Emese",
                                    "Születési dátum": "1989-08-10",
                                    "Legelső foglalás dátuma": "2016-07-22",
                                    "Legutolsó foglalás dátuma": "2017-01-30"
                                },
                                {
                                    "Azonosító": "eszter",
                                    "Név": "Molnár Eszter",
                                    "Születési dátum": "1987-05-10",
                                    "Legelső foglalás dátuma": "2016-08-12",
                                    "Legutolsó foglalás dátuma": "2016-12-23"
                                },
                                {
                                    "Azonosító": "eszter2",
                                    "Név": "Balogh Eszter",
                                    "Születési dátum": "1998-01-31",
                                    "Legelső foglalás dátuma": "2016-06-30",
                                    "Legutolsó foglalás dátuma": "2016-12-29"
                                },
                                {
                                    "Azonosító": "eszter4",
                                    "Név": "Fülöp Eszter",
                                    "Születési dátum": "1993-06-28",
                                    "Legelső foglalás dátuma": "2017-01-05",
                                    "Legutolsó foglalás dátuma": "2017-02-26"
                                },
                                {
                                    "Azonosító": "ESZTERE",
                                    "Név": "Érsek Eszter",
                                    "Születési dátum": "1978-08-28",
                                    "Legelső foglalás dátuma": "2016-05-30",
                                    "Legutolsó foglalás dátuma": "2017-02-10"
                                },
                                {
                                    "Azonosító": "eva",
                                    "Név": "Enyedi Éva",
                                    "Születési dátum": "1967-06-30",
                                    "Legelső foglalás dátuma": "2016-10-06",
                                    "Legutolsó foglalás dátuma": "2017-01-14"
                                },
                                {
                                    "Azonosító": "eva2",
                                    "Név": "Perlinger Éva",
                                    "Születési dátum": "1971-08-19",
                                    "Legelső foglalás dátuma": "2016-09-02",
                                    "Legutolsó foglalás dátuma": "2017-01-06"
                                },
                                {
                                    "Azonosító": "EVAV",
                                    "Név": "Viktor Éva",
                                    "Születési dátum": "1980-12-26",
                                    "Legelső foglalás dátuma": "2016-05-01",
                                    "Legutolsó foglalás dátuma": "2017-02-04"
                                },
                                {
                                    "Azonosító": "ferenc1",
                                    "Név": "Orosz Ferenc",
                                    "Születési dátum": "1983-10-08",
                                    "Legelső foglalás dátuma": "2016-05-08",
                                    "Legutolsó foglalás dátuma": "2016-11-07"
                                },
                                {
                                    "Azonosító": "fruzsina4",
                                    "Név": "Frank Fruzsina",
                                    "Születési dátum": "1996-08-16",
                                    "Legelső foglalás dátuma": "2016-06-02",
                                    "Legutolsó foglalás dátuma": "2017-01-22"
                                },
                                {
                                    "Azonosító": "gabor1",
                                    "Név": "Köves Gábor",
                                    "Születési dátum": "1973-07-15",
                                    "Legelső foglalás dátuma": "2016-06-20",
                                    "Legutolsó foglalás dátuma": "2016-11-19"
                                },
                                {
                                    "Azonosító": "gabor4",
                                    "Név": "Telek Gábor",
                                    "Születési dátum": "1987-03-15",
                                    "Legelső foglalás dátuma": "2016-04-26",
                                    "Legutolsó foglalás dátuma": "2016-11-07"
                                },
                                {
                                    "Azonosító": "GABORS",
                                    "Név": "Szöllősi Gábor",
                                    "Születési dátum": "1990-05-31",
                                    "Legelső foglalás dátuma": "NULL",
                                    "Legutolsó foglalás dátuma": "NULL"
                                },
                                {
                                    "Azonosító": "gabriella1",
                                    "Név": "Nagy Gabriella",
                                    "Születési dátum": "1982-11-01",
                                    "Legelső foglalás dátuma": "2016-04-21",
                                    "Legutolsó foglalás dátuma": "2017-02-21"
                                },
                                {
                                    "Azonosító": "gabriella10",
                                    "Név": "Vida Gabriella",
                                    "Születési dátum": "1969-06-18",
                                    "Legelső foglalás dátuma": "2016-10-01",
                                    "Legutolsó foglalás dátuma": "2016-10-01"
                                },
                                {
                                    "Azonosító": "georgij",
                                    "Név": "Nyíri Georgij",
                                    "Születési dátum": "1983-02-23",
                                    "Legelső foglalás dátuma": "2016-06-16",
                                    "Legutolsó foglalás dátuma": "2016-09-18"
                                },
                                {
                                    "Azonosító": "gusztav",
                                    "Név": "Bárci Gusztáv",
                                    "Születési dátum": "1967-02-25",
                                    "Legelső foglalás dátuma": "2016-05-06",
                                    "Legutolsó foglalás dátuma": "2017-02-23"
                                },
                                {
                                    "Azonosító": "GYONGYIK",
                                    "Név": "Kornseé Gyöngyi",
                                    "Születési dátum": "1974-06-07",
                                    "Legelső foglalás dátuma": "2016-06-02",
                                    "Legutolsó foglalás dátuma": "2017-01-22"
                                },
                                {
                                    "Azonosító": "GYORGYO",
                                    "Név": "Oroszi György",
                                    "Születési dátum": "1980-03-23",
                                    "Legelső foglalás dátuma": "2016-05-27",
                                    "Legutolsó foglalás dátuma": "2017-02-24"
                                },
                                {
                                    "Azonosító": "henrik3",
                                    "Név": "Nádudvari Henrik",
                                    "Születési dátum": "1986-12-05",
                                    "Legelső foglalás dátuma": "2016-08-24",
                                    "Legutolsó foglalás dátuma": "2017-01-27"
                                },
                                {
                                    "Azonosító": "IBOLYAA",
                                    "Név": "Andor Ibolya",
                                    "Születési dátum": "1983-11-27",
                                    "Legelső foglalás dátuma": "2016-08-29",
                                    "Legutolsó foglalás dátuma": "2017-01-17"
                                },
                                {
                                    "Azonosító": "ilona3",
                                    "Név": "Bosnyák Ilona",
                                    "Születési dátum": "1990-08-06",
                                    "Legelső foglalás dátuma": "2016-07-31",
                                    "Legutolsó foglalás dátuma": "2016-12-25"
                                },
                                {
                                    "Azonosító": "imre",
                                    "Név": "Búza Imre",
                                    "Születési dátum": "1988-09-30",
                                    "Legelső foglalás dátuma": "2016-09-17",
                                    "Legutolsó foglalás dátuma": "2016-10-28"
                                },
                                {
                                    "Azonosító": "imre1",
                                    "Név": "Papp Imre",
                                    "Születési dátum": "1976-06-25",
                                    "Legelső foglalás dátuma": "2016-06-23",
                                    "Legutolsó foglalás dátuma": "2017-02-05"
                                },
                                {
                                    "Azonosító": "istvan",
                                    "Név": "Soós István",
                                    "Születési dátum": "1986-06-28",
                                    "Legelső foglalás dátuma": "2016-10-07",
                                    "Legutolsó foglalás dátuma": "2017-01-02"
                                },
                                {
                                    "Azonosító": "istvan1",
                                    "Név": "Vizi István",
                                    "Születési dátum": "1997-12-01",
                                    "Legelső foglalás dátuma": "2016-04-16",
                                    "Legutolsó foglalás dátuma": "2017-02-07"
                                },
                                {
                                    "Azonosító": "ISTVANV",
                                    "Név": "Varga István",
                                    "Születési dátum": "1989-04-09",
                                    "Legelső foglalás dátuma": "2016-07-01",
                                    "Legutolsó foglalás dátuma": "2016-09-29"
                                },
                                {
                                    "Azonosító": "janos3",
                                    "Név": "Harangozó János",
                                    "Születési dátum": "1967-11-02",
                                    "Legelső foglalás dátuma": "2016-06-04",
                                    "Legutolsó foglalás dátuma": "2017-02-12"
                                },
                                {
                                    "Azonosító": "JANOSG",
                                    "Név": "Giliga János",
                                    "Születési dátum": "1975-01-03",
                                    "Legelső foglalás dátuma": "2016-05-09",
                                    "Legutolsó foglalás dátuma": "2017-01-31"
                                },
                                {
                                    "Azonosító": "JANOSP",
                                    "Név": "Pálinkás János",
                                    "Születési dátum": "1984-10-12",
                                    "Legelső foglalás dátuma": "2016-07-04",
                                    "Legutolsó foglalás dátuma": "2016-12-18"
                                },
                                {
                                    "Azonosító": "jozsef",
                                    "Név": "Gergely József",
                                    "Születési dátum": "1985-11-01",
                                    "Legelső foglalás dátuma": "2016-09-13",
                                    "Legutolsó foglalás dátuma": "2016-12-06"
                                },
                                {
                                    "Azonosító": "jozsef2",
                                    "Név": "Vajda József",
                                    "Születési dátum": "1978-09-04",
                                    "Legelső foglalás dátuma": "2016-07-06",
                                    "Legutolsó foglalás dátuma": "2016-11-25"
                                },
                                {
                                    "Azonosító": "JOZSEFG",
                                    "Név": "Gyuris József",
                                    "Születési dátum": "1975-05-26",
                                    "Legelső foglalás dátuma": "2016-05-02",
                                    "Legutolsó foglalás dátuma": "2017-02-24"
                                },
                                {
                                    "Azonosító": "JUDITH",
                                    "Név": "Hídasi Judit",
                                    "Születési dátum": "1997-07-12",
                                    "Legelső foglalás dátuma": "2016-06-06",
                                    "Legutolsó foglalás dátuma": "2016-12-19"
                                },
                                {
                                    "Azonosító": "julia",
                                    "Név": "Tóth Júlia",
                                    "Születési dátum": "1993-03-02",
                                    "Legelső foglalás dátuma": "2016-04-21",
                                    "Legutolsó foglalás dátuma": "2017-02-27"
                                },
                                {
                                    "Azonosító": "julia4",
                                    "Név": "Nagy Júlia",
                                    "Születési dátum": "1985-08-11",
                                    "Legelső foglalás dátuma": "2016-11-07",
                                    "Legutolsó foglalás dátuma": "2017-02-04"
                                },
                                {
                                    "Azonosító": "julianna4",
                                    "Név": "Szabó Julianna",
                                    "Születési dátum": "1990-09-29",
                                    "Legelső foglalás dátuma": "2016-07-20",
                                    "Legutolsó foglalás dátuma": "2016-11-27"
                                },
                                {
                                    "Azonosító": "kata",
                                    "Név": "Gondos Katalin",
                                    "Születési dátum": "1968-06-22",
                                    "Legelső foglalás dátuma": "2016-04-10",
                                    "Legutolsó foglalás dátuma": "2017-01-15"
                                },
                                {
                                    "Azonosító": "katalin",
                                    "Név": "Horváth Katalin",
                                    "Születési dátum": "1968-01-01",
                                    "Legelső foglalás dátuma": "2016-04-10",
                                    "Legutolsó foglalás dátuma": "2017-02-24"
                                },
                                {
                                    "Azonosító": "katalin4",
                                    "Név": "Kertész Katalin",
                                    "Születési dátum": "1986-04-13",
                                    "Legelső foglalás dátuma": "2016-07-01",
                                    "Legutolsó foglalás dátuma": "2017-01-24"
                                },
                                {
                                    "Azonosító": "kati",
                                    "Név": "Zatykó Katalin",
                                    "Születési dátum": "1995-05-01",
                                    "Legelső foglalás dátuma": "2016-06-06",
                                    "Legutolsó foglalás dátuma": "2016-10-30"
                                },
                                {
                                    "Azonosító": "katka",
                                    "Név": "Kovács Katalin",
                                    "Születési dátum": "1975-03-31",
                                    "Legelső foglalás dátuma": "2016-04-10",
                                    "Legutolsó foglalás dátuma": "2017-01-19"
                                },
                                {
                                    "Azonosító": "klaudia2",
                                    "Név": "Bakó Klaudia",
                                    "Születési dátum": "1982-04-16",
                                    "Legelső foglalás dátuma": "2016-06-06",
                                    "Legutolsó foglalás dátuma": "2016-10-02"
                                },
                                {
                                    "Azonosító": "kornel4",
                                    "Név": "Lukács Kornél",
                                    "Születési dátum": "1975-09-30",
                                    "Legelső foglalás dátuma": "2016-05-08",
                                    "Legutolsó foglalás dátuma": "2016-09-23"
                                },
                                {
                                    "Azonosító": "kristof4",
                                    "Név": "Poprádi Kristóf",
                                    "Születési dátum": "1984-01-15",
                                    "Legelső foglalás dátuma": "2016-04-08",
                                    "Legutolsó foglalás dátuma": "2016-09-30"
                                },
                                {
                                    "Azonosító": "kriszti",
                                    "Név": "Horváth Krisztina",
                                    "Születési dátum": "1978-06-12",
                                    "Legelső foglalás dátuma": "2016-05-19",
                                    "Legutolsó foglalás dátuma": "2017-03-03"
                                },
                                {
                                    "Azonosító": "krisztian4",
                                    "Név": "Czérna Krisztián",
                                    "Születési dátum": "1970-08-01",
                                    "Legelső foglalás dátuma": "2016-06-03",
                                    "Legutolsó foglalás dátuma": "2017-02-23"
                                },
                                {
                                    "Azonosító": "KRISZTIANM",
                                    "Név": "Mogyródi Krisztián",
                                    "Születési dátum": "1968-05-27",
                                    "Legelső foglalás dátuma": "2016-04-09",
                                    "Legutolsó foglalás dátuma": "2017-01-16"
                                },
                                {
                                    "Azonosító": "krisztina",
                                    "Név": "Szedlár Krisztina",
                                    "Születési dátum": "1979-05-10",
                                    "Legelső foglalás dátuma": "2016-05-21",
                                    "Legutolsó foglalás dátuma": "2017-02-16"
                                },
                                {
                                    "Azonosító": "krisztina1",
                                    "Név": "Bori Krisztina",
                                    "Születési dátum": "1969-10-13",
                                    "Legelső foglalás dátuma": "2016-04-28",
                                    "Legutolsó foglalás dátuma": "2017-01-21"
                                },
                                {
                                    "Azonosító": "KRISZTINAG",
                                    "Név": "Gyárfás Krisztina",
                                    "Születési dátum": "1987-09-19",
                                    "Legelső foglalás dátuma": "2016-04-23",
                                    "Legutolsó foglalás dátuma": "2017-01-25"
                                },
                                {
                                    "Azonosító": "lajos",
                                    "Név": "Kiss Lajos",
                                    "Születési dátum": "1978-10-31",
                                    "Legelső foglalás dátuma": "2016-07-18",
                                    "Legutolsó foglalás dátuma": "2017-02-12"
                                },
                                {
                                    "Azonosító": "lala",
                                    "Név": "Nagymihály Lajos",
                                    "Születési dátum": "1997-02-24",
                                    "Legelső foglalás dátuma": "2016-06-16",
                                    "Legutolsó foglalás dátuma": "2017-01-17"
                                },
                                {
                                    "Azonosító": "laszlo1",
                                    "Név": "Farkas László",
                                    "Születési dátum": "1967-10-30",
                                    "Legelső foglalás dátuma": "2016-09-23",
                                    "Legutolsó foglalás dátuma": "2016-09-23"
                                },
                                {
                                    "Azonosító": "laszlo2",
                                    "Név": "Móra László",
                                    "Születési dátum": "1975-02-19",
                                    "Legelső foglalás dátuma": "2016-04-06",
                                    "Legutolsó foglalás dátuma": "2016-11-25"
                                },
                                {
                                    "Azonosító": "LASZLOA",
                                    "Név": "Antal László",
                                    "Születési dátum": "1969-06-29",
                                    "Legelső foglalás dátuma": "2016-06-03",
                                    "Legutolsó foglalás dátuma": "2017-02-08"
                                },
                                {
                                    "Azonosító": "LASZLON",
                                    "Név": "Nagy László",
                                    "Születési dátum": "1969-04-12",
                                    "Legelső foglalás dátuma": "2016-06-03",
                                    "Legutolsó foglalás dátuma": "2017-02-18"
                                },
                                {
                                    "Azonosító": "maria1",
                                    "Név": "Baráth Mária",
                                    "Születési dátum": "1995-11-19",
                                    "Legelső foglalás dátuma": "2016-05-13",
                                    "Legutolsó foglalás dátuma": "2017-02-24"
                                },
                                {
                                    "Azonosító": "mark",
                                    "Név": "Kispál Márk",
                                    "Születési dátum": "1996-01-23",
                                    "Legelső foglalás dátuma": "2016-04-19",
                                    "Legutolsó foglalás dátuma": "2016-11-19"
                                },
                                {
                                    "Azonosító": "MARKH",
                                    "Név": "Horváth Márk",
                                    "Születési dátum": "1997-09-23",
                                    "Legelső foglalás dátuma": "2016-09-14",
                                    "Legutolsó foglalás dátuma": "2017-01-22"
                                },
                                {
                                    "Azonosító": "marton",
                                    "Név": "Kalacsi Márton",
                                    "Születési dátum": "1989-06-24",
                                    "Legelső foglalás dátuma": "2016-04-27",
                                    "Legutolsó foglalás dátuma": "2017-03-02"
                                },
                                {
                                    "Azonosító": "MATEK",
                                    "Név": "Koza Máté",
                                    "Születési dátum": "1997-02-28",
                                    "Legelső foglalás dátuma": "2016-08-17",
                                    "Legutolsó foglalás dátuma": "2017-01-16"
                                },
                                {
                                    "Azonosító": "matyas2",
                                    "Név": "Botka Mátyás",
                                    "Születési dátum": "1972-07-07",
                                    "Legelső foglalás dátuma": "2016-07-13",
                                    "Legutolsó foglalás dátuma": "2016-12-09"
                                },
                                {
                                    "Azonosító": "MATYASS",
                                    "Név": "Szilágyi Mátyás",
                                    "Születési dátum": "1975-03-22",
                                    "Legelső foglalás dátuma": "2016-05-10",
                                    "Legutolsó foglalás dátuma": "2017-01-09"
                                },
                                {
                                    "Azonosító": "MIHALYJ",
                                    "Név": "Juhász Mihály",
                                    "Születési dátum": "1979-10-12",
                                    "Legelső foglalás dátuma": "2016-05-30",
                                    "Legutolsó foglalás dátuma": "2017-02-06"
                                },
                                {
                                    "Azonosító": "miklos2",
                                    "Név": "Gondos Miklós",
                                    "Születési dátum": "1995-10-07",
                                    "Legelső foglalás dátuma": "2016-04-19",
                                    "Legutolsó foglalás dátuma": "2016-11-16"
                                },
                                {
                                    "Azonosító": "MIKLOSB",
                                    "Név": "Balla Miklós",
                                    "Születési dátum": "1979-02-16",
                                    "Legelső foglalás dátuma": "2016-06-26",
                                    "Legutolsó foglalás dátuma": "2016-12-05"
                                },
                                {
                                    "Azonosító": "MONIKAM",
                                    "Név": "Mohos Mónika",
                                    "Születési dátum": "1974-10-01",
                                    "Legelső foglalás dátuma": "2016-04-29",
                                    "Legutolsó foglalás dátuma": "2017-02-23"
                                },
                                {
                                    "Azonosító": "NANDORF",
                                    "Név": "Fő Nándor",
                                    "Születési dátum": "1968-11-12",
                                    "Legelső foglalás dátuma": "2016-04-06",
                                    "Legutolsó foglalás dátuma": "2017-02-05"
                                },
                                {
                                    "Azonosító": "nikolett3",
                                    "Név": "Horváth Nikolett",
                                    "Születési dátum": "1981-09-29",
                                    "Legelső foglalás dátuma": "2016-05-24",
                                    "Legutolsó foglalás dátuma": "2016-10-22"
                                },
                                {
                                    "Azonosító": "nikoletta4",
                                    "Név": "Kő Nikoletta",
                                    "Születési dátum": "1972-01-10",
                                    "Legelső foglalás dátuma": "2016-04-08",
                                    "Legutolsó foglalás dátuma": "2017-02-01"
                                },
                                {
                                    "Azonosító": "NIKOLETTAT",
                                    "Név": "Tatár Nikoletta",
                                    "Születési dátum": "1997-10-19",
                                    "Legelső foglalás dátuma": "2016-05-22",
                                    "Legutolsó foglalás dátuma": "2016-09-21"
                                },
                                {
                                    "Azonosító": "norbert",
                                    "Név": "Szűcs Norbert",
                                    "Születési dátum": "1969-07-17",
                                    "Legelső foglalás dátuma": "2016-07-08",
                                    "Legutolsó foglalás dátuma": "2017-02-26"
                                },
                                {
                                    "Azonosító": "norbert2",
                                    "Név": "Hegedűs Norbert",
                                    "Születési dátum": "1991-07-17",
                                    "Legelső foglalás dátuma": "2016-04-19",
                                    "Legutolsó foglalás dátuma": "2017-01-29"
                                },
                                {
                                    "Azonosító": "norbert4",
                                    "Név": "Mile Norbert",
                                    "Születési dátum": "1983-06-15",
                                    "Legelső foglalás dátuma": "2016-04-10",
                                    "Legutolsó foglalás dátuma": "2017-03-03"
                                },
                                {
                                    "Azonosító": "norbert5",
                                    "Név": "Béres Norbert",
                                    "Születési dátum": "1975-07-27",
                                    "Legelső foglalás dátuma": "2016-06-24",
                                    "Legutolsó foglalás dátuma": "2016-11-05"
                                },
                                {
                                    "Azonosító": "pal",
                                    "Név": "Barabás Pál",
                                    "Születési dátum": "1968-02-06",
                                    "Legelső foglalás dátuma": "2016-08-14",
                                    "Legutolsó foglalás dátuma": "2017-02-20"
                                },
                                {
                                    "Azonosító": "peter1",
                                    "Név": "Kozma Péter",
                                    "Születési dátum": "1976-03-18",
                                    "Legelső foglalás dátuma": "2016-07-14",
                                    "Legutolsó foglalás dátuma": "2017-02-28"
                                },
                                {
                                    "Azonosító": "peter2",
                                    "Név": "Bozsó Péter",
                                    "Születési dátum": "1976-01-26",
                                    "Legelső foglalás dátuma": "2016-07-03",
                                    "Legutolsó foglalás dátuma": "2016-11-15"
                                },
                                {
                                    "Azonosító": "peter3",
                                    "Név": "Szalai Péter",
                                    "Születési dátum": "1983-07-18",
                                    "Legelső foglalás dátuma": "2016-06-30",
                                    "Legutolsó foglalás dátuma": "2017-02-21"
                                },
                                {
                                    "Azonosító": "peter4",
                                    "Név": "Bíró Péter",
                                    "Születési dátum": "1985-09-01",
                                    "Legelső foglalás dátuma": "2016-04-12",
                                    "Legutolsó foglalás dátuma": "2017-02-05"
                                },
                                {
                                    "Azonosító": "PETERB",
                                    "Név": "Berendi Péter",
                                    "Születési dátum": "1969-01-01",
                                    "Legelső foglalás dátuma": "2016-04-06",
                                    "Legutolsó foglalás dátuma": "2016-11-17"
                                },
                                {
                                    "Azonosító": "polla",
                                    "Név": "Palágyi Polla",
                                    "Születési dátum": "1994-02-04",
                                    "Legelső foglalás dátuma": "2016-04-17",
                                    "Legutolsó foglalás dátuma": "2017-02-11"
                                },
                                {
                                    "Azonosító": "rajmond4",
                                    "Név": "Rácz Rajmond",
                                    "Születési dátum": "1993-09-25",
                                    "Legelső foglalás dátuma": "2016-09-05",
                                    "Legutolsó foglalás dátuma": "2016-11-16"
                                },
                                {
                                    "Azonosító": "reka4",
                                    "Név": "Szikszai Réka",
                                    "Születési dátum": "1969-11-27",
                                    "Legelső foglalás dátuma": "2016-07-27",
                                    "Legutolsó foglalás dátuma": "2017-02-26"
                                },
                                {
                                    "Azonosító": "RENATAK",
                                    "Név": "Kardos Renáta",
                                    "Születési dátum": "1988-05-17",
                                    "Legelső foglalás dátuma": "2016-10-27",
                                    "Legutolsó foglalás dátuma": "2017-03-01"
                                },
                                {
                                    "Azonosító": "RENATAS",
                                    "Név": "Szirmai Renáta",
                                    "Születési dátum": "1991-03-26",
                                    "Legelső foglalás dátuma": "2016-05-04",
                                    "Legutolsó foglalás dátuma": "2017-02-14"
                                },
                                {
                                    "Azonosító": "robert2",
                                    "Név": "Patay Róbert",
                                    "Születési dátum": "1977-01-08",
                                    "Legelső foglalás dátuma": "2016-05-15",
                                    "Legutolsó foglalás dátuma": "2016-12-17"
                                },
                                {
                                    "Azonosító": "ROBERTI",
                                    "Név": "Iván Róbert",
                                    "Születési dátum": "1967-07-02",
                                    "Legelső foglalás dátuma": "2016-07-12",
                                    "Legutolsó foglalás dátuma": "2017-02-17"
                                },
                                {
                                    "Azonosító": "ROBERTP",
                                    "Név": "Pásztor Róbert",
                                    "Születési dátum": "1972-05-16",
                                    "Legelső foglalás dátuma": "2016-07-30",
                                    "Legutolsó foglalás dátuma": "2016-09-08"
                                },
                                {
                                    "Azonosító": "roland",
                                    "Név": "Tóth Roland",
                                    "Születési dátum": "1968-03-21",
                                    "Legelső foglalás dátuma": "2016-06-09",
                                    "Legutolsó foglalás dátuma": "2016-11-19"
                                },
                                {
                                    "Azonosító": "roland1",
                                    "Név": "Ferencz Roland",
                                    "Születési dátum": "1985-12-31",
                                    "Legelső foglalás dátuma": "2016-11-05",
                                    "Legutolsó foglalás dátuma": "2017-01-16"
                                },
                                {
                                    "Azonosító": "roza2",
                                    "Név": "Bucskó Róza",
                                    "Születési dátum": "1988-12-26",
                                    "Legelső foglalás dátuma": "2016-09-10",
                                    "Legutolsó foglalás dátuma": "2017-02-18"
                                },
                                {
                                    "Azonosító": "sandor",
                                    "Név": "Karasz Sándor",
                                    "Születési dátum": "1970-01-27",
                                    "Legelső foglalás dátuma": "2016-07-04",
                                    "Legutolsó foglalás dátuma": "2016-09-19"
                                },
                                {
                                    "Azonosító": "sandor3",
                                    "Név": "Farkas Sándor",
                                    "Születési dátum": "1989-01-27",
                                    "Legelső foglalás dátuma": "2016-05-12",
                                    "Legutolsó foglalás dátuma": "2016-11-10"
                                },
                                {
                                    "Azonosító": "sandor4",
                                    "Név": "Nagy Sándor",
                                    "Születési dátum": "1997-06-11",
                                    "Legelső foglalás dátuma": "2016-10-15",
                                    "Legutolsó foglalás dátuma": "2017-01-22"
                                },
                                {
                                    "Azonosító": "sara",
                                    "Név": "Farkas Sára",
                                    "Születési dátum": "1973-04-05",
                                    "Legelső foglalás dátuma": "2016-05-28",
                                    "Legutolsó foglalás dátuma": "2016-12-25"
                                },
                                {
                                    "Azonosító": "SEBASTIANF",
                                    "Név": "Foltényi Sebastián",
                                    "Születési dátum": "1992-09-09",
                                    "Legelső foglalás dátuma": "2016-04-06",
                                    "Legutolsó foglalás dátuma": "2016-09-17"
                                },
                                {
                                    "Azonosító": "sebestyen",
                                    "Név": "Rab Sebestyén",
                                    "Születési dátum": "1992-03-03",
                                    "Legelső foglalás dátuma": "2016-04-07",
                                    "Legutolsó foglalás dátuma": "2016-10-26"
                                },
                                {
                                    "Azonosító": "szabolcs",
                                    "Név": "Bodor Szabolcs",
                                    "Születési dátum": "1990-07-16",
                                    "Legelső foglalás dátuma": "2016-12-05",
                                    "Legutolsó foglalás dátuma": "2016-12-05"
                                },
                                {
                                    "Azonosító": "SZABOLCSM",
                                    "Név": "Miklós Szabolcs",
                                    "Születési dátum": "1980-08-11",
                                    "Legelső foglalás dátuma": "2016-06-18",
                                    "Legutolsó foglalás dátuma": "2017-02-04"
                                },
                                {
                                    "Azonosító": "SZILARDS",
                                    "Név": "Szalai Szilárd",
                                    "Születési dátum": "1967-09-28",
                                    "Legelső foglalás dátuma": "2016-04-23",
                                    "Legutolsó foglalás dátuma": "2017-02-08"
                                },
                                {
                                    "Azonosító": "szilvia1",
                                    "Név": "Tari Szilvia",
                                    "Születési dátum": "1971-03-09",
                                    "Legelső foglalás dátuma": "2016-05-14",
                                    "Legutolsó foglalás dátuma": "2017-01-28"
                                },
                                {
                                    "Azonosító": "tamara2",
                                    "Név": "Miklós Tamara",
                                    "Születési dátum": "1980-08-11",
                                    "Legelső foglalás dátuma": "2016-08-12",
                                    "Legutolsó foglalás dátuma": "2016-11-15"
                                },
                                {
                                    "Azonosító": "tamas",
                                    "Név": "Antal Tamás",
                                    "Születési dátum": "1984-09-05",
                                    "Legelső foglalás dátuma": "2016-05-17",
                                    "Legutolsó foglalás dátuma": "2017-02-14"
                                },
                                {
                                    "Azonosító": "TAMASF",
                                    "Név": "Fényes Tamás",
                                    "Születési dátum": "1997-11-06",
                                    "Legelső foglalás dátuma": "2016-05-03",
                                    "Legutolsó foglalás dátuma": "2017-02-16"
                                },
                                {
                                    "Azonosító": "tibor",
                                    "Név": "Gombos Tibor",
                                    "Születési dátum": "1993-11-28",
                                    "Legelső foglalás dátuma": "2016-10-09",
                                    "Legutolsó foglalás dátuma": "2016-11-05"
                                },
                                {
                                    "Azonosító": "tibor2",
                                    "Név": "Dániel Tibor",
                                    "Születési dátum": "1985-02-02",
                                    "Legelső foglalás dátuma": "2016-10-20",
                                    "Legutolsó foglalás dátuma": "2016-10-20"
                                },
                                {
                                    "Azonosító": "tihamer",
                                    "Név": "Kazy Tihamér",
                                    "Születési dátum": "1991-07-05",
                                    "Legelső foglalás dátuma": "2016-05-30",
                                    "Legutolsó foglalás dátuma": "2016-12-25"
                                },
                                {
                                    "Azonosító": "timea",
                                    "Név": "Papós Tímea",
                                    "Születési dátum": "1996-01-08",
                                    "Legelső foglalás dátuma": "2016-12-26",
                                    "Legutolsó foglalás dátuma": "2016-12-26"
                                },
                                {
                                    "Azonosító": "timea2",
                                    "Név": "Dusha Tímea",
                                    "Születési dátum": "1975-08-22",
                                    "Legelső foglalás dátuma": "2016-06-06",
                                    "Legutolsó foglalás dátuma": "2016-12-14"
                                },
                                {
                                    "Azonosító": "tunde",
                                    "Név": "Turcsik Tünde",
                                    "Születési dátum": "1974-02-12",
                                    "Legelső foglalás dátuma": "2016-06-03",
                                    "Legutolsó foglalás dátuma": "2017-01-03"
                                },
                                {
                                    "Azonosító": "valentin",
                                    "Név": "Feró Valentin",
                                    "Születési dátum": "1986-01-09",
                                    "Legelső foglalás dátuma": "2016-05-24",
                                    "Legutolsó foglalás dátuma": "2016-12-01"
                                },
                                {
                                    "Azonosító": "veronika4",
                                    "Név": "Tankó Veronika",
                                    "Születési dátum": "1983-08-28",
                                    "Legelső foglalás dátuma": "2016-05-30",
                                    "Legutolsó foglalás dátuma": "2017-02-03"
                                },
                                {
                                    "Azonosító": "VIKTORIAU",
                                    "Név": "Urbán Viktoria",
                                    "Születési dátum": "1996-05-03",
                                    "Legelső foglalás dátuma": "2016-04-30",
                                    "Legutolsó foglalás dátuma": "2016-10-26"
                                },
                                {
                                    "Azonosító": "VIKTORK",
                                    "Név": "Keresztúri Viktor",
                                    "Születési dátum": "1989-05-05",
                                    "Legelső foglalás dátuma": "2016-05-30",
                                    "Legutolsó foglalás dátuma": "2016-06-06"
                                },
                                {
                                    "Azonosító": "vivien3",
                                    "Név": "Boros Vivien",
                                    "Születési dátum": "1991-07-01",
                                    "Legelső foglalás dátuma": "2016-05-02",
                                    "Legutolsó foglalás dátuma": "2016-12-24"
                                },
                                {
                                    "Azonosító": "zoltan",
                                    "Név": "Fodor Zoltán",
                                    "Születési dátum": "1979-11-25",
                                    "Legelső foglalás dátuma": "2016-08-24",
                                    "Legutolsó foglalás dátuma": "2016-09-05"
                                },
                                {
                                    "Azonosító": "zoltan4",
                                    "Név": "Barna Zoltán",
                                    "Születési dátum": "1986-05-20",
                                    "Legelső foglalás dátuma": "2016-05-12",
                                    "Legutolsó foglalás dátuma": "2017-01-01"
                                },
                                {
                                    "Azonosító": "ZOLTANP",
                                    "Név": "Pintér Zoltán",
                                    "Születési dátum": "1977-06-07",
                                    "Legelső foglalás dátuma": "2016-06-05",
                                    "Legutolsó foglalás dátuma": "2016-12-25"
                                },
                                {
                                    "Azonosító": "ZOLTANT",
                                    "Név": "Tóth Zoltán",
                                    "Születési dátum": "1985-12-14",
                                    "Legelső foglalás dátuma": "2016-05-01",
                                    "Legutolsó foglalás dátuma": "2017-01-16"
                                },
                                {
                                    "Azonosító": "zsofi1",
                                    "Név": "Molnár Zsófi",
                                    "Születési dátum": "1983-11-17",
                                    "Legelső foglalás dátuma": "2016-06-16",
                                    "Legutolsó foglalás dátuma": "2017-02-18"
                                },
                                {
                                    "Azonosító": "zsolt1",
                                    "Név": "Pulai Zsolt",
                                    "Születési dátum": "1988-05-27",
                                    "Legelső foglalás dátuma": "2016-04-14",
                                    "Legutolsó foglalás dátuma": "2016-07-31"
                                },
                                {
                                    "Azonosító": "ZSOLTJ",
                                    "Név": "Józsa Zsolt",
                                    "Születési dátum": "1983-09-29",
                                    "Legelső foglalás dátuma": "2016-04-24",
                                    "Legutolsó foglalás dátuma": "2016-10-01"
                                },
                                {
                                    "Azonosító": "zsuzsa",
                                    "Név": "Pusztai Zsuzsanna",
                                    "Születési dátum": "1980-09-17",
                                    "Legelső foglalás dátuma": "2016-07-24",
                                    "Legutolsó foglalás dátuma": "2016-11-28"
                                },
                                {
                                    "Azonosító": "zsuzsa3",
                                    "Név": "Varsányi Zsuzsa",
                                    "Születési dátum": "1979-03-06",
                                    "Legelső foglalás dátuma": "2016-07-30",
                                    "Legutolsó foglalás dátuma": "2016-10-27"
                                },
                                {
                                    "Azonosító": "zsuzsanna",
                                    "Név": "Barta Zsuzsanna",
                                    "Születési dátum": "1994-10-07",
                                    "Legelső foglalás dátuma": "2016-05-17",
                                    "Legutolsó foglalás dátuma": "2017-01-16"
                                },
                                {
                                    "Azonosító": "ZSUZSAV",
                                    "Név": "Vajda Zsuzsa",
                                    "Születési dátum": "1976-12-11",
                                    "Legelső foglalás dátuma": "2016-04-14",
                                    "Legutolsó foglalás dátuma": "2016-11-21"
                                }
                            ]
                        },
                        "text/html": [
                            "<table>",
                            "<tr><th>Azonosító</th><th>Név</th><th>Születési dátum</th><th>Legelső foglalás dátuma</th><th>Legutolsó foglalás dátuma</th></tr>",
                            "<tr><td>adam1</td><td>Kiss Ádám</td><td>1991-12-28</td><td>2016-05-28</td><td>2016-10-19</td></tr>",
                            "<tr><td>adam3</td><td>Barkóci Ádám</td><td>1970-06-07</td><td>2016-09-12</td><td>2017-02-06</td></tr>",
                            "<tr><td>adam4</td><td>Bieniek Ádám</td><td>1976-08-01</td><td>2016-08-28</td><td>2017-02-23</td></tr>",
                            "<tr><td>agnes</td><td>Lengyel Ágnes</td><td>1979-12-10</td><td>2016-05-09</td><td>2016-11-07</td></tr>",
                            "<tr><td>agnes3</td><td>Hartyánszky Ágnes</td><td>1967-04-11</td><td>2016-08-04</td><td>2017-02-16</td></tr>",
                            "<tr><td>AGNESH</td><td>Horváth Ágnes</td><td>1981-12-24</td><td>2016-04-10</td><td>2017-01-16</td></tr>",
                            "<tr><td>AGNESK</td><td>Kovács Ágnes</td><td>1988-10-02</td><td>2016-07-29</td><td>2016-12-17</td></tr>",
                            "<tr><td>akos</td><td>Bíró Ákos</td><td>1982-04-24</td><td>2016-05-18</td><td>2016-12-29</td></tr>",
                            "<tr><td>aladar</td><td>Dunai Aladár</td><td>1980-11-01</td><td>2016-05-17</td><td>2016-11-22</td></tr>",
                            "<tr><td>alexandra</td><td>Bagóczki Alexandra</td><td>1992-03-25</td><td>2016-05-21</td><td>2017-01-19</td></tr>",
                            "<tr><td>andi</td><td>Maródi Andrea</td><td>1968-05-07</td><td>2016-05-08</td><td>2017-01-13</td></tr>",
                            "<tr><td>andras2</td><td>Tóth András</td><td>1997-10-31</td><td>2016-05-30</td><td>2017-02-08</td></tr>",
                            "<tr><td>andras21</td><td>Molnár András</td><td>1977-11-16</td><td>2016-06-21</td><td>2017-01-28</td></tr>",
                            "<tr><td>andras3</td><td>Vígh András</td><td>1971-04-02</td><td>2016-05-01</td><td>2017-02-02</td></tr>",
                            "<tr><td>andras4</td><td>Back András</td><td>1984-04-07</td><td>2016-09-17</td><td>2017-01-09</td></tr>",
                            "<tr><td>andras41</td><td>Komjáti András</td><td>1997-10-25</td><td>2016-05-14</td><td>2016-11-23</td></tr>",
                            "<tr><td>ANDRASE</td><td>Erdei András</td><td>1997-05-29</td><td>2016-04-24</td><td>2016-11-29</td></tr>",
                            "<tr><td>ANDRASN</td><td>Nagy András</td><td>1980-09-05</td><td>2016-11-25</td><td>2016-11-25</td></tr>",
                            "<tr><td>andrea</td><td>Kiss Andrea</td><td>1993-03-25</td><td>2016-07-27</td><td>2017-02-09</td></tr>",
                            "<tr><td>andrea3</td><td>Szomor Andrea</td><td>1996-05-10</td><td>2016-11-19</td><td>2016-11-19</td></tr>",
                            "<tr><td>andrea4</td><td>Neizer Andrea</td><td>1981-05-17</td><td>2016-05-27</td><td>2017-01-22</td></tr>",
                            "<tr><td>ANDREAT</td><td>Tornyos Andrea</td><td>1986-11-14</td><td>2016-07-27</td><td>2016-10-08</td></tr>",
                            "<tr><td>anett3</td><td>Pivarcsi Anett</td><td>1967-01-03</td><td>2016-04-10</td><td>2016-10-16</td></tr>",
                            "<tr><td>aniko</td><td>Tóth Anikó</td><td>1973-06-03</td><td>2016-06-25</td><td>2017-02-23</td></tr>",
                            "<tr><td>aniko4</td><td>Böröcz Anikó</td><td>1978-03-26</td><td>2016-07-02</td><td>2016-10-16</td></tr>",
                            "<tr><td>ANIKOS</td><td>Simon Anikó</td><td>1988-12-14</td><td>2016-04-19</td><td>2016-11-10</td></tr>",
                            "<tr><td>anita</td><td>Hamvay-Kovács Anita</td><td>1971-03-20</td><td>2016-09-28</td><td>2017-02-20</td></tr>",
                            "<tr><td>annamaria1</td><td>Szűcs Annamária</td><td>1990-04-27</td><td>2016-06-06</td><td>2017-01-30</td></tr>",
                            "<tr><td>ANNAMARIAR</td><td>Regős Annamária</td><td>1977-09-26</td><td>2016-06-08</td><td>2017-02-16</td></tr>",
                            "<tr><td>aron2</td><td>Jakab Áron</td><td>1971-04-26</td><td>2016-04-11</td><td>2017-02-26</td></tr>",
                            "<tr><td>ARONK</td><td>Kelemen Áron</td><td>1989-08-10</td><td>2016-04-06</td><td>2017-02-21</td></tr>",
                            "<tr><td>arpad2</td><td>Ötvös Árpád</td><td>1990-06-08</td><td>2016-06-05</td><td>2017-02-18</td></tr>",
                            "<tr><td>ARPADH</td><td>Horváth Árpád</td><td>1990-05-18</td><td>2016-06-06</td><td>2017-02-16</td></tr>",
                            "<tr><td>ARPADM</td><td>Móricz Árpád</td><td>1986-04-20</td><td>2016-05-29</td><td>2017-02-12</td></tr>",
                            "<tr><td>attila</td><td>Csóti Attila</td><td>1979-12-25</td><td>2016-09-30</td><td>2016-12-22</td></tr>",
                            "<tr><td>attila1</td><td>Gulyás Attila</td><td>1982-08-16</td><td>2016-05-20</td><td>2017-01-23</td></tr>",
                            "<tr><td>attila4</td><td>Baróti Attila</td><td>1975-11-06</td><td>2016-08-18</td><td>2017-02-15</td></tr>",
                            "<tr><td>ATTILAO</td><td>Opra Attila</td><td>1995-05-08</td><td>2016-05-21</td><td>2017-02-22</td></tr>",
                            "<tr><td>balazs1</td><td>Bozsik Balázs</td><td>1992-11-03</td><td>2016-05-07</td><td>2017-02-12</td></tr>",
                            "<tr><td>balazs2</td><td>Szűcs Balázs</td><td>1984-10-31</td><td>2016-04-16</td><td>2017-02-27</td></tr>",
                            "<tr><td>balazs3</td><td>Bakódy Balázs</td><td>1986-09-09</td><td>2016-07-17</td><td>2017-01-20</td></tr>",
                            "<tr><td>balint</td><td>Horváth Bálint</td><td>1996-03-17</td><td>2016-04-22</td><td>2016-11-24</td></tr>",
                            "<tr><td>balint1</td><td>Molnár Bálint</td><td>1989-08-24</td><td>2016-06-07</td><td>2017-01-03</td></tr>",
                            "<tr><td>balint2</td><td>Vukasinovity Bálint</td><td>1997-09-03</td><td>2016-07-21</td><td>2016-12-04</td></tr>",
                            "<tr><td>balu</td><td>Endresz Bálint</td><td>1976-08-01</td><td>2016-08-06</td><td>2016-12-22</td></tr>",
                            "<tr><td>beata4</td><td>Bagi Beáta</td><td>1994-03-19</td><td>2016-04-20</td><td>2016-10-03</td></tr>",
                            "<tr><td>BEATRIXK</td><td>Kerényi Beatrix</td><td>1972-04-06</td><td>2016-06-10</td><td>2017-02-08</td></tr>",
                            "<tr><td>BEATRIXS</td><td>Szekendi Beatrix</td><td>1981-04-06</td><td>2016-04-18</td><td>2017-02-03</td></tr>",
                            "<tr><td>BELAF</td><td>Farkas Béla</td><td>1995-02-24</td><td>2016-07-27</td><td>2016-12-06</td></tr>",
                            "<tr><td>bence</td><td>Győrffy Bence</td><td>1987-07-09</td><td>2016-05-08</td><td>2017-02-05</td></tr>",
                            "<tr><td>BENCEB</td><td>Bajusz Bence</td><td>1973-06-21</td><td>2016-05-14</td><td>2017-02-12</td></tr>",
                            "<tr><td>bernadett1</td><td>Simon Bernadett</td><td>1984-10-13</td><td>2016-06-12</td><td>2017-02-24</td></tr>",
                            "<tr><td>bernadett2</td><td>Kovács Bernadett</td><td>1996-08-20</td><td>2016-05-01</td><td>2017-01-24</td></tr>",
                            "<tr><td>BERNADETTO</td><td>Orbán Bernadett</td><td>1987-12-07</td><td>2016-04-10</td><td>2017-01-28</td></tr>",
                            "<tr><td>bertalan</td><td>Csiger Bertalan</td><td>1977-10-15</td><td>2016-05-18</td><td>2017-02-20</td></tr>",
                            "<tr><td>brigitta</td><td>Székely Brigitta</td><td>1978-09-13</td><td>2016-05-30</td><td>2017-01-23</td></tr>",
                            "<tr><td>brigitta3</td><td>Pataki Brigitta</td><td>1991-05-23</td><td>2016-06-01</td><td>2017-02-09</td></tr>",
                            "<tr><td>csongor3</td><td>Nagymihály Csongor</td><td>1984-03-05</td><td>2016-05-01</td><td>2017-02-13</td></tr>",
                            "<tr><td>dani</td><td>Vörös Dániel</td><td>1986-10-14</td><td>2016-06-06</td><td>2017-02-25</td></tr>",
                            "<tr><td>daniel</td><td>Rácz Dániel</td><td>1978-11-28</td><td>2016-04-10</td><td>2017-02-20</td></tr>",
                            "<tr><td>daniel1</td><td>Keszler Dániel</td><td>1969-07-16</td><td>2016-04-10</td><td>2017-03-01</td></tr>",
                            "<tr><td>david</td><td>Ambrus Dávid</td><td>1974-02-11</td><td>2016-05-18</td><td>2017-01-18</td></tr>",
                            "<tr><td>david1</td><td>Sobják Dávid</td><td>1970-08-16</td><td>2016-09-20</td><td>2017-02-25</td></tr>",
                            "<tr><td>david4</td><td>Berta Dávid</td><td>1990-10-08</td><td>2017-02-16</td><td>2017-02-16</td></tr>",
                            "<tr><td>debora</td><td>Barna Debóra</td><td>1976-10-14</td><td>2016-06-22</td><td>2017-02-04</td></tr>",
                            "<tr><td>denes</td><td>Tömböly Dénes</td><td>1975-03-14</td><td>2016-05-27</td><td>2016-11-06</td></tr>",
                            "<tr><td>dora3</td><td>Sarodi Dóra</td><td>1995-05-18</td><td>2016-08-16</td><td>2016-11-22</td></tr>",
                            "<tr><td>edit</td><td>Bittmann Edit</td><td>1984-04-20</td><td>2016-07-14</td><td>2017-02-08</td></tr>",
                            "<tr><td>emese</td><td>Kuruc Emese</td><td>1989-08-10</td><td>2016-07-22</td><td>2017-01-30</td></tr>",
                            "<tr><td>eszter</td><td>Molnár Eszter</td><td>1987-05-10</td><td>2016-08-12</td><td>2016-12-23</td></tr>",
                            "<tr><td>eszter2</td><td>Balogh Eszter</td><td>1998-01-31</td><td>2016-06-30</td><td>2016-12-29</td></tr>",
                            "<tr><td>eszter4</td><td>Fülöp Eszter</td><td>1993-06-28</td><td>2017-01-05</td><td>2017-02-26</td></tr>",
                            "<tr><td>ESZTERE</td><td>Érsek Eszter</td><td>1978-08-28</td><td>2016-05-30</td><td>2017-02-10</td></tr>",
                            "<tr><td>eva</td><td>Enyedi Éva</td><td>1967-06-30</td><td>2016-10-06</td><td>2017-01-14</td></tr>",
                            "<tr><td>eva2</td><td>Perlinger Éva</td><td>1971-08-19</td><td>2016-09-02</td><td>2017-01-06</td></tr>",
                            "<tr><td>EVAV</td><td>Viktor Éva</td><td>1980-12-26</td><td>2016-05-01</td><td>2017-02-04</td></tr>",
                            "<tr><td>ferenc1</td><td>Orosz Ferenc</td><td>1983-10-08</td><td>2016-05-08</td><td>2016-11-07</td></tr>",
                            "<tr><td>fruzsina4</td><td>Frank Fruzsina</td><td>1996-08-16</td><td>2016-06-02</td><td>2017-01-22</td></tr>",
                            "<tr><td>gabor1</td><td>Köves Gábor</td><td>1973-07-15</td><td>2016-06-20</td><td>2016-11-19</td></tr>",
                            "<tr><td>gabor4</td><td>Telek Gábor</td><td>1987-03-15</td><td>2016-04-26</td><td>2016-11-07</td></tr>",
                            "<tr><td>GABORS</td><td>Szöllősi Gábor</td><td>1990-05-31</td><td>NULL</td><td>NULL</td></tr>",
                            "<tr><td>gabriella1</td><td>Nagy Gabriella</td><td>1982-11-01</td><td>2016-04-21</td><td>2017-02-21</td></tr>",
                            "<tr><td>gabriella10</td><td>Vida Gabriella</td><td>1969-06-18</td><td>2016-10-01</td><td>2016-10-01</td></tr>",
                            "<tr><td>georgij</td><td>Nyíri Georgij</td><td>1983-02-23</td><td>2016-06-16</td><td>2016-09-18</td></tr>",
                            "<tr><td>gusztav</td><td>Bárci Gusztáv</td><td>1967-02-25</td><td>2016-05-06</td><td>2017-02-23</td></tr>",
                            "<tr><td>GYONGYIK</td><td>Kornseé Gyöngyi</td><td>1974-06-07</td><td>2016-06-02</td><td>2017-01-22</td></tr>",
                            "<tr><td>GYORGYO</td><td>Oroszi György</td><td>1980-03-23</td><td>2016-05-27</td><td>2017-02-24</td></tr>",
                            "<tr><td>henrik3</td><td>Nádudvari Henrik</td><td>1986-12-05</td><td>2016-08-24</td><td>2017-01-27</td></tr>",
                            "<tr><td>IBOLYAA</td><td>Andor Ibolya</td><td>1983-11-27</td><td>2016-08-29</td><td>2017-01-17</td></tr>",
                            "<tr><td>ilona3</td><td>Bosnyák Ilona</td><td>1990-08-06</td><td>2016-07-31</td><td>2016-12-25</td></tr>",
                            "<tr><td>imre</td><td>Búza Imre</td><td>1988-09-30</td><td>2016-09-17</td><td>2016-10-28</td></tr>",
                            "<tr><td>imre1</td><td>Papp Imre</td><td>1976-06-25</td><td>2016-06-23</td><td>2017-02-05</td></tr>",
                            "<tr><td>istvan</td><td>Soós István</td><td>1986-06-28</td><td>2016-10-07</td><td>2017-01-02</td></tr>",
                            "<tr><td>istvan1</td><td>Vizi István</td><td>1997-12-01</td><td>2016-04-16</td><td>2017-02-07</td></tr>",
                            "<tr><td>ISTVANV</td><td>Varga István</td><td>1989-04-09</td><td>2016-07-01</td><td>2016-09-29</td></tr>",
                            "<tr><td>janos3</td><td>Harangozó János</td><td>1967-11-02</td><td>2016-06-04</td><td>2017-02-12</td></tr>",
                            "<tr><td>JANOSG</td><td>Giliga János</td><td>1975-01-03</td><td>2016-05-09</td><td>2017-01-31</td></tr>",
                            "<tr><td>JANOSP</td><td>Pálinkás János</td><td>1984-10-12</td><td>2016-07-04</td><td>2016-12-18</td></tr>",
                            "<tr><td>jozsef</td><td>Gergely József</td><td>1985-11-01</td><td>2016-09-13</td><td>2016-12-06</td></tr>",
                            "<tr><td>jozsef2</td><td>Vajda József</td><td>1978-09-04</td><td>2016-07-06</td><td>2016-11-25</td></tr>",
                            "<tr><td>JOZSEFG</td><td>Gyuris József</td><td>1975-05-26</td><td>2016-05-02</td><td>2017-02-24</td></tr>",
                            "<tr><td>JUDITH</td><td>Hídasi Judit</td><td>1997-07-12</td><td>2016-06-06</td><td>2016-12-19</td></tr>",
                            "<tr><td>julia</td><td>Tóth Júlia</td><td>1993-03-02</td><td>2016-04-21</td><td>2017-02-27</td></tr>",
                            "<tr><td>julia4</td><td>Nagy Júlia</td><td>1985-08-11</td><td>2016-11-07</td><td>2017-02-04</td></tr>",
                            "<tr><td>julianna4</td><td>Szabó Julianna</td><td>1990-09-29</td><td>2016-07-20</td><td>2016-11-27</td></tr>",
                            "<tr><td>kata</td><td>Gondos Katalin</td><td>1968-06-22</td><td>2016-04-10</td><td>2017-01-15</td></tr>",
                            "<tr><td>katalin</td><td>Horváth Katalin</td><td>1968-01-01</td><td>2016-04-10</td><td>2017-02-24</td></tr>",
                            "<tr><td>katalin4</td><td>Kertész Katalin</td><td>1986-04-13</td><td>2016-07-01</td><td>2017-01-24</td></tr>",
                            "<tr><td>kati</td><td>Zatykó Katalin</td><td>1995-05-01</td><td>2016-06-06</td><td>2016-10-30</td></tr>",
                            "<tr><td>katka</td><td>Kovács Katalin</td><td>1975-03-31</td><td>2016-04-10</td><td>2017-01-19</td></tr>",
                            "<tr><td>klaudia2</td><td>Bakó Klaudia</td><td>1982-04-16</td><td>2016-06-06</td><td>2016-10-02</td></tr>",
                            "<tr><td>kornel4</td><td>Lukács Kornél</td><td>1975-09-30</td><td>2016-05-08</td><td>2016-09-23</td></tr>",
                            "<tr><td>kristof4</td><td>Poprádi Kristóf</td><td>1984-01-15</td><td>2016-04-08</td><td>2016-09-30</td></tr>",
                            "<tr><td>kriszti</td><td>Horváth Krisztina</td><td>1978-06-12</td><td>2016-05-19</td><td>2017-03-03</td></tr>",
                            "<tr><td>krisztian4</td><td>Czérna Krisztián</td><td>1970-08-01</td><td>2016-06-03</td><td>2017-02-23</td></tr>",
                            "<tr><td>KRISZTIANM</td><td>Mogyródi Krisztián</td><td>1968-05-27</td><td>2016-04-09</td><td>2017-01-16</td></tr>",
                            "<tr><td>krisztina</td><td>Szedlár Krisztina</td><td>1979-05-10</td><td>2016-05-21</td><td>2017-02-16</td></tr>",
                            "<tr><td>krisztina1</td><td>Bori Krisztina</td><td>1969-10-13</td><td>2016-04-28</td><td>2017-01-21</td></tr>",
                            "<tr><td>KRISZTINAG</td><td>Gyárfás Krisztina</td><td>1987-09-19</td><td>2016-04-23</td><td>2017-01-25</td></tr>",
                            "<tr><td>lajos</td><td>Kiss Lajos</td><td>1978-10-31</td><td>2016-07-18</td><td>2017-02-12</td></tr>",
                            "<tr><td>lala</td><td>Nagymihály Lajos</td><td>1997-02-24</td><td>2016-06-16</td><td>2017-01-17</td></tr>",
                            "<tr><td>laszlo1</td><td>Farkas László</td><td>1967-10-30</td><td>2016-09-23</td><td>2016-09-23</td></tr>",
                            "<tr><td>laszlo2</td><td>Móra László</td><td>1975-02-19</td><td>2016-04-06</td><td>2016-11-25</td></tr>",
                            "<tr><td>LASZLOA</td><td>Antal László</td><td>1969-06-29</td><td>2016-06-03</td><td>2017-02-08</td></tr>",
                            "<tr><td>LASZLON</td><td>Nagy László</td><td>1969-04-12</td><td>2016-06-03</td><td>2017-02-18</td></tr>",
                            "<tr><td>maria1</td><td>Baráth Mária</td><td>1995-11-19</td><td>2016-05-13</td><td>2017-02-24</td></tr>",
                            "<tr><td>mark</td><td>Kispál Márk</td><td>1996-01-23</td><td>2016-04-19</td><td>2016-11-19</td></tr>",
                            "<tr><td>MARKH</td><td>Horváth Márk</td><td>1997-09-23</td><td>2016-09-14</td><td>2017-01-22</td></tr>",
                            "<tr><td>marton</td><td>Kalacsi Márton</td><td>1989-06-24</td><td>2016-04-27</td><td>2017-03-02</td></tr>",
                            "<tr><td>MATEK</td><td>Koza Máté</td><td>1997-02-28</td><td>2016-08-17</td><td>2017-01-16</td></tr>",
                            "<tr><td>matyas2</td><td>Botka Mátyás</td><td>1972-07-07</td><td>2016-07-13</td><td>2016-12-09</td></tr>",
                            "<tr><td>MATYASS</td><td>Szilágyi Mátyás</td><td>1975-03-22</td><td>2016-05-10</td><td>2017-01-09</td></tr>",
                            "<tr><td>MIHALYJ</td><td>Juhász Mihály</td><td>1979-10-12</td><td>2016-05-30</td><td>2017-02-06</td></tr>",
                            "<tr><td>miklos2</td><td>Gondos Miklós</td><td>1995-10-07</td><td>2016-04-19</td><td>2016-11-16</td></tr>",
                            "<tr><td>MIKLOSB</td><td>Balla Miklós</td><td>1979-02-16</td><td>2016-06-26</td><td>2016-12-05</td></tr>",
                            "<tr><td>MONIKAM</td><td>Mohos Mónika</td><td>1974-10-01</td><td>2016-04-29</td><td>2017-02-23</td></tr>",
                            "<tr><td>NANDORF</td><td>Fő Nándor</td><td>1968-11-12</td><td>2016-04-06</td><td>2017-02-05</td></tr>",
                            "<tr><td>nikolett3</td><td>Horváth Nikolett</td><td>1981-09-29</td><td>2016-05-24</td><td>2016-10-22</td></tr>",
                            "<tr><td>nikoletta4</td><td>Kő Nikoletta</td><td>1972-01-10</td><td>2016-04-08</td><td>2017-02-01</td></tr>",
                            "<tr><td>NIKOLETTAT</td><td>Tatár Nikoletta</td><td>1997-10-19</td><td>2016-05-22</td><td>2016-09-21</td></tr>",
                            "<tr><td>norbert</td><td>Szűcs Norbert</td><td>1969-07-17</td><td>2016-07-08</td><td>2017-02-26</td></tr>",
                            "<tr><td>norbert2</td><td>Hegedűs Norbert</td><td>1991-07-17</td><td>2016-04-19</td><td>2017-01-29</td></tr>",
                            "<tr><td>norbert4</td><td>Mile Norbert</td><td>1983-06-15</td><td>2016-04-10</td><td>2017-03-03</td></tr>",
                            "<tr><td>norbert5</td><td>Béres Norbert</td><td>1975-07-27</td><td>2016-06-24</td><td>2016-11-05</td></tr>",
                            "<tr><td>pal</td><td>Barabás Pál</td><td>1968-02-06</td><td>2016-08-14</td><td>2017-02-20</td></tr>",
                            "<tr><td>peter1</td><td>Kozma Péter</td><td>1976-03-18</td><td>2016-07-14</td><td>2017-02-28</td></tr>",
                            "<tr><td>peter2</td><td>Bozsó Péter</td><td>1976-01-26</td><td>2016-07-03</td><td>2016-11-15</td></tr>",
                            "<tr><td>peter3</td><td>Szalai Péter</td><td>1983-07-18</td><td>2016-06-30</td><td>2017-02-21</td></tr>",
                            "<tr><td>peter4</td><td>Bíró Péter</td><td>1985-09-01</td><td>2016-04-12</td><td>2017-02-05</td></tr>",
                            "<tr><td>PETERB</td><td>Berendi Péter</td><td>1969-01-01</td><td>2016-04-06</td><td>2016-11-17</td></tr>",
                            "<tr><td>polla</td><td>Palágyi Polla</td><td>1994-02-04</td><td>2016-04-17</td><td>2017-02-11</td></tr>",
                            "<tr><td>rajmond4</td><td>Rácz Rajmond</td><td>1993-09-25</td><td>2016-09-05</td><td>2016-11-16</td></tr>",
                            "<tr><td>reka4</td><td>Szikszai Réka</td><td>1969-11-27</td><td>2016-07-27</td><td>2017-02-26</td></tr>",
                            "<tr><td>RENATAK</td><td>Kardos Renáta</td><td>1988-05-17</td><td>2016-10-27</td><td>2017-03-01</td></tr>",
                            "<tr><td>RENATAS</td><td>Szirmai Renáta</td><td>1991-03-26</td><td>2016-05-04</td><td>2017-02-14</td></tr>",
                            "<tr><td>robert2</td><td>Patay Róbert</td><td>1977-01-08</td><td>2016-05-15</td><td>2016-12-17</td></tr>",
                            "<tr><td>ROBERTI</td><td>Iván Róbert</td><td>1967-07-02</td><td>2016-07-12</td><td>2017-02-17</td></tr>",
                            "<tr><td>ROBERTP</td><td>Pásztor Róbert</td><td>1972-05-16</td><td>2016-07-30</td><td>2016-09-08</td></tr>",
                            "<tr><td>roland</td><td>Tóth Roland</td><td>1968-03-21</td><td>2016-06-09</td><td>2016-11-19</td></tr>",
                            "<tr><td>roland1</td><td>Ferencz Roland</td><td>1985-12-31</td><td>2016-11-05</td><td>2017-01-16</td></tr>",
                            "<tr><td>roza2</td><td>Bucskó Róza</td><td>1988-12-26</td><td>2016-09-10</td><td>2017-02-18</td></tr>",
                            "<tr><td>sandor</td><td>Karasz Sándor</td><td>1970-01-27</td><td>2016-07-04</td><td>2016-09-19</td></tr>",
                            "<tr><td>sandor3</td><td>Farkas Sándor</td><td>1989-01-27</td><td>2016-05-12</td><td>2016-11-10</td></tr>",
                            "<tr><td>sandor4</td><td>Nagy Sándor</td><td>1997-06-11</td><td>2016-10-15</td><td>2017-01-22</td></tr>",
                            "<tr><td>sara</td><td>Farkas Sára</td><td>1973-04-05</td><td>2016-05-28</td><td>2016-12-25</td></tr>",
                            "<tr><td>SEBASTIANF</td><td>Foltényi Sebastián</td><td>1992-09-09</td><td>2016-04-06</td><td>2016-09-17</td></tr>",
                            "<tr><td>sebestyen</td><td>Rab Sebestyén</td><td>1992-03-03</td><td>2016-04-07</td><td>2016-10-26</td></tr>",
                            "<tr><td>szabolcs</td><td>Bodor Szabolcs</td><td>1990-07-16</td><td>2016-12-05</td><td>2016-12-05</td></tr>",
                            "<tr><td>SZABOLCSM</td><td>Miklós Szabolcs</td><td>1980-08-11</td><td>2016-06-18</td><td>2017-02-04</td></tr>",
                            "<tr><td>SZILARDS</td><td>Szalai Szilárd</td><td>1967-09-28</td><td>2016-04-23</td><td>2017-02-08</td></tr>",
                            "<tr><td>szilvia1</td><td>Tari Szilvia</td><td>1971-03-09</td><td>2016-05-14</td><td>2017-01-28</td></tr>",
                            "<tr><td>tamara2</td><td>Miklós Tamara</td><td>1980-08-11</td><td>2016-08-12</td><td>2016-11-15</td></tr>",
                            "<tr><td>tamas</td><td>Antal Tamás</td><td>1984-09-05</td><td>2016-05-17</td><td>2017-02-14</td></tr>",
                            "<tr><td>TAMASF</td><td>Fényes Tamás</td><td>1997-11-06</td><td>2016-05-03</td><td>2017-02-16</td></tr>",
                            "<tr><td>tibor</td><td>Gombos Tibor</td><td>1993-11-28</td><td>2016-10-09</td><td>2016-11-05</td></tr>",
                            "<tr><td>tibor2</td><td>Dániel Tibor</td><td>1985-02-02</td><td>2016-10-20</td><td>2016-10-20</td></tr>",
                            "<tr><td>tihamer</td><td>Kazy Tihamér</td><td>1991-07-05</td><td>2016-05-30</td><td>2016-12-25</td></tr>",
                            "<tr><td>timea</td><td>Papós Tímea</td><td>1996-01-08</td><td>2016-12-26</td><td>2016-12-26</td></tr>",
                            "<tr><td>timea2</td><td>Dusha Tímea</td><td>1975-08-22</td><td>2016-06-06</td><td>2016-12-14</td></tr>",
                            "<tr><td>tunde</td><td>Turcsik Tünde</td><td>1974-02-12</td><td>2016-06-03</td><td>2017-01-03</td></tr>",
                            "<tr><td>valentin</td><td>Feró Valentin</td><td>1986-01-09</td><td>2016-05-24</td><td>2016-12-01</td></tr>",
                            "<tr><td>veronika4</td><td>Tankó Veronika</td><td>1983-08-28</td><td>2016-05-30</td><td>2017-02-03</td></tr>",
                            "<tr><td>VIKTORIAU</td><td>Urbán Viktoria</td><td>1996-05-03</td><td>2016-04-30</td><td>2016-10-26</td></tr>",
                            "<tr><td>VIKTORK</td><td>Keresztúri Viktor</td><td>1989-05-05</td><td>2016-05-30</td><td>2016-06-06</td></tr>",
                            "<tr><td>vivien3</td><td>Boros Vivien</td><td>1991-07-01</td><td>2016-05-02</td><td>2016-12-24</td></tr>",
                            "<tr><td>zoltan</td><td>Fodor Zoltán</td><td>1979-11-25</td><td>2016-08-24</td><td>2016-09-05</td></tr>",
                            "<tr><td>zoltan4</td><td>Barna Zoltán</td><td>1986-05-20</td><td>2016-05-12</td><td>2017-01-01</td></tr>",
                            "<tr><td>ZOLTANP</td><td>Pintér Zoltán</td><td>1977-06-07</td><td>2016-06-05</td><td>2016-12-25</td></tr>",
                            "<tr><td>ZOLTANT</td><td>Tóth Zoltán</td><td>1985-12-14</td><td>2016-05-01</td><td>2017-01-16</td></tr>",
                            "<tr><td>zsofi1</td><td>Molnár Zsófi</td><td>1983-11-17</td><td>2016-06-16</td><td>2017-02-18</td></tr>",
                            "<tr><td>zsolt1</td><td>Pulai Zsolt</td><td>1988-05-27</td><td>2016-04-14</td><td>2016-07-31</td></tr>",
                            "<tr><td>ZSOLTJ</td><td>Józsa Zsolt</td><td>1983-09-29</td><td>2016-04-24</td><td>2016-10-01</td></tr>",
                            "<tr><td>zsuzsa</td><td>Pusztai Zsuzsanna</td><td>1980-09-17</td><td>2016-07-24</td><td>2016-11-28</td></tr>",
                            "<tr><td>zsuzsa3</td><td>Varsányi Zsuzsa</td><td>1979-03-06</td><td>2016-07-30</td><td>2016-10-27</td></tr>",
                            "<tr><td>zsuzsanna</td><td>Barta Zsuzsanna</td><td>1994-10-07</td><td>2016-05-17</td><td>2017-01-16</td></tr>",
                            "<tr><td>ZSUZSAV</td><td>Vajda Zsuzsa</td><td>1976-12-11</td><td>2016-04-14</td><td>2016-11-21</td></tr>",
                            "</table>"
                        ]
                    }
                }
            ],
            "execution_count": 13
        },
        {
            "cell_type": "markdown",
            "source": [
                "Készítsen lekérdezést, amely megjeleníti, hogy szálláshelyenként, azon belül a pótágyak száma szerint hány főre foglaltak összesen (felnőtt + gyermek)!\n",
                "\n",
                "- Jelenjenek meg a részösszegek és a végösszeg is!"
            ],
            "metadata": {
                "azdata_cell_guid": "dc0dfc11-aba3-41ed-a774-3ce3dc878cd5"
            },
            "attachments": {}
        },
        {
            "cell_type": "code",
            "source": [
                "SELECT\r\n",
                "    CASE\r\n",
                "        WHEN GROUPING(szh.szallas_nev) = 1 THEN 'Végösszeg'\r\n",
                "        ELSE szh.szallas_nev\r\n",
                "    END AS 'Szálláshely név',\r\n",
                "    CASE\r\n",
                "        WHEN GROUPING(sz.POTAGY) = 1 THEN 'Részösszeg'\r\n",
                "        ELSE CAST(sz.POTAGY AS VARCHAR)\r\n",
                "    END AS 'Pótágyak db száma',\r\n",
                "    SUM(f.FELNOTT_SZAM + f.GYERMEK_SZAM) AS 'Összes'\r\n",
                "FROM Szallashely szh JOIN Szoba sz ON szh.SZALLAS_ID = sz.SZALLAS_FK JOIN Foglalas f ON sz.SZOBA_ID = f.SZOBA_FK\r\n",
                "GROUP BY ROLLUP(szh.SZALLAS_NEV, sz.POTAGY)"
            ],
            "metadata": {
                "azdata_cell_guid": "911432a6-ebbf-4786-b314-9192f0174d0a",
                "language": "sql"
            },
            "outputs": [
                {
                    "output_type": "display_data",
                    "data": {
                        "text/html": "(41 rows affected)"
                    },
                    "metadata": {}
                },
                {
                    "output_type": "display_data",
                    "data": {
                        "text/html": "Total execution time: 00:00:00.024"
                    },
                    "metadata": {}
                },
                {
                    "output_type": "execute_result",
                    "metadata": {},
                    "execution_count": 27,
                    "data": {
                        "application/vnd.dataresource+json": {
                            "schema": {
                                "fields": [
                                    {
                                        "name": "Szálláshely név"
                                    },
                                    {
                                        "name": "Pótágyak db száma"
                                    },
                                    {
                                        "name": "Összes"
                                    }
                                ]
                            },
                            "data": [
                                {
                                    "Szálláshely név": "Családi Ház",
                                    "Pótágyak db száma": "0",
                                    "Összes": "10"
                                },
                                {
                                    "Szálláshely név": "Családi Ház",
                                    "Pótágyak db száma": "1",
                                    "Összes": "31"
                                },
                                {
                                    "Szálláshely név": "Családi Ház",
                                    "Pótágyak db száma": "2",
                                    "Összes": "11"
                                },
                                {
                                    "Szálláshely név": "Családi Ház",
                                    "Pótágyak db száma": "Részösszeg",
                                    "Összes": "52"
                                },
                                {
                                    "Szálláshely név": "Fortuna Apartman",
                                    "Pótágyak db száma": "0",
                                    "Összes": "18"
                                },
                                {
                                    "Szálláshely név": "Fortuna Apartman",
                                    "Pótágyak db száma": "1",
                                    "Összes": "52"
                                },
                                {
                                    "Szálláshely név": "Fortuna Apartman",
                                    "Pótágyak db száma": "2",
                                    "Összes": "36"
                                },
                                {
                                    "Szálláshely név": "Fortuna Apartman",
                                    "Pótágyak db száma": "Részösszeg",
                                    "Összes": "106"
                                },
                                {
                                    "Szálláshely név": "Fortuna Panzió",
                                    "Pótágyak db száma": "0",
                                    "Összes": "158"
                                },
                                {
                                    "Szálláshely név": "Fortuna panzió",
                                    "Pótágyak db száma": "1",
                                    "Összes": "113"
                                },
                                {
                                    "Szálláshely név": "Fortuna panzió",
                                    "Pótágyak db száma": "2",
                                    "Összes": "40"
                                },
                                {
                                    "Szálláshely név": "Fortuna Panzió",
                                    "Pótágyak db száma": "Részösszeg",
                                    "Összes": "311"
                                },
                                {
                                    "Szálláshely név": "Gold Hotel",
                                    "Pótágyak db száma": "0",
                                    "Összes": "216"
                                },
                                {
                                    "Szálláshely név": "Gold Hotel",
                                    "Pótágyak db száma": "1",
                                    "Összes": "93"
                                },
                                {
                                    "Szálláshely név": "Gold Hotel",
                                    "Pótágyak db száma": "2",
                                    "Összes": "119"
                                },
                                {
                                    "Szálláshely név": "Gold Hotel",
                                    "Pótágyak db száma": "Részösszeg",
                                    "Összes": "428"
                                },
                                {
                                    "Szálláshely név": "Hotel Három Hattyú",
                                    "Pótágyak db száma": "0",
                                    "Összes": "183"
                                },
                                {
                                    "Szálláshely név": "Hotel Három Hattyú",
                                    "Pótágyak db száma": "1",
                                    "Összes": "258"
                                },
                                {
                                    "Szálláshely név": "Hotel Három Hattyú",
                                    "Pótágyak db száma": "2",
                                    "Összes": "63"
                                },
                                {
                                    "Szálláshely név": "Hotel Három Hattyú",
                                    "Pótágyak db száma": "Részösszeg",
                                    "Összes": "504"
                                },
                                {
                                    "Szálláshely név": "Jáde panzió",
                                    "Pótágyak db száma": "0",
                                    "Összes": "66"
                                },
                                {
                                    "Szálláshely név": "Jáde panzió",
                                    "Pótágyak db száma": "Részösszeg",
                                    "Összes": "66"
                                },
                                {
                                    "Szálláshely név": "Kentaur Hotel",
                                    "Pótágyak db száma": "0",
                                    "Összes": "168"
                                },
                                {
                                    "Szálláshely név": "Kentaur Hotel",
                                    "Pótágyak db száma": "1",
                                    "Összes": "224"
                                },
                                {
                                    "Szálláshely név": "Kentaur Hotel",
                                    "Pótágyak db száma": "2",
                                    "Összes": "28"
                                },
                                {
                                    "Szálláshely név": "Kentaur Hotel",
                                    "Pótágyak db száma": "Részösszeg",
                                    "Összes": "420"
                                },
                                {
                                    "Szálláshely név": "Lagúna Hotel",
                                    "Pótágyak db száma": "0",
                                    "Összes": "105"
                                },
                                {
                                    "Szálláshely név": "Lagúna Hotel",
                                    "Pótágyak db száma": "1",
                                    "Összes": "150"
                                },
                                {
                                    "Szálláshely név": "Lagúna Hotel",
                                    "Pótágyak db száma": "2",
                                    "Összes": "36"
                                },
                                {
                                    "Szálláshely név": "Lagúna Hotel",
                                    "Pótágyak db száma": "Részösszeg",
                                    "Összes": "291"
                                },
                                {
                                    "Szálláshely név": "Partiszél Vendégház",
                                    "Pótágyak db száma": "0",
                                    "Összes": "31"
                                },
                                {
                                    "Szálláshely név": "Partiszél Vendégház",
                                    "Pótágyak db száma": "1",
                                    "Összes": "17"
                                },
                                {
                                    "Szálláshely név": "Partiszél Vendégház",
                                    "Pótágyak db száma": "2",
                                    "Összes": "15"
                                },
                                {
                                    "Szálláshely név": "Partiszél Vendégház",
                                    "Pótágyak db száma": "Részösszeg",
                                    "Összes": "63"
                                },
                                {
                                    "Szálláshely név": "Sába-Ház",
                                    "Pótágyak db száma": "0",
                                    "Összes": "67"
                                },
                                {
                                    "Szálláshely név": "Sába-Ház",
                                    "Pótágyak db száma": "1",
                                    "Összes": "99"
                                },
                                {
                                    "Szálláshely név": "Sába-Ház",
                                    "Pótágyak db száma": "Részösszeg",
                                    "Összes": "166"
                                },
                                {
                                    "Szálláshely név": "Szieszta Apartmanház",
                                    "Pótágyak db száma": "0",
                                    "Összes": "64"
                                },
                                {
                                    "Szálláshely név": "Szieszta Apartmanház",
                                    "Pótágyak db száma": "1",
                                    "Összes": "19"
                                },
                                {
                                    "Szálláshely név": "Szieszta Apartmanház",
                                    "Pótágyak db száma": "Részösszeg",
                                    "Összes": "83"
                                },
                                {
                                    "Szálláshely név": "Végösszeg",
                                    "Pótágyak db száma": "Részösszeg",
                                    "Összes": "2490"
                                }
                            ]
                        },
                        "text/html": [
                            "<table>",
                            "<tr><th>Szálláshely név</th><th>Pótágyak db száma</th><th>Összes</th></tr>",
                            "<tr><td>Családi Ház</td><td>0</td><td>10</td></tr>",
                            "<tr><td>Családi Ház</td><td>1</td><td>31</td></tr>",
                            "<tr><td>Családi Ház</td><td>2</td><td>11</td></tr>",
                            "<tr><td>Családi Ház</td><td>Részösszeg</td><td>52</td></tr>",
                            "<tr><td>Fortuna Apartman</td><td>0</td><td>18</td></tr>",
                            "<tr><td>Fortuna Apartman</td><td>1</td><td>52</td></tr>",
                            "<tr><td>Fortuna Apartman</td><td>2</td><td>36</td></tr>",
                            "<tr><td>Fortuna Apartman</td><td>Részösszeg</td><td>106</td></tr>",
                            "<tr><td>Fortuna Panzió</td><td>0</td><td>158</td></tr>",
                            "<tr><td>Fortuna panzió</td><td>1</td><td>113</td></tr>",
                            "<tr><td>Fortuna panzió</td><td>2</td><td>40</td></tr>",
                            "<tr><td>Fortuna Panzió</td><td>Részösszeg</td><td>311</td></tr>",
                            "<tr><td>Gold Hotel</td><td>0</td><td>216</td></tr>",
                            "<tr><td>Gold Hotel</td><td>1</td><td>93</td></tr>",
                            "<tr><td>Gold Hotel</td><td>2</td><td>119</td></tr>",
                            "<tr><td>Gold Hotel</td><td>Részösszeg</td><td>428</td></tr>",
                            "<tr><td>Hotel Három Hattyú</td><td>0</td><td>183</td></tr>",
                            "<tr><td>Hotel Három Hattyú</td><td>1</td><td>258</td></tr>",
                            "<tr><td>Hotel Három Hattyú</td><td>2</td><td>63</td></tr>",
                            "<tr><td>Hotel Három Hattyú</td><td>Részösszeg</td><td>504</td></tr>",
                            "<tr><td>Jáde panzió</td><td>0</td><td>66</td></tr>",
                            "<tr><td>Jáde panzió</td><td>Részösszeg</td><td>66</td></tr>",
                            "<tr><td>Kentaur Hotel</td><td>0</td><td>168</td></tr>",
                            "<tr><td>Kentaur Hotel</td><td>1</td><td>224</td></tr>",
                            "<tr><td>Kentaur Hotel</td><td>2</td><td>28</td></tr>",
                            "<tr><td>Kentaur Hotel</td><td>Részösszeg</td><td>420</td></tr>",
                            "<tr><td>Lagúna Hotel</td><td>0</td><td>105</td></tr>",
                            "<tr><td>Lagúna Hotel</td><td>1</td><td>150</td></tr>",
                            "<tr><td>Lagúna Hotel</td><td>2</td><td>36</td></tr>",
                            "<tr><td>Lagúna Hotel</td><td>Részösszeg</td><td>291</td></tr>",
                            "<tr><td>Partiszél Vendégház</td><td>0</td><td>31</td></tr>",
                            "<tr><td>Partiszél Vendégház</td><td>1</td><td>17</td></tr>",
                            "<tr><td>Partiszél Vendégház</td><td>2</td><td>15</td></tr>",
                            "<tr><td>Partiszél Vendégház</td><td>Részösszeg</td><td>63</td></tr>",
                            "<tr><td>Sába-Ház</td><td>0</td><td>67</td></tr>",
                            "<tr><td>Sába-Ház</td><td>1</td><td>99</td></tr>",
                            "<tr><td>Sába-Ház</td><td>Részösszeg</td><td>166</td></tr>",
                            "<tr><td>Szieszta Apartmanház</td><td>0</td><td>64</td></tr>",
                            "<tr><td>Szieszta Apartmanház</td><td>1</td><td>19</td></tr>",
                            "<tr><td>Szieszta Apartmanház</td><td>Részösszeg</td><td>83</td></tr>",
                            "<tr><td>Végösszeg</td><td>Részösszeg</td><td>2490</td></tr>",
                            "</table>"
                        ]
                    }
                }
            ],
            "execution_count": 27
        },
        {
            "cell_type": "markdown",
            "source": [
                "Készítsünk ideiglenes táblát #MASKED\\_GUEST néven, ahol \n",
                "\n",
                "- a tábla felépítése megegyezik a vendég tábláéval, DE\n",
                "- a vendégek nevének csak az első 2, és az utolsó 3 karaktere jelenjen meg, közötte X-ek legyenek!"
            ],
            "metadata": {
                "azdata_cell_guid": "4326d535-7b62-4422-a7c7-9680f3be1759"
            },
            "attachments": {}
        },
        {
            "cell_type": "code",
            "source": [
                "CREATE TABLE #MASKED_GUEST\r\n",
                "(\r\n",
                "    USERNEV NVARCHAR(20) PRIMARY KEY,\r\n",
                "    NEV NVARCHAR(50) MASKED WITH (FUNCTION = 'partial(2,\"XXX\",3)'),\r\n",
                "    EMAIL NVARCHAR(60),\r\n",
                "    SZAML_CIM NVARCHAR(100),\r\n",
                "    SZUL_DATE DATE\r\n",
                ")"
            ],
            "metadata": {
                "azdata_cell_guid": "3690c92e-029f-4aa7-aa88-890ac60a67ba",
                "language": "sql"
            },
            "outputs": [],
            "execution_count": null
        },
        {
            "cell_type": "markdown",
            "source": [
                "Valósítsa meg REDIS-ben a következő táblákat:\n",
                "\n",
                "- <span style=\"box-sizing: border-box; font-size: 0.9375rem;\">IRO(ID, nev, nemzetiseg)</span>\n",
                "- KONYV(ID, cim, mufaj, IRO\\_ID)\n",
                "\n",
                "Vigyen fel táblánként legalább 2-2 sornyi adatot!"
            ],
            "metadata": {
                "azdata_cell_guid": "fd265453-a2e8-4c3e-83f6-c39ecc4d49ab"
            },
            "attachments": {}
        },
        {
            "cell_type": "code",
            "source": [
                "HSET IRO:1 ID 1 nev \"Nagy Roland\" nemzetiseg \"magyar\"\r\n",
                "HSET IRO:2 ID 2 nev \"Osgyáni Bekő\" nemzetiseg \"magyar\"\r\n",
                "HSET IRO:3 ID 3 nev \"Simon Patrik\" nemzetiseg \"magyar\"\r\n",
                "\r\n",
                "HSET KONYV:1 ID 1 cim \"Mitől jó a fradi?\" mufaj \"tudományos\" IRO_ID 1\r\n",
                "HSET KONYV:2 ID 2 cim \"Szoboszlai nyomában\" mufaj \"dráma\" IRO_ID 2\r\n",
                "HSET KONYV:3 ID 3 cim \"Ki festette le a víztonyot?\" mufaj \"kalandos\" IRO_ID 3"
            ],
            "metadata": {
                "azdata_cell_guid": "4d97514c-b592-4c96-bb2e-673758e38da5",
                "language": "sql"
            },
            "outputs": [],
            "execution_count": null
        },
        {
            "cell_type": "markdown",
            "source": [
                "Cassandra CQL Shellben hozza létre a következő táblát:\n",
                "\n",
                "STUDENT(ID, Nev, Teljesitett\\_felevek, Eredmenyek, Nyelvtudas)\n",
                "\n",
                "- Az ID legyen az elsődleges kulcs\n",
                "- A Teljesitett félévek legyen LIST, tartalma egész számok, pl: 1, 2, 3\n",
                "- Az Eredmenyek legyen MAP, tartalma, hogy melyik félévben mennyi volt az átlag, pl: 1: 3,00, 2: 4.55, 3: 4,10\n",
                "- A Nyelvtudas legyen SET, tartalma a nyelvek megnevezése\n",
                "\n",
                "Vigyen fel legalább 2 rekordot!"
            ],
            "metadata": {
                "azdata_cell_guid": "901ae918-9a57-4f25-961b-564f28c7b009"
            },
            "attachments": {}
        },
        {
            "cell_type": "code",
            "source": [
                ""
            ],
            "metadata": {
                "azdata_cell_guid": "c88c8ff1-5f04-41c0-a22a-6745f6d9c170",
                "language": "sql"
            },
            "outputs": [],
            "execution_count": null
        },
        {
            "cell_type": "markdown",
            "source": [
                "A Neo4j Sandbox-ban vagy a Desktopban jelenítsük meg azon személyeket, akik egy filmben szerepeltek Tom Hanks-sel.\n",
                "\n",
                "- Egy szereplő neve csak egyszer jelenjen meg\n",
                "- Tom Hanks ne legyen benne a listában"
            ],
            "metadata": {
                "azdata_cell_guid": "a6673d7f-5773-431f-a5e9-5778c8b8d393"
            },
            "attachments": {}
        },
        {
            "cell_type": "code",
            "source": [
                "MATCH (mellekszereplo:Person)-[:ACTED_IN]->(film:Movie)<-[:ACTED_IN]-(tom:Person {name: 'Tom Hanks'})\r\n",
                "WHERE mellekszereplo.name <> 'Tom Hanks'\r\n",
                "RETURN DISTINCT mellekszereplo.name AS Szereplő"
            ],
            "metadata": {
                "azdata_cell_guid": "1feec3b3-2d9b-45f9-a09d-f8f5726956ad",
                "language": "sql"
            },
            "outputs": [],
            "execution_count": null
        }
    ]
}