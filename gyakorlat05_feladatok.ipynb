{
    "metadata": {
        "kernelspec": {
            "name": "SQL",
            "display_name": "SQL",
            "language": "sql"
        },
        "language_info": {
            "name": "sql",
            "version": ""
        }
    },
    "nbformat_minor": 2,
    "nbformat": 4,
    "cells": [
        {
            "cell_type": "markdown",
            "source": [
                "1. <span style=\"color: rgb(36, 41, 47); font-family: -apple-system, BlinkMacSystemFont, &quot;Segoe UI&quot;, Helvetica, Arial, sans-serif, &quot;Apple Color Emoji&quot;, &quot;Segoe UI Emoji&quot;; font-size: 16px;\">Készítsünk listát éves bontásban norbert2 azonosítójú ügyfél rendeléseinek értékéről!</span>\n",
                "\n",
                "1. A lista megfelelően jelölve tartalmazza a végösszeget is!"
            ],
            "metadata": {
                "azdata_cell_guid": "363cd270-6577-449b-9c89-d4b7c7972d52"
            },
            "attachments": {}
        },
        {
            "cell_type": "code",
            "source": [
                "SELECT IIF(GROUPING_ID(YEAR(REND_DATUM)) = 1, 'Összesen',CAST(YEAR(REND_DATUM) as varchar(4))) as 'Rendelési év',SUM(rt.EGYSEGAR*rt.MENNYISEG) as 'Mennyit fizet'\r\n",
                "FROM Rendeles r JOIN Rendeles_tetel rt ON r.SORSZAM = rt.SORSZAM\r\n",
                "Where login = 'norbert2'\r\n",
                "GROUP BY ROLLUP(YEAR(REND_DATUM))\r\n",
                ""
            ],
            "metadata": {
                "azdata_cell_guid": "6ab9f633-a3b5-48c9-a1dc-4fb8235ae85b",
                "language": "sql"
            },
            "outputs": [
                {
                    "output_type": "display_data",
                    "data": {
                        "text/html": "(3 rows affected)"
                    },
                    "metadata": {}
                },
                {
                    "output_type": "display_data",
                    "data": {
                        "text/html": "Total execution time: 00:00:00.018"
                    },
                    "metadata": {}
                },
                {
                    "output_type": "execute_result",
                    "metadata": {},
                    "execution_count": 19,
                    "data": {
                        "application/vnd.dataresource+json": {
                            "schema": {
                                "fields": [
                                    {
                                        "name": "Rendelési év"
                                    },
                                    {
                                        "name": "Mennyit fizet"
                                    }
                                ]
                            },
                            "data": [
                                {
                                    "Rendelési év": "2015",
                                    "Mennyit fizet": "483473"
                                },
                                {
                                    "Rendelési év": "2017",
                                    "Mennyit fizet": "614340"
                                },
                                {
                                    "Rendelési év": "Összesen",
                                    "Mennyit fizet": "1097813"
                                }
                            ]
                        },
                        "text/html": [
                            "<table>",
                            "<tr><th>Rendelési év</th><th>Mennyit fizet</th></tr>",
                            "<tr><td>2015</td><td>483473</td></tr>",
                            "<tr><td>2017</td><td>614340</td></tr>",
                            "<tr><td>Összesen</td><td>1097813</td></tr>",
                            "</table>"
                        ]
                    }
                }
            ],
            "execution_count": 19
        },
        {
            "cell_type": "markdown",
            "source": [
                "2. <span style=\"color: rgb(36, 41, 47); font-family: -apple-system, BlinkMacSystemFont, &quot;Segoe UI&quot;, Helvetica, Arial, sans-serif, &quot;Apple Color Emoji&quot;, &quot;Segoe UI Emoji&quot;; font-size: 16px;\">Készítsünk listát szállítási dátumonként, azon belül szállítási módonként az egyes rendelések összmennyiségéről!</span>\n",
                "\n",
                "1. Csak azokat a termékeket vegyük figyelembe, amelyek mennyiségi egysége db!\n",
                "2. A listát szűrjük úgy, hogy az csak a részösszeg sorokat és a végösszeget tartalmazza!"
            ],
            "metadata": {
                "azdata_cell_guid": "ea75c103-911f-41a3-a32c-3d40fb3e4e4a"
            },
            "attachments": {}
        },
        {
            "cell_type": "code",
            "source": [
                "SELECT SZALL_DATUM as 'Szállítás dátuma',SZALL_MOD as 'Szállítási mód',SUM(rt.MENNYISEG) as 'Mennyiség'\r\n",
                "FROM Rendeles r JOIN Rendeles_tetel rt ON r.SORSZAM = rt.SORSZAM JOIN Termek t ON t.TERMEKKOD = rt.TERMEKKOD\r\n",
                "WHERE t.MEGYS = 'db'\r\n",
                "GROUP BY ROLLUP(SZALL_DATUM,SZALL_MOD)\r\n",
                "HAVING GROUPING_ID(r.SZALL_DATUM) > 0 OR GROUPING_ID(r.SZALL_MOD) > 0\r\n",
                ""
            ],
            "metadata": {
                "azdata_cell_guid": "222b9618-a8e8-42b4-a8e8-d002257122b7",
                "language": "sql"
            },
            "outputs": [
                {
                    "output_type": "display_data",
                    "data": {
                        "text/html": "(711 rows affected)"
                    },
                    "metadata": {}
                },
                {
                    "output_type": "display_data",
                    "data": {
                        "text/html": "Total execution time: 00:00:00.253"
                    },
                    "metadata": {}
                },
                {
                    "output_type": "execute_result",
                    "metadata": {},
                    "execution_count": 24,
                    "data": {
                        "application/vnd.dataresource+json": {
                            "schema": {
                                "fields": [
                                    {
                                        "name": "Szállítás dátuma"
                                    },
                                    {
                                        "name": "Szállítási mód"
                                    },
                                    {
                                        "name": "Mennyiség"
                                    }
                                ]
                            },
                            "data": [
                                {
                                    "Szállítás dátuma": "2015-05-03",
                                    "Szállítási mód": "NULL",
                                    "Mennyiség": "100"
                                },
                                {
                                    "Szállítás dátuma": "2015-05-04",
                                    "Szállítási mód": "NULL",
                                    "Mennyiség": "996"
                                },
                                {
                                    "Szállítás dátuma": "2015-05-05",
                                    "Szállítási mód": "NULL",
                                    "Mennyiség": "3152"
                                },
                                {
                                    "Szállítás dátuma": "2015-05-06",
                                    "Szállítási mód": "NULL",
                                    "Mennyiség": "5030"
                                },
                                {
                                    "Szállítás dátuma": "2015-05-07",
                                    "Szállítási mód": "NULL",
                                    "Mennyiség": "3828"
                                },
                                {
                                    "Szállítás dátuma": "2015-05-08",
                                    "Szállítási mód": "NULL",
                                    "Mennyiség": "3213"
                                },
                                {
                                    "Szállítás dátuma": "2015-05-09",
                                    "Szállítási mód": "NULL",
                                    "Mennyiség": "6665"
                                },
                                {
                                    "Szállítás dátuma": "2015-05-10",
                                    "Szállítási mód": "NULL",
                                    "Mennyiség": "6909"
                                },
                                {
                                    "Szállítás dátuma": "2015-05-11",
                                    "Szállítási mód": "NULL",
                                    "Mennyiség": "6224"
                                },
                                {
                                    "Szállítás dátuma": "2015-05-12",
                                    "Szállítási mód": "NULL",
                                    "Mennyiség": "7568"
                                },
                                {
                                    "Szállítás dátuma": "2015-05-13",
                                    "Szállítási mód": "NULL",
                                    "Mennyiség": "7985"
                                },
                                {
                                    "Szállítás dátuma": "2015-05-14",
                                    "Szállítási mód": "NULL",
                                    "Mennyiség": "9706"
                                },
                                {
                                    "Szállítás dátuma": "2015-05-15",
                                    "Szállítási mód": "NULL",
                                    "Mennyiség": "7400"
                                },
                                {
                                    "Szállítás dátuma": "2015-05-16",
                                    "Szállítási mód": "NULL",
                                    "Mennyiség": "7897"
                                },
                                {
                                    "Szállítás dátuma": "2015-05-17",
                                    "Szállítási mód": "NULL",
                                    "Mennyiség": "4572"
                                },
                                {
                                    "Szállítás dátuma": "2015-05-18",
                                    "Szállítási mód": "NULL",
                                    "Mennyiség": "8190"
                                },
                                {
                                    "Szállítás dátuma": "2015-05-19",
                                    "Szállítási mód": "NULL",
                                    "Mennyiség": "7248"
                                },
                                {
                                    "Szállítás dátuma": "2015-05-20",
                                    "Szállítási mód": "NULL",
                                    "Mennyiség": "9859"
                                },
                                {
                                    "Szállítás dátuma": "2015-05-21",
                                    "Szállítási mód": "NULL",
                                    "Mennyiség": "8041"
                                },
                                {
                                    "Szállítás dátuma": "2015-05-22",
                                    "Szállítási mód": "NULL",
                                    "Mennyiség": "8338"
                                },
                                {
                                    "Szállítás dátuma": "2015-05-23",
                                    "Szállítási mód": "NULL",
                                    "Mennyiség": "5616"
                                },
                                {
                                    "Szállítás dátuma": "2015-05-24",
                                    "Szállítási mód": "NULL",
                                    "Mennyiség": "5001"
                                },
                                {
                                    "Szállítás dátuma": "2015-05-25",
                                    "Szállítási mód": "NULL",
                                    "Mennyiség": "7611"
                                },
                                {
                                    "Szállítás dátuma": "2015-05-26",
                                    "Szállítási mód": "NULL",
                                    "Mennyiség": "7153"
                                },
                                {
                                    "Szállítás dátuma": "2015-05-27",
                                    "Szállítási mód": "NULL",
                                    "Mennyiség": "8300"
                                },
                                {
                                    "Szállítás dátuma": "2015-05-28",
                                    "Szállítási mód": "NULL",
                                    "Mennyiség": "9340"
                                },
                                {
                                    "Szállítás dátuma": "2015-05-29",
                                    "Szállítási mód": "NULL",
                                    "Mennyiség": "10784"
                                },
                                {
                                    "Szállítás dátuma": "2015-05-30",
                                    "Szállítási mód": "NULL",
                                    "Mennyiség": "7763"
                                },
                                {
                                    "Szállítás dátuma": "2015-05-31",
                                    "Szállítási mód": "NULL",
                                    "Mennyiség": "4364"
                                },
                                {
                                    "Szállítás dátuma": "2015-06-01",
                                    "Szállítási mód": "NULL",
                                    "Mennyiség": "6947"
                                },
                                {
                                    "Szállítás dátuma": "2015-06-02",
                                    "Szállítási mód": "NULL",
                                    "Mennyiség": "6241"
                                },
                                {
                                    "Szállítás dátuma": "2015-06-03",
                                    "Szállítási mód": "NULL",
                                    "Mennyiség": "9359"
                                },
                                {
                                    "Szállítás dátuma": "2015-06-04",
                                    "Szállítási mód": "NULL",
                                    "Mennyiség": "8474"
                                },
                                {
                                    "Szállítás dátuma": "2015-06-05",
                                    "Szállítási mód": "NULL",
                                    "Mennyiség": "8961"
                                },
                                {
                                    "Szállítás dátuma": "2015-06-06",
                                    "Szállítási mód": "NULL",
                                    "Mennyiség": "9510"
                                },
                                {
                                    "Szállítás dátuma": "2015-06-07",
                                    "Szállítási mód": "NULL",
                                    "Mennyiség": "7956"
                                },
                                {
                                    "Szállítás dátuma": "2015-06-08",
                                    "Szállítási mód": "NULL",
                                    "Mennyiség": "4277"
                                },
                                {
                                    "Szállítás dátuma": "2015-06-09",
                                    "Szállítási mód": "NULL",
                                    "Mennyiség": "7132"
                                },
                                {
                                    "Szállítás dátuma": "2015-06-10",
                                    "Szállítási mód": "NULL",
                                    "Mennyiség": "9346"
                                },
                                {
                                    "Szállítás dátuma": "2015-06-11",
                                    "Szállítási mód": "NULL",
                                    "Mennyiség": "5191"
                                },
                                {
                                    "Szállítás dátuma": "2015-06-12",
                                    "Szállítási mód": "NULL",
                                    "Mennyiség": "7336"
                                },
                                {
                                    "Szállítás dátuma": "2015-06-13",
                                    "Szállítási mód": "NULL",
                                    "Mennyiség": "7818"
                                },
                                {
                                    "Szállítás dátuma": "2015-06-14",
                                    "Szállítási mód": "NULL",
                                    "Mennyiség": "6484"
                                },
                                {
                                    "Szállítás dátuma": "2015-06-15",
                                    "Szállítási mód": "NULL",
                                    "Mennyiség": "7796"
                                },
                                {
                                    "Szállítás dátuma": "2015-06-16",
                                    "Szállítási mód": "NULL",
                                    "Mennyiség": "4307"
                                },
                                {
                                    "Szállítás dátuma": "2015-06-17",
                                    "Szállítási mód": "NULL",
                                    "Mennyiség": "8645"
                                },
                                {
                                    "Szállítás dátuma": "2015-06-18",
                                    "Szállítási mód": "NULL",
                                    "Mennyiség": "10077"
                                },
                                {
                                    "Szállítás dátuma": "2015-06-19",
                                    "Szállítási mód": "NULL",
                                    "Mennyiség": "5675"
                                },
                                {
                                    "Szállítás dátuma": "2015-06-20",
                                    "Szállítási mód": "NULL",
                                    "Mennyiség": "7859"
                                },
                                {
                                    "Szállítás dátuma": "2015-06-21",
                                    "Szállítási mód": "NULL",
                                    "Mennyiség": "6627"
                                },
                                {
                                    "Szállítás dátuma": "2015-06-22",
                                    "Szállítási mód": "NULL",
                                    "Mennyiség": "9084"
                                },
                                {
                                    "Szállítás dátuma": "2015-06-23",
                                    "Szállítási mód": "NULL",
                                    "Mennyiség": "8869"
                                },
                                {
                                    "Szállítás dátuma": "2015-06-24",
                                    "Szállítási mód": "NULL",
                                    "Mennyiség": "4993"
                                },
                                {
                                    "Szállítás dátuma": "2015-06-25",
                                    "Szállítási mód": "NULL",
                                    "Mennyiség": "8165"
                                },
                                {
                                    "Szállítás dátuma": "2015-06-26",
                                    "Szállítási mód": "NULL",
                                    "Mennyiség": "10834"
                                },
                                {
                                    "Szállítás dátuma": "2015-06-27",
                                    "Szállítási mód": "NULL",
                                    "Mennyiség": "6396"
                                },
                                {
                                    "Szállítás dátuma": "2015-06-28",
                                    "Szállítási mód": "NULL",
                                    "Mennyiség": "6803"
                                },
                                {
                                    "Szállítás dátuma": "2015-06-29",
                                    "Szállítási mód": "NULL",
                                    "Mennyiség": "7435"
                                },
                                {
                                    "Szállítás dátuma": "2015-06-30",
                                    "Szállítási mód": "NULL",
                                    "Mennyiség": "8526"
                                },
                                {
                                    "Szállítás dátuma": "2015-07-01",
                                    "Szállítási mód": "NULL",
                                    "Mennyiség": "6032"
                                },
                                {
                                    "Szállítás dátuma": "2015-07-02",
                                    "Szállítási mód": "NULL",
                                    "Mennyiség": "7066"
                                },
                                {
                                    "Szállítás dátuma": "2015-07-03",
                                    "Szállítási mód": "NULL",
                                    "Mennyiség": "6359"
                                },
                                {
                                    "Szállítás dátuma": "2015-07-04",
                                    "Szállítási mód": "NULL",
                                    "Mennyiség": "8739"
                                },
                                {
                                    "Szállítás dátuma": "2015-07-05",
                                    "Szállítási mód": "NULL",
                                    "Mennyiség": "8558"
                                },
                                {
                                    "Szállítás dátuma": "2015-07-06",
                                    "Szállítási mód": "NULL",
                                    "Mennyiség": "8389"
                                },
                                {
                                    "Szállítás dátuma": "2015-07-07",
                                    "Szállítási mód": "NULL",
                                    "Mennyiség": "9522"
                                },
                                {
                                    "Szállítás dátuma": "2015-07-08",
                                    "Szállítási mód": "NULL",
                                    "Mennyiség": "6395"
                                },
                                {
                                    "Szállítás dátuma": "2015-07-09",
                                    "Szállítási mód": "NULL",
                                    "Mennyiség": "7375"
                                },
                                {
                                    "Szállítás dátuma": "2015-07-10",
                                    "Szállítási mód": "NULL",
                                    "Mennyiség": "7676"
                                },
                                {
                                    "Szállítás dátuma": "2015-07-11",
                                    "Szállítási mód": "NULL",
                                    "Mennyiség": "7366"
                                },
                                {
                                    "Szállítás dátuma": "2015-07-12",
                                    "Szállítási mód": "NULL",
                                    "Mennyiség": "8638"
                                },
                                {
                                    "Szállítás dátuma": "2015-07-13",
                                    "Szállítási mód": "NULL",
                                    "Mennyiség": "8300"
                                },
                                {
                                    "Szállítás dátuma": "2015-07-14",
                                    "Szállítási mód": "NULL",
                                    "Mennyiség": "6340"
                                },
                                {
                                    "Szállítás dátuma": "2015-07-15",
                                    "Szállítási mód": "NULL",
                                    "Mennyiség": "8615"
                                },
                                {
                                    "Szállítás dátuma": "2015-07-16",
                                    "Szállítási mód": "NULL",
                                    "Mennyiség": "7041"
                                },
                                {
                                    "Szállítás dátuma": "2015-07-17",
                                    "Szállítási mód": "NULL",
                                    "Mennyiség": "7327"
                                },
                                {
                                    "Szállítás dátuma": "2015-07-18",
                                    "Szállítási mód": "NULL",
                                    "Mennyiség": "6762"
                                },
                                {
                                    "Szállítás dátuma": "2015-07-19",
                                    "Szállítási mód": "NULL",
                                    "Mennyiség": "6776"
                                },
                                {
                                    "Szállítás dátuma": "2015-07-20",
                                    "Szállítási mód": "NULL",
                                    "Mennyiség": "9748"
                                },
                                {
                                    "Szállítás dátuma": "2015-07-21",
                                    "Szállítási mód": "NULL",
                                    "Mennyiség": "9805"
                                },
                                {
                                    "Szállítás dátuma": "2015-07-22",
                                    "Szállítási mód": "NULL",
                                    "Mennyiség": "5140"
                                },
                                {
                                    "Szállítás dátuma": "2015-07-23",
                                    "Szállítási mód": "NULL",
                                    "Mennyiség": "7258"
                                },
                                {
                                    "Szállítás dátuma": "2015-07-24",
                                    "Szállítási mód": "NULL",
                                    "Mennyiség": "8697"
                                },
                                {
                                    "Szállítás dátuma": "2015-07-25",
                                    "Szállítási mód": "NULL",
                                    "Mennyiség": "8180"
                                },
                                {
                                    "Szállítás dátuma": "2015-07-26",
                                    "Szállítási mód": "NULL",
                                    "Mennyiség": "9323"
                                },
                                {
                                    "Szállítás dátuma": "2015-07-27",
                                    "Szállítási mód": "NULL",
                                    "Mennyiség": "5417"
                                },
                                {
                                    "Szállítás dátuma": "2015-07-28",
                                    "Szállítási mód": "NULL",
                                    "Mennyiség": "7825"
                                },
                                {
                                    "Szállítás dátuma": "2015-07-29",
                                    "Szállítási mód": "NULL",
                                    "Mennyiség": "6405"
                                },
                                {
                                    "Szállítás dátuma": "2015-07-30",
                                    "Szállítási mód": "NULL",
                                    "Mennyiség": "10029"
                                },
                                {
                                    "Szállítás dátuma": "2015-07-31",
                                    "Szállítási mód": "NULL",
                                    "Mennyiség": "8673"
                                },
                                {
                                    "Szállítás dátuma": "2015-08-01",
                                    "Szállítási mód": "NULL",
                                    "Mennyiség": "9957"
                                },
                                {
                                    "Szállítás dátuma": "2015-08-02",
                                    "Szállítási mód": "NULL",
                                    "Mennyiség": "7599"
                                },
                                {
                                    "Szállítás dátuma": "2015-08-03",
                                    "Szállítási mód": "NULL",
                                    "Mennyiség": "9208"
                                },
                                {
                                    "Szállítás dátuma": "2015-08-04",
                                    "Szállítási mód": "NULL",
                                    "Mennyiség": "9353"
                                },
                                {
                                    "Szállítás dátuma": "2015-08-05",
                                    "Szállítási mód": "NULL",
                                    "Mennyiség": "10342"
                                },
                                {
                                    "Szállítás dátuma": "2015-08-06",
                                    "Szállítási mód": "NULL",
                                    "Mennyiség": "5124"
                                },
                                {
                                    "Szállítás dátuma": "2015-08-07",
                                    "Szállítási mód": "NULL",
                                    "Mennyiség": "8960"
                                },
                                {
                                    "Szállítás dátuma": "2015-08-08",
                                    "Szállítási mód": "NULL",
                                    "Mennyiség": "10296"
                                },
                                {
                                    "Szállítás dátuma": "2015-08-09",
                                    "Szállítási mód": "NULL",
                                    "Mennyiség": "6026"
                                },
                                {
                                    "Szállítás dátuma": "2015-08-10",
                                    "Szállítási mód": "NULL",
                                    "Mennyiség": "7896"
                                },
                                {
                                    "Szállítás dátuma": "2015-08-11",
                                    "Szállítási mód": "NULL",
                                    "Mennyiség": "9008"
                                },
                                {
                                    "Szállítás dátuma": "2015-08-12",
                                    "Szállítási mód": "NULL",
                                    "Mennyiség": "7605"
                                },
                                {
                                    "Szállítás dátuma": "2015-08-13",
                                    "Szállítási mód": "NULL",
                                    "Mennyiség": "9380"
                                },
                                {
                                    "Szállítás dátuma": "2015-08-14",
                                    "Szállítási mód": "NULL",
                                    "Mennyiség": "9780"
                                },
                                {
                                    "Szállítás dátuma": "2015-08-15",
                                    "Szállítási mód": "NULL",
                                    "Mennyiség": "7514"
                                },
                                {
                                    "Szállítás dátuma": "2015-08-16",
                                    "Szállítási mód": "NULL",
                                    "Mennyiség": "5341"
                                },
                                {
                                    "Szállítás dátuma": "2015-08-17",
                                    "Szállítási mód": "NULL",
                                    "Mennyiség": "7162"
                                },
                                {
                                    "Szállítás dátuma": "2015-08-18",
                                    "Szállítási mód": "NULL",
                                    "Mennyiség": "6271"
                                },
                                {
                                    "Szállítás dátuma": "2015-08-19",
                                    "Szállítási mód": "NULL",
                                    "Mennyiség": "6650"
                                },
                                {
                                    "Szállítás dátuma": "2015-08-20",
                                    "Szállítási mód": "NULL",
                                    "Mennyiség": "9005"
                                },
                                {
                                    "Szállítás dátuma": "2015-08-21",
                                    "Szállítási mód": "NULL",
                                    "Mennyiség": "6874"
                                },
                                {
                                    "Szállítás dátuma": "2015-08-22",
                                    "Szállítási mód": "NULL",
                                    "Mennyiség": "10138"
                                },
                                {
                                    "Szállítás dátuma": "2015-08-23",
                                    "Szállítási mód": "NULL",
                                    "Mennyiség": "6734"
                                },
                                {
                                    "Szállítás dátuma": "2015-08-24",
                                    "Szállítási mód": "NULL",
                                    "Mennyiség": "7767"
                                },
                                {
                                    "Szállítás dátuma": "2015-08-25",
                                    "Szállítási mód": "NULL",
                                    "Mennyiség": "9206"
                                },
                                {
                                    "Szállítás dátuma": "2015-08-26",
                                    "Szállítási mód": "NULL",
                                    "Mennyiség": "11006"
                                },
                                {
                                    "Szállítás dátuma": "2015-08-27",
                                    "Szállítási mód": "NULL",
                                    "Mennyiség": "6244"
                                },
                                {
                                    "Szállítás dátuma": "2015-08-28",
                                    "Szállítási mód": "NULL",
                                    "Mennyiség": "8145"
                                },
                                {
                                    "Szállítás dátuma": "2015-08-29",
                                    "Szállítási mód": "NULL",
                                    "Mennyiség": "7380"
                                },
                                {
                                    "Szállítás dátuma": "2015-08-30",
                                    "Szállítási mód": "NULL",
                                    "Mennyiség": "9727"
                                },
                                {
                                    "Szállítás dátuma": "2015-08-31",
                                    "Szállítási mód": "NULL",
                                    "Mennyiség": "7226"
                                },
                                {
                                    "Szállítás dátuma": "2015-09-01",
                                    "Szállítási mód": "NULL",
                                    "Mennyiség": "9466"
                                },
                                {
                                    "Szállítás dátuma": "2015-09-02",
                                    "Szállítási mód": "NULL",
                                    "Mennyiség": "6179"
                                },
                                {
                                    "Szállítás dátuma": "2015-09-03",
                                    "Szállítási mód": "NULL",
                                    "Mennyiség": "9949"
                                },
                                {
                                    "Szállítás dátuma": "2015-09-04",
                                    "Szállítási mód": "NULL",
                                    "Mennyiség": "10432"
                                },
                                {
                                    "Szállítás dátuma": "2015-09-05",
                                    "Szállítási mód": "NULL",
                                    "Mennyiség": "7083"
                                },
                                {
                                    "Szállítás dátuma": "2015-09-06",
                                    "Szállítási mód": "NULL",
                                    "Mennyiség": "8378"
                                },
                                {
                                    "Szállítás dátuma": "2015-09-07",
                                    "Szállítási mód": "NULL",
                                    "Mennyiség": "8303"
                                },
                                {
                                    "Szállítás dátuma": "2015-09-08",
                                    "Szállítási mód": "NULL",
                                    "Mennyiség": "8349"
                                },
                                {
                                    "Szállítás dátuma": "2015-09-09",
                                    "Szállítási mód": "NULL",
                                    "Mennyiség": "7985"
                                },
                                {
                                    "Szállítás dátuma": "2015-09-10",
                                    "Szállítási mód": "NULL",
                                    "Mennyiség": "10353"
                                },
                                {
                                    "Szállítás dátuma": "2015-09-11",
                                    "Szállítási mód": "NULL",
                                    "Mennyiség": "9284"
                                },
                                {
                                    "Szállítás dátuma": "2015-09-12",
                                    "Szállítási mód": "NULL",
                                    "Mennyiség": "8553"
                                },
                                {
                                    "Szállítás dátuma": "2015-09-13",
                                    "Szállítási mód": "NULL",
                                    "Mennyiség": "7435"
                                },
                                {
                                    "Szállítás dátuma": "2015-09-14",
                                    "Szállítási mód": "NULL",
                                    "Mennyiség": "8232"
                                },
                                {
                                    "Szállítás dátuma": "2015-09-15",
                                    "Szállítási mód": "NULL",
                                    "Mennyiség": "4776"
                                },
                                {
                                    "Szállítás dátuma": "2015-09-16",
                                    "Szállítási mód": "NULL",
                                    "Mennyiség": "7416"
                                },
                                {
                                    "Szállítás dátuma": "2015-09-17",
                                    "Szállítási mód": "NULL",
                                    "Mennyiség": "8358"
                                },
                                {
                                    "Szállítás dátuma": "2015-09-18",
                                    "Szállítási mód": "NULL",
                                    "Mennyiség": "7210"
                                },
                                {
                                    "Szállítás dátuma": "2015-09-19",
                                    "Szállítási mód": "NULL",
                                    "Mennyiség": "8267"
                                },
                                {
                                    "Szállítás dátuma": "2015-09-20",
                                    "Szállítási mód": "NULL",
                                    "Mennyiség": "10001"
                                },
                                {
                                    "Szállítás dátuma": "2015-09-21",
                                    "Szállítási mód": "NULL",
                                    "Mennyiség": "7086"
                                },
                                {
                                    "Szállítás dátuma": "2015-09-22",
                                    "Szállítási mód": "NULL",
                                    "Mennyiség": "7424"
                                },
                                {
                                    "Szállítás dátuma": "2015-09-23",
                                    "Szállítási mód": "NULL",
                                    "Mennyiség": "8183"
                                },
                                {
                                    "Szállítás dátuma": "2015-09-24",
                                    "Szállítási mód": "NULL",
                                    "Mennyiség": "10252"
                                },
                                {
                                    "Szállítás dátuma": "2015-09-25",
                                    "Szállítási mód": "NULL",
                                    "Mennyiség": "8106"
                                },
                                {
                                    "Szállítás dátuma": "2015-09-26",
                                    "Szállítási mód": "NULL",
                                    "Mennyiség": "9451"
                                },
                                {
                                    "Szállítás dátuma": "2015-09-27",
                                    "Szállítási mód": "NULL",
                                    "Mennyiség": "8692"
                                },
                                {
                                    "Szállítás dátuma": "2015-09-28",
                                    "Szállítási mód": "NULL",
                                    "Mennyiség": "10281"
                                },
                                {
                                    "Szállítás dátuma": "2015-09-29",
                                    "Szállítási mód": "NULL",
                                    "Mennyiség": "9481"
                                },
                                {
                                    "Szállítás dátuma": "2015-09-30",
                                    "Szállítási mód": "NULL",
                                    "Mennyiség": "5900"
                                },
                                {
                                    "Szállítás dátuma": "2015-10-01",
                                    "Szállítási mód": "NULL",
                                    "Mennyiség": "9384"
                                },
                                {
                                    "Szállítás dátuma": "2015-10-02",
                                    "Szállítási mód": "NULL",
                                    "Mennyiség": "5674"
                                },
                                {
                                    "Szállítás dátuma": "2015-10-03",
                                    "Szállítási mód": "NULL",
                                    "Mennyiség": "8509"
                                },
                                {
                                    "Szállítás dátuma": "2015-10-04",
                                    "Szállítási mód": "NULL",
                                    "Mennyiség": "7645"
                                },
                                {
                                    "Szállítás dátuma": "2015-10-05",
                                    "Szállítási mód": "NULL",
                                    "Mennyiség": "8535"
                                },
                                {
                                    "Szállítás dátuma": "2015-10-06",
                                    "Szállítási mód": "NULL",
                                    "Mennyiség": "7529"
                                },
                                {
                                    "Szállítás dátuma": "2015-10-07",
                                    "Szállítási mód": "NULL",
                                    "Mennyiség": "9435"
                                },
                                {
                                    "Szállítás dátuma": "2015-10-08",
                                    "Szállítási mód": "NULL",
                                    "Mennyiség": "7319"
                                },
                                {
                                    "Szállítás dátuma": "2015-10-09",
                                    "Szállítási mód": "NULL",
                                    "Mennyiség": "8931"
                                },
                                {
                                    "Szállítás dátuma": "2015-10-10",
                                    "Szállítási mód": "NULL",
                                    "Mennyiség": "7928"
                                },
                                {
                                    "Szállítás dátuma": "2015-10-11",
                                    "Szállítási mód": "NULL",
                                    "Mennyiség": "7516"
                                },
                                {
                                    "Szállítás dátuma": "2015-10-12",
                                    "Szállítási mód": "NULL",
                                    "Mennyiség": "9355"
                                },
                                {
                                    "Szállítás dátuma": "2015-10-13",
                                    "Szállítási mód": "NULL",
                                    "Mennyiség": "6564"
                                },
                                {
                                    "Szállítás dátuma": "2015-10-14",
                                    "Szállítási mód": "NULL",
                                    "Mennyiség": "7035"
                                },
                                {
                                    "Szállítás dátuma": "2015-10-15",
                                    "Szállítási mód": "NULL",
                                    "Mennyiség": "9269"
                                },
                                {
                                    "Szállítás dátuma": "2015-10-16",
                                    "Szállítási mód": "NULL",
                                    "Mennyiség": "8427"
                                },
                                {
                                    "Szállítás dátuma": "2015-10-17",
                                    "Szállítási mód": "NULL",
                                    "Mennyiség": "6936"
                                },
                                {
                                    "Szállítás dátuma": "2015-10-18",
                                    "Szállítási mód": "NULL",
                                    "Mennyiség": "8671"
                                },
                                {
                                    "Szállítás dátuma": "2015-10-19",
                                    "Szállítási mód": "NULL",
                                    "Mennyiség": "7207"
                                },
                                {
                                    "Szállítás dátuma": "2015-10-20",
                                    "Szállítási mód": "NULL",
                                    "Mennyiség": "8613"
                                },
                                {
                                    "Szállítás dátuma": "2015-10-21",
                                    "Szállítási mód": "NULL",
                                    "Mennyiség": "7366"
                                },
                                {
                                    "Szállítás dátuma": "2015-10-22",
                                    "Szállítási mód": "NULL",
                                    "Mennyiség": "6678"
                                },
                                {
                                    "Szállítás dátuma": "2015-10-23",
                                    "Szállítási mód": "NULL",
                                    "Mennyiség": "8056"
                                },
                                {
                                    "Szállítás dátuma": "2015-10-24",
                                    "Szállítási mód": "NULL",
                                    "Mennyiség": "7233"
                                },
                                {
                                    "Szállítás dátuma": "2015-10-25",
                                    "Szállítási mód": "NULL",
                                    "Mennyiség": "9107"
                                },
                                {
                                    "Szállítás dátuma": "2015-10-26",
                                    "Szállítási mód": "NULL",
                                    "Mennyiség": "9776"
                                },
                                {
                                    "Szállítás dátuma": "2015-10-27",
                                    "Szállítási mód": "NULL",
                                    "Mennyiség": "7669"
                                },
                                {
                                    "Szállítás dátuma": "2015-10-28",
                                    "Szállítási mód": "NULL",
                                    "Mennyiség": "7522"
                                },
                                {
                                    "Szállítás dátuma": "2015-10-29",
                                    "Szállítási mód": "NULL",
                                    "Mennyiség": "6971"
                                },
                                {
                                    "Szállítás dátuma": "2015-10-30",
                                    "Szállítási mód": "NULL",
                                    "Mennyiség": "8999"
                                },
                                {
                                    "Szállítás dátuma": "2015-10-31",
                                    "Szállítási mód": "NULL",
                                    "Mennyiség": "7046"
                                },
                                {
                                    "Szállítás dátuma": "2015-11-01",
                                    "Szállítási mód": "NULL",
                                    "Mennyiség": "6171"
                                },
                                {
                                    "Szállítás dátuma": "2015-11-02",
                                    "Szállítási mód": "NULL",
                                    "Mennyiség": "7612"
                                },
                                {
                                    "Szállítás dátuma": "2015-11-03",
                                    "Szállítási mód": "NULL",
                                    "Mennyiség": "11533"
                                },
                                {
                                    "Szállítás dátuma": "2015-11-04",
                                    "Szállítási mód": "NULL",
                                    "Mennyiség": "5352"
                                },
                                {
                                    "Szállítás dátuma": "2015-11-05",
                                    "Szállítási mód": "NULL",
                                    "Mennyiség": "7183"
                                },
                                {
                                    "Szállítás dátuma": "2015-11-06",
                                    "Szállítási mód": "NULL",
                                    "Mennyiség": "8606"
                                },
                                {
                                    "Szállítás dátuma": "2015-11-07",
                                    "Szállítási mód": "NULL",
                                    "Mennyiség": "7260"
                                },
                                {
                                    "Szállítás dátuma": "2015-11-08",
                                    "Szállítási mód": "NULL",
                                    "Mennyiség": "8177"
                                },
                                {
                                    "Szállítás dátuma": "2015-11-09",
                                    "Szállítási mód": "NULL",
                                    "Mennyiség": "8431"
                                },
                                {
                                    "Szállítás dátuma": "2015-11-10",
                                    "Szállítási mód": "NULL",
                                    "Mennyiség": "8329"
                                },
                                {
                                    "Szállítás dátuma": "2015-11-11",
                                    "Szállítási mód": "NULL",
                                    "Mennyiség": "8191"
                                },
                                {
                                    "Szállítás dátuma": "2015-11-12",
                                    "Szállítási mód": "NULL",
                                    "Mennyiség": "5884"
                                },
                                {
                                    "Szállítás dátuma": "2015-11-13",
                                    "Szállítási mód": "NULL",
                                    "Mennyiség": "7359"
                                },
                                {
                                    "Szállítás dátuma": "2015-11-14",
                                    "Szállítási mód": "NULL",
                                    "Mennyiség": "7730"
                                },
                                {
                                    "Szállítás dátuma": "2015-11-15",
                                    "Szállítási mód": "NULL",
                                    "Mennyiség": "6881"
                                },
                                {
                                    "Szállítás dátuma": "2015-11-16",
                                    "Szállítási mód": "NULL",
                                    "Mennyiség": "7721"
                                },
                                {
                                    "Szállítás dátuma": "2015-11-17",
                                    "Szállítási mód": "NULL",
                                    "Mennyiség": "7234"
                                },
                                {
                                    "Szállítás dátuma": "2015-11-18",
                                    "Szállítási mód": "NULL",
                                    "Mennyiség": "8321"
                                },
                                {
                                    "Szállítás dátuma": "2015-11-19",
                                    "Szállítási mód": "NULL",
                                    "Mennyiség": "7582"
                                },
                                {
                                    "Szállítás dátuma": "2015-11-20",
                                    "Szállítási mód": "NULL",
                                    "Mennyiség": "6288"
                                },
                                {
                                    "Szállítás dátuma": "2015-11-21",
                                    "Szállítási mód": "NULL",
                                    "Mennyiség": "6657"
                                },
                                {
                                    "Szállítás dátuma": "2015-11-22",
                                    "Szállítási mód": "NULL",
                                    "Mennyiség": "8640"
                                },
                                {
                                    "Szállítás dátuma": "2015-11-23",
                                    "Szállítási mód": "NULL",
                                    "Mennyiség": "7363"
                                },
                                {
                                    "Szállítás dátuma": "2015-11-24",
                                    "Szállítási mód": "NULL",
                                    "Mennyiség": "7556"
                                },
                                {
                                    "Szállítás dátuma": "2015-11-25",
                                    "Szállítási mód": "NULL",
                                    "Mennyiség": "7103"
                                },
                                {
                                    "Szállítás dátuma": "2015-11-26",
                                    "Szállítási mód": "NULL",
                                    "Mennyiség": "8368"
                                },
                                {
                                    "Szállítás dátuma": "2015-11-27",
                                    "Szállítási mód": "NULL",
                                    "Mennyiség": "6865"
                                },
                                {
                                    "Szállítás dátuma": "2015-11-28",
                                    "Szállítási mód": "NULL",
                                    "Mennyiség": "10098"
                                },
                                {
                                    "Szállítás dátuma": "2015-11-29",
                                    "Szállítási mód": "NULL",
                                    "Mennyiség": "7636"
                                },
                                {
                                    "Szállítás dátuma": "2015-11-30",
                                    "Szállítási mód": "NULL",
                                    "Mennyiség": "7182"
                                },
                                {
                                    "Szállítás dátuma": "2015-12-01",
                                    "Szállítási mód": "NULL",
                                    "Mennyiség": "7314"
                                },
                                {
                                    "Szállítás dátuma": "2015-12-02",
                                    "Szállítási mód": "NULL",
                                    "Mennyiség": "9592"
                                },
                                {
                                    "Szállítás dátuma": "2015-12-03",
                                    "Szállítási mód": "NULL",
                                    "Mennyiség": "8829"
                                },
                                {
                                    "Szállítás dátuma": "2015-12-04",
                                    "Szállítási mód": "NULL",
                                    "Mennyiség": "8013"
                                },
                                {
                                    "Szállítás dátuma": "2015-12-05",
                                    "Szállítási mód": "NULL",
                                    "Mennyiség": "8887"
                                },
                                {
                                    "Szállítás dátuma": "2015-12-06",
                                    "Szállítási mód": "NULL",
                                    "Mennyiség": "5596"
                                },
                                {
                                    "Szállítás dátuma": "2015-12-07",
                                    "Szállítási mód": "NULL",
                                    "Mennyiség": "8825"
                                },
                                {
                                    "Szállítás dátuma": "2015-12-08",
                                    "Szállítási mód": "NULL",
                                    "Mennyiség": "7819"
                                },
                                {
                                    "Szállítás dátuma": "2015-12-09",
                                    "Szállítási mód": "NULL",
                                    "Mennyiség": "7897"
                                },
                                {
                                    "Szállítás dátuma": "2015-12-10",
                                    "Szállítási mód": "NULL",
                                    "Mennyiség": "9644"
                                },
                                {
                                    "Szállítás dátuma": "2015-12-11",
                                    "Szállítási mód": "NULL",
                                    "Mennyiség": "8093"
                                },
                                {
                                    "Szállítás dátuma": "2015-12-12",
                                    "Szállítási mód": "NULL",
                                    "Mennyiség": "8957"
                                },
                                {
                                    "Szállítás dátuma": "2015-12-13",
                                    "Szállítási mód": "NULL",
                                    "Mennyiség": "7399"
                                },
                                {
                                    "Szállítás dátuma": "2015-12-14",
                                    "Szállítási mód": "NULL",
                                    "Mennyiség": "7676"
                                },
                                {
                                    "Szállítás dátuma": "2015-12-15",
                                    "Szállítási mód": "NULL",
                                    "Mennyiség": "6863"
                                },
                                {
                                    "Szállítás dátuma": "2015-12-16",
                                    "Szállítási mód": "NULL",
                                    "Mennyiség": "7886"
                                },
                                {
                                    "Szállítás dátuma": "2015-12-17",
                                    "Szállítási mód": "NULL",
                                    "Mennyiség": "6894"
                                },
                                {
                                    "Szállítás dátuma": "2015-12-18",
                                    "Szállítási mód": "NULL",
                                    "Mennyiség": "12260"
                                },
                                {
                                    "Szállítás dátuma": "2015-12-19",
                                    "Szállítási mód": "NULL",
                                    "Mennyiség": "5788"
                                },
                                {
                                    "Szállítás dátuma": "2015-12-20",
                                    "Szállítási mód": "NULL",
                                    "Mennyiség": "8699"
                                },
                                {
                                    "Szállítás dátuma": "2015-12-21",
                                    "Szállítási mód": "NULL",
                                    "Mennyiség": "6630"
                                },
                                {
                                    "Szállítás dátuma": "2015-12-22",
                                    "Szállítási mód": "NULL",
                                    "Mennyiség": "9212"
                                },
                                {
                                    "Szállítás dátuma": "2015-12-23",
                                    "Szállítási mód": "NULL",
                                    "Mennyiség": "6676"
                                },
                                {
                                    "Szállítás dátuma": "2015-12-24",
                                    "Szállítási mód": "NULL",
                                    "Mennyiség": "8869"
                                },
                                {
                                    "Szállítás dátuma": "2015-12-25",
                                    "Szállítási mód": "NULL",
                                    "Mennyiség": "6944"
                                },
                                {
                                    "Szállítás dátuma": "2015-12-26",
                                    "Szállítási mód": "NULL",
                                    "Mennyiség": "8921"
                                },
                                {
                                    "Szállítás dátuma": "2015-12-27",
                                    "Szállítási mód": "NULL",
                                    "Mennyiség": "7648"
                                },
                                {
                                    "Szállítás dátuma": "2015-12-28",
                                    "Szállítási mód": "NULL",
                                    "Mennyiség": "8042"
                                },
                                {
                                    "Szállítás dátuma": "2015-12-29",
                                    "Szállítási mód": "NULL",
                                    "Mennyiség": "7923"
                                },
                                {
                                    "Szállítás dátuma": "2015-12-30",
                                    "Szállítási mód": "NULL",
                                    "Mennyiség": "6562"
                                },
                                {
                                    "Szállítás dátuma": "2015-12-31",
                                    "Szállítási mód": "NULL",
                                    "Mennyiség": "7021"
                                },
                                {
                                    "Szállítás dátuma": "2016-01-01",
                                    "Szállítási mód": "NULL",
                                    "Mennyiség": "8837"
                                },
                                {
                                    "Szállítás dátuma": "2016-01-02",
                                    "Szállítási mód": "NULL",
                                    "Mennyiség": "7518"
                                },
                                {
                                    "Szállítás dátuma": "2016-01-03",
                                    "Szállítási mód": "NULL",
                                    "Mennyiség": "8422"
                                },
                                {
                                    "Szállítás dátuma": "2016-01-04",
                                    "Szállítási mód": "NULL",
                                    "Mennyiség": "8813"
                                },
                                {
                                    "Szállítás dátuma": "2016-01-05",
                                    "Szállítási mód": "NULL",
                                    "Mennyiség": "6895"
                                },
                                {
                                    "Szállítás dátuma": "2016-01-06",
                                    "Szállítási mód": "NULL",
                                    "Mennyiség": "6716"
                                },
                                {
                                    "Szállítás dátuma": "2016-01-07",
                                    "Szállítási mód": "NULL",
                                    "Mennyiség": "5593"
                                },
                                {
                                    "Szállítás dátuma": "2016-01-08",
                                    "Szállítási mód": "NULL",
                                    "Mennyiség": "9534"
                                },
                                {
                                    "Szállítás dátuma": "2016-01-09",
                                    "Szállítási mód": "NULL",
                                    "Mennyiség": "7056"
                                },
                                {
                                    "Szállítás dátuma": "2016-01-10",
                                    "Szállítási mód": "NULL",
                                    "Mennyiség": "8057"
                                },
                                {
                                    "Szállítás dátuma": "2016-01-11",
                                    "Szállítási mód": "NULL",
                                    "Mennyiség": "6734"
                                },
                                {
                                    "Szállítás dátuma": "2016-01-12",
                                    "Szállítási mód": "NULL",
                                    "Mennyiség": "6949"
                                },
                                {
                                    "Szállítás dátuma": "2016-01-13",
                                    "Szállítási mód": "NULL",
                                    "Mennyiség": "7487"
                                },
                                {
                                    "Szállítás dátuma": "2016-01-14",
                                    "Szállítási mód": "NULL",
                                    "Mennyiség": "8998"
                                },
                                {
                                    "Szállítás dátuma": "2016-01-15",
                                    "Szállítási mód": "NULL",
                                    "Mennyiség": "9345"
                                },
                                {
                                    "Szállítás dátuma": "2016-01-16",
                                    "Szállítási mód": "NULL",
                                    "Mennyiség": "8068"
                                },
                                {
                                    "Szállítás dátuma": "2016-01-17",
                                    "Szállítási mód": "NULL",
                                    "Mennyiség": "6954"
                                },
                                {
                                    "Szállítás dátuma": "2016-01-18",
                                    "Szállítási mód": "NULL",
                                    "Mennyiség": "4416"
                                },
                                {
                                    "Szállítás dátuma": "2016-01-19",
                                    "Szállítási mód": "NULL",
                                    "Mennyiség": "7124"
                                },
                                {
                                    "Szállítás dátuma": "2016-01-20",
                                    "Szállítási mód": "NULL",
                                    "Mennyiség": "8568"
                                },
                                {
                                    "Szállítás dátuma": "2016-01-21",
                                    "Szállítási mód": "NULL",
                                    "Mennyiség": "10953"
                                },
                                {
                                    "Szállítás dátuma": "2016-01-22",
                                    "Szállítási mód": "NULL",
                                    "Mennyiség": "8588"
                                },
                                {
                                    "Szállítás dátuma": "2016-01-23",
                                    "Szállítási mód": "NULL",
                                    "Mennyiség": "6512"
                                },
                                {
                                    "Szállítás dátuma": "2016-01-24",
                                    "Szállítási mód": "NULL",
                                    "Mennyiség": "8898"
                                },
                                {
                                    "Szállítás dátuma": "2016-01-25",
                                    "Szállítási mód": "NULL",
                                    "Mennyiség": "5191"
                                },
                                {
                                    "Szállítás dátuma": "2016-01-26",
                                    "Szállítási mód": "NULL",
                                    "Mennyiség": "5293"
                                },
                                {
                                    "Szállítás dátuma": "2016-01-27",
                                    "Szállítási mód": "NULL",
                                    "Mennyiség": "6513"
                                },
                                {
                                    "Szállítás dátuma": "2016-01-28",
                                    "Szállítási mód": "NULL",
                                    "Mennyiség": "8119"
                                },
                                {
                                    "Szállítás dátuma": "2016-01-29",
                                    "Szállítási mód": "NULL",
                                    "Mennyiség": "6658"
                                },
                                {
                                    "Szállítás dátuma": "2016-01-30",
                                    "Szállítási mód": "NULL",
                                    "Mennyiség": "8727"
                                },
                                {
                                    "Szállítás dátuma": "2016-01-31",
                                    "Szállítási mód": "NULL",
                                    "Mennyiség": "7527"
                                },
                                {
                                    "Szállítás dátuma": "2016-02-01",
                                    "Szállítási mód": "NULL",
                                    "Mennyiség": "9120"
                                },
                                {
                                    "Szállítás dátuma": "2016-02-02",
                                    "Szállítási mód": "NULL",
                                    "Mennyiség": "8088"
                                },
                                {
                                    "Szállítás dátuma": "2016-02-03",
                                    "Szállítási mód": "NULL",
                                    "Mennyiség": "9306"
                                },
                                {
                                    "Szállítás dátuma": "2016-02-04",
                                    "Szállítási mód": "NULL",
                                    "Mennyiség": "7994"
                                },
                                {
                                    "Szállítás dátuma": "2016-02-05",
                                    "Szállítási mód": "NULL",
                                    "Mennyiség": "9703"
                                },
                                {
                                    "Szállítás dátuma": "2016-02-06",
                                    "Szállítási mód": "NULL",
                                    "Mennyiség": "9860"
                                },
                                {
                                    "Szállítás dátuma": "2016-02-07",
                                    "Szállítási mód": "NULL",
                                    "Mennyiség": "6630"
                                },
                                {
                                    "Szállítás dátuma": "2016-02-08",
                                    "Szállítási mód": "NULL",
                                    "Mennyiség": "10093"
                                },
                                {
                                    "Szállítás dátuma": "2016-02-09",
                                    "Szállítási mód": "NULL",
                                    "Mennyiség": "9706"
                                },
                                {
                                    "Szállítás dátuma": "2016-02-10",
                                    "Szállítási mód": "NULL",
                                    "Mennyiség": "8520"
                                },
                                {
                                    "Szállítás dátuma": "2016-02-11",
                                    "Szállítási mód": "NULL",
                                    "Mennyiség": "7094"
                                },
                                {
                                    "Szállítás dátuma": "2016-02-12",
                                    "Szállítási mód": "NULL",
                                    "Mennyiség": "7789"
                                },
                                {
                                    "Szállítás dátuma": "2016-02-13",
                                    "Szállítási mód": "NULL",
                                    "Mennyiség": "7991"
                                },
                                {
                                    "Szállítás dátuma": "2016-02-14",
                                    "Szállítási mód": "NULL",
                                    "Mennyiség": "8049"
                                },
                                {
                                    "Szállítás dátuma": "2016-02-15",
                                    "Szállítási mód": "NULL",
                                    "Mennyiség": "10033"
                                },
                                {
                                    "Szállítás dátuma": "2016-02-16",
                                    "Szállítási mód": "NULL",
                                    "Mennyiség": "8049"
                                },
                                {
                                    "Szállítás dátuma": "2016-02-17",
                                    "Szállítási mód": "NULL",
                                    "Mennyiség": "9586"
                                },
                                {
                                    "Szállítás dátuma": "2016-02-18",
                                    "Szállítási mód": "NULL",
                                    "Mennyiség": "5922"
                                },
                                {
                                    "Szállítás dátuma": "2016-02-19",
                                    "Szállítási mód": "NULL",
                                    "Mennyiség": "8898"
                                },
                                {
                                    "Szállítás dátuma": "2016-02-20",
                                    "Szállítási mód": "NULL",
                                    "Mennyiség": "7549"
                                },
                                {
                                    "Szállítás dátuma": "2016-02-21",
                                    "Szállítási mód": "NULL",
                                    "Mennyiség": "6531"
                                },
                                {
                                    "Szállítás dátuma": "2016-02-22",
                                    "Szállítási mód": "NULL",
                                    "Mennyiség": "8724"
                                },
                                {
                                    "Szállítás dátuma": "2016-02-23",
                                    "Szállítási mód": "NULL",
                                    "Mennyiség": "6959"
                                },
                                {
                                    "Szállítás dátuma": "2016-02-24",
                                    "Szállítási mód": "NULL",
                                    "Mennyiség": "6314"
                                },
                                {
                                    "Szállítás dátuma": "2016-02-25",
                                    "Szállítási mód": "NULL",
                                    "Mennyiség": "7324"
                                },
                                {
                                    "Szállítás dátuma": "2016-02-26",
                                    "Szállítási mód": "NULL",
                                    "Mennyiség": "8466"
                                },
                                {
                                    "Szállítás dátuma": "2016-02-27",
                                    "Szállítási mód": "NULL",
                                    "Mennyiség": "7122"
                                },
                                {
                                    "Szállítás dátuma": "2016-02-28",
                                    "Szállítási mód": "NULL",
                                    "Mennyiség": "8447"
                                },
                                {
                                    "Szállítás dátuma": "2016-02-29",
                                    "Szállítási mód": "NULL",
                                    "Mennyiség": "8516"
                                },
                                {
                                    "Szállítás dátuma": "2016-03-01",
                                    "Szállítási mód": "NULL",
                                    "Mennyiség": "9654"
                                },
                                {
                                    "Szállítás dátuma": "2016-03-02",
                                    "Szállítási mód": "NULL",
                                    "Mennyiség": "7282"
                                },
                                {
                                    "Szállítás dátuma": "2016-03-03",
                                    "Szállítási mód": "NULL",
                                    "Mennyiség": "8853"
                                },
                                {
                                    "Szállítás dátuma": "2016-03-04",
                                    "Szállítási mód": "NULL",
                                    "Mennyiség": "8549"
                                },
                                {
                                    "Szállítás dátuma": "2016-03-05",
                                    "Szállítási mód": "NULL",
                                    "Mennyiség": "9463"
                                },
                                {
                                    "Szállítás dátuma": "2016-03-06",
                                    "Szállítási mód": "NULL",
                                    "Mennyiség": "7740"
                                },
                                {
                                    "Szállítás dátuma": "2016-03-07",
                                    "Szállítási mód": "NULL",
                                    "Mennyiség": "7680"
                                },
                                {
                                    "Szállítás dátuma": "2016-03-08",
                                    "Szállítási mód": "NULL",
                                    "Mennyiség": "5849"
                                },
                                {
                                    "Szállítás dátuma": "2016-03-09",
                                    "Szállítási mód": "NULL",
                                    "Mennyiség": "9412"
                                },
                                {
                                    "Szállítás dátuma": "2016-03-10",
                                    "Szállítási mód": "NULL",
                                    "Mennyiség": "8848"
                                },
                                {
                                    "Szállítás dátuma": "2016-03-11",
                                    "Szállítási mód": "NULL",
                                    "Mennyiség": "6193"
                                },
                                {
                                    "Szállítás dátuma": "2016-03-12",
                                    "Szállítási mód": "NULL",
                                    "Mennyiség": "10487"
                                },
                                {
                                    "Szállítás dátuma": "2016-03-13",
                                    "Szállítási mód": "NULL",
                                    "Mennyiség": "5913"
                                },
                                {
                                    "Szállítás dátuma": "2016-03-14",
                                    "Szállítási mód": "NULL",
                                    "Mennyiség": "9336"
                                },
                                {
                                    "Szállítás dátuma": "2016-03-15",
                                    "Szállítási mód": "NULL",
                                    "Mennyiség": "8180"
                                },
                                {
                                    "Szállítás dátuma": "2016-03-16",
                                    "Szállítási mód": "NULL",
                                    "Mennyiség": "7448"
                                },
                                {
                                    "Szállítás dátuma": "2016-03-17",
                                    "Szállítási mód": "NULL",
                                    "Mennyiség": "7770"
                                },
                                {
                                    "Szállítás dátuma": "2016-03-18",
                                    "Szállítási mód": "NULL",
                                    "Mennyiség": "6927"
                                },
                                {
                                    "Szállítás dátuma": "2016-03-19",
                                    "Szállítási mód": "NULL",
                                    "Mennyiség": "7827"
                                },
                                {
                                    "Szállítás dátuma": "2016-03-20",
                                    "Szállítási mód": "NULL",
                                    "Mennyiség": "12190"
                                },
                                {
                                    "Szállítás dátuma": "2016-03-21",
                                    "Szállítási mód": "NULL",
                                    "Mennyiség": "11075"
                                },
                                {
                                    "Szállítás dátuma": "2016-03-22",
                                    "Szállítási mód": "NULL",
                                    "Mennyiség": "7770"
                                },
                                {
                                    "Szállítás dátuma": "2016-03-23",
                                    "Szállítási mód": "NULL",
                                    "Mennyiség": "6397"
                                },
                                {
                                    "Szállítás dátuma": "2016-03-24",
                                    "Szállítási mód": "NULL",
                                    "Mennyiség": "7220"
                                },
                                {
                                    "Szállítás dátuma": "2016-03-25",
                                    "Szállítási mód": "NULL",
                                    "Mennyiség": "8763"
                                },
                                {
                                    "Szállítás dátuma": "2016-03-26",
                                    "Szállítási mód": "NULL",
                                    "Mennyiség": "9893"
                                },
                                {
                                    "Szállítás dátuma": "2016-03-27",
                                    "Szállítási mód": "NULL",
                                    "Mennyiség": "8950"
                                },
                                {
                                    "Szállítás dátuma": "2016-03-28",
                                    "Szállítási mód": "NULL",
                                    "Mennyiség": "7552"
                                },
                                {
                                    "Szállítás dátuma": "2016-03-29",
                                    "Szállítási mód": "NULL",
                                    "Mennyiség": "7416"
                                },
                                {
                                    "Szállítás dátuma": "2016-03-30",
                                    "Szállítási mód": "NULL",
                                    "Mennyiség": "8631"
                                },
                                {
                                    "Szállítás dátuma": "2016-03-31",
                                    "Szállítási mód": "NULL",
                                    "Mennyiség": "6885"
                                },
                                {
                                    "Szállítás dátuma": "2016-04-01",
                                    "Szállítási mód": "NULL",
                                    "Mennyiség": "8756"
                                },
                                {
                                    "Szállítás dátuma": "2016-04-02",
                                    "Szállítási mód": "NULL",
                                    "Mennyiség": "8073"
                                },
                                {
                                    "Szállítás dátuma": "2016-04-03",
                                    "Szállítási mód": "NULL",
                                    "Mennyiség": "5897"
                                },
                                {
                                    "Szállítás dátuma": "2016-04-04",
                                    "Szállítási mód": "NULL",
                                    "Mennyiség": "7405"
                                },
                                {
                                    "Szállítás dátuma": "2016-04-05",
                                    "Szállítási mód": "NULL",
                                    "Mennyiség": "8092"
                                },
                                {
                                    "Szállítás dátuma": "2016-04-06",
                                    "Szállítási mód": "NULL",
                                    "Mennyiség": "7458"
                                },
                                {
                                    "Szállítás dátuma": "2016-04-07",
                                    "Szállítási mód": "NULL",
                                    "Mennyiség": "9216"
                                },
                                {
                                    "Szállítás dátuma": "2016-04-08",
                                    "Szállítási mód": "NULL",
                                    "Mennyiség": "10889"
                                },
                                {
                                    "Szállítás dátuma": "2016-04-09",
                                    "Szállítási mód": "NULL",
                                    "Mennyiség": "9754"
                                },
                                {
                                    "Szállítás dátuma": "2016-04-10",
                                    "Szállítási mód": "NULL",
                                    "Mennyiség": "9878"
                                },
                                {
                                    "Szállítás dátuma": "2016-04-11",
                                    "Szállítási mód": "NULL",
                                    "Mennyiség": "8948"
                                },
                                {
                                    "Szállítás dátuma": "2016-04-12",
                                    "Szállítási mód": "NULL",
                                    "Mennyiség": "7144"
                                },
                                {
                                    "Szállítás dátuma": "2016-04-13",
                                    "Szállítási mód": "NULL",
                                    "Mennyiség": "7728"
                                },
                                {
                                    "Szállítás dátuma": "2016-04-14",
                                    "Szállítási mód": "NULL",
                                    "Mennyiség": "8805"
                                },
                                {
                                    "Szállítás dátuma": "2016-04-15",
                                    "Szállítási mód": "NULL",
                                    "Mennyiség": "8331"
                                },
                                {
                                    "Szállítás dátuma": "2016-04-16",
                                    "Szállítási mód": "NULL",
                                    "Mennyiség": "8755"
                                },
                                {
                                    "Szállítás dátuma": "2016-04-17",
                                    "Szállítási mód": "NULL",
                                    "Mennyiség": "10267"
                                },
                                {
                                    "Szállítás dátuma": "2016-04-18",
                                    "Szállítási mód": "NULL",
                                    "Mennyiség": "7586"
                                },
                                {
                                    "Szállítás dátuma": "2016-04-19",
                                    "Szállítási mód": "NULL",
                                    "Mennyiség": "9190"
                                },
                                {
                                    "Szállítás dátuma": "2016-04-20",
                                    "Szállítási mód": "NULL",
                                    "Mennyiség": "6584"
                                },
                                {
                                    "Szállítás dátuma": "2016-04-21",
                                    "Szállítási mód": "NULL",
                                    "Mennyiség": "6628"
                                },
                                {
                                    "Szállítás dátuma": "2016-04-22",
                                    "Szállítási mód": "NULL",
                                    "Mennyiség": "6502"
                                },
                                {
                                    "Szállítás dátuma": "2016-04-23",
                                    "Szállítási mód": "NULL",
                                    "Mennyiség": "6588"
                                },
                                {
                                    "Szállítás dátuma": "2016-04-24",
                                    "Szállítási mód": "NULL",
                                    "Mennyiség": "9512"
                                },
                                {
                                    "Szállítás dátuma": "2016-04-25",
                                    "Szállítási mód": "NULL",
                                    "Mennyiség": "10177"
                                },
                                {
                                    "Szállítás dátuma": "2016-04-26",
                                    "Szállítási mód": "NULL",
                                    "Mennyiség": "7946"
                                },
                                {
                                    "Szállítás dátuma": "2016-04-27",
                                    "Szállítási mód": "NULL",
                                    "Mennyiség": "8344"
                                },
                                {
                                    "Szállítás dátuma": "2016-04-28",
                                    "Szállítási mód": "NULL",
                                    "Mennyiség": "7732"
                                },
                                {
                                    "Szállítás dátuma": "2016-04-29",
                                    "Szállítási mód": "NULL",
                                    "Mennyiség": "7870"
                                },
                                {
                                    "Szállítás dátuma": "2016-04-30",
                                    "Szállítási mód": "NULL",
                                    "Mennyiség": "7898"
                                },
                                {
                                    "Szállítás dátuma": "2016-05-01",
                                    "Szállítási mód": "NULL",
                                    "Mennyiség": "6600"
                                },
                                {
                                    "Szállítás dátuma": "2016-05-02",
                                    "Szállítási mód": "NULL",
                                    "Mennyiség": "8142"
                                },
                                {
                                    "Szállítás dátuma": "2016-05-03",
                                    "Szállítási mód": "NULL",
                                    "Mennyiség": "5084"
                                },
                                {
                                    "Szállítás dátuma": "2016-05-04",
                                    "Szállítási mód": "NULL",
                                    "Mennyiség": "9125"
                                },
                                {
                                    "Szállítás dátuma": "2016-05-05",
                                    "Szállítási mód": "NULL",
                                    "Mennyiség": "7845"
                                },
                                {
                                    "Szállítás dátuma": "2016-05-06",
                                    "Szállítási mód": "NULL",
                                    "Mennyiség": "7969"
                                },
                                {
                                    "Szállítás dátuma": "2016-05-07",
                                    "Szállítási mód": "NULL",
                                    "Mennyiség": "8896"
                                },
                                {
                                    "Szállítás dátuma": "2016-05-08",
                                    "Szállítási mód": "NULL",
                                    "Mennyiség": "7858"
                                },
                                {
                                    "Szállítás dátuma": "2016-05-09",
                                    "Szállítási mód": "NULL",
                                    "Mennyiség": "11178"
                                },
                                {
                                    "Szállítás dátuma": "2016-05-10",
                                    "Szállítási mód": "NULL",
                                    "Mennyiség": "8968"
                                },
                                {
                                    "Szállítás dátuma": "2016-05-11",
                                    "Szállítási mód": "NULL",
                                    "Mennyiség": "8132"
                                },
                                {
                                    "Szállítás dátuma": "2016-05-12",
                                    "Szállítási mód": "NULL",
                                    "Mennyiség": "8095"
                                },
                                {
                                    "Szállítás dátuma": "2016-05-13",
                                    "Szállítási mód": "NULL",
                                    "Mennyiség": "8089"
                                },
                                {
                                    "Szállítás dátuma": "2016-05-14",
                                    "Szállítási mód": "NULL",
                                    "Mennyiség": "7722"
                                },
                                {
                                    "Szállítás dátuma": "2016-05-15",
                                    "Szállítási mód": "NULL",
                                    "Mennyiség": "5490"
                                },
                                {
                                    "Szállítás dátuma": "2016-05-16",
                                    "Szállítási mód": "NULL",
                                    "Mennyiség": "7944"
                                },
                                {
                                    "Szállítás dátuma": "2016-05-17",
                                    "Szállítási mód": "NULL",
                                    "Mennyiség": "8888"
                                },
                                {
                                    "Szállítás dátuma": "2016-05-18",
                                    "Szállítási mód": "NULL",
                                    "Mennyiség": "5720"
                                },
                                {
                                    "Szállítás dátuma": "2016-05-19",
                                    "Szállítási mód": "NULL",
                                    "Mennyiség": "7578"
                                },
                                {
                                    "Szállítás dátuma": "2016-05-20",
                                    "Szállítási mód": "NULL",
                                    "Mennyiség": "8879"
                                },
                                {
                                    "Szállítás dátuma": "2016-05-21",
                                    "Szállítási mód": "NULL",
                                    "Mennyiség": "9030"
                                },
                                {
                                    "Szállítás dátuma": "2016-05-22",
                                    "Szállítási mód": "NULL",
                                    "Mennyiség": "4914"
                                },
                                {
                                    "Szállítás dátuma": "2016-05-23",
                                    "Szállítási mód": "NULL",
                                    "Mennyiség": "8577"
                                },
                                {
                                    "Szállítás dátuma": "2016-05-24",
                                    "Szállítási mód": "NULL",
                                    "Mennyiség": "8816"
                                },
                                {
                                    "Szállítás dátuma": "2016-05-25",
                                    "Szállítási mód": "NULL",
                                    "Mennyiség": "9296"
                                },
                                {
                                    "Szállítás dátuma": "2016-05-26",
                                    "Szállítási mód": "NULL",
                                    "Mennyiség": "5287"
                                },
                                {
                                    "Szállítás dátuma": "2016-05-27",
                                    "Szállítási mód": "NULL",
                                    "Mennyiség": "9701"
                                },
                                {
                                    "Szállítás dátuma": "2016-05-28",
                                    "Szállítási mód": "NULL",
                                    "Mennyiség": "6509"
                                },
                                {
                                    "Szállítás dátuma": "2016-05-29",
                                    "Szállítási mód": "NULL",
                                    "Mennyiség": "9450"
                                },
                                {
                                    "Szállítás dátuma": "2016-05-30",
                                    "Szállítási mód": "NULL",
                                    "Mennyiség": "6884"
                                },
                                {
                                    "Szállítás dátuma": "2016-05-31",
                                    "Szállítási mód": "NULL",
                                    "Mennyiség": "10007"
                                },
                                {
                                    "Szállítás dátuma": "2016-06-01",
                                    "Szállítási mód": "NULL",
                                    "Mennyiség": "8484"
                                },
                                {
                                    "Szállítás dátuma": "2016-06-02",
                                    "Szállítási mód": "NULL",
                                    "Mennyiség": "6928"
                                },
                                {
                                    "Szállítás dátuma": "2016-06-03",
                                    "Szállítási mód": "NULL",
                                    "Mennyiség": "6567"
                                },
                                {
                                    "Szállítás dátuma": "2016-06-04",
                                    "Szállítási mód": "NULL",
                                    "Mennyiség": "7904"
                                },
                                {
                                    "Szállítás dátuma": "2016-06-05",
                                    "Szállítási mód": "NULL",
                                    "Mennyiség": "5802"
                                },
                                {
                                    "Szállítás dátuma": "2016-06-06",
                                    "Szállítási mód": "NULL",
                                    "Mennyiség": "9474"
                                },
                                {
                                    "Szállítás dátuma": "2016-06-07",
                                    "Szállítási mód": "NULL",
                                    "Mennyiség": "8722"
                                },
                                {
                                    "Szállítás dátuma": "2016-06-08",
                                    "Szállítási mód": "NULL",
                                    "Mennyiség": "7019"
                                },
                                {
                                    "Szállítás dátuma": "2016-06-09",
                                    "Szállítási mód": "NULL",
                                    "Mennyiség": "7354"
                                },
                                {
                                    "Szállítás dátuma": "2016-06-10",
                                    "Szállítási mód": "NULL",
                                    "Mennyiség": "8873"
                                },
                                {
                                    "Szállítás dátuma": "2016-06-11",
                                    "Szállítási mód": "NULL",
                                    "Mennyiség": "9217"
                                },
                                {
                                    "Szállítás dátuma": "2016-06-12",
                                    "Szállítási mód": "NULL",
                                    "Mennyiség": "9418"
                                },
                                {
                                    "Szállítás dátuma": "2016-06-13",
                                    "Szállítási mód": "NULL",
                                    "Mennyiség": "6407"
                                },
                                {
                                    "Szállítás dátuma": "2016-06-14",
                                    "Szállítási mód": "NULL",
                                    "Mennyiség": "7968"
                                },
                                {
                                    "Szállítás dátuma": "2016-06-15",
                                    "Szállítási mód": "NULL",
                                    "Mennyiség": "8830"
                                },
                                {
                                    "Szállítás dátuma": "2016-06-16",
                                    "Szállítási mód": "NULL",
                                    "Mennyiség": "6462"
                                },
                                {
                                    "Szállítás dátuma": "2016-06-17",
                                    "Szállítási mód": "NULL",
                                    "Mennyiség": "9189"
                                },
                                {
                                    "Szállítás dátuma": "2016-06-18",
                                    "Szállítási mód": "NULL",
                                    "Mennyiség": "6311"
                                },
                                {
                                    "Szállítás dátuma": "2016-06-19",
                                    "Szállítási mód": "NULL",
                                    "Mennyiség": "8834"
                                },
                                {
                                    "Szállítás dátuma": "2016-06-20",
                                    "Szállítási mód": "NULL",
                                    "Mennyiség": "8005"
                                },
                                {
                                    "Szállítás dátuma": "2016-06-21",
                                    "Szállítási mód": "NULL",
                                    "Mennyiség": "6482"
                                },
                                {
                                    "Szállítás dátuma": "2016-06-22",
                                    "Szállítási mód": "NULL",
                                    "Mennyiség": "6541"
                                },
                                {
                                    "Szállítás dátuma": "2016-06-23",
                                    "Szállítási mód": "NULL",
                                    "Mennyiség": "6662"
                                },
                                {
                                    "Szállítás dátuma": "2016-06-24",
                                    "Szállítási mód": "NULL",
                                    "Mennyiség": "8530"
                                },
                                {
                                    "Szállítás dátuma": "2016-06-25",
                                    "Szállítási mód": "NULL",
                                    "Mennyiség": "8262"
                                },
                                {
                                    "Szállítás dátuma": "2016-06-26",
                                    "Szállítási mód": "NULL",
                                    "Mennyiség": "10488"
                                },
                                {
                                    "Szállítás dátuma": "2016-06-27",
                                    "Szállítási mód": "NULL",
                                    "Mennyiség": "5541"
                                },
                                {
                                    "Szállítás dátuma": "2016-06-28",
                                    "Szállítási mód": "NULL",
                                    "Mennyiség": "10267"
                                },
                                {
                                    "Szállítás dátuma": "2016-06-29",
                                    "Szállítási mód": "NULL",
                                    "Mennyiség": "9869"
                                },
                                {
                                    "Szállítás dátuma": "2016-06-30",
                                    "Szállítási mód": "NULL",
                                    "Mennyiség": "9437"
                                },
                                {
                                    "Szállítás dátuma": "2016-07-01",
                                    "Szállítási mód": "NULL",
                                    "Mennyiség": "5916"
                                },
                                {
                                    "Szállítás dátuma": "2016-07-02",
                                    "Szállítási mód": "NULL",
                                    "Mennyiség": "6710"
                                },
                                {
                                    "Szállítás dátuma": "2016-07-03",
                                    "Szállítási mód": "NULL",
                                    "Mennyiség": "9081"
                                },
                                {
                                    "Szállítás dátuma": "2016-07-04",
                                    "Szállítási mód": "NULL",
                                    "Mennyiség": "10816"
                                },
                                {
                                    "Szállítás dátuma": "2016-07-05",
                                    "Szállítási mód": "NULL",
                                    "Mennyiség": "8863"
                                },
                                {
                                    "Szállítás dátuma": "2016-07-06",
                                    "Szállítási mód": "NULL",
                                    "Mennyiség": "7283"
                                },
                                {
                                    "Szállítás dátuma": "2016-07-07",
                                    "Szállítási mód": "NULL",
                                    "Mennyiség": "5922"
                                },
                                {
                                    "Szállítás dátuma": "2016-07-08",
                                    "Szállítási mód": "NULL",
                                    "Mennyiség": "7968"
                                },
                                {
                                    "Szállítás dátuma": "2016-07-09",
                                    "Szállítási mód": "NULL",
                                    "Mennyiség": "9112"
                                },
                                {
                                    "Szállítás dátuma": "2016-07-10",
                                    "Szállítási mód": "NULL",
                                    "Mennyiség": "7494"
                                },
                                {
                                    "Szállítás dátuma": "2016-07-11",
                                    "Szállítási mód": "NULL",
                                    "Mennyiség": "10358"
                                },
                                {
                                    "Szállítás dátuma": "2016-07-12",
                                    "Szállítási mód": "NULL",
                                    "Mennyiség": "8519"
                                },
                                {
                                    "Szállítás dátuma": "2016-07-13",
                                    "Szállítási mód": "NULL",
                                    "Mennyiség": "8721"
                                },
                                {
                                    "Szállítás dátuma": "2016-07-14",
                                    "Szállítási mód": "NULL",
                                    "Mennyiség": "7363"
                                },
                                {
                                    "Szállítás dátuma": "2016-07-15",
                                    "Szállítási mód": "NULL",
                                    "Mennyiség": "7066"
                                },
                                {
                                    "Szállítás dátuma": "2016-07-16",
                                    "Szállítási mód": "NULL",
                                    "Mennyiség": "8298"
                                },
                                {
                                    "Szállítás dátuma": "2016-07-17",
                                    "Szállítási mód": "NULL",
                                    "Mennyiség": "6320"
                                },
                                {
                                    "Szállítás dátuma": "2016-07-18",
                                    "Szállítási mód": "NULL",
                                    "Mennyiség": "8573"
                                },
                                {
                                    "Szállítás dátuma": "2016-07-19",
                                    "Szállítási mód": "NULL",
                                    "Mennyiség": "9023"
                                },
                                {
                                    "Szállítás dátuma": "2016-07-20",
                                    "Szállítási mód": "NULL",
                                    "Mennyiség": "7415"
                                },
                                {
                                    "Szállítás dátuma": "2016-07-21",
                                    "Szállítási mód": "NULL",
                                    "Mennyiség": "7484"
                                },
                                {
                                    "Szállítás dátuma": "2016-07-22",
                                    "Szállítási mód": "NULL",
                                    "Mennyiség": "7412"
                                },
                                {
                                    "Szállítás dátuma": "2016-07-23",
                                    "Szállítási mód": "NULL",
                                    "Mennyiség": "6895"
                                },
                                {
                                    "Szállítás dátuma": "2016-07-24",
                                    "Szállítási mód": "NULL",
                                    "Mennyiség": "6958"
                                },
                                {
                                    "Szállítás dátuma": "2016-07-25",
                                    "Szállítási mód": "NULL",
                                    "Mennyiség": "7559"
                                },
                                {
                                    "Szállítás dátuma": "2016-07-26",
                                    "Szállítási mód": "NULL",
                                    "Mennyiség": "7020"
                                },
                                {
                                    "Szállítás dátuma": "2016-07-27",
                                    "Szállítási mód": "NULL",
                                    "Mennyiség": "9352"
                                },
                                {
                                    "Szállítás dátuma": "2016-07-28",
                                    "Szállítási mód": "NULL",
                                    "Mennyiség": "7155"
                                },
                                {
                                    "Szállítás dátuma": "2016-07-29",
                                    "Szállítási mód": "NULL",
                                    "Mennyiség": "9038"
                                },
                                {
                                    "Szállítás dátuma": "2016-07-30",
                                    "Szállítási mód": "NULL",
                                    "Mennyiség": "6288"
                                },
                                {
                                    "Szállítás dátuma": "2016-07-31",
                                    "Szállítási mód": "NULL",
                                    "Mennyiség": "9007"
                                },
                                {
                                    "Szállítás dátuma": "2016-08-01",
                                    "Szállítási mód": "NULL",
                                    "Mennyiség": "7588"
                                },
                                {
                                    "Szállítás dátuma": "2016-08-02",
                                    "Szállítási mód": "NULL",
                                    "Mennyiség": "6686"
                                },
                                {
                                    "Szállítás dátuma": "2016-08-03",
                                    "Szállítási mód": "NULL",
                                    "Mennyiség": "7884"
                                },
                                {
                                    "Szállítás dátuma": "2016-08-04",
                                    "Szállítási mód": "NULL",
                                    "Mennyiség": "6900"
                                },
                                {
                                    "Szállítás dátuma": "2016-08-05",
                                    "Szállítási mód": "NULL",
                                    "Mennyiség": "7610"
                                },
                                {
                                    "Szállítás dátuma": "2016-08-06",
                                    "Szállítási mód": "NULL",
                                    "Mennyiség": "8498"
                                },
                                {
                                    "Szállítás dátuma": "2016-08-07",
                                    "Szállítási mód": "NULL",
                                    "Mennyiség": "5511"
                                },
                                {
                                    "Szállítás dátuma": "2016-08-08",
                                    "Szállítási mód": "NULL",
                                    "Mennyiség": "5829"
                                },
                                {
                                    "Szállítás dátuma": "2016-08-09",
                                    "Szállítási mód": "NULL",
                                    "Mennyiség": "10307"
                                },
                                {
                                    "Szállítás dátuma": "2016-08-10",
                                    "Szállítási mód": "NULL",
                                    "Mennyiség": "8311"
                                },
                                {
                                    "Szállítás dátuma": "2016-08-11",
                                    "Szállítási mód": "NULL",
                                    "Mennyiség": "8232"
                                },
                                {
                                    "Szállítás dátuma": "2016-08-12",
                                    "Szállítási mód": "NULL",
                                    "Mennyiség": "8761"
                                },
                                {
                                    "Szállítás dátuma": "2016-08-13",
                                    "Szállítási mód": "NULL",
                                    "Mennyiség": "9571"
                                },
                                {
                                    "Szállítás dátuma": "2016-08-14",
                                    "Szállítási mód": "NULL",
                                    "Mennyiség": "8263"
                                },
                                {
                                    "Szállítás dátuma": "2016-08-15",
                                    "Szállítási mód": "NULL",
                                    "Mennyiség": "10966"
                                },
                                {
                                    "Szállítás dátuma": "2016-08-16",
                                    "Szállítási mód": "NULL",
                                    "Mennyiség": "7435"
                                },
                                {
                                    "Szállítás dátuma": "2016-08-17",
                                    "Szállítási mód": "NULL",
                                    "Mennyiség": "7576"
                                },
                                {
                                    "Szállítás dátuma": "2016-08-18",
                                    "Szállítási mód": "NULL",
                                    "Mennyiség": "7689"
                                },
                                {
                                    "Szállítás dátuma": "2016-08-19",
                                    "Szállítási mód": "NULL",
                                    "Mennyiség": "6974"
                                },
                                {
                                    "Szállítás dátuma": "2016-08-20",
                                    "Szállítási mód": "NULL",
                                    "Mennyiség": "9117"
                                },
                                {
                                    "Szállítás dátuma": "2016-08-21",
                                    "Szállítási mód": "NULL",
                                    "Mennyiség": "5864"
                                },
                                {
                                    "Szállítás dátuma": "2016-08-22",
                                    "Szállítási mód": "NULL",
                                    "Mennyiség": "7082"
                                },
                                {
                                    "Szállítás dátuma": "2016-08-23",
                                    "Szállítási mód": "NULL",
                                    "Mennyiség": "6153"
                                },
                                {
                                    "Szállítás dátuma": "2016-08-24",
                                    "Szállítási mód": "NULL",
                                    "Mennyiség": "8822"
                                },
                                {
                                    "Szállítás dátuma": "2016-08-25",
                                    "Szállítási mód": "NULL",
                                    "Mennyiség": "9398"
                                },
                                {
                                    "Szállítás dátuma": "2016-08-26",
                                    "Szállítási mód": "NULL",
                                    "Mennyiség": "8695"
                                },
                                {
                                    "Szállítás dátuma": "2016-08-27",
                                    "Szállítási mód": "NULL",
                                    "Mennyiség": "8120"
                                },
                                {
                                    "Szállítás dátuma": "2016-08-28",
                                    "Szállítási mód": "NULL",
                                    "Mennyiség": "8937"
                                },
                                {
                                    "Szállítás dátuma": "2016-08-29",
                                    "Szállítási mód": "NULL",
                                    "Mennyiség": "7542"
                                },
                                {
                                    "Szállítás dátuma": "2016-08-30",
                                    "Szállítási mód": "NULL",
                                    "Mennyiség": "5527"
                                },
                                {
                                    "Szállítás dátuma": "2016-08-31",
                                    "Szállítási mód": "NULL",
                                    "Mennyiség": "6069"
                                },
                                {
                                    "Szállítás dátuma": "2016-09-01",
                                    "Szállítási mód": "NULL",
                                    "Mennyiség": "6626"
                                },
                                {
                                    "Szállítás dátuma": "2016-09-02",
                                    "Szállítási mód": "NULL",
                                    "Mennyiség": "7775"
                                },
                                {
                                    "Szállítás dátuma": "2016-09-03",
                                    "Szállítási mód": "NULL",
                                    "Mennyiség": "11043"
                                },
                                {
                                    "Szállítás dátuma": "2016-09-04",
                                    "Szállítási mód": "NULL",
                                    "Mennyiség": "11369"
                                },
                                {
                                    "Szállítás dátuma": "2016-09-05",
                                    "Szállítási mód": "NULL",
                                    "Mennyiség": "6206"
                                },
                                {
                                    "Szállítás dátuma": "2016-09-06",
                                    "Szállítási mód": "NULL",
                                    "Mennyiség": "8736"
                                },
                                {
                                    "Szállítás dátuma": "2016-09-07",
                                    "Szállítási mód": "NULL",
                                    "Mennyiség": "8579"
                                },
                                {
                                    "Szállítás dátuma": "2016-09-08",
                                    "Szállítási mód": "NULL",
                                    "Mennyiség": "8561"
                                },
                                {
                                    "Szállítás dátuma": "2016-09-09",
                                    "Szállítási mód": "NULL",
                                    "Mennyiség": "8470"
                                },
                                {
                                    "Szállítás dátuma": "2016-09-10",
                                    "Szállítási mód": "NULL",
                                    "Mennyiség": "9203"
                                },
                                {
                                    "Szállítás dátuma": "2016-09-11",
                                    "Szállítási mód": "NULL",
                                    "Mennyiség": "8573"
                                },
                                {
                                    "Szállítás dátuma": "2016-09-12",
                                    "Szállítási mód": "NULL",
                                    "Mennyiség": "6264"
                                },
                                {
                                    "Szállítás dátuma": "2016-09-13",
                                    "Szállítási mód": "NULL",
                                    "Mennyiség": "8200"
                                },
                                {
                                    "Szállítás dátuma": "2016-09-14",
                                    "Szállítási mód": "NULL",
                                    "Mennyiség": "10576"
                                },
                                {
                                    "Szállítás dátuma": "2016-09-15",
                                    "Szállítási mód": "NULL",
                                    "Mennyiség": "10530"
                                },
                                {
                                    "Szállítás dátuma": "2016-09-16",
                                    "Szállítási mód": "NULL",
                                    "Mennyiség": "5621"
                                },
                                {
                                    "Szállítás dátuma": "2016-09-17",
                                    "Szállítási mód": "NULL",
                                    "Mennyiség": "7379"
                                },
                                {
                                    "Szállítás dátuma": "2016-09-18",
                                    "Szállítási mód": "NULL",
                                    "Mennyiség": "10790"
                                },
                                {
                                    "Szállítás dátuma": "2016-09-19",
                                    "Szállítási mód": "NULL",
                                    "Mennyiség": "7019"
                                },
                                {
                                    "Szállítás dátuma": "2016-09-20",
                                    "Szállítási mód": "NULL",
                                    "Mennyiség": "8544"
                                },
                                {
                                    "Szállítás dátuma": "2016-09-21",
                                    "Szállítási mód": "NULL",
                                    "Mennyiség": "5504"
                                },
                                {
                                    "Szállítás dátuma": "2016-09-22",
                                    "Szállítási mód": "NULL",
                                    "Mennyiség": "6691"
                                },
                                {
                                    "Szállítás dátuma": "2016-09-23",
                                    "Szállítási mód": "NULL",
                                    "Mennyiség": "6574"
                                },
                                {
                                    "Szállítás dátuma": "2016-09-24",
                                    "Szállítási mód": "NULL",
                                    "Mennyiség": "6220"
                                },
                                {
                                    "Szállítás dátuma": "2016-09-25",
                                    "Szállítási mód": "NULL",
                                    "Mennyiség": "6759"
                                },
                                {
                                    "Szállítás dátuma": "2016-09-26",
                                    "Szállítási mód": "NULL",
                                    "Mennyiség": "7073"
                                },
                                {
                                    "Szállítás dátuma": "2016-09-27",
                                    "Szállítási mód": "NULL",
                                    "Mennyiség": "9214"
                                },
                                {
                                    "Szállítás dátuma": "2016-09-28",
                                    "Szállítási mód": "NULL",
                                    "Mennyiség": "7948"
                                },
                                {
                                    "Szállítás dátuma": "2016-09-29",
                                    "Szállítási mód": "NULL",
                                    "Mennyiség": "5840"
                                },
                                {
                                    "Szállítás dátuma": "2016-09-30",
                                    "Szállítási mód": "NULL",
                                    "Mennyiség": "8410"
                                },
                                {
                                    "Szállítás dátuma": "2016-10-01",
                                    "Szállítási mód": "NULL",
                                    "Mennyiség": "8122"
                                },
                                {
                                    "Szállítás dátuma": "2016-10-02",
                                    "Szállítási mód": "NULL",
                                    "Mennyiség": "7206"
                                },
                                {
                                    "Szállítás dátuma": "2016-10-03",
                                    "Szállítási mód": "NULL",
                                    "Mennyiség": "6357"
                                },
                                {
                                    "Szállítás dátuma": "2016-10-04",
                                    "Szállítási mód": "NULL",
                                    "Mennyiség": "7203"
                                },
                                {
                                    "Szállítás dátuma": "2016-10-05",
                                    "Szállítási mód": "NULL",
                                    "Mennyiség": "7856"
                                },
                                {
                                    "Szállítás dátuma": "2016-10-06",
                                    "Szállítási mód": "NULL",
                                    "Mennyiség": "6682"
                                },
                                {
                                    "Szállítás dátuma": "2016-10-07",
                                    "Szállítási mód": "NULL",
                                    "Mennyiség": "6607"
                                },
                                {
                                    "Szállítás dátuma": "2016-10-08",
                                    "Szállítási mód": "NULL",
                                    "Mennyiség": "8515"
                                },
                                {
                                    "Szállítás dátuma": "2016-10-09",
                                    "Szállítási mód": "NULL",
                                    "Mennyiség": "10396"
                                },
                                {
                                    "Szállítás dátuma": "2016-10-10",
                                    "Szállítási mód": "NULL",
                                    "Mennyiség": "7117"
                                },
                                {
                                    "Szállítás dátuma": "2016-10-11",
                                    "Szállítási mód": "NULL",
                                    "Mennyiség": "9192"
                                },
                                {
                                    "Szállítás dátuma": "2016-10-12",
                                    "Szállítási mód": "NULL",
                                    "Mennyiség": "10889"
                                },
                                {
                                    "Szállítás dátuma": "2016-10-13",
                                    "Szállítási mód": "NULL",
                                    "Mennyiség": "10192"
                                },
                                {
                                    "Szállítás dátuma": "2016-10-14",
                                    "Szállítási mód": "NULL",
                                    "Mennyiség": "7397"
                                },
                                {
                                    "Szállítás dátuma": "2016-10-15",
                                    "Szállítási mód": "NULL",
                                    "Mennyiség": "7459"
                                },
                                {
                                    "Szállítás dátuma": "2016-10-16",
                                    "Szállítási mód": "NULL",
                                    "Mennyiség": "7198"
                                },
                                {
                                    "Szállítás dátuma": "2016-10-17",
                                    "Szállítási mód": "NULL",
                                    "Mennyiség": "11045"
                                },
                                {
                                    "Szállítás dátuma": "2016-10-18",
                                    "Szállítási mód": "NULL",
                                    "Mennyiség": "7033"
                                },
                                {
                                    "Szállítás dátuma": "2016-10-19",
                                    "Szállítási mód": "NULL",
                                    "Mennyiség": "9307"
                                },
                                {
                                    "Szállítás dátuma": "2016-10-20",
                                    "Szállítási mód": "NULL",
                                    "Mennyiség": "6856"
                                },
                                {
                                    "Szállítás dátuma": "2016-10-21",
                                    "Szállítási mód": "NULL",
                                    "Mennyiség": "9403"
                                },
                                {
                                    "Szállítás dátuma": "2016-10-22",
                                    "Szállítási mód": "NULL",
                                    "Mennyiség": "8356"
                                },
                                {
                                    "Szállítás dátuma": "2016-10-23",
                                    "Szállítási mód": "NULL",
                                    "Mennyiség": "9634"
                                },
                                {
                                    "Szállítás dátuma": "2016-10-24",
                                    "Szállítási mód": "NULL",
                                    "Mennyiség": "4888"
                                },
                                {
                                    "Szállítás dátuma": "2016-10-25",
                                    "Szállítási mód": "NULL",
                                    "Mennyiség": "11978"
                                },
                                {
                                    "Szállítás dátuma": "2016-10-26",
                                    "Szállítási mód": "NULL",
                                    "Mennyiség": "8070"
                                },
                                {
                                    "Szállítás dátuma": "2016-10-27",
                                    "Szállítási mód": "NULL",
                                    "Mennyiség": "7617"
                                },
                                {
                                    "Szállítás dátuma": "2016-10-28",
                                    "Szállítási mód": "NULL",
                                    "Mennyiség": "7766"
                                },
                                {
                                    "Szállítás dátuma": "2016-10-29",
                                    "Szállítási mód": "NULL",
                                    "Mennyiség": "6854"
                                },
                                {
                                    "Szállítás dátuma": "2016-10-30",
                                    "Szállítási mód": "NULL",
                                    "Mennyiség": "11718"
                                },
                                {
                                    "Szállítás dátuma": "2016-10-31",
                                    "Szállítási mód": "NULL",
                                    "Mennyiség": "8714"
                                },
                                {
                                    "Szállítás dátuma": "2016-11-01",
                                    "Szállítási mód": "NULL",
                                    "Mennyiség": "7238"
                                },
                                {
                                    "Szállítás dátuma": "2016-11-02",
                                    "Szállítási mód": "NULL",
                                    "Mennyiség": "5472"
                                },
                                {
                                    "Szállítás dátuma": "2016-11-03",
                                    "Szállítási mód": "NULL",
                                    "Mennyiség": "7739"
                                },
                                {
                                    "Szállítás dátuma": "2016-11-04",
                                    "Szállítási mód": "NULL",
                                    "Mennyiség": "6667"
                                },
                                {
                                    "Szállítás dátuma": "2016-11-05",
                                    "Szállítási mód": "NULL",
                                    "Mennyiség": "9157"
                                },
                                {
                                    "Szállítás dátuma": "2016-11-06",
                                    "Szállítási mód": "NULL",
                                    "Mennyiség": "8517"
                                },
                                {
                                    "Szállítás dátuma": "2016-11-07",
                                    "Szállítási mód": "NULL",
                                    "Mennyiség": "6691"
                                },
                                {
                                    "Szállítás dátuma": "2016-11-08",
                                    "Szállítási mód": "NULL",
                                    "Mennyiség": "8431"
                                },
                                {
                                    "Szállítás dátuma": "2016-11-09",
                                    "Szállítási mód": "NULL",
                                    "Mennyiség": "5911"
                                },
                                {
                                    "Szállítás dátuma": "2016-11-10",
                                    "Szállítási mód": "NULL",
                                    "Mennyiség": "6795"
                                },
                                {
                                    "Szállítás dátuma": "2016-11-11",
                                    "Szállítási mód": "NULL",
                                    "Mennyiség": "6940"
                                },
                                {
                                    "Szállítás dátuma": "2016-11-12",
                                    "Szállítási mód": "NULL",
                                    "Mennyiség": "10959"
                                },
                                {
                                    "Szállítás dátuma": "2016-11-13",
                                    "Szállítási mód": "NULL",
                                    "Mennyiség": "10751"
                                },
                                {
                                    "Szállítás dátuma": "2016-11-14",
                                    "Szállítási mód": "NULL",
                                    "Mennyiség": "11881"
                                },
                                {
                                    "Szállítás dátuma": "2016-11-15",
                                    "Szállítási mód": "NULL",
                                    "Mennyiség": "6736"
                                },
                                {
                                    "Szállítás dátuma": "2016-11-16",
                                    "Szállítási mód": "NULL",
                                    "Mennyiség": "8969"
                                },
                                {
                                    "Szállítás dátuma": "2016-11-17",
                                    "Szállítási mód": "NULL",
                                    "Mennyiség": "6852"
                                },
                                {
                                    "Szállítás dátuma": "2016-11-18",
                                    "Szállítási mód": "NULL",
                                    "Mennyiség": "6770"
                                },
                                {
                                    "Szállítás dátuma": "2016-11-19",
                                    "Szállítási mód": "NULL",
                                    "Mennyiség": "7451"
                                },
                                {
                                    "Szállítás dátuma": "2016-11-20",
                                    "Szállítási mód": "NULL",
                                    "Mennyiség": "7946"
                                },
                                {
                                    "Szállítás dátuma": "2016-11-21",
                                    "Szállítási mód": "NULL",
                                    "Mennyiség": "6727"
                                },
                                {
                                    "Szállítás dátuma": "2016-11-22",
                                    "Szállítási mód": "NULL",
                                    "Mennyiség": "7801"
                                },
                                {
                                    "Szállítás dátuma": "2016-11-23",
                                    "Szállítási mód": "NULL",
                                    "Mennyiség": "7435"
                                },
                                {
                                    "Szállítás dátuma": "2016-11-24",
                                    "Szállítási mód": "NULL",
                                    "Mennyiség": "5981"
                                },
                                {
                                    "Szállítás dátuma": "2016-11-25",
                                    "Szállítási mód": "NULL",
                                    "Mennyiség": "6915"
                                },
                                {
                                    "Szállítás dátuma": "2016-11-26",
                                    "Szállítási mód": "NULL",
                                    "Mennyiség": "9216"
                                },
                                {
                                    "Szállítás dátuma": "2016-11-27",
                                    "Szállítási mód": "NULL",
                                    "Mennyiség": "9893"
                                },
                                {
                                    "Szállítás dátuma": "2016-11-28",
                                    "Szállítási mód": "NULL",
                                    "Mennyiség": "9770"
                                },
                                {
                                    "Szállítás dátuma": "2016-11-29",
                                    "Szállítási mód": "NULL",
                                    "Mennyiség": "8722"
                                },
                                {
                                    "Szállítás dátuma": "2016-11-30",
                                    "Szállítási mód": "NULL",
                                    "Mennyiség": "6419"
                                },
                                {
                                    "Szállítás dátuma": "2016-12-01",
                                    "Szállítási mód": "NULL",
                                    "Mennyiség": "9940"
                                },
                                {
                                    "Szállítás dátuma": "2016-12-02",
                                    "Szállítási mód": "NULL",
                                    "Mennyiség": "4748"
                                },
                                {
                                    "Szállítás dátuma": "2016-12-03",
                                    "Szállítási mód": "NULL",
                                    "Mennyiség": "6745"
                                },
                                {
                                    "Szállítás dátuma": "2016-12-04",
                                    "Szállítási mód": "NULL",
                                    "Mennyiség": "9959"
                                },
                                {
                                    "Szállítás dátuma": "2016-12-05",
                                    "Szállítási mód": "NULL",
                                    "Mennyiség": "8225"
                                },
                                {
                                    "Szállítás dátuma": "2016-12-06",
                                    "Szállítási mód": "NULL",
                                    "Mennyiség": "7762"
                                },
                                {
                                    "Szállítás dátuma": "2016-12-07",
                                    "Szállítási mód": "NULL",
                                    "Mennyiség": "7380"
                                },
                                {
                                    "Szállítás dátuma": "2016-12-08",
                                    "Szállítási mód": "NULL",
                                    "Mennyiség": "7200"
                                },
                                {
                                    "Szállítás dátuma": "2016-12-09",
                                    "Szállítási mód": "NULL",
                                    "Mennyiség": "9724"
                                },
                                {
                                    "Szállítás dátuma": "2016-12-10",
                                    "Szállítási mód": "NULL",
                                    "Mennyiség": "7083"
                                },
                                {
                                    "Szállítás dátuma": "2016-12-11",
                                    "Szállítási mód": "NULL",
                                    "Mennyiség": "7576"
                                },
                                {
                                    "Szállítás dátuma": "2016-12-12",
                                    "Szállítási mód": "NULL",
                                    "Mennyiség": "8580"
                                },
                                {
                                    "Szállítás dátuma": "2016-12-13",
                                    "Szállítási mód": "NULL",
                                    "Mennyiség": "8233"
                                },
                                {
                                    "Szállítás dátuma": "2016-12-14",
                                    "Szállítási mód": "NULL",
                                    "Mennyiség": "6268"
                                },
                                {
                                    "Szállítás dátuma": "2016-12-15",
                                    "Szállítási mód": "NULL",
                                    "Mennyiség": "7392"
                                },
                                {
                                    "Szállítás dátuma": "2016-12-16",
                                    "Szállítási mód": "NULL",
                                    "Mennyiség": "6407"
                                },
                                {
                                    "Szállítás dátuma": "2016-12-17",
                                    "Szállítási mód": "NULL",
                                    "Mennyiség": "7555"
                                },
                                {
                                    "Szállítás dátuma": "2016-12-18",
                                    "Szállítási mód": "NULL",
                                    "Mennyiség": "6070"
                                },
                                {
                                    "Szállítás dátuma": "2016-12-19",
                                    "Szállítási mód": "NULL",
                                    "Mennyiség": "5390"
                                },
                                {
                                    "Szállítás dátuma": "2016-12-20",
                                    "Szállítási mód": "NULL",
                                    "Mennyiség": "7735"
                                },
                                {
                                    "Szállítás dátuma": "2016-12-21",
                                    "Szállítási mód": "NULL",
                                    "Mennyiség": "10434"
                                },
                                {
                                    "Szállítás dátuma": "2016-12-22",
                                    "Szállítási mód": "NULL",
                                    "Mennyiség": "5465"
                                },
                                {
                                    "Szállítás dátuma": "2016-12-23",
                                    "Szállítási mód": "NULL",
                                    "Mennyiség": "8338"
                                },
                                {
                                    "Szállítás dátuma": "2016-12-24",
                                    "Szállítási mód": "NULL",
                                    "Mennyiség": "5916"
                                },
                                {
                                    "Szállítás dátuma": "2016-12-25",
                                    "Szállítási mód": "NULL",
                                    "Mennyiség": "7345"
                                },
                                {
                                    "Szállítás dátuma": "2016-12-26",
                                    "Szállítási mód": "NULL",
                                    "Mennyiség": "9875"
                                },
                                {
                                    "Szállítás dátuma": "2016-12-27",
                                    "Szállítási mód": "NULL",
                                    "Mennyiség": "10216"
                                },
                                {
                                    "Szállítás dátuma": "2016-12-28",
                                    "Szállítási mód": "NULL",
                                    "Mennyiség": "6222"
                                },
                                {
                                    "Szállítás dátuma": "2016-12-29",
                                    "Szállítási mód": "NULL",
                                    "Mennyiség": "10046"
                                },
                                {
                                    "Szállítás dátuma": "2016-12-30",
                                    "Szállítási mód": "NULL",
                                    "Mennyiség": "7113"
                                },
                                {
                                    "Szállítás dátuma": "2016-12-31",
                                    "Szállítási mód": "NULL",
                                    "Mennyiség": "7188"
                                },
                                {
                                    "Szállítás dátuma": "2017-01-01",
                                    "Szállítási mód": "NULL",
                                    "Mennyiség": "7200"
                                },
                                {
                                    "Szállítás dátuma": "2017-01-02",
                                    "Szállítási mód": "NULL",
                                    "Mennyiség": "7425"
                                },
                                {
                                    "Szállítás dátuma": "2017-01-03",
                                    "Szállítási mód": "NULL",
                                    "Mennyiség": "6783"
                                },
                                {
                                    "Szállítás dátuma": "2017-01-04",
                                    "Szállítási mód": "NULL",
                                    "Mennyiség": "7465"
                                },
                                {
                                    "Szállítás dátuma": "2017-01-05",
                                    "Szállítási mód": "NULL",
                                    "Mennyiség": "7591"
                                },
                                {
                                    "Szállítás dátuma": "2017-01-06",
                                    "Szállítási mód": "NULL",
                                    "Mennyiség": "8298"
                                },
                                {
                                    "Szállítás dátuma": "2017-01-07",
                                    "Szállítási mód": "NULL",
                                    "Mennyiség": "8976"
                                },
                                {
                                    "Szállítás dátuma": "2017-01-08",
                                    "Szállítási mód": "NULL",
                                    "Mennyiség": "7179"
                                },
                                {
                                    "Szállítás dátuma": "2017-01-09",
                                    "Szállítási mód": "NULL",
                                    "Mennyiség": "9465"
                                },
                                {
                                    "Szállítás dátuma": "2017-01-10",
                                    "Szállítási mód": "NULL",
                                    "Mennyiség": "8667"
                                },
                                {
                                    "Szállítás dátuma": "2017-01-11",
                                    "Szállítási mód": "NULL",
                                    "Mennyiség": "9472"
                                },
                                {
                                    "Szállítás dátuma": "2017-01-12",
                                    "Szállítási mód": "NULL",
                                    "Mennyiség": "7636"
                                },
                                {
                                    "Szállítás dátuma": "2017-01-13",
                                    "Szállítási mód": "NULL",
                                    "Mennyiség": "7538"
                                },
                                {
                                    "Szállítás dátuma": "2017-01-14",
                                    "Szállítási mód": "NULL",
                                    "Mennyiség": "8920"
                                },
                                {
                                    "Szállítás dátuma": "2017-01-15",
                                    "Szállítási mód": "NULL",
                                    "Mennyiség": "7611"
                                },
                                {
                                    "Szállítás dátuma": "2017-01-16",
                                    "Szállítási mód": "NULL",
                                    "Mennyiség": "7369"
                                },
                                {
                                    "Szállítás dátuma": "2017-01-17",
                                    "Szállítási mód": "NULL",
                                    "Mennyiség": "8658"
                                },
                                {
                                    "Szállítás dátuma": "2017-01-18",
                                    "Szállítási mód": "NULL",
                                    "Mennyiség": "6558"
                                },
                                {
                                    "Szállítás dátuma": "2017-01-19",
                                    "Szállítási mód": "NULL",
                                    "Mennyiség": "6422"
                                },
                                {
                                    "Szállítás dátuma": "2017-01-20",
                                    "Szállítási mód": "NULL",
                                    "Mennyiség": "6450"
                                },
                                {
                                    "Szállítás dátuma": "2017-01-21",
                                    "Szállítási mód": "NULL",
                                    "Mennyiség": "7150"
                                },
                                {
                                    "Szállítás dátuma": "2017-01-22",
                                    "Szállítási mód": "NULL",
                                    "Mennyiség": "8199"
                                },
                                {
                                    "Szállítás dátuma": "2017-01-23",
                                    "Szállítási mód": "NULL",
                                    "Mennyiség": "8394"
                                },
                                {
                                    "Szállítás dátuma": "2017-01-24",
                                    "Szállítási mód": "NULL",
                                    "Mennyiség": "8615"
                                },
                                {
                                    "Szállítás dátuma": "2017-01-25",
                                    "Szállítási mód": "NULL",
                                    "Mennyiség": "6484"
                                },
                                {
                                    "Szállítás dátuma": "2017-01-26",
                                    "Szállítási mód": "NULL",
                                    "Mennyiség": "9426"
                                },
                                {
                                    "Szállítás dátuma": "2017-01-27",
                                    "Szállítási mód": "NULL",
                                    "Mennyiség": "5418"
                                },
                                {
                                    "Szállítás dátuma": "2017-01-28",
                                    "Szállítási mód": "NULL",
                                    "Mennyiség": "8401"
                                },
                                {
                                    "Szállítás dátuma": "2017-01-29",
                                    "Szállítási mód": "NULL",
                                    "Mennyiség": "8997"
                                },
                                {
                                    "Szállítás dátuma": "2017-01-30",
                                    "Szállítási mód": "NULL",
                                    "Mennyiség": "9661"
                                },
                                {
                                    "Szállítás dátuma": "2017-01-31",
                                    "Szállítási mód": "NULL",
                                    "Mennyiség": "6253"
                                },
                                {
                                    "Szállítás dátuma": "2017-02-01",
                                    "Szállítási mód": "NULL",
                                    "Mennyiség": "5703"
                                },
                                {
                                    "Szállítás dátuma": "2017-02-02",
                                    "Szállítási mód": "NULL",
                                    "Mennyiség": "8746"
                                },
                                {
                                    "Szállítás dátuma": "2017-02-03",
                                    "Szállítási mód": "NULL",
                                    "Mennyiség": "7840"
                                },
                                {
                                    "Szállítás dátuma": "2017-02-04",
                                    "Szállítási mód": "NULL",
                                    "Mennyiség": "6220"
                                },
                                {
                                    "Szállítás dátuma": "2017-02-05",
                                    "Szállítási mód": "NULL",
                                    "Mennyiség": "5138"
                                },
                                {
                                    "Szállítás dátuma": "2017-02-06",
                                    "Szállítási mód": "NULL",
                                    "Mennyiség": "8206"
                                },
                                {
                                    "Szállítás dátuma": "2017-02-07",
                                    "Szállítási mód": "NULL",
                                    "Mennyiség": "6846"
                                },
                                {
                                    "Szállítás dátuma": "2017-02-08",
                                    "Szállítási mód": "NULL",
                                    "Mennyiség": "10057"
                                },
                                {
                                    "Szállítás dátuma": "2017-02-09",
                                    "Szállítási mód": "NULL",
                                    "Mennyiség": "8302"
                                },
                                {
                                    "Szállítás dátuma": "2017-02-10",
                                    "Szállítási mód": "NULL",
                                    "Mennyiség": "8964"
                                },
                                {
                                    "Szállítás dátuma": "2017-02-11",
                                    "Szállítási mód": "NULL",
                                    "Mennyiség": "8790"
                                },
                                {
                                    "Szállítás dátuma": "2017-02-12",
                                    "Szállítási mód": "NULL",
                                    "Mennyiség": "6268"
                                },
                                {
                                    "Szállítás dátuma": "2017-02-13",
                                    "Szállítási mód": "NULL",
                                    "Mennyiség": "8176"
                                },
                                {
                                    "Szállítás dátuma": "2017-02-14",
                                    "Szállítási mód": "NULL",
                                    "Mennyiség": "10029"
                                },
                                {
                                    "Szállítás dátuma": "2017-02-15",
                                    "Szállítási mód": "NULL",
                                    "Mennyiség": "6443"
                                },
                                {
                                    "Szállítás dátuma": "2017-02-16",
                                    "Szállítási mód": "NULL",
                                    "Mennyiség": "8794"
                                },
                                {
                                    "Szállítás dátuma": "2017-02-17",
                                    "Szállítási mód": "NULL",
                                    "Mennyiség": "9808"
                                },
                                {
                                    "Szállítás dátuma": "2017-02-18",
                                    "Szállítási mód": "NULL",
                                    "Mennyiség": "10757"
                                },
                                {
                                    "Szállítás dátuma": "2017-02-19",
                                    "Szállítási mód": "NULL",
                                    "Mennyiség": "8284"
                                },
                                {
                                    "Szállítás dátuma": "2017-02-20",
                                    "Szállítási mód": "NULL",
                                    "Mennyiség": "5660"
                                },
                                {
                                    "Szállítás dátuma": "2017-02-21",
                                    "Szállítási mód": "NULL",
                                    "Mennyiség": "8878"
                                },
                                {
                                    "Szállítás dátuma": "2017-02-22",
                                    "Szállítási mód": "NULL",
                                    "Mennyiség": "9034"
                                },
                                {
                                    "Szállítás dátuma": "2017-02-23",
                                    "Szállítási mód": "NULL",
                                    "Mennyiség": "7574"
                                },
                                {
                                    "Szállítás dátuma": "2017-02-24",
                                    "Szállítási mód": "NULL",
                                    "Mennyiség": "6814"
                                },
                                {
                                    "Szállítás dátuma": "2017-02-25",
                                    "Szállítási mód": "NULL",
                                    "Mennyiség": "6820"
                                },
                                {
                                    "Szállítás dátuma": "2017-02-26",
                                    "Szállítási mód": "NULL",
                                    "Mennyiség": "8578"
                                },
                                {
                                    "Szállítás dátuma": "2017-02-27",
                                    "Szállítási mód": "NULL",
                                    "Mennyiség": "9185"
                                },
                                {
                                    "Szállítás dátuma": "2017-02-28",
                                    "Szállítási mód": "NULL",
                                    "Mennyiség": "11649"
                                },
                                {
                                    "Szállítás dátuma": "2017-03-01",
                                    "Szállítási mód": "NULL",
                                    "Mennyiség": "5037"
                                },
                                {
                                    "Szállítás dátuma": "2017-03-02",
                                    "Szállítási mód": "NULL",
                                    "Mennyiség": "4861"
                                },
                                {
                                    "Szállítás dátuma": "2017-03-03",
                                    "Szállítási mód": "NULL",
                                    "Mennyiség": "7585"
                                },
                                {
                                    "Szállítás dátuma": "2017-03-04",
                                    "Szállítási mód": "NULL",
                                    "Mennyiség": "5977"
                                },
                                {
                                    "Szállítás dátuma": "2017-03-05",
                                    "Szállítási mód": "NULL",
                                    "Mennyiség": "10338"
                                },
                                {
                                    "Szállítás dátuma": "2017-03-06",
                                    "Szállítási mód": "NULL",
                                    "Mennyiség": "10916"
                                },
                                {
                                    "Szállítás dátuma": "2017-03-07",
                                    "Szállítási mód": "NULL",
                                    "Mennyiség": "8747"
                                },
                                {
                                    "Szállítás dátuma": "2017-03-08",
                                    "Szállítási mód": "NULL",
                                    "Mennyiség": "6837"
                                },
                                {
                                    "Szállítás dátuma": "2017-03-09",
                                    "Szállítási mód": "NULL",
                                    "Mennyiség": "6964"
                                },
                                {
                                    "Szállítás dátuma": "2017-03-10",
                                    "Szállítási mód": "NULL",
                                    "Mennyiség": "6846"
                                },
                                {
                                    "Szállítás dátuma": "2017-03-11",
                                    "Szállítási mód": "NULL",
                                    "Mennyiség": "6885"
                                },
                                {
                                    "Szállítás dátuma": "2017-03-12",
                                    "Szállítási mód": "NULL",
                                    "Mennyiség": "5941"
                                },
                                {
                                    "Szállítás dátuma": "2017-03-13",
                                    "Szállítási mód": "NULL",
                                    "Mennyiség": "6950"
                                },
                                {
                                    "Szállítás dátuma": "2017-03-14",
                                    "Szállítási mód": "NULL",
                                    "Mennyiség": "7224"
                                },
                                {
                                    "Szállítás dátuma": "2017-03-15",
                                    "Szállítási mód": "NULL",
                                    "Mennyiség": "9718"
                                },
                                {
                                    "Szállítás dátuma": "2017-03-16",
                                    "Szállítási mód": "NULL",
                                    "Mennyiség": "9763"
                                },
                                {
                                    "Szállítás dátuma": "2017-03-17",
                                    "Szállítási mód": "NULL",
                                    "Mennyiség": "8908"
                                },
                                {
                                    "Szállítás dátuma": "2017-03-18",
                                    "Szállítási mód": "NULL",
                                    "Mennyiség": "9344"
                                },
                                {
                                    "Szállítás dátuma": "2017-03-19",
                                    "Szállítási mód": "NULL",
                                    "Mennyiség": "9937"
                                },
                                {
                                    "Szállítás dátuma": "2017-03-20",
                                    "Szállítási mód": "NULL",
                                    "Mennyiség": "7683"
                                },
                                {
                                    "Szállítás dátuma": "2017-03-21",
                                    "Szállítási mód": "NULL",
                                    "Mennyiség": "8639"
                                },
                                {
                                    "Szállítás dátuma": "2017-03-22",
                                    "Szállítási mód": "NULL",
                                    "Mennyiség": "6526"
                                },
                                {
                                    "Szállítás dátuma": "2017-03-23",
                                    "Szállítási mód": "NULL",
                                    "Mennyiség": "8799"
                                },
                                {
                                    "Szállítás dátuma": "2017-03-24",
                                    "Szállítási mód": "NULL",
                                    "Mennyiség": "7416"
                                },
                                {
                                    "Szállítás dátuma": "2017-03-25",
                                    "Szállítási mód": "NULL",
                                    "Mennyiség": "6272"
                                },
                                {
                                    "Szállítás dátuma": "2017-03-26",
                                    "Szállítási mód": "NULL",
                                    "Mennyiség": "7786"
                                },
                                {
                                    "Szállítás dátuma": "2017-03-27",
                                    "Szállítási mód": "NULL",
                                    "Mennyiség": "7715"
                                },
                                {
                                    "Szállítás dátuma": "2017-03-28",
                                    "Szállítási mód": "NULL",
                                    "Mennyiség": "8568"
                                },
                                {
                                    "Szállítás dátuma": "2017-03-29",
                                    "Szállítási mód": "NULL",
                                    "Mennyiség": "8346"
                                },
                                {
                                    "Szállítás dátuma": "2017-03-30",
                                    "Szállítási mód": "NULL",
                                    "Mennyiség": "8513"
                                },
                                {
                                    "Szállítás dátuma": "2017-03-31",
                                    "Szállítási mód": "NULL",
                                    "Mennyiség": "8598"
                                },
                                {
                                    "Szállítás dátuma": "2017-04-01",
                                    "Szállítási mód": "NULL",
                                    "Mennyiség": "7307"
                                },
                                {
                                    "Szállítás dátuma": "2017-04-02",
                                    "Szállítási mód": "NULL",
                                    "Mennyiség": "9477"
                                },
                                {
                                    "Szállítás dátuma": "2017-04-03",
                                    "Szállítási mód": "NULL",
                                    "Mennyiség": "6042"
                                },
                                {
                                    "Szállítás dátuma": "2017-04-04",
                                    "Szállítási mód": "NULL",
                                    "Mennyiség": "7493"
                                },
                                {
                                    "Szállítás dátuma": "2017-04-05",
                                    "Szállítási mód": "NULL",
                                    "Mennyiség": "7562"
                                },
                                {
                                    "Szállítás dátuma": "2017-04-06",
                                    "Szállítási mód": "NULL",
                                    "Mennyiség": "4646"
                                },
                                {
                                    "Szállítás dátuma": "2017-04-07",
                                    "Szállítási mód": "NULL",
                                    "Mennyiség": "5197"
                                },
                                {
                                    "Szállítás dátuma": "2017-04-08",
                                    "Szállítási mód": "NULL",
                                    "Mennyiség": "3057"
                                },
                                {
                                    "Szállítás dátuma": "2017-04-09",
                                    "Szállítási mód": "NULL",
                                    "Mennyiség": "3870"
                                },
                                {
                                    "Szállítás dátuma": "2017-04-10",
                                    "Szállítási mód": "NULL",
                                    "Mennyiség": "1640"
                                },
                                {
                                    "Szállítás dátuma": "2017-04-11",
                                    "Szállítási mód": "NULL",
                                    "Mennyiség": "1220"
                                },
                                {
                                    "Szállítás dátuma": "NULL",
                                    "Szállítási mód": "NULL",
                                    "Mennyiség": "5578316"
                                }
                            ]
                        },
                        "text/html": [
                            "<table>",
                            "<tr><th>Szállítás dátuma</th><th>Szállítási mód</th><th>Mennyiség</th></tr>",
                            "<tr><td>2015-05-03</td><td>NULL</td><td>100</td></tr>",
                            "<tr><td>2015-05-04</td><td>NULL</td><td>996</td></tr>",
                            "<tr><td>2015-05-05</td><td>NULL</td><td>3152</td></tr>",
                            "<tr><td>2015-05-06</td><td>NULL</td><td>5030</td></tr>",
                            "<tr><td>2015-05-07</td><td>NULL</td><td>3828</td></tr>",
                            "<tr><td>2015-05-08</td><td>NULL</td><td>3213</td></tr>",
                            "<tr><td>2015-05-09</td><td>NULL</td><td>6665</td></tr>",
                            "<tr><td>2015-05-10</td><td>NULL</td><td>6909</td></tr>",
                            "<tr><td>2015-05-11</td><td>NULL</td><td>6224</td></tr>",
                            "<tr><td>2015-05-12</td><td>NULL</td><td>7568</td></tr>",
                            "<tr><td>2015-05-13</td><td>NULL</td><td>7985</td></tr>",
                            "<tr><td>2015-05-14</td><td>NULL</td><td>9706</td></tr>",
                            "<tr><td>2015-05-15</td><td>NULL</td><td>7400</td></tr>",
                            "<tr><td>2015-05-16</td><td>NULL</td><td>7897</td></tr>",
                            "<tr><td>2015-05-17</td><td>NULL</td><td>4572</td></tr>",
                            "<tr><td>2015-05-18</td><td>NULL</td><td>8190</td></tr>",
                            "<tr><td>2015-05-19</td><td>NULL</td><td>7248</td></tr>",
                            "<tr><td>2015-05-20</td><td>NULL</td><td>9859</td></tr>",
                            "<tr><td>2015-05-21</td><td>NULL</td><td>8041</td></tr>",
                            "<tr><td>2015-05-22</td><td>NULL</td><td>8338</td></tr>",
                            "<tr><td>2015-05-23</td><td>NULL</td><td>5616</td></tr>",
                            "<tr><td>2015-05-24</td><td>NULL</td><td>5001</td></tr>",
                            "<tr><td>2015-05-25</td><td>NULL</td><td>7611</td></tr>",
                            "<tr><td>2015-05-26</td><td>NULL</td><td>7153</td></tr>",
                            "<tr><td>2015-05-27</td><td>NULL</td><td>8300</td></tr>",
                            "<tr><td>2015-05-28</td><td>NULL</td><td>9340</td></tr>",
                            "<tr><td>2015-05-29</td><td>NULL</td><td>10784</td></tr>",
                            "<tr><td>2015-05-30</td><td>NULL</td><td>7763</td></tr>",
                            "<tr><td>2015-05-31</td><td>NULL</td><td>4364</td></tr>",
                            "<tr><td>2015-06-01</td><td>NULL</td><td>6947</td></tr>",
                            "<tr><td>2015-06-02</td><td>NULL</td><td>6241</td></tr>",
                            "<tr><td>2015-06-03</td><td>NULL</td><td>9359</td></tr>",
                            "<tr><td>2015-06-04</td><td>NULL</td><td>8474</td></tr>",
                            "<tr><td>2015-06-05</td><td>NULL</td><td>8961</td></tr>",
                            "<tr><td>2015-06-06</td><td>NULL</td><td>9510</td></tr>",
                            "<tr><td>2015-06-07</td><td>NULL</td><td>7956</td></tr>",
                            "<tr><td>2015-06-08</td><td>NULL</td><td>4277</td></tr>",
                            "<tr><td>2015-06-09</td><td>NULL</td><td>7132</td></tr>",
                            "<tr><td>2015-06-10</td><td>NULL</td><td>9346</td></tr>",
                            "<tr><td>2015-06-11</td><td>NULL</td><td>5191</td></tr>",
                            "<tr><td>2015-06-12</td><td>NULL</td><td>7336</td></tr>",
                            "<tr><td>2015-06-13</td><td>NULL</td><td>7818</td></tr>",
                            "<tr><td>2015-06-14</td><td>NULL</td><td>6484</td></tr>",
                            "<tr><td>2015-06-15</td><td>NULL</td><td>7796</td></tr>",
                            "<tr><td>2015-06-16</td><td>NULL</td><td>4307</td></tr>",
                            "<tr><td>2015-06-17</td><td>NULL</td><td>8645</td></tr>",
                            "<tr><td>2015-06-18</td><td>NULL</td><td>10077</td></tr>",
                            "<tr><td>2015-06-19</td><td>NULL</td><td>5675</td></tr>",
                            "<tr><td>2015-06-20</td><td>NULL</td><td>7859</td></tr>",
                            "<tr><td>2015-06-21</td><td>NULL</td><td>6627</td></tr>",
                            "<tr><td>2015-06-22</td><td>NULL</td><td>9084</td></tr>",
                            "<tr><td>2015-06-23</td><td>NULL</td><td>8869</td></tr>",
                            "<tr><td>2015-06-24</td><td>NULL</td><td>4993</td></tr>",
                            "<tr><td>2015-06-25</td><td>NULL</td><td>8165</td></tr>",
                            "<tr><td>2015-06-26</td><td>NULL</td><td>10834</td></tr>",
                            "<tr><td>2015-06-27</td><td>NULL</td><td>6396</td></tr>",
                            "<tr><td>2015-06-28</td><td>NULL</td><td>6803</td></tr>",
                            "<tr><td>2015-06-29</td><td>NULL</td><td>7435</td></tr>",
                            "<tr><td>2015-06-30</td><td>NULL</td><td>8526</td></tr>",
                            "<tr><td>2015-07-01</td><td>NULL</td><td>6032</td></tr>",
                            "<tr><td>2015-07-02</td><td>NULL</td><td>7066</td></tr>",
                            "<tr><td>2015-07-03</td><td>NULL</td><td>6359</td></tr>",
                            "<tr><td>2015-07-04</td><td>NULL</td><td>8739</td></tr>",
                            "<tr><td>2015-07-05</td><td>NULL</td><td>8558</td></tr>",
                            "<tr><td>2015-07-06</td><td>NULL</td><td>8389</td></tr>",
                            "<tr><td>2015-07-07</td><td>NULL</td><td>9522</td></tr>",
                            "<tr><td>2015-07-08</td><td>NULL</td><td>6395</td></tr>",
                            "<tr><td>2015-07-09</td><td>NULL</td><td>7375</td></tr>",
                            "<tr><td>2015-07-10</td><td>NULL</td><td>7676</td></tr>",
                            "<tr><td>2015-07-11</td><td>NULL</td><td>7366</td></tr>",
                            "<tr><td>2015-07-12</td><td>NULL</td><td>8638</td></tr>",
                            "<tr><td>2015-07-13</td><td>NULL</td><td>8300</td></tr>",
                            "<tr><td>2015-07-14</td><td>NULL</td><td>6340</td></tr>",
                            "<tr><td>2015-07-15</td><td>NULL</td><td>8615</td></tr>",
                            "<tr><td>2015-07-16</td><td>NULL</td><td>7041</td></tr>",
                            "<tr><td>2015-07-17</td><td>NULL</td><td>7327</td></tr>",
                            "<tr><td>2015-07-18</td><td>NULL</td><td>6762</td></tr>",
                            "<tr><td>2015-07-19</td><td>NULL</td><td>6776</td></tr>",
                            "<tr><td>2015-07-20</td><td>NULL</td><td>9748</td></tr>",
                            "<tr><td>2015-07-21</td><td>NULL</td><td>9805</td></tr>",
                            "<tr><td>2015-07-22</td><td>NULL</td><td>5140</td></tr>",
                            "<tr><td>2015-07-23</td><td>NULL</td><td>7258</td></tr>",
                            "<tr><td>2015-07-24</td><td>NULL</td><td>8697</td></tr>",
                            "<tr><td>2015-07-25</td><td>NULL</td><td>8180</td></tr>",
                            "<tr><td>2015-07-26</td><td>NULL</td><td>9323</td></tr>",
                            "<tr><td>2015-07-27</td><td>NULL</td><td>5417</td></tr>",
                            "<tr><td>2015-07-28</td><td>NULL</td><td>7825</td></tr>",
                            "<tr><td>2015-07-29</td><td>NULL</td><td>6405</td></tr>",
                            "<tr><td>2015-07-30</td><td>NULL</td><td>10029</td></tr>",
                            "<tr><td>2015-07-31</td><td>NULL</td><td>8673</td></tr>",
                            "<tr><td>2015-08-01</td><td>NULL</td><td>9957</td></tr>",
                            "<tr><td>2015-08-02</td><td>NULL</td><td>7599</td></tr>",
                            "<tr><td>2015-08-03</td><td>NULL</td><td>9208</td></tr>",
                            "<tr><td>2015-08-04</td><td>NULL</td><td>9353</td></tr>",
                            "<tr><td>2015-08-05</td><td>NULL</td><td>10342</td></tr>",
                            "<tr><td>2015-08-06</td><td>NULL</td><td>5124</td></tr>",
                            "<tr><td>2015-08-07</td><td>NULL</td><td>8960</td></tr>",
                            "<tr><td>2015-08-08</td><td>NULL</td><td>10296</td></tr>",
                            "<tr><td>2015-08-09</td><td>NULL</td><td>6026</td></tr>",
                            "<tr><td>2015-08-10</td><td>NULL</td><td>7896</td></tr>",
                            "<tr><td>2015-08-11</td><td>NULL</td><td>9008</td></tr>",
                            "<tr><td>2015-08-12</td><td>NULL</td><td>7605</td></tr>",
                            "<tr><td>2015-08-13</td><td>NULL</td><td>9380</td></tr>",
                            "<tr><td>2015-08-14</td><td>NULL</td><td>9780</td></tr>",
                            "<tr><td>2015-08-15</td><td>NULL</td><td>7514</td></tr>",
                            "<tr><td>2015-08-16</td><td>NULL</td><td>5341</td></tr>",
                            "<tr><td>2015-08-17</td><td>NULL</td><td>7162</td></tr>",
                            "<tr><td>2015-08-18</td><td>NULL</td><td>6271</td></tr>",
                            "<tr><td>2015-08-19</td><td>NULL</td><td>6650</td></tr>",
                            "<tr><td>2015-08-20</td><td>NULL</td><td>9005</td></tr>",
                            "<tr><td>2015-08-21</td><td>NULL</td><td>6874</td></tr>",
                            "<tr><td>2015-08-22</td><td>NULL</td><td>10138</td></tr>",
                            "<tr><td>2015-08-23</td><td>NULL</td><td>6734</td></tr>",
                            "<tr><td>2015-08-24</td><td>NULL</td><td>7767</td></tr>",
                            "<tr><td>2015-08-25</td><td>NULL</td><td>9206</td></tr>",
                            "<tr><td>2015-08-26</td><td>NULL</td><td>11006</td></tr>",
                            "<tr><td>2015-08-27</td><td>NULL</td><td>6244</td></tr>",
                            "<tr><td>2015-08-28</td><td>NULL</td><td>8145</td></tr>",
                            "<tr><td>2015-08-29</td><td>NULL</td><td>7380</td></tr>",
                            "<tr><td>2015-08-30</td><td>NULL</td><td>9727</td></tr>",
                            "<tr><td>2015-08-31</td><td>NULL</td><td>7226</td></tr>",
                            "<tr><td>2015-09-01</td><td>NULL</td><td>9466</td></tr>",
                            "<tr><td>2015-09-02</td><td>NULL</td><td>6179</td></tr>",
                            "<tr><td>2015-09-03</td><td>NULL</td><td>9949</td></tr>",
                            "<tr><td>2015-09-04</td><td>NULL</td><td>10432</td></tr>",
                            "<tr><td>2015-09-05</td><td>NULL</td><td>7083</td></tr>",
                            "<tr><td>2015-09-06</td><td>NULL</td><td>8378</td></tr>",
                            "<tr><td>2015-09-07</td><td>NULL</td><td>8303</td></tr>",
                            "<tr><td>2015-09-08</td><td>NULL</td><td>8349</td></tr>",
                            "<tr><td>2015-09-09</td><td>NULL</td><td>7985</td></tr>",
                            "<tr><td>2015-09-10</td><td>NULL</td><td>10353</td></tr>",
                            "<tr><td>2015-09-11</td><td>NULL</td><td>9284</td></tr>",
                            "<tr><td>2015-09-12</td><td>NULL</td><td>8553</td></tr>",
                            "<tr><td>2015-09-13</td><td>NULL</td><td>7435</td></tr>",
                            "<tr><td>2015-09-14</td><td>NULL</td><td>8232</td></tr>",
                            "<tr><td>2015-09-15</td><td>NULL</td><td>4776</td></tr>",
                            "<tr><td>2015-09-16</td><td>NULL</td><td>7416</td></tr>",
                            "<tr><td>2015-09-17</td><td>NULL</td><td>8358</td></tr>",
                            "<tr><td>2015-09-18</td><td>NULL</td><td>7210</td></tr>",
                            "<tr><td>2015-09-19</td><td>NULL</td><td>8267</td></tr>",
                            "<tr><td>2015-09-20</td><td>NULL</td><td>10001</td></tr>",
                            "<tr><td>2015-09-21</td><td>NULL</td><td>7086</td></tr>",
                            "<tr><td>2015-09-22</td><td>NULL</td><td>7424</td></tr>",
                            "<tr><td>2015-09-23</td><td>NULL</td><td>8183</td></tr>",
                            "<tr><td>2015-09-24</td><td>NULL</td><td>10252</td></tr>",
                            "<tr><td>2015-09-25</td><td>NULL</td><td>8106</td></tr>",
                            "<tr><td>2015-09-26</td><td>NULL</td><td>9451</td></tr>",
                            "<tr><td>2015-09-27</td><td>NULL</td><td>8692</td></tr>",
                            "<tr><td>2015-09-28</td><td>NULL</td><td>10281</td></tr>",
                            "<tr><td>2015-09-29</td><td>NULL</td><td>9481</td></tr>",
                            "<tr><td>2015-09-30</td><td>NULL</td><td>5900</td></tr>",
                            "<tr><td>2015-10-01</td><td>NULL</td><td>9384</td></tr>",
                            "<tr><td>2015-10-02</td><td>NULL</td><td>5674</td></tr>",
                            "<tr><td>2015-10-03</td><td>NULL</td><td>8509</td></tr>",
                            "<tr><td>2015-10-04</td><td>NULL</td><td>7645</td></tr>",
                            "<tr><td>2015-10-05</td><td>NULL</td><td>8535</td></tr>",
                            "<tr><td>2015-10-06</td><td>NULL</td><td>7529</td></tr>",
                            "<tr><td>2015-10-07</td><td>NULL</td><td>9435</td></tr>",
                            "<tr><td>2015-10-08</td><td>NULL</td><td>7319</td></tr>",
                            "<tr><td>2015-10-09</td><td>NULL</td><td>8931</td></tr>",
                            "<tr><td>2015-10-10</td><td>NULL</td><td>7928</td></tr>",
                            "<tr><td>2015-10-11</td><td>NULL</td><td>7516</td></tr>",
                            "<tr><td>2015-10-12</td><td>NULL</td><td>9355</td></tr>",
                            "<tr><td>2015-10-13</td><td>NULL</td><td>6564</td></tr>",
                            "<tr><td>2015-10-14</td><td>NULL</td><td>7035</td></tr>",
                            "<tr><td>2015-10-15</td><td>NULL</td><td>9269</td></tr>",
                            "<tr><td>2015-10-16</td><td>NULL</td><td>8427</td></tr>",
                            "<tr><td>2015-10-17</td><td>NULL</td><td>6936</td></tr>",
                            "<tr><td>2015-10-18</td><td>NULL</td><td>8671</td></tr>",
                            "<tr><td>2015-10-19</td><td>NULL</td><td>7207</td></tr>",
                            "<tr><td>2015-10-20</td><td>NULL</td><td>8613</td></tr>",
                            "<tr><td>2015-10-21</td><td>NULL</td><td>7366</td></tr>",
                            "<tr><td>2015-10-22</td><td>NULL</td><td>6678</td></tr>",
                            "<tr><td>2015-10-23</td><td>NULL</td><td>8056</td></tr>",
                            "<tr><td>2015-10-24</td><td>NULL</td><td>7233</td></tr>",
                            "<tr><td>2015-10-25</td><td>NULL</td><td>9107</td></tr>",
                            "<tr><td>2015-10-26</td><td>NULL</td><td>9776</td></tr>",
                            "<tr><td>2015-10-27</td><td>NULL</td><td>7669</td></tr>",
                            "<tr><td>2015-10-28</td><td>NULL</td><td>7522</td></tr>",
                            "<tr><td>2015-10-29</td><td>NULL</td><td>6971</td></tr>",
                            "<tr><td>2015-10-30</td><td>NULL</td><td>8999</td></tr>",
                            "<tr><td>2015-10-31</td><td>NULL</td><td>7046</td></tr>",
                            "<tr><td>2015-11-01</td><td>NULL</td><td>6171</td></tr>",
                            "<tr><td>2015-11-02</td><td>NULL</td><td>7612</td></tr>",
                            "<tr><td>2015-11-03</td><td>NULL</td><td>11533</td></tr>",
                            "<tr><td>2015-11-04</td><td>NULL</td><td>5352</td></tr>",
                            "<tr><td>2015-11-05</td><td>NULL</td><td>7183</td></tr>",
                            "<tr><td>2015-11-06</td><td>NULL</td><td>8606</td></tr>",
                            "<tr><td>2015-11-07</td><td>NULL</td><td>7260</td></tr>",
                            "<tr><td>2015-11-08</td><td>NULL</td><td>8177</td></tr>",
                            "<tr><td>2015-11-09</td><td>NULL</td><td>8431</td></tr>",
                            "<tr><td>2015-11-10</td><td>NULL</td><td>8329</td></tr>",
                            "<tr><td>2015-11-11</td><td>NULL</td><td>8191</td></tr>",
                            "<tr><td>2015-11-12</td><td>NULL</td><td>5884</td></tr>",
                            "<tr><td>2015-11-13</td><td>NULL</td><td>7359</td></tr>",
                            "<tr><td>2015-11-14</td><td>NULL</td><td>7730</td></tr>",
                            "<tr><td>2015-11-15</td><td>NULL</td><td>6881</td></tr>",
                            "<tr><td>2015-11-16</td><td>NULL</td><td>7721</td></tr>",
                            "<tr><td>2015-11-17</td><td>NULL</td><td>7234</td></tr>",
                            "<tr><td>2015-11-18</td><td>NULL</td><td>8321</td></tr>",
                            "<tr><td>2015-11-19</td><td>NULL</td><td>7582</td></tr>",
                            "<tr><td>2015-11-20</td><td>NULL</td><td>6288</td></tr>",
                            "<tr><td>2015-11-21</td><td>NULL</td><td>6657</td></tr>",
                            "<tr><td>2015-11-22</td><td>NULL</td><td>8640</td></tr>",
                            "<tr><td>2015-11-23</td><td>NULL</td><td>7363</td></tr>",
                            "<tr><td>2015-11-24</td><td>NULL</td><td>7556</td></tr>",
                            "<tr><td>2015-11-25</td><td>NULL</td><td>7103</td></tr>",
                            "<tr><td>2015-11-26</td><td>NULL</td><td>8368</td></tr>",
                            "<tr><td>2015-11-27</td><td>NULL</td><td>6865</td></tr>",
                            "<tr><td>2015-11-28</td><td>NULL</td><td>10098</td></tr>",
                            "<tr><td>2015-11-29</td><td>NULL</td><td>7636</td></tr>",
                            "<tr><td>2015-11-30</td><td>NULL</td><td>7182</td></tr>",
                            "<tr><td>2015-12-01</td><td>NULL</td><td>7314</td></tr>",
                            "<tr><td>2015-12-02</td><td>NULL</td><td>9592</td></tr>",
                            "<tr><td>2015-12-03</td><td>NULL</td><td>8829</td></tr>",
                            "<tr><td>2015-12-04</td><td>NULL</td><td>8013</td></tr>",
                            "<tr><td>2015-12-05</td><td>NULL</td><td>8887</td></tr>",
                            "<tr><td>2015-12-06</td><td>NULL</td><td>5596</td></tr>",
                            "<tr><td>2015-12-07</td><td>NULL</td><td>8825</td></tr>",
                            "<tr><td>2015-12-08</td><td>NULL</td><td>7819</td></tr>",
                            "<tr><td>2015-12-09</td><td>NULL</td><td>7897</td></tr>",
                            "<tr><td>2015-12-10</td><td>NULL</td><td>9644</td></tr>",
                            "<tr><td>2015-12-11</td><td>NULL</td><td>8093</td></tr>",
                            "<tr><td>2015-12-12</td><td>NULL</td><td>8957</td></tr>",
                            "<tr><td>2015-12-13</td><td>NULL</td><td>7399</td></tr>",
                            "<tr><td>2015-12-14</td><td>NULL</td><td>7676</td></tr>",
                            "<tr><td>2015-12-15</td><td>NULL</td><td>6863</td></tr>",
                            "<tr><td>2015-12-16</td><td>NULL</td><td>7886</td></tr>",
                            "<tr><td>2015-12-17</td><td>NULL</td><td>6894</td></tr>",
                            "<tr><td>2015-12-18</td><td>NULL</td><td>12260</td></tr>",
                            "<tr><td>2015-12-19</td><td>NULL</td><td>5788</td></tr>",
                            "<tr><td>2015-12-20</td><td>NULL</td><td>8699</td></tr>",
                            "<tr><td>2015-12-21</td><td>NULL</td><td>6630</td></tr>",
                            "<tr><td>2015-12-22</td><td>NULL</td><td>9212</td></tr>",
                            "<tr><td>2015-12-23</td><td>NULL</td><td>6676</td></tr>",
                            "<tr><td>2015-12-24</td><td>NULL</td><td>8869</td></tr>",
                            "<tr><td>2015-12-25</td><td>NULL</td><td>6944</td></tr>",
                            "<tr><td>2015-12-26</td><td>NULL</td><td>8921</td></tr>",
                            "<tr><td>2015-12-27</td><td>NULL</td><td>7648</td></tr>",
                            "<tr><td>2015-12-28</td><td>NULL</td><td>8042</td></tr>",
                            "<tr><td>2015-12-29</td><td>NULL</td><td>7923</td></tr>",
                            "<tr><td>2015-12-30</td><td>NULL</td><td>6562</td></tr>",
                            "<tr><td>2015-12-31</td><td>NULL</td><td>7021</td></tr>",
                            "<tr><td>2016-01-01</td><td>NULL</td><td>8837</td></tr>",
                            "<tr><td>2016-01-02</td><td>NULL</td><td>7518</td></tr>",
                            "<tr><td>2016-01-03</td><td>NULL</td><td>8422</td></tr>",
                            "<tr><td>2016-01-04</td><td>NULL</td><td>8813</td></tr>",
                            "<tr><td>2016-01-05</td><td>NULL</td><td>6895</td></tr>",
                            "<tr><td>2016-01-06</td><td>NULL</td><td>6716</td></tr>",
                            "<tr><td>2016-01-07</td><td>NULL</td><td>5593</td></tr>",
                            "<tr><td>2016-01-08</td><td>NULL</td><td>9534</td></tr>",
                            "<tr><td>2016-01-09</td><td>NULL</td><td>7056</td></tr>",
                            "<tr><td>2016-01-10</td><td>NULL</td><td>8057</td></tr>",
                            "<tr><td>2016-01-11</td><td>NULL</td><td>6734</td></tr>",
                            "<tr><td>2016-01-12</td><td>NULL</td><td>6949</td></tr>",
                            "<tr><td>2016-01-13</td><td>NULL</td><td>7487</td></tr>",
                            "<tr><td>2016-01-14</td><td>NULL</td><td>8998</td></tr>",
                            "<tr><td>2016-01-15</td><td>NULL</td><td>9345</td></tr>",
                            "<tr><td>2016-01-16</td><td>NULL</td><td>8068</td></tr>",
                            "<tr><td>2016-01-17</td><td>NULL</td><td>6954</td></tr>",
                            "<tr><td>2016-01-18</td><td>NULL</td><td>4416</td></tr>",
                            "<tr><td>2016-01-19</td><td>NULL</td><td>7124</td></tr>",
                            "<tr><td>2016-01-20</td><td>NULL</td><td>8568</td></tr>",
                            "<tr><td>2016-01-21</td><td>NULL</td><td>10953</td></tr>",
                            "<tr><td>2016-01-22</td><td>NULL</td><td>8588</td></tr>",
                            "<tr><td>2016-01-23</td><td>NULL</td><td>6512</td></tr>",
                            "<tr><td>2016-01-24</td><td>NULL</td><td>8898</td></tr>",
                            "<tr><td>2016-01-25</td><td>NULL</td><td>5191</td></tr>",
                            "<tr><td>2016-01-26</td><td>NULL</td><td>5293</td></tr>",
                            "<tr><td>2016-01-27</td><td>NULL</td><td>6513</td></tr>",
                            "<tr><td>2016-01-28</td><td>NULL</td><td>8119</td></tr>",
                            "<tr><td>2016-01-29</td><td>NULL</td><td>6658</td></tr>",
                            "<tr><td>2016-01-30</td><td>NULL</td><td>8727</td></tr>",
                            "<tr><td>2016-01-31</td><td>NULL</td><td>7527</td></tr>",
                            "<tr><td>2016-02-01</td><td>NULL</td><td>9120</td></tr>",
                            "<tr><td>2016-02-02</td><td>NULL</td><td>8088</td></tr>",
                            "<tr><td>2016-02-03</td><td>NULL</td><td>9306</td></tr>",
                            "<tr><td>2016-02-04</td><td>NULL</td><td>7994</td></tr>",
                            "<tr><td>2016-02-05</td><td>NULL</td><td>9703</td></tr>",
                            "<tr><td>2016-02-06</td><td>NULL</td><td>9860</td></tr>",
                            "<tr><td>2016-02-07</td><td>NULL</td><td>6630</td></tr>",
                            "<tr><td>2016-02-08</td><td>NULL</td><td>10093</td></tr>",
                            "<tr><td>2016-02-09</td><td>NULL</td><td>9706</td></tr>",
                            "<tr><td>2016-02-10</td><td>NULL</td><td>8520</td></tr>",
                            "<tr><td>2016-02-11</td><td>NULL</td><td>7094</td></tr>",
                            "<tr><td>2016-02-12</td><td>NULL</td><td>7789</td></tr>",
                            "<tr><td>2016-02-13</td><td>NULL</td><td>7991</td></tr>",
                            "<tr><td>2016-02-14</td><td>NULL</td><td>8049</td></tr>",
                            "<tr><td>2016-02-15</td><td>NULL</td><td>10033</td></tr>",
                            "<tr><td>2016-02-16</td><td>NULL</td><td>8049</td></tr>",
                            "<tr><td>2016-02-17</td><td>NULL</td><td>9586</td></tr>",
                            "<tr><td>2016-02-18</td><td>NULL</td><td>5922</td></tr>",
                            "<tr><td>2016-02-19</td><td>NULL</td><td>8898</td></tr>",
                            "<tr><td>2016-02-20</td><td>NULL</td><td>7549</td></tr>",
                            "<tr><td>2016-02-21</td><td>NULL</td><td>6531</td></tr>",
                            "<tr><td>2016-02-22</td><td>NULL</td><td>8724</td></tr>",
                            "<tr><td>2016-02-23</td><td>NULL</td><td>6959</td></tr>",
                            "<tr><td>2016-02-24</td><td>NULL</td><td>6314</td></tr>",
                            "<tr><td>2016-02-25</td><td>NULL</td><td>7324</td></tr>",
                            "<tr><td>2016-02-26</td><td>NULL</td><td>8466</td></tr>",
                            "<tr><td>2016-02-27</td><td>NULL</td><td>7122</td></tr>",
                            "<tr><td>2016-02-28</td><td>NULL</td><td>8447</td></tr>",
                            "<tr><td>2016-02-29</td><td>NULL</td><td>8516</td></tr>",
                            "<tr><td>2016-03-01</td><td>NULL</td><td>9654</td></tr>",
                            "<tr><td>2016-03-02</td><td>NULL</td><td>7282</td></tr>",
                            "<tr><td>2016-03-03</td><td>NULL</td><td>8853</td></tr>",
                            "<tr><td>2016-03-04</td><td>NULL</td><td>8549</td></tr>",
                            "<tr><td>2016-03-05</td><td>NULL</td><td>9463</td></tr>",
                            "<tr><td>2016-03-06</td><td>NULL</td><td>7740</td></tr>",
                            "<tr><td>2016-03-07</td><td>NULL</td><td>7680</td></tr>",
                            "<tr><td>2016-03-08</td><td>NULL</td><td>5849</td></tr>",
                            "<tr><td>2016-03-09</td><td>NULL</td><td>9412</td></tr>",
                            "<tr><td>2016-03-10</td><td>NULL</td><td>8848</td></tr>",
                            "<tr><td>2016-03-11</td><td>NULL</td><td>6193</td></tr>",
                            "<tr><td>2016-03-12</td><td>NULL</td><td>10487</td></tr>",
                            "<tr><td>2016-03-13</td><td>NULL</td><td>5913</td></tr>",
                            "<tr><td>2016-03-14</td><td>NULL</td><td>9336</td></tr>",
                            "<tr><td>2016-03-15</td><td>NULL</td><td>8180</td></tr>",
                            "<tr><td>2016-03-16</td><td>NULL</td><td>7448</td></tr>",
                            "<tr><td>2016-03-17</td><td>NULL</td><td>7770</td></tr>",
                            "<tr><td>2016-03-18</td><td>NULL</td><td>6927</td></tr>",
                            "<tr><td>2016-03-19</td><td>NULL</td><td>7827</td></tr>",
                            "<tr><td>2016-03-20</td><td>NULL</td><td>12190</td></tr>",
                            "<tr><td>2016-03-21</td><td>NULL</td><td>11075</td></tr>",
                            "<tr><td>2016-03-22</td><td>NULL</td><td>7770</td></tr>",
                            "<tr><td>2016-03-23</td><td>NULL</td><td>6397</td></tr>",
                            "<tr><td>2016-03-24</td><td>NULL</td><td>7220</td></tr>",
                            "<tr><td>2016-03-25</td><td>NULL</td><td>8763</td></tr>",
                            "<tr><td>2016-03-26</td><td>NULL</td><td>9893</td></tr>",
                            "<tr><td>2016-03-27</td><td>NULL</td><td>8950</td></tr>",
                            "<tr><td>2016-03-28</td><td>NULL</td><td>7552</td></tr>",
                            "<tr><td>2016-03-29</td><td>NULL</td><td>7416</td></tr>",
                            "<tr><td>2016-03-30</td><td>NULL</td><td>8631</td></tr>",
                            "<tr><td>2016-03-31</td><td>NULL</td><td>6885</td></tr>",
                            "<tr><td>2016-04-01</td><td>NULL</td><td>8756</td></tr>",
                            "<tr><td>2016-04-02</td><td>NULL</td><td>8073</td></tr>",
                            "<tr><td>2016-04-03</td><td>NULL</td><td>5897</td></tr>",
                            "<tr><td>2016-04-04</td><td>NULL</td><td>7405</td></tr>",
                            "<tr><td>2016-04-05</td><td>NULL</td><td>8092</td></tr>",
                            "<tr><td>2016-04-06</td><td>NULL</td><td>7458</td></tr>",
                            "<tr><td>2016-04-07</td><td>NULL</td><td>9216</td></tr>",
                            "<tr><td>2016-04-08</td><td>NULL</td><td>10889</td></tr>",
                            "<tr><td>2016-04-09</td><td>NULL</td><td>9754</td></tr>",
                            "<tr><td>2016-04-10</td><td>NULL</td><td>9878</td></tr>",
                            "<tr><td>2016-04-11</td><td>NULL</td><td>8948</td></tr>",
                            "<tr><td>2016-04-12</td><td>NULL</td><td>7144</td></tr>",
                            "<tr><td>2016-04-13</td><td>NULL</td><td>7728</td></tr>",
                            "<tr><td>2016-04-14</td><td>NULL</td><td>8805</td></tr>",
                            "<tr><td>2016-04-15</td><td>NULL</td><td>8331</td></tr>",
                            "<tr><td>2016-04-16</td><td>NULL</td><td>8755</td></tr>",
                            "<tr><td>2016-04-17</td><td>NULL</td><td>10267</td></tr>",
                            "<tr><td>2016-04-18</td><td>NULL</td><td>7586</td></tr>",
                            "<tr><td>2016-04-19</td><td>NULL</td><td>9190</td></tr>",
                            "<tr><td>2016-04-20</td><td>NULL</td><td>6584</td></tr>",
                            "<tr><td>2016-04-21</td><td>NULL</td><td>6628</td></tr>",
                            "<tr><td>2016-04-22</td><td>NULL</td><td>6502</td></tr>",
                            "<tr><td>2016-04-23</td><td>NULL</td><td>6588</td></tr>",
                            "<tr><td>2016-04-24</td><td>NULL</td><td>9512</td></tr>",
                            "<tr><td>2016-04-25</td><td>NULL</td><td>10177</td></tr>",
                            "<tr><td>2016-04-26</td><td>NULL</td><td>7946</td></tr>",
                            "<tr><td>2016-04-27</td><td>NULL</td><td>8344</td></tr>",
                            "<tr><td>2016-04-28</td><td>NULL</td><td>7732</td></tr>",
                            "<tr><td>2016-04-29</td><td>NULL</td><td>7870</td></tr>",
                            "<tr><td>2016-04-30</td><td>NULL</td><td>7898</td></tr>",
                            "<tr><td>2016-05-01</td><td>NULL</td><td>6600</td></tr>",
                            "<tr><td>2016-05-02</td><td>NULL</td><td>8142</td></tr>",
                            "<tr><td>2016-05-03</td><td>NULL</td><td>5084</td></tr>",
                            "<tr><td>2016-05-04</td><td>NULL</td><td>9125</td></tr>",
                            "<tr><td>2016-05-05</td><td>NULL</td><td>7845</td></tr>",
                            "<tr><td>2016-05-06</td><td>NULL</td><td>7969</td></tr>",
                            "<tr><td>2016-05-07</td><td>NULL</td><td>8896</td></tr>",
                            "<tr><td>2016-05-08</td><td>NULL</td><td>7858</td></tr>",
                            "<tr><td>2016-05-09</td><td>NULL</td><td>11178</td></tr>",
                            "<tr><td>2016-05-10</td><td>NULL</td><td>8968</td></tr>",
                            "<tr><td>2016-05-11</td><td>NULL</td><td>8132</td></tr>",
                            "<tr><td>2016-05-12</td><td>NULL</td><td>8095</td></tr>",
                            "<tr><td>2016-05-13</td><td>NULL</td><td>8089</td></tr>",
                            "<tr><td>2016-05-14</td><td>NULL</td><td>7722</td></tr>",
                            "<tr><td>2016-05-15</td><td>NULL</td><td>5490</td></tr>",
                            "<tr><td>2016-05-16</td><td>NULL</td><td>7944</td></tr>",
                            "<tr><td>2016-05-17</td><td>NULL</td><td>8888</td></tr>",
                            "<tr><td>2016-05-18</td><td>NULL</td><td>5720</td></tr>",
                            "<tr><td>2016-05-19</td><td>NULL</td><td>7578</td></tr>",
                            "<tr><td>2016-05-20</td><td>NULL</td><td>8879</td></tr>",
                            "<tr><td>2016-05-21</td><td>NULL</td><td>9030</td></tr>",
                            "<tr><td>2016-05-22</td><td>NULL</td><td>4914</td></tr>",
                            "<tr><td>2016-05-23</td><td>NULL</td><td>8577</td></tr>",
                            "<tr><td>2016-05-24</td><td>NULL</td><td>8816</td></tr>",
                            "<tr><td>2016-05-25</td><td>NULL</td><td>9296</td></tr>",
                            "<tr><td>2016-05-26</td><td>NULL</td><td>5287</td></tr>",
                            "<tr><td>2016-05-27</td><td>NULL</td><td>9701</td></tr>",
                            "<tr><td>2016-05-28</td><td>NULL</td><td>6509</td></tr>",
                            "<tr><td>2016-05-29</td><td>NULL</td><td>9450</td></tr>",
                            "<tr><td>2016-05-30</td><td>NULL</td><td>6884</td></tr>",
                            "<tr><td>2016-05-31</td><td>NULL</td><td>10007</td></tr>",
                            "<tr><td>2016-06-01</td><td>NULL</td><td>8484</td></tr>",
                            "<tr><td>2016-06-02</td><td>NULL</td><td>6928</td></tr>",
                            "<tr><td>2016-06-03</td><td>NULL</td><td>6567</td></tr>",
                            "<tr><td>2016-06-04</td><td>NULL</td><td>7904</td></tr>",
                            "<tr><td>2016-06-05</td><td>NULL</td><td>5802</td></tr>",
                            "<tr><td>2016-06-06</td><td>NULL</td><td>9474</td></tr>",
                            "<tr><td>2016-06-07</td><td>NULL</td><td>8722</td></tr>",
                            "<tr><td>2016-06-08</td><td>NULL</td><td>7019</td></tr>",
                            "<tr><td>2016-06-09</td><td>NULL</td><td>7354</td></tr>",
                            "<tr><td>2016-06-10</td><td>NULL</td><td>8873</td></tr>",
                            "<tr><td>2016-06-11</td><td>NULL</td><td>9217</td></tr>",
                            "<tr><td>2016-06-12</td><td>NULL</td><td>9418</td></tr>",
                            "<tr><td>2016-06-13</td><td>NULL</td><td>6407</td></tr>",
                            "<tr><td>2016-06-14</td><td>NULL</td><td>7968</td></tr>",
                            "<tr><td>2016-06-15</td><td>NULL</td><td>8830</td></tr>",
                            "<tr><td>2016-06-16</td><td>NULL</td><td>6462</td></tr>",
                            "<tr><td>2016-06-17</td><td>NULL</td><td>9189</td></tr>",
                            "<tr><td>2016-06-18</td><td>NULL</td><td>6311</td></tr>",
                            "<tr><td>2016-06-19</td><td>NULL</td><td>8834</td></tr>",
                            "<tr><td>2016-06-20</td><td>NULL</td><td>8005</td></tr>",
                            "<tr><td>2016-06-21</td><td>NULL</td><td>6482</td></tr>",
                            "<tr><td>2016-06-22</td><td>NULL</td><td>6541</td></tr>",
                            "<tr><td>2016-06-23</td><td>NULL</td><td>6662</td></tr>",
                            "<tr><td>2016-06-24</td><td>NULL</td><td>8530</td></tr>",
                            "<tr><td>2016-06-25</td><td>NULL</td><td>8262</td></tr>",
                            "<tr><td>2016-06-26</td><td>NULL</td><td>10488</td></tr>",
                            "<tr><td>2016-06-27</td><td>NULL</td><td>5541</td></tr>",
                            "<tr><td>2016-06-28</td><td>NULL</td><td>10267</td></tr>",
                            "<tr><td>2016-06-29</td><td>NULL</td><td>9869</td></tr>",
                            "<tr><td>2016-06-30</td><td>NULL</td><td>9437</td></tr>",
                            "<tr><td>2016-07-01</td><td>NULL</td><td>5916</td></tr>",
                            "<tr><td>2016-07-02</td><td>NULL</td><td>6710</td></tr>",
                            "<tr><td>2016-07-03</td><td>NULL</td><td>9081</td></tr>",
                            "<tr><td>2016-07-04</td><td>NULL</td><td>10816</td></tr>",
                            "<tr><td>2016-07-05</td><td>NULL</td><td>8863</td></tr>",
                            "<tr><td>2016-07-06</td><td>NULL</td><td>7283</td></tr>",
                            "<tr><td>2016-07-07</td><td>NULL</td><td>5922</td></tr>",
                            "<tr><td>2016-07-08</td><td>NULL</td><td>7968</td></tr>",
                            "<tr><td>2016-07-09</td><td>NULL</td><td>9112</td></tr>",
                            "<tr><td>2016-07-10</td><td>NULL</td><td>7494</td></tr>",
                            "<tr><td>2016-07-11</td><td>NULL</td><td>10358</td></tr>",
                            "<tr><td>2016-07-12</td><td>NULL</td><td>8519</td></tr>",
                            "<tr><td>2016-07-13</td><td>NULL</td><td>8721</td></tr>",
                            "<tr><td>2016-07-14</td><td>NULL</td><td>7363</td></tr>",
                            "<tr><td>2016-07-15</td><td>NULL</td><td>7066</td></tr>",
                            "<tr><td>2016-07-16</td><td>NULL</td><td>8298</td></tr>",
                            "<tr><td>2016-07-17</td><td>NULL</td><td>6320</td></tr>",
                            "<tr><td>2016-07-18</td><td>NULL</td><td>8573</td></tr>",
                            "<tr><td>2016-07-19</td><td>NULL</td><td>9023</td></tr>",
                            "<tr><td>2016-07-20</td><td>NULL</td><td>7415</td></tr>",
                            "<tr><td>2016-07-21</td><td>NULL</td><td>7484</td></tr>",
                            "<tr><td>2016-07-22</td><td>NULL</td><td>7412</td></tr>",
                            "<tr><td>2016-07-23</td><td>NULL</td><td>6895</td></tr>",
                            "<tr><td>2016-07-24</td><td>NULL</td><td>6958</td></tr>",
                            "<tr><td>2016-07-25</td><td>NULL</td><td>7559</td></tr>",
                            "<tr><td>2016-07-26</td><td>NULL</td><td>7020</td></tr>",
                            "<tr><td>2016-07-27</td><td>NULL</td><td>9352</td></tr>",
                            "<tr><td>2016-07-28</td><td>NULL</td><td>7155</td></tr>",
                            "<tr><td>2016-07-29</td><td>NULL</td><td>9038</td></tr>",
                            "<tr><td>2016-07-30</td><td>NULL</td><td>6288</td></tr>",
                            "<tr><td>2016-07-31</td><td>NULL</td><td>9007</td></tr>",
                            "<tr><td>2016-08-01</td><td>NULL</td><td>7588</td></tr>",
                            "<tr><td>2016-08-02</td><td>NULL</td><td>6686</td></tr>",
                            "<tr><td>2016-08-03</td><td>NULL</td><td>7884</td></tr>",
                            "<tr><td>2016-08-04</td><td>NULL</td><td>6900</td></tr>",
                            "<tr><td>2016-08-05</td><td>NULL</td><td>7610</td></tr>",
                            "<tr><td>2016-08-06</td><td>NULL</td><td>8498</td></tr>",
                            "<tr><td>2016-08-07</td><td>NULL</td><td>5511</td></tr>",
                            "<tr><td>2016-08-08</td><td>NULL</td><td>5829</td></tr>",
                            "<tr><td>2016-08-09</td><td>NULL</td><td>10307</td></tr>",
                            "<tr><td>2016-08-10</td><td>NULL</td><td>8311</td></tr>",
                            "<tr><td>2016-08-11</td><td>NULL</td><td>8232</td></tr>",
                            "<tr><td>2016-08-12</td><td>NULL</td><td>8761</td></tr>",
                            "<tr><td>2016-08-13</td><td>NULL</td><td>9571</td></tr>",
                            "<tr><td>2016-08-14</td><td>NULL</td><td>8263</td></tr>",
                            "<tr><td>2016-08-15</td><td>NULL</td><td>10966</td></tr>",
                            "<tr><td>2016-08-16</td><td>NULL</td><td>7435</td></tr>",
                            "<tr><td>2016-08-17</td><td>NULL</td><td>7576</td></tr>",
                            "<tr><td>2016-08-18</td><td>NULL</td><td>7689</td></tr>",
                            "<tr><td>2016-08-19</td><td>NULL</td><td>6974</td></tr>",
                            "<tr><td>2016-08-20</td><td>NULL</td><td>9117</td></tr>",
                            "<tr><td>2016-08-21</td><td>NULL</td><td>5864</td></tr>",
                            "<tr><td>2016-08-22</td><td>NULL</td><td>7082</td></tr>",
                            "<tr><td>2016-08-23</td><td>NULL</td><td>6153</td></tr>",
                            "<tr><td>2016-08-24</td><td>NULL</td><td>8822</td></tr>",
                            "<tr><td>2016-08-25</td><td>NULL</td><td>9398</td></tr>",
                            "<tr><td>2016-08-26</td><td>NULL</td><td>8695</td></tr>",
                            "<tr><td>2016-08-27</td><td>NULL</td><td>8120</td></tr>",
                            "<tr><td>2016-08-28</td><td>NULL</td><td>8937</td></tr>",
                            "<tr><td>2016-08-29</td><td>NULL</td><td>7542</td></tr>",
                            "<tr><td>2016-08-30</td><td>NULL</td><td>5527</td></tr>",
                            "<tr><td>2016-08-31</td><td>NULL</td><td>6069</td></tr>",
                            "<tr><td>2016-09-01</td><td>NULL</td><td>6626</td></tr>",
                            "<tr><td>2016-09-02</td><td>NULL</td><td>7775</td></tr>",
                            "<tr><td>2016-09-03</td><td>NULL</td><td>11043</td></tr>",
                            "<tr><td>2016-09-04</td><td>NULL</td><td>11369</td></tr>",
                            "<tr><td>2016-09-05</td><td>NULL</td><td>6206</td></tr>",
                            "<tr><td>2016-09-06</td><td>NULL</td><td>8736</td></tr>",
                            "<tr><td>2016-09-07</td><td>NULL</td><td>8579</td></tr>",
                            "<tr><td>2016-09-08</td><td>NULL</td><td>8561</td></tr>",
                            "<tr><td>2016-09-09</td><td>NULL</td><td>8470</td></tr>",
                            "<tr><td>2016-09-10</td><td>NULL</td><td>9203</td></tr>",
                            "<tr><td>2016-09-11</td><td>NULL</td><td>8573</td></tr>",
                            "<tr><td>2016-09-12</td><td>NULL</td><td>6264</td></tr>",
                            "<tr><td>2016-09-13</td><td>NULL</td><td>8200</td></tr>",
                            "<tr><td>2016-09-14</td><td>NULL</td><td>10576</td></tr>",
                            "<tr><td>2016-09-15</td><td>NULL</td><td>10530</td></tr>",
                            "<tr><td>2016-09-16</td><td>NULL</td><td>5621</td></tr>",
                            "<tr><td>2016-09-17</td><td>NULL</td><td>7379</td></tr>",
                            "<tr><td>2016-09-18</td><td>NULL</td><td>10790</td></tr>",
                            "<tr><td>2016-09-19</td><td>NULL</td><td>7019</td></tr>",
                            "<tr><td>2016-09-20</td><td>NULL</td><td>8544</td></tr>",
                            "<tr><td>2016-09-21</td><td>NULL</td><td>5504</td></tr>",
                            "<tr><td>2016-09-22</td><td>NULL</td><td>6691</td></tr>",
                            "<tr><td>2016-09-23</td><td>NULL</td><td>6574</td></tr>",
                            "<tr><td>2016-09-24</td><td>NULL</td><td>6220</td></tr>",
                            "<tr><td>2016-09-25</td><td>NULL</td><td>6759</td></tr>",
                            "<tr><td>2016-09-26</td><td>NULL</td><td>7073</td></tr>",
                            "<tr><td>2016-09-27</td><td>NULL</td><td>9214</td></tr>",
                            "<tr><td>2016-09-28</td><td>NULL</td><td>7948</td></tr>",
                            "<tr><td>2016-09-29</td><td>NULL</td><td>5840</td></tr>",
                            "<tr><td>2016-09-30</td><td>NULL</td><td>8410</td></tr>",
                            "<tr><td>2016-10-01</td><td>NULL</td><td>8122</td></tr>",
                            "<tr><td>2016-10-02</td><td>NULL</td><td>7206</td></tr>",
                            "<tr><td>2016-10-03</td><td>NULL</td><td>6357</td></tr>",
                            "<tr><td>2016-10-04</td><td>NULL</td><td>7203</td></tr>",
                            "<tr><td>2016-10-05</td><td>NULL</td><td>7856</td></tr>",
                            "<tr><td>2016-10-06</td><td>NULL</td><td>6682</td></tr>",
                            "<tr><td>2016-10-07</td><td>NULL</td><td>6607</td></tr>",
                            "<tr><td>2016-10-08</td><td>NULL</td><td>8515</td></tr>",
                            "<tr><td>2016-10-09</td><td>NULL</td><td>10396</td></tr>",
                            "<tr><td>2016-10-10</td><td>NULL</td><td>7117</td></tr>",
                            "<tr><td>2016-10-11</td><td>NULL</td><td>9192</td></tr>",
                            "<tr><td>2016-10-12</td><td>NULL</td><td>10889</td></tr>",
                            "<tr><td>2016-10-13</td><td>NULL</td><td>10192</td></tr>",
                            "<tr><td>2016-10-14</td><td>NULL</td><td>7397</td></tr>",
                            "<tr><td>2016-10-15</td><td>NULL</td><td>7459</td></tr>",
                            "<tr><td>2016-10-16</td><td>NULL</td><td>7198</td></tr>",
                            "<tr><td>2016-10-17</td><td>NULL</td><td>11045</td></tr>",
                            "<tr><td>2016-10-18</td><td>NULL</td><td>7033</td></tr>",
                            "<tr><td>2016-10-19</td><td>NULL</td><td>9307</td></tr>",
                            "<tr><td>2016-10-20</td><td>NULL</td><td>6856</td></tr>",
                            "<tr><td>2016-10-21</td><td>NULL</td><td>9403</td></tr>",
                            "<tr><td>2016-10-22</td><td>NULL</td><td>8356</td></tr>",
                            "<tr><td>2016-10-23</td><td>NULL</td><td>9634</td></tr>",
                            "<tr><td>2016-10-24</td><td>NULL</td><td>4888</td></tr>",
                            "<tr><td>2016-10-25</td><td>NULL</td><td>11978</td></tr>",
                            "<tr><td>2016-10-26</td><td>NULL</td><td>8070</td></tr>",
                            "<tr><td>2016-10-27</td><td>NULL</td><td>7617</td></tr>",
                            "<tr><td>2016-10-28</td><td>NULL</td><td>7766</td></tr>",
                            "<tr><td>2016-10-29</td><td>NULL</td><td>6854</td></tr>",
                            "<tr><td>2016-10-30</td><td>NULL</td><td>11718</td></tr>",
                            "<tr><td>2016-10-31</td><td>NULL</td><td>8714</td></tr>",
                            "<tr><td>2016-11-01</td><td>NULL</td><td>7238</td></tr>",
                            "<tr><td>2016-11-02</td><td>NULL</td><td>5472</td></tr>",
                            "<tr><td>2016-11-03</td><td>NULL</td><td>7739</td></tr>",
                            "<tr><td>2016-11-04</td><td>NULL</td><td>6667</td></tr>",
                            "<tr><td>2016-11-05</td><td>NULL</td><td>9157</td></tr>",
                            "<tr><td>2016-11-06</td><td>NULL</td><td>8517</td></tr>",
                            "<tr><td>2016-11-07</td><td>NULL</td><td>6691</td></tr>",
                            "<tr><td>2016-11-08</td><td>NULL</td><td>8431</td></tr>",
                            "<tr><td>2016-11-09</td><td>NULL</td><td>5911</td></tr>",
                            "<tr><td>2016-11-10</td><td>NULL</td><td>6795</td></tr>",
                            "<tr><td>2016-11-11</td><td>NULL</td><td>6940</td></tr>",
                            "<tr><td>2016-11-12</td><td>NULL</td><td>10959</td></tr>",
                            "<tr><td>2016-11-13</td><td>NULL</td><td>10751</td></tr>",
                            "<tr><td>2016-11-14</td><td>NULL</td><td>11881</td></tr>",
                            "<tr><td>2016-11-15</td><td>NULL</td><td>6736</td></tr>",
                            "<tr><td>2016-11-16</td><td>NULL</td><td>8969</td></tr>",
                            "<tr><td>2016-11-17</td><td>NULL</td><td>6852</td></tr>",
                            "<tr><td>2016-11-18</td><td>NULL</td><td>6770</td></tr>",
                            "<tr><td>2016-11-19</td><td>NULL</td><td>7451</td></tr>",
                            "<tr><td>2016-11-20</td><td>NULL</td><td>7946</td></tr>",
                            "<tr><td>2016-11-21</td><td>NULL</td><td>6727</td></tr>",
                            "<tr><td>2016-11-22</td><td>NULL</td><td>7801</td></tr>",
                            "<tr><td>2016-11-23</td><td>NULL</td><td>7435</td></tr>",
                            "<tr><td>2016-11-24</td><td>NULL</td><td>5981</td></tr>",
                            "<tr><td>2016-11-25</td><td>NULL</td><td>6915</td></tr>",
                            "<tr><td>2016-11-26</td><td>NULL</td><td>9216</td></tr>",
                            "<tr><td>2016-11-27</td><td>NULL</td><td>9893</td></tr>",
                            "<tr><td>2016-11-28</td><td>NULL</td><td>9770</td></tr>",
                            "<tr><td>2016-11-29</td><td>NULL</td><td>8722</td></tr>",
                            "<tr><td>2016-11-30</td><td>NULL</td><td>6419</td></tr>",
                            "<tr><td>2016-12-01</td><td>NULL</td><td>9940</td></tr>",
                            "<tr><td>2016-12-02</td><td>NULL</td><td>4748</td></tr>",
                            "<tr><td>2016-12-03</td><td>NULL</td><td>6745</td></tr>",
                            "<tr><td>2016-12-04</td><td>NULL</td><td>9959</td></tr>",
                            "<tr><td>2016-12-05</td><td>NULL</td><td>8225</td></tr>",
                            "<tr><td>2016-12-06</td><td>NULL</td><td>7762</td></tr>",
                            "<tr><td>2016-12-07</td><td>NULL</td><td>7380</td></tr>",
                            "<tr><td>2016-12-08</td><td>NULL</td><td>7200</td></tr>",
                            "<tr><td>2016-12-09</td><td>NULL</td><td>9724</td></tr>",
                            "<tr><td>2016-12-10</td><td>NULL</td><td>7083</td></tr>",
                            "<tr><td>2016-12-11</td><td>NULL</td><td>7576</td></tr>",
                            "<tr><td>2016-12-12</td><td>NULL</td><td>8580</td></tr>",
                            "<tr><td>2016-12-13</td><td>NULL</td><td>8233</td></tr>",
                            "<tr><td>2016-12-14</td><td>NULL</td><td>6268</td></tr>",
                            "<tr><td>2016-12-15</td><td>NULL</td><td>7392</td></tr>",
                            "<tr><td>2016-12-16</td><td>NULL</td><td>6407</td></tr>",
                            "<tr><td>2016-12-17</td><td>NULL</td><td>7555</td></tr>",
                            "<tr><td>2016-12-18</td><td>NULL</td><td>6070</td></tr>",
                            "<tr><td>2016-12-19</td><td>NULL</td><td>5390</td></tr>",
                            "<tr><td>2016-12-20</td><td>NULL</td><td>7735</td></tr>",
                            "<tr><td>2016-12-21</td><td>NULL</td><td>10434</td></tr>",
                            "<tr><td>2016-12-22</td><td>NULL</td><td>5465</td></tr>",
                            "<tr><td>2016-12-23</td><td>NULL</td><td>8338</td></tr>",
                            "<tr><td>2016-12-24</td><td>NULL</td><td>5916</td></tr>",
                            "<tr><td>2016-12-25</td><td>NULL</td><td>7345</td></tr>",
                            "<tr><td>2016-12-26</td><td>NULL</td><td>9875</td></tr>",
                            "<tr><td>2016-12-27</td><td>NULL</td><td>10216</td></tr>",
                            "<tr><td>2016-12-28</td><td>NULL</td><td>6222</td></tr>",
                            "<tr><td>2016-12-29</td><td>NULL</td><td>10046</td></tr>",
                            "<tr><td>2016-12-30</td><td>NULL</td><td>7113</td></tr>",
                            "<tr><td>2016-12-31</td><td>NULL</td><td>7188</td></tr>",
                            "<tr><td>2017-01-01</td><td>NULL</td><td>7200</td></tr>",
                            "<tr><td>2017-01-02</td><td>NULL</td><td>7425</td></tr>",
                            "<tr><td>2017-01-03</td><td>NULL</td><td>6783</td></tr>",
                            "<tr><td>2017-01-04</td><td>NULL</td><td>7465</td></tr>",
                            "<tr><td>2017-01-05</td><td>NULL</td><td>7591</td></tr>",
                            "<tr><td>2017-01-06</td><td>NULL</td><td>8298</td></tr>",
                            "<tr><td>2017-01-07</td><td>NULL</td><td>8976</td></tr>",
                            "<tr><td>2017-01-08</td><td>NULL</td><td>7179</td></tr>",
                            "<tr><td>2017-01-09</td><td>NULL</td><td>9465</td></tr>",
                            "<tr><td>2017-01-10</td><td>NULL</td><td>8667</td></tr>",
                            "<tr><td>2017-01-11</td><td>NULL</td><td>9472</td></tr>",
                            "<tr><td>2017-01-12</td><td>NULL</td><td>7636</td></tr>",
                            "<tr><td>2017-01-13</td><td>NULL</td><td>7538</td></tr>",
                            "<tr><td>2017-01-14</td><td>NULL</td><td>8920</td></tr>",
                            "<tr><td>2017-01-15</td><td>NULL</td><td>7611</td></tr>",
                            "<tr><td>2017-01-16</td><td>NULL</td><td>7369</td></tr>",
                            "<tr><td>2017-01-17</td><td>NULL</td><td>8658</td></tr>",
                            "<tr><td>2017-01-18</td><td>NULL</td><td>6558</td></tr>",
                            "<tr><td>2017-01-19</td><td>NULL</td><td>6422</td></tr>",
                            "<tr><td>2017-01-20</td><td>NULL</td><td>6450</td></tr>",
                            "<tr><td>2017-01-21</td><td>NULL</td><td>7150</td></tr>",
                            "<tr><td>2017-01-22</td><td>NULL</td><td>8199</td></tr>",
                            "<tr><td>2017-01-23</td><td>NULL</td><td>8394</td></tr>",
                            "<tr><td>2017-01-24</td><td>NULL</td><td>8615</td></tr>",
                            "<tr><td>2017-01-25</td><td>NULL</td><td>6484</td></tr>",
                            "<tr><td>2017-01-26</td><td>NULL</td><td>9426</td></tr>",
                            "<tr><td>2017-01-27</td><td>NULL</td><td>5418</td></tr>",
                            "<tr><td>2017-01-28</td><td>NULL</td><td>8401</td></tr>",
                            "<tr><td>2017-01-29</td><td>NULL</td><td>8997</td></tr>",
                            "<tr><td>2017-01-30</td><td>NULL</td><td>9661</td></tr>",
                            "<tr><td>2017-01-31</td><td>NULL</td><td>6253</td></tr>",
                            "<tr><td>2017-02-01</td><td>NULL</td><td>5703</td></tr>",
                            "<tr><td>2017-02-02</td><td>NULL</td><td>8746</td></tr>",
                            "<tr><td>2017-02-03</td><td>NULL</td><td>7840</td></tr>",
                            "<tr><td>2017-02-04</td><td>NULL</td><td>6220</td></tr>",
                            "<tr><td>2017-02-05</td><td>NULL</td><td>5138</td></tr>",
                            "<tr><td>2017-02-06</td><td>NULL</td><td>8206</td></tr>",
                            "<tr><td>2017-02-07</td><td>NULL</td><td>6846</td></tr>",
                            "<tr><td>2017-02-08</td><td>NULL</td><td>10057</td></tr>",
                            "<tr><td>2017-02-09</td><td>NULL</td><td>8302</td></tr>",
                            "<tr><td>2017-02-10</td><td>NULL</td><td>8964</td></tr>",
                            "<tr><td>2017-02-11</td><td>NULL</td><td>8790</td></tr>",
                            "<tr><td>2017-02-12</td><td>NULL</td><td>6268</td></tr>",
                            "<tr><td>2017-02-13</td><td>NULL</td><td>8176</td></tr>",
                            "<tr><td>2017-02-14</td><td>NULL</td><td>10029</td></tr>",
                            "<tr><td>2017-02-15</td><td>NULL</td><td>6443</td></tr>",
                            "<tr><td>2017-02-16</td><td>NULL</td><td>8794</td></tr>",
                            "<tr><td>2017-02-17</td><td>NULL</td><td>9808</td></tr>",
                            "<tr><td>2017-02-18</td><td>NULL</td><td>10757</td></tr>",
                            "<tr><td>2017-02-19</td><td>NULL</td><td>8284</td></tr>",
                            "<tr><td>2017-02-20</td><td>NULL</td><td>5660</td></tr>",
                            "<tr><td>2017-02-21</td><td>NULL</td><td>8878</td></tr>",
                            "<tr><td>2017-02-22</td><td>NULL</td><td>9034</td></tr>",
                            "<tr><td>2017-02-23</td><td>NULL</td><td>7574</td></tr>",
                            "<tr><td>2017-02-24</td><td>NULL</td><td>6814</td></tr>",
                            "<tr><td>2017-02-25</td><td>NULL</td><td>6820</td></tr>",
                            "<tr><td>2017-02-26</td><td>NULL</td><td>8578</td></tr>",
                            "<tr><td>2017-02-27</td><td>NULL</td><td>9185</td></tr>",
                            "<tr><td>2017-02-28</td><td>NULL</td><td>11649</td></tr>",
                            "<tr><td>2017-03-01</td><td>NULL</td><td>5037</td></tr>",
                            "<tr><td>2017-03-02</td><td>NULL</td><td>4861</td></tr>",
                            "<tr><td>2017-03-03</td><td>NULL</td><td>7585</td></tr>",
                            "<tr><td>2017-03-04</td><td>NULL</td><td>5977</td></tr>",
                            "<tr><td>2017-03-05</td><td>NULL</td><td>10338</td></tr>",
                            "<tr><td>2017-03-06</td><td>NULL</td><td>10916</td></tr>",
                            "<tr><td>2017-03-07</td><td>NULL</td><td>8747</td></tr>",
                            "<tr><td>2017-03-08</td><td>NULL</td><td>6837</td></tr>",
                            "<tr><td>2017-03-09</td><td>NULL</td><td>6964</td></tr>",
                            "<tr><td>2017-03-10</td><td>NULL</td><td>6846</td></tr>",
                            "<tr><td>2017-03-11</td><td>NULL</td><td>6885</td></tr>",
                            "<tr><td>2017-03-12</td><td>NULL</td><td>5941</td></tr>",
                            "<tr><td>2017-03-13</td><td>NULL</td><td>6950</td></tr>",
                            "<tr><td>2017-03-14</td><td>NULL</td><td>7224</td></tr>",
                            "<tr><td>2017-03-15</td><td>NULL</td><td>9718</td></tr>",
                            "<tr><td>2017-03-16</td><td>NULL</td><td>9763</td></tr>",
                            "<tr><td>2017-03-17</td><td>NULL</td><td>8908</td></tr>",
                            "<tr><td>2017-03-18</td><td>NULL</td><td>9344</td></tr>",
                            "<tr><td>2017-03-19</td><td>NULL</td><td>9937</td></tr>",
                            "<tr><td>2017-03-20</td><td>NULL</td><td>7683</td></tr>",
                            "<tr><td>2017-03-21</td><td>NULL</td><td>8639</td></tr>",
                            "<tr><td>2017-03-22</td><td>NULL</td><td>6526</td></tr>",
                            "<tr><td>2017-03-23</td><td>NULL</td><td>8799</td></tr>",
                            "<tr><td>2017-03-24</td><td>NULL</td><td>7416</td></tr>",
                            "<tr><td>2017-03-25</td><td>NULL</td><td>6272</td></tr>",
                            "<tr><td>2017-03-26</td><td>NULL</td><td>7786</td></tr>",
                            "<tr><td>2017-03-27</td><td>NULL</td><td>7715</td></tr>",
                            "<tr><td>2017-03-28</td><td>NULL</td><td>8568</td></tr>",
                            "<tr><td>2017-03-29</td><td>NULL</td><td>8346</td></tr>",
                            "<tr><td>2017-03-30</td><td>NULL</td><td>8513</td></tr>",
                            "<tr><td>2017-03-31</td><td>NULL</td><td>8598</td></tr>",
                            "<tr><td>2017-04-01</td><td>NULL</td><td>7307</td></tr>",
                            "<tr><td>2017-04-02</td><td>NULL</td><td>9477</td></tr>",
                            "<tr><td>2017-04-03</td><td>NULL</td><td>6042</td></tr>",
                            "<tr><td>2017-04-04</td><td>NULL</td><td>7493</td></tr>",
                            "<tr><td>2017-04-05</td><td>NULL</td><td>7562</td></tr>",
                            "<tr><td>2017-04-06</td><td>NULL</td><td>4646</td></tr>",
                            "<tr><td>2017-04-07</td><td>NULL</td><td>5197</td></tr>",
                            "<tr><td>2017-04-08</td><td>NULL</td><td>3057</td></tr>",
                            "<tr><td>2017-04-09</td><td>NULL</td><td>3870</td></tr>",
                            "<tr><td>2017-04-10</td><td>NULL</td><td>1640</td></tr>",
                            "<tr><td>2017-04-11</td><td>NULL</td><td>1220</td></tr>",
                            "<tr><td>NULL</td><td>NULL</td><td>5578316</td></tr>",
                            "</table>"
                        ]
                    }
                }
            ],
            "execution_count": 24
        },
        {
            "cell_type": "markdown",
            "source": [
                "```\n",
                "3. Hány olyan ügyfél van, aki még nem rendelt semmit?\n",
                "```\n",
                "\n",
                "1. Csoportosítsuk őket nem szerint, azon belül életkor szerint!\n",
                "2. A lista tartalmazza a részösszegeket és a végösszeget is!\n",
                "\n",
                "![](https://moodle.uni-corvinus.hu/theme/image.php/adaptable/atto_h5p/1709548862/icon)"
            ],
            "metadata": {
                "azdata_cell_guid": "d7876bb9-76d0-4d07-baed-3cb17b2f96c3"
            },
            "attachments": {}
        },
        {
            "cell_type": "code",
            "source": [
                ""
            ],
            "metadata": {
                "azdata_cell_guid": "56ec19ce-e249-4551-b2a8-f17569765acc",
                "language": "sql"
            },
            "outputs": [],
            "execution_count": null
        },
        {
            "cell_type": "markdown",
            "source": [
                "4. <span style=\"color: rgb(36, 41, 47); font-family: -apple-system, BlinkMacSystemFont, &quot;Segoe UI&quot;, Helvetica, Arial, sans-serif, &quot;Apple Color Emoji&quot;, &quot;Segoe UI Emoji&quot;; font-size: 16px;\">Készítsünk listát a megrendelt termékek legkisebb és legnagyobb egységáráról szállítási dátum, azon belül szállítási mód szerinti bontásban!</span>\n",
                "\n",
                "1. A lista csak a 2015 májusi szállításokat tartalmazza!\n",
                "2. Jelenítsük meg a részösszegeket és a végösszeget is!"
            ],
            "metadata": {
                "azdata_cell_guid": "8e7fef82-8022-49a0-8255-fc2846c2134b"
            },
            "attachments": {}
        },
        {
            "cell_type": "code",
            "source": [
                ""
            ],
            "metadata": {
                "azdata_cell_guid": "36f7b396-4a1f-45e5-8720-2302537c91bc",
                "language": "sql"
            },
            "outputs": [],
            "execution_count": null
        },
        {
            "cell_type": "markdown",
            "source": [
                "5. <span style=\"color: rgb(36, 41, 47); font-family: -apple-system, BlinkMacSystemFont, &quot;Segoe UI&quot;, Helvetica, Arial, sans-serif, &quot;Apple Color Emoji&quot;, &quot;Segoe UI Emoji&quot;; font-size: 16px;\">Készítsünk csoportot a termékek listaára alapján a következők szerint:&nbsp;<br></span> <span style=\"color: rgb(36, 41, 47); font-family: -apple-system, BlinkMacSystemFont, &quot;Segoe UI&quot;, Helvetica, Arial, sans-serif, &quot;Apple Color Emoji&quot;, &quot;Segoe UI Emoji&quot;; font-size: 16px;\">Az \"olcsó\" termékek legyenek azok, amelyek listaára 3000 alatt van.<br>&nbsp;A \"drága\" termékek legyenek az 5000 felettiek, a többi legyen \"közepes\".</span>\n",
                "\n",
                "1. Listázzuk az egyes csoportokat, és a csoportokba tartozó termékek darabszámát!\n",
                "2. A lista jelenítse meg a végösszeget is!"
            ],
            "metadata": {
                "azdata_cell_guid": "84239ca2-6b5e-49f5-9860-d44c11d6de32"
            },
            "attachments": {}
        },
        {
            "cell_type": "code",
            "source": [
                ""
            ],
            "metadata": {
                "azdata_cell_guid": "06d9a62b-9430-424b-a135-d80e675f0eb3",
                "language": "sql"
            },
            "outputs": [],
            "execution_count": null
        },
        {
            "cell_type": "markdown",
            "source": [
                "6. <span style=\"font-weight: 600; color: rgb(36, 41, 47); font-family: -apple-system, BlinkMacSystemFont, &quot;Segoe UI&quot;, Helvetica, Arial, sans-serif, &quot;Apple Color Emoji&quot;, &quot;Segoe UI Emoji&quot;; font-size: 16px;\">Készítsünk listát az ügyfelek adatairól név szerinti sorrendben.</span>\n",
                "\n",
                "1. Minden sorban jelenjen meg a sorrend szerint előző, illetve következő ügyfél neve is.\n",
                "2. Ha nincs előző vagy következő ügyfél, akkor a 'Nincs' jelenjen meg!"
            ],
            "metadata": {
                "azdata_cell_guid": "b0d15045-3c43-4f3a-b8d4-76b4f24e5546"
            },
            "attachments": {}
        },
        {
            "cell_type": "code",
            "source": [
                ""
            ],
            "metadata": {
                "azdata_cell_guid": "f2b7400d-1255-40ac-9250-4d57f9da5357",
                "language": "sql"
            },
            "outputs": [],
            "execution_count": null
        },
        {
            "cell_type": "markdown",
            "source": [
                "7. <span style=\"font-weight: 600; color: rgb(36, 41, 47); font-family: -apple-system, BlinkMacSystemFont, &quot;Segoe UI&quot;, Helvetica, Arial, sans-serif, &quot;Apple Color Emoji&quot;, &quot;Segoe UI Emoji&quot;; font-size: 16px;\">Készítsünk lekérdezést, amely megmutatja, hogy melyik termékkategóriába hány termék tartozik. A lista a kategória nevét és a darabszámot jelenítse meg.</span>\n",
                "\n",
                "1. A lista ne tartalmazzon duplikált sorokat.\n",
                "2. A feladatot partíciók segítségével oldjuk meg!"
            ],
            "metadata": {
                "azdata_cell_guid": "7ebf7ddd-1bd2-4246-815a-be8ae37e3b5b"
            },
            "attachments": {}
        },
        {
            "cell_type": "code",
            "source": [
                "SELECT DISTINCT tk.KAT_NEV as 'Kategória név',t.MEGYS, COUNT(*) OVER(PARTITION BY tk.KAT_NEV) as 'Mennyiség',AVG(t.LISTAAR) OVER(PARTITION BY t.RAKTAR_KOD) as 'Átlag'\r\n",
                "FROM Termek t JOIN Termekkategoria tk on t.KAT_ID = tk.KAT_ID\r\n",
                "--GROUP BY tk.KAT_NEV"
            ],
            "metadata": {
                "azdata_cell_guid": "84b7e896-f36e-4985-88f5-e0f706494fef",
                "language": "sql",
                "tags": []
            },
            "outputs": [
                {
                    "output_type": "display_data",
                    "data": {
                        "text/html": "(335 rows affected)"
                    },
                    "metadata": {}
                },
                {
                    "output_type": "display_data",
                    "data": {
                        "text/html": "Total execution time: 00:00:00.025"
                    },
                    "metadata": {}
                },
                {
                    "output_type": "execute_result",
                    "metadata": {},
                    "execution_count": 35,
                    "data": {
                        "application/vnd.dataresource+json": {
                            "schema": {
                                "fields": [
                                    {
                                        "name": "Kategória név"
                                    },
                                    {
                                        "name": "MEGYS"
                                    },
                                    {
                                        "name": "Mennyiség"
                                    },
                                    {
                                        "name": "Átlag"
                                    }
                                ]
                            },
                            "data": [
                                {
                                    "Kategória név": "ajándék tárgy",
                                    "MEGYS": "db",
                                    "Mennyiség": "3",
                                    "Átlag": "169,14705882352942"
                                },
                                {
                                    "Kategória név": "ajándék tárgy",
                                    "MEGYS": "db",
                                    "Mennyiség": "3",
                                    "Átlag": "262,48837209302326"
                                },
                                {
                                    "Kategória név": "ajándék tasak",
                                    "MEGYS": "db",
                                    "Mennyiség": "20",
                                    "Átlag": "159,25"
                                },
                                {
                                    "Kategória név": "ajándék tasak",
                                    "MEGYS": "db",
                                    "Mennyiség": "20",
                                    "Átlag": "169,14705882352942"
                                },
                                {
                                    "Kategória név": "ajándék tasak",
                                    "MEGYS": "db",
                                    "Mennyiség": "20",
                                    "Átlag": "215,22641509433961"
                                },
                                {
                                    "Kategória név": "ajándék tasak",
                                    "MEGYS": "db",
                                    "Mennyiség": "20",
                                    "Átlag": "273,219512195122"
                                },
                                {
                                    "Kategória név": "ajándék tasak",
                                    "MEGYS": "tekercs",
                                    "Mennyiség": "20",
                                    "Átlag": "159,25"
                                },
                                {
                                    "Kategória név": "álarc",
                                    "MEGYS": "db",
                                    "Mennyiség": "3",
                                    "Átlag": "159,25"
                                },
                                {
                                    "Kategória név": "álarc",
                                    "MEGYS": "db",
                                    "Mennyiség": "3",
                                    "Átlag": "273,219512195122"
                                },
                                {
                                    "Kategória név": "alkalmi",
                                    "MEGYS": "db",
                                    "Mennyiség": "3",
                                    "Átlag": "7716,428571428572"
                                },
                                {
                                    "Kategória név": "alkalmi",
                                    "MEGYS": "db",
                                    "Mennyiség": "3",
                                    "Átlag": "12345"
                                },
                                {
                                    "Kategória név": "alufólia",
                                    "MEGYS": "db",
                                    "Mennyiség": "2",
                                    "Átlag": "169,14705882352942"
                                },
                                {
                                    "Kategória név": "alufólia",
                                    "MEGYS": "db",
                                    "Mennyiség": "2",
                                    "Átlag": "215,22641509433961"
                                },
                                {
                                    "Kategória név": "árazószalag",
                                    "MEGYS": "db",
                                    "Mennyiség": "1",
                                    "Átlag": "169,14705882352942"
                                },
                                {
                                    "Kategória név": "átírótömb",
                                    "MEGYS": "db",
                                    "Mennyiség": "1",
                                    "Átlag": "273,219512195122"
                                },
                                {
                                    "Kategória név": "beíró",
                                    "MEGYS": "db",
                                    "Mennyiség": "1",
                                    "Átlag": "262,48837209302326"
                                },
                                {
                                    "Kategória név": "beírókönyv",
                                    "MEGYS": "db",
                                    "Mennyiség": "2",
                                    "Átlag": "262,48837209302326"
                                },
                                {
                                    "Kategória név": "beírókönyv",
                                    "MEGYS": "db",
                                    "Mennyiség": "2",
                                    "Átlag": "273,219512195122"
                                },
                                {
                                    "Kategória név": "bélyegző",
                                    "MEGYS": "db",
                                    "Mennyiség": "4",
                                    "Átlag": "159,25"
                                },
                                {
                                    "Kategória név": "bélyegző",
                                    "MEGYS": "db",
                                    "Mennyiség": "4",
                                    "Átlag": "215,22641509433961"
                                },
                                {
                                    "Kategória név": "bélyegző",
                                    "MEGYS": "db",
                                    "Mennyiség": "4",
                                    "Átlag": "273,219512195122"
                                },
                                {
                                    "Kategória név": "bélyegzőfesték",
                                    "MEGYS": "db",
                                    "Mennyiség": "1",
                                    "Átlag": "169,14705882352942"
                                },
                                {
                                    "Kategória név": "boríték",
                                    "MEGYS": "db",
                                    "Mennyiség": "7",
                                    "Átlag": "159,25"
                                },
                                {
                                    "Kategória név": "boríték",
                                    "MEGYS": "db",
                                    "Mennyiség": "7",
                                    "Átlag": "169,14705882352942"
                                },
                                {
                                    "Kategória név": "boríték",
                                    "MEGYS": "db",
                                    "Mennyiség": "7",
                                    "Átlag": "215,22641509433961"
                                },
                                {
                                    "Kategória név": "boríték",
                                    "MEGYS": "db",
                                    "Mennyiség": "7",
                                    "Átlag": "262,48837209302326"
                                },
                                {
                                    "Kategória név": "boríték",
                                    "MEGYS": "db",
                                    "Mennyiség": "7",
                                    "Átlag": "273,219512195122"
                                },
                                {
                                    "Kategória név": "cd tok",
                                    "MEGYS": "db",
                                    "Mennyiség": "1",
                                    "Átlag": "273,219512195122"
                                },
                                {
                                    "Kategória név": "celofán",
                                    "MEGYS": "csomag",
                                    "Mennyiség": "2",
                                    "Átlag": "273,219512195122"
                                },
                                {
                                    "Kategória név": "celofán",
                                    "MEGYS": "db",
                                    "Mennyiség": "2",
                                    "Átlag": "273,219512195122"
                                },
                                {
                                    "Kategória név": "ceruza",
                                    "MEGYS": "db",
                                    "Mennyiség": "19",
                                    "Átlag": "159,25"
                                },
                                {
                                    "Kategória név": "ceruza",
                                    "MEGYS": "db",
                                    "Mennyiség": "19",
                                    "Átlag": "169,14705882352942"
                                },
                                {
                                    "Kategória név": "ceruza",
                                    "MEGYS": "db",
                                    "Mennyiség": "19",
                                    "Átlag": "215,22641509433961"
                                },
                                {
                                    "Kategória név": "ceruza",
                                    "MEGYS": "db",
                                    "Mennyiség": "19",
                                    "Átlag": "262,48837209302326"
                                },
                                {
                                    "Kategória név": "ceruza",
                                    "MEGYS": "db",
                                    "Mennyiség": "19",
                                    "Átlag": "273,219512195122"
                                },
                                {
                                    "Kategória név": "címke",
                                    "MEGYS": "db",
                                    "Mennyiség": "3",
                                    "Átlag": "159,25"
                                },
                                {
                                    "Kategória név": "címke",
                                    "MEGYS": "db",
                                    "Mennyiség": "3",
                                    "Átlag": "169,14705882352942"
                                },
                                {
                                    "Kategória név": "color copy",
                                    "MEGYS": "csomag",
                                    "Mennyiség": "5",
                                    "Átlag": "262,48837209302326"
                                },
                                {
                                    "Kategória név": "color copy",
                                    "MEGYS": "Ív",
                                    "Mennyiség": "5",
                                    "Átlag": "169,14705882352942"
                                },
                                {
                                    "Kategória név": "color copy",
                                    "MEGYS": "ív",
                                    "Mennyiség": "5",
                                    "Átlag": "215,22641509433961"
                                },
                                {
                                    "Kategória név": "color copy",
                                    "MEGYS": "ív",
                                    "Mennyiség": "5",
                                    "Átlag": "262,48837209302326"
                                },
                                {
                                    "Kategória név": "csomagoló",
                                    "MEGYS": "csomag",
                                    "Mennyiség": "2",
                                    "Átlag": "273,219512195122"
                                },
                                {
                                    "Kategória név": "csomagoló",
                                    "MEGYS": "db",
                                    "Mennyiség": "2",
                                    "Átlag": "159,25"
                                },
                                {
                                    "Kategória név": "csomagoló papír",
                                    "MEGYS": "db",
                                    "Mennyiség": "7",
                                    "Átlag": "159,25"
                                },
                                {
                                    "Kategória név": "csomagoló papír",
                                    "MEGYS": "db",
                                    "Mennyiség": "7",
                                    "Átlag": "169,14705882352942"
                                },
                                {
                                    "Kategória név": "csomagoló papír",
                                    "MEGYS": "db",
                                    "Mennyiség": "7",
                                    "Átlag": "215,22641509433961"
                                },
                                {
                                    "Kategória név": "csomagoló papír",
                                    "MEGYS": "db",
                                    "Mennyiség": "7",
                                    "Átlag": "262,48837209302326"
                                },
                                {
                                    "Kategória név": "csomagoló papír",
                                    "MEGYS": "ív",
                                    "Mennyiség": "7",
                                    "Átlag": "169,14705882352942"
                                },
                                {
                                    "Kategória név": "csomagoló papír",
                                    "MEGYS": "ív",
                                    "Mennyiség": "7",
                                    "Átlag": "262,48837209302326"
                                },
                                {
                                    "Kategória név": "dekor",
                                    "MEGYS": "db",
                                    "Mennyiség": "4",
                                    "Átlag": "159,25"
                                },
                                {
                                    "Kategória név": "dekor",
                                    "MEGYS": "db",
                                    "Mennyiség": "4",
                                    "Átlag": "215,22641509433961"
                                },
                                {
                                    "Kategória név": "dekor",
                                    "MEGYS": "db",
                                    "Mennyiség": "4",
                                    "Átlag": "262,48837209302326"
                                },
                                {
                                    "Kategória név": "dekor",
                                    "MEGYS": "db",
                                    "Mennyiség": "4",
                                    "Átlag": "273,219512195122"
                                },
                                {
                                    "Kategória név": "dipa",
                                    "MEGYS": "ív",
                                    "Mennyiség": "1",
                                    "Átlag": "169,14705882352942"
                                },
                                {
                                    "Kategória név": "díszdoboz",
                                    "MEGYS": "db",
                                    "Mennyiség": "3",
                                    "Átlag": "159,25"
                                },
                                {
                                    "Kategória név": "díszdoboz",
                                    "MEGYS": "db",
                                    "Mennyiség": "3",
                                    "Átlag": "169,14705882352942"
                                },
                                {
                                    "Kategória név": "díszdoboz",
                                    "MEGYS": "db",
                                    "Mennyiség": "3",
                                    "Átlag": "262,48837209302326"
                                },
                                {
                                    "Kategória név": "díszkötöző",
                                    "MEGYS": "db",
                                    "Mennyiség": "5",
                                    "Átlag": "215,22641509433961"
                                },
                                {
                                    "Kategória név": "díszkötöző",
                                    "MEGYS": "db",
                                    "Mennyiség": "5",
                                    "Átlag": "273,219512195122"
                                },
                                {
                                    "Kategória név": "dvd",
                                    "MEGYS": "db",
                                    "Mennyiség": "1",
                                    "Átlag": "169,14705882352942"
                                },
                                {
                                    "Kategória név": "ecset",
                                    "MEGYS": "db",
                                    "Mennyiség": "7",
                                    "Átlag": "159,25"
                                },
                                {
                                    "Kategória név": "ecset",
                                    "MEGYS": "db",
                                    "Mennyiség": "7",
                                    "Átlag": "169,14705882352942"
                                },
                                {
                                    "Kategória név": "ecset",
                                    "MEGYS": "db",
                                    "Mennyiség": "7",
                                    "Átlag": "215,22641509433961"
                                },
                                {
                                    "Kategória név": "ecset",
                                    "MEGYS": "db",
                                    "Mennyiség": "7",
                                    "Átlag": "262,48837209302326"
                                },
                                {
                                    "Kategória név": "ecset",
                                    "MEGYS": "db",
                                    "Mennyiség": "7",
                                    "Átlag": "273,219512195122"
                                },
                                {
                                    "Kategória név": "előlap",
                                    "MEGYS": "db",
                                    "Mennyiség": "1",
                                    "Átlag": "262,48837209302326"
                                },
                                {
                                    "Kategória név": "emlékkönyv",
                                    "MEGYS": "db",
                                    "Mennyiség": "3",
                                    "Átlag": "159,25"
                                },
                                {
                                    "Kategória név": "emlékkönyv",
                                    "MEGYS": "db",
                                    "Mennyiség": "3",
                                    "Átlag": "215,22641509433961"
                                },
                                {
                                    "Kategória név": "emléklap",
                                    "MEGYS": "db",
                                    "Mennyiség": "1",
                                    "Átlag": "159,25"
                                },
                                {
                                    "Kategória név": "fax papír",
                                    "MEGYS": "db",
                                    "Mennyiség": "1",
                                    "Átlag": "169,14705882352942"
                                },
                                {
                                    "Kategória név": "fehérnemű",
                                    "MEGYS": "db",
                                    "Mennyiség": "7",
                                    "Átlag": "7716,428571428572"
                                },
                                {
                                    "Kategória név": "fehérnemű",
                                    "MEGYS": "db",
                                    "Mennyiség": "7",
                                    "Átlag": "9160"
                                },
                                {
                                    "Kategória név": "fehérnemű",
                                    "MEGYS": "db",
                                    "Mennyiség": "7",
                                    "Átlag": "12345"
                                },
                                {
                                    "Kategória név": "fehérnemű",
                                    "MEGYS": "db",
                                    "Mennyiség": "7",
                                    "Átlag": "12579,8"
                                },
                                {
                                    "Kategória név": "fénymásoló papír",
                                    "MEGYS": "csomag",
                                    "Mennyiség": "5",
                                    "Átlag": "169,14705882352942"
                                },
                                {
                                    "Kategória név": "fénymásoló papír",
                                    "MEGYS": "csomag",
                                    "Mennyiség": "5",
                                    "Átlag": "215,22641509433961"
                                },
                                {
                                    "Kategória név": "fénymásoló papír",
                                    "MEGYS": "csomag",
                                    "Mennyiség": "5",
                                    "Átlag": "262,48837209302326"
                                },
                                {
                                    "Kategória név": "férfi ing",
                                    "MEGYS": "db",
                                    "Mennyiség": "1",
                                    "Átlag": "9160"
                                },
                                {
                                    "Kategória név": "férfi kabát",
                                    "MEGYS": "db",
                                    "Mennyiség": "1",
                                    "Átlag": "9160"
                                },
                                {
                                    "Kategória név": "férfi nadrág",
                                    "MEGYS": "db",
                                    "Mennyiség": "2",
                                    "Átlag": "7716,428571428572"
                                },
                                {
                                    "Kategória név": "férfi nadrág",
                                    "MEGYS": "db",
                                    "Mennyiség": "2",
                                    "Átlag": "9160"
                                },
                                {
                                    "Kategória név": "festékpatron",
                                    "MEGYS": "db",
                                    "Mennyiség": "1",
                                    "Átlag": "215,22641509433961"
                                },
                                {
                                    "Kategória név": "filctoll",
                                    "MEGYS": "csomag",
                                    "Mennyiség": "13",
                                    "Átlag": "169,14705882352942"
                                },
                                {
                                    "Kategória név": "filctoll",
                                    "MEGYS": "db",
                                    "Mennyiség": "13",
                                    "Átlag": "159,25"
                                },
                                {
                                    "Kategória név": "filctoll",
                                    "MEGYS": "db",
                                    "Mennyiség": "13",
                                    "Átlag": "169,14705882352942"
                                },
                                {
                                    "Kategória név": "filctoll",
                                    "MEGYS": "db",
                                    "Mennyiség": "13",
                                    "Átlag": "262,48837209302326"
                                },
                                {
                                    "Kategória név": "filctoll",
                                    "MEGYS": "db",
                                    "Mennyiség": "13",
                                    "Átlag": "273,219512195122"
                                },
                                {
                                    "Kategória név": "floppy",
                                    "MEGYS": "db",
                                    "Mennyiség": "1",
                                    "Átlag": "159,25"
                                },
                                {
                                    "Kategória név": "fólia",
                                    "MEGYS": "ív",
                                    "Mennyiség": "3",
                                    "Átlag": "169,14705882352942"
                                },
                                {
                                    "Kategória név": "fólia",
                                    "MEGYS": "ív",
                                    "Mennyiség": "3",
                                    "Átlag": "273,219512195122"
                                },
                                {
                                    "Kategória név": "fotópapír",
                                    "MEGYS": "db",
                                    "Mennyiség": "1",
                                    "Átlag": "169,14705882352942"
                                },
                                {
                                    "Kategória név": "füzet",
                                    "MEGYS": "db",
                                    "Mennyiség": "11",
                                    "Átlag": "159,25"
                                },
                                {
                                    "Kategória név": "füzet",
                                    "MEGYS": "db",
                                    "Mennyiség": "11",
                                    "Átlag": "169,14705882352942"
                                },
                                {
                                    "Kategória név": "füzet",
                                    "MEGYS": "db",
                                    "Mennyiség": "11",
                                    "Átlag": "215,22641509433961"
                                },
                                {
                                    "Kategória név": "füzet",
                                    "MEGYS": "db",
                                    "Mennyiség": "11",
                                    "Átlag": "262,48837209302326"
                                },
                                {
                                    "Kategória név": "füzet",
                                    "MEGYS": "db",
                                    "Mennyiség": "11",
                                    "Átlag": "273,219512195122"
                                },
                                {
                                    "Kategória név": "füzetborító",
                                    "MEGYS": "csomag",
                                    "Mennyiség": "7",
                                    "Átlag": "159,25"
                                },
                                {
                                    "Kategória név": "füzetborító",
                                    "MEGYS": "db",
                                    "Mennyiség": "7",
                                    "Átlag": "159,25"
                                },
                                {
                                    "Kategória név": "füzetborító",
                                    "MEGYS": "db",
                                    "Mennyiség": "7",
                                    "Átlag": "169,14705882352942"
                                },
                                {
                                    "Kategória név": "füzetborító",
                                    "MEGYS": "db",
                                    "Mennyiség": "7",
                                    "Átlag": "215,22641509433961"
                                },
                                {
                                    "Kategória név": "füzetborító",
                                    "MEGYS": "db",
                                    "Mennyiség": "7",
                                    "Átlag": "12579,8"
                                },
                                {
                                    "Kategória név": "füzettartó",
                                    "MEGYS": "db",
                                    "Mennyiség": "4",
                                    "Átlag": "159,25"
                                },
                                {
                                    "Kategória név": "füzettartó",
                                    "MEGYS": "db",
                                    "Mennyiség": "4",
                                    "Átlag": "169,14705882352942"
                                },
                                {
                                    "Kategória név": "füzettartó",
                                    "MEGYS": "db",
                                    "Mennyiség": "4",
                                    "Átlag": "215,22641509433961"
                                },
                                {
                                    "Kategória név": "gemkapocs",
                                    "MEGYS": "db",
                                    "Mennyiség": "2",
                                    "Átlag": "159,25"
                                },
                                {
                                    "Kategória név": "gemkapocs",
                                    "MEGYS": "db",
                                    "Mennyiség": "2",
                                    "Átlag": "273,219512195122"
                                },
                                {
                                    "Kategória név": "gémkapocs",
                                    "MEGYS": "csomag",
                                    "Mennyiség": "2",
                                    "Átlag": "262,48837209302326"
                                },
                                {
                                    "Kategória név": "gémkapocs",
                                    "MEGYS": "csomag",
                                    "Mennyiség": "2",
                                    "Átlag": "273,219512195122"
                                },
                                {
                                    "Kategória név": "genoterm",
                                    "MEGYS": "csomag",
                                    "Mennyiség": "1",
                                    "Átlag": "159,25"
                                },
                                {
                                    "Kategória név": "genotherm",
                                    "MEGYS": "csomag",
                                    "Mennyiség": "3",
                                    "Átlag": "159,25"
                                },
                                {
                                    "Kategória név": "genotherm",
                                    "MEGYS": "csomag",
                                    "Mennyiség": "3",
                                    "Átlag": "169,14705882352942"
                                },
                                {
                                    "Kategória név": "genotherm",
                                    "MEGYS": "db",
                                    "Mennyiség": "3",
                                    "Átlag": "273,219512195122"
                                },
                                {
                                    "Kategória név": "golyóstoll",
                                    "MEGYS": "db",
                                    "Mennyiség": "26",
                                    "Átlag": "159,25"
                                },
                                {
                                    "Kategória név": "golyóstoll",
                                    "MEGYS": "db",
                                    "Mennyiség": "26",
                                    "Átlag": "169,14705882352942"
                                },
                                {
                                    "Kategória név": "golyóstoll",
                                    "MEGYS": "db",
                                    "Mennyiség": "26",
                                    "Átlag": "215,22641509433961"
                                },
                                {
                                    "Kategória név": "golyóstoll",
                                    "MEGYS": "db",
                                    "Mennyiség": "26",
                                    "Átlag": "262,48837209302326"
                                },
                                {
                                    "Kategória név": "golyóstoll",
                                    "MEGYS": "db",
                                    "Mennyiség": "26",
                                    "Átlag": "273,219512195122"
                                },
                                {
                                    "Kategória név": "gumigyűrű",
                                    "MEGYS": "csomag",
                                    "Mennyiség": "1",
                                    "Átlag": "169,14705882352942"
                                },
                                {
                                    "Kategória név": "gyermek cipő",
                                    "MEGYS": "db",
                                    "Mennyiség": "6",
                                    "Átlag": "7716,428571428572"
                                },
                                {
                                    "Kategória név": "gyermek cipő",
                                    "MEGYS": "db",
                                    "Mennyiség": "6",
                                    "Átlag": "9160"
                                },
                                {
                                    "Kategória név": "gyermek cipő",
                                    "MEGYS": "db",
                                    "Mennyiség": "6",
                                    "Átlag": "12579,8"
                                },
                                {
                                    "Kategória név": "gyermek kabát",
                                    "MEGYS": "db",
                                    "Mennyiség": "2",
                                    "Átlag": "9160"
                                },
                                {
                                    "Kategória név": "gyermek nadrág",
                                    "MEGYS": "db",
                                    "Mennyiség": "4",
                                    "Átlag": "7716,428571428572"
                                },
                                {
                                    "Kategória név": "gyermek nadrág",
                                    "MEGYS": "db",
                                    "Mennyiség": "4",
                                    "Átlag": "9160"
                                },
                                {
                                    "Kategória név": "gyermek póló",
                                    "MEGYS": "db",
                                    "Mennyiség": "2",
                                    "Átlag": "7716,428571428572"
                                },
                                {
                                    "Kategória név": "gyorsfűző",
                                    "MEGYS": "db",
                                    "Mennyiség": "3",
                                    "Átlag": "159,25"
                                },
                                {
                                    "Kategória név": "gyorsfűző",
                                    "MEGYS": "db",
                                    "Mennyiség": "3",
                                    "Átlag": "262,48837209302326"
                                },
                                {
                                    "Kategória név": "gyorsfűző",
                                    "MEGYS": "db",
                                    "Mennyiség": "3",
                                    "Átlag": "273,219512195122"
                                },
                                {
                                    "Kategória név": "gyurma",
                                    "MEGYS": "csomag",
                                    "Mennyiség": "4",
                                    "Átlag": "169,14705882352942"
                                },
                                {
                                    "Kategória név": "gyurma",
                                    "MEGYS": "csomag",
                                    "Mennyiség": "4",
                                    "Átlag": "262,48837209302326"
                                },
                                {
                                    "Kategória név": "gyurma",
                                    "MEGYS": "db",
                                    "Mennyiség": "4",
                                    "Átlag": "215,22641509433961"
                                },
                                {
                                    "Kategória név": "gyurma",
                                    "MEGYS": "db",
                                    "Mennyiség": "4",
                                    "Átlag": "273,219512195122"
                                },
                                {
                                    "Kategória név": "gyűrűskönyv",
                                    "MEGYS": "db",
                                    "Mennyiség": "5",
                                    "Átlag": "159,25"
                                },
                                {
                                    "Kategória név": "gyűrűskönyv",
                                    "MEGYS": "db",
                                    "Mennyiség": "5",
                                    "Átlag": "169,14705882352942"
                                },
                                {
                                    "Kategória név": "gyűrűskönyv",
                                    "MEGYS": "db",
                                    "Mennyiség": "5",
                                    "Átlag": "215,22641509433961"
                                },
                                {
                                    "Kategória név": "hajgumi",
                                    "MEGYS": "db",
                                    "Mennyiség": "1",
                                    "Átlag": "273,219512195122"
                                },
                                {
                                    "Kategória név": "határidő napló",
                                    "MEGYS": "db",
                                    "Mennyiség": "2",
                                    "Átlag": "169,14705882352942"
                                },
                                {
                                    "Kategória név": "hegyező",
                                    "MEGYS": "db",
                                    "Mennyiség": "4",
                                    "Átlag": "215,22641509433961"
                                },
                                {
                                    "Kategória név": "hegyező",
                                    "MEGYS": "db",
                                    "Mennyiség": "4",
                                    "Átlag": "273,219512195122"
                                },
                                {
                                    "Kategória név": "hegyző",
                                    "MEGYS": "db",
                                    "Mennyiség": "2",
                                    "Átlag": "159,25"
                                },
                                {
                                    "Kategória név": "hegyző",
                                    "MEGYS": "db",
                                    "Mennyiség": "2",
                                    "Átlag": "169,14705882352942"
                                },
                                {
                                    "Kategória név": "hibajavító",
                                    "MEGYS": "db",
                                    "Mennyiség": "7",
                                    "Átlag": "159,25"
                                },
                                {
                                    "Kategória név": "hibajavító",
                                    "MEGYS": "db",
                                    "Mennyiség": "7",
                                    "Átlag": "169,14705882352942"
                                },
                                {
                                    "Kategória név": "hibajavító",
                                    "MEGYS": "db",
                                    "Mennyiség": "7",
                                    "Átlag": "215,22641509433961"
                                },
                                {
                                    "Kategória név": "hibajavító",
                                    "MEGYS": "db",
                                    "Mennyiség": "7",
                                    "Átlag": "262,48837209302326"
                                },
                                {
                                    "Kategória név": "hibajavító",
                                    "MEGYS": "db",
                                    "Mennyiség": "7",
                                    "Átlag": "273,219512195122"
                                },
                                {
                                    "Kategória név": "hűtőmágnes",
                                    "MEGYS": "db",
                                    "Mennyiség": "2",
                                    "Átlag": "159,25"
                                },
                                {
                                    "Kategória név": "hűtőmágnes",
                                    "MEGYS": "db",
                                    "Mennyiség": "2",
                                    "Átlag": "273,219512195122"
                                },
                                {
                                    "Kategória név": "indigó",
                                    "MEGYS": "db",
                                    "Mennyiség": "2",
                                    "Átlag": "262,48837209302326"
                                },
                                {
                                    "Kategória név": "írásvetítő fólia",
                                    "MEGYS": "db",
                                    "Mennyiség": "1",
                                    "Átlag": "273,219512195122"
                                },
                                {
                                    "Kategória név": "iratgyűjtő",
                                    "MEGYS": "db",
                                    "Mennyiség": "3",
                                    "Átlag": "215,22641509433961"
                                },
                                {
                                    "Kategória név": "iratgyűjtő",
                                    "MEGYS": "db",
                                    "Mennyiség": "3",
                                    "Átlag": "273,219512195122"
                                },
                                {
                                    "Kategória név": "iratrendező",
                                    "MEGYS": "db",
                                    "Mennyiség": "2",
                                    "Átlag": "169,14705882352942"
                                },
                                {
                                    "Kategória név": "iratrendező",
                                    "MEGYS": "db",
                                    "Mennyiség": "2",
                                    "Átlag": "262,48837209302326"
                                },
                                {
                                    "Kategória név": "iratsín",
                                    "MEGYS": "db",
                                    "Mennyiség": "2",
                                    "Átlag": "159,25"
                                },
                                {
                                    "Kategória név": "iratsín",
                                    "MEGYS": "db",
                                    "Mennyiség": "2",
                                    "Átlag": "215,22641509433961"
                                },
                                {
                                    "Kategória név": "irattartó",
                                    "MEGYS": "db",
                                    "Mennyiség": "2",
                                    "Átlag": "159,25"
                                },
                                {
                                    "Kategória név": "irattartó",
                                    "MEGYS": "db",
                                    "Mennyiség": "2",
                                    "Átlag": "273,219512195122"
                                },
                                {
                                    "Kategória név": "irodaszer",
                                    "MEGYS": "db",
                                    "Mennyiség": "1",
                                    "Átlag": "262,48837209302326"
                                },
                                {
                                    "Kategória név": "írólap",
                                    "MEGYS": "db",
                                    "Mennyiség": "2",
                                    "Átlag": "273,219512195122"
                                },
                                {
                                    "Kategória név": "ironbél",
                                    "MEGYS": "db",
                                    "Mennyiség": "5",
                                    "Átlag": "159,25"
                                },
                                {
                                    "Kategória név": "ironbél",
                                    "MEGYS": "db",
                                    "Mennyiség": "5",
                                    "Átlag": "215,22641509433961"
                                },
                                {
                                    "Kategória név": "ironbél",
                                    "MEGYS": "db",
                                    "Mennyiség": "5",
                                    "Átlag": "262,48837209302326"
                                },
                                {
                                    "Kategória név": "iskolaszer",
                                    "MEGYS": "csomag",
                                    "Mennyiség": "24",
                                    "Átlag": "159,25"
                                },
                                {
                                    "Kategória név": "iskolaszer",
                                    "MEGYS": "csomag",
                                    "Mennyiség": "24",
                                    "Átlag": "215,22641509433961"
                                },
                                {
                                    "Kategória név": "iskolaszer",
                                    "MEGYS": "csomag",
                                    "Mennyiség": "24",
                                    "Átlag": "262,48837209302326"
                                },
                                {
                                    "Kategória név": "iskolaszer",
                                    "MEGYS": "db",
                                    "Mennyiség": "24",
                                    "Átlag": "159,25"
                                },
                                {
                                    "Kategória név": "iskolaszer",
                                    "MEGYS": "db",
                                    "Mennyiség": "24",
                                    "Átlag": "169,14705882352942"
                                },
                                {
                                    "Kategória név": "iskolaszer",
                                    "MEGYS": "db",
                                    "Mennyiség": "24",
                                    "Átlag": "215,22641509433961"
                                },
                                {
                                    "Kategória név": "iskolaszer",
                                    "MEGYS": "db",
                                    "Mennyiség": "24",
                                    "Átlag": "262,48837209302326"
                                },
                                {
                                    "Kategória név": "iskolaszer",
                                    "MEGYS": "db",
                                    "Mennyiség": "24",
                                    "Átlag": "273,219512195122"
                                },
                                {
                                    "Kategória név": "játékautó",
                                    "MEGYS": "db",
                                    "Mennyiség": "4",
                                    "Átlag": "159,25"
                                },
                                {
                                    "Kategória név": "jelzőkréta",
                                    "MEGYS": "db",
                                    "Mennyiség": "1",
                                    "Átlag": "262,48837209302326"
                                },
                                {
                                    "Kategória név": "kapocskiszedő",
                                    "MEGYS": "db",
                                    "Mennyiség": "1",
                                    "Átlag": "273,219512195122"
                                },
                                {
                                    "Kategória név": "karton",
                                    "MEGYS": "ív",
                                    "Mennyiség": "6",
                                    "Átlag": "159,25"
                                },
                                {
                                    "Kategória név": "karton",
                                    "MEGYS": "ív",
                                    "Mennyiség": "6",
                                    "Átlag": "169,14705882352942"
                                },
                                {
                                    "Kategória név": "karton",
                                    "MEGYS": "ív",
                                    "Mennyiség": "6",
                                    "Átlag": "215,22641509433961"
                                },
                                {
                                    "Kategória név": "karton",
                                    "MEGYS": "ív",
                                    "Mennyiség": "6",
                                    "Átlag": "262,48837209302326"
                                },
                                {
                                    "Kategória név": "karton",
                                    "MEGYS": "ív",
                                    "Mennyiség": "6",
                                    "Átlag": "273,219512195122"
                                },
                                {
                                    "Kategória név": "kártya",
                                    "MEGYS": "db",
                                    "Mennyiség": "1",
                                    "Átlag": "215,22641509433961"
                                },
                                {
                                    "Kategória név": "képeslap",
                                    "MEGYS": "db",
                                    "Mennyiség": "16",
                                    "Átlag": "159,25"
                                },
                                {
                                    "Kategória név": "képeslap",
                                    "MEGYS": "db",
                                    "Mennyiség": "16",
                                    "Átlag": "169,14705882352942"
                                },
                                {
                                    "Kategória név": "képeslap",
                                    "MEGYS": "db",
                                    "Mennyiség": "16",
                                    "Átlag": "215,22641509433961"
                                },
                                {
                                    "Kategória név": "képeslap",
                                    "MEGYS": "db",
                                    "Mennyiség": "16",
                                    "Átlag": "262,48837209302326"
                                },
                                {
                                    "Kategória név": "képeslap",
                                    "MEGYS": "db",
                                    "Mennyiség": "16",
                                    "Átlag": "273,219512195122"
                                },
                                {
                                    "Kategória név": "képkirakó",
                                    "MEGYS": "db",
                                    "Mennyiség": "1",
                                    "Átlag": "159,25"
                                },
                                {
                                    "Kategória név": "kosztüm",
                                    "MEGYS": "db",
                                    "Mennyiség": "2",
                                    "Átlag": "7716,428571428572"
                                },
                                {
                                    "Kategória név": "kosztüm",
                                    "MEGYS": "db",
                                    "Mennyiség": "2",
                                    "Átlag": "12579,8"
                                },
                                {
                                    "Kategória név": "könyv",
                                    "MEGYS": "db",
                                    "Mennyiség": "15",
                                    "Átlag": "159,25"
                                },
                                {
                                    "Kategória név": "könyv",
                                    "MEGYS": "db",
                                    "Mennyiség": "15",
                                    "Átlag": "169,14705882352942"
                                },
                                {
                                    "Kategória név": "könyv",
                                    "MEGYS": "db",
                                    "Mennyiség": "15",
                                    "Átlag": "215,22641509433961"
                                },
                                {
                                    "Kategória név": "könyv",
                                    "MEGYS": "db",
                                    "Mennyiség": "15",
                                    "Átlag": "262,48837209302326"
                                },
                                {
                                    "Kategória név": "könyv",
                                    "MEGYS": "db",
                                    "Mennyiség": "15",
                                    "Átlag": "273,219512195122"
                                },
                                {
                                    "Kategória név": "körző",
                                    "MEGYS": "db",
                                    "Mennyiség": "3",
                                    "Átlag": "215,22641509433961"
                                },
                                {
                                    "Kategória név": "körző",
                                    "MEGYS": "db",
                                    "Mennyiség": "3",
                                    "Átlag": "262,48837209302326"
                                },
                                {
                                    "Kategória név": "körző",
                                    "MEGYS": "db",
                                    "Mennyiség": "3",
                                    "Átlag": "273,219512195122"
                                },
                                {
                                    "Kategória név": "kreatív",
                                    "MEGYS": "ív",
                                    "Mennyiség": "2",
                                    "Átlag": "262,48837209302326"
                                },
                                {
                                    "Kategória név": "kreatív",
                                    "MEGYS": "Ív",
                                    "Mennyiség": "2",
                                    "Átlag": "273,219512195122"
                                },
                                {
                                    "Kategória név": "kulcstartó",
                                    "MEGYS": "db",
                                    "Mennyiség": "7",
                                    "Átlag": "169,14705882352942"
                                },
                                {
                                    "Kategória név": "kulcstartó",
                                    "MEGYS": "db",
                                    "Mennyiség": "7",
                                    "Átlag": "273,219512195122"
                                },
                                {
                                    "Kategória név": "labda",
                                    "MEGYS": "db",
                                    "Mennyiség": "2",
                                    "Átlag": "159,25"
                                },
                                {
                                    "Kategória név": "labda",
                                    "MEGYS": "db",
                                    "Mennyiség": "2",
                                    "Átlag": "273,219512195122"
                                },
                                {
                                    "Kategória név": "levélpapír",
                                    "MEGYS": "csomag",
                                    "Mennyiség": "7",
                                    "Átlag": "215,22641509433961"
                                },
                                {
                                    "Kategória név": "levélpapír",
                                    "MEGYS": "db",
                                    "Mennyiség": "7",
                                    "Átlag": "159,25"
                                },
                                {
                                    "Kategória név": "levélpapír",
                                    "MEGYS": "db",
                                    "Mennyiség": "7",
                                    "Átlag": "215,22641509433961"
                                },
                                {
                                    "Kategória név": "lufi",
                                    "MEGYS": "db",
                                    "Mennyiség": "2",
                                    "Átlag": "159,25"
                                },
                                {
                                    "Kategória név": "lufi",
                                    "MEGYS": "db",
                                    "Mennyiség": "2",
                                    "Átlag": "215,22641509433961"
                                },
                                {
                                    "Kategória név": "lyukasztó",
                                    "MEGYS": "db",
                                    "Mennyiség": "2",
                                    "Átlag": "159,25"
                                },
                                {
                                    "Kategória név": "lyukasztó",
                                    "MEGYS": "db",
                                    "Mennyiség": "2",
                                    "Átlag": "169,14705882352942"
                                },
                                {
                                    "Kategória név": "mappa",
                                    "MEGYS": "db",
                                    "Mennyiség": "9",
                                    "Átlag": "159,25"
                                },
                                {
                                    "Kategória név": "mappa",
                                    "MEGYS": "db",
                                    "Mennyiség": "9",
                                    "Átlag": "169,14705882352942"
                                },
                                {
                                    "Kategória név": "mappa",
                                    "MEGYS": "db",
                                    "Mennyiség": "9",
                                    "Átlag": "215,22641509433961"
                                },
                                {
                                    "Kategória név": "mappa",
                                    "MEGYS": "db",
                                    "Mennyiség": "9",
                                    "Átlag": "273,219512195122"
                                },
                                {
                                    "Kategória név": "matrica",
                                    "MEGYS": "db",
                                    "Mennyiség": "10",
                                    "Átlag": "159,25"
                                },
                                {
                                    "Kategória név": "matrica",
                                    "MEGYS": "db",
                                    "Mennyiség": "10",
                                    "Átlag": "169,14705882352942"
                                },
                                {
                                    "Kategória név": "matrica",
                                    "MEGYS": "db",
                                    "Mennyiség": "10",
                                    "Átlag": "215,22641509433961"
                                },
                                {
                                    "Kategória név": "matrica",
                                    "MEGYS": "db",
                                    "Mennyiség": "10",
                                    "Átlag": "262,48837209302326"
                                },
                                {
                                    "Kategória név": "matrica",
                                    "MEGYS": "db",
                                    "Mennyiség": "10",
                                    "Átlag": "273,219512195122"
                                },
                                {
                                    "Kategória név": "meghívó",
                                    "MEGYS": "db",
                                    "Mennyiség": "4",
                                    "Átlag": "169,14705882352942"
                                },
                                {
                                    "Kategória név": "meghívó",
                                    "MEGYS": "db",
                                    "Mennyiség": "4",
                                    "Átlag": "215,22641509433961"
                                },
                                {
                                    "Kategória név": "meghívó",
                                    "MEGYS": "db",
                                    "Mennyiség": "4",
                                    "Átlag": "262,48837209302326"
                                },
                                {
                                    "Kategória név": "miliméterpapír",
                                    "MEGYS": "db",
                                    "Mennyiség": "1",
                                    "Átlag": "215,22641509433961"
                                },
                                {
                                    "Kategória név": "munkafüzet",
                                    "MEGYS": "db",
                                    "Mennyiség": "9",
                                    "Átlag": "159,25"
                                },
                                {
                                    "Kategória név": "munkafüzet",
                                    "MEGYS": "db",
                                    "Mennyiség": "9",
                                    "Átlag": "169,14705882352942"
                                },
                                {
                                    "Kategória név": "munkafüzet",
                                    "MEGYS": "db",
                                    "Mennyiség": "9",
                                    "Átlag": "215,22641509433961"
                                },
                                {
                                    "Kategória név": "munkafüzet",
                                    "MEGYS": "db",
                                    "Mennyiség": "9",
                                    "Átlag": "262,48837209302326"
                                },
                                {
                                    "Kategória név": "munkafüzet",
                                    "MEGYS": "db",
                                    "Mennyiség": "9",
                                    "Átlag": "273,219512195122"
                                },
                                {
                                    "Kategória név": "műnyomó",
                                    "MEGYS": "ív",
                                    "Mennyiség": "1",
                                    "Átlag": "273,219512195122"
                                },
                                {
                                    "Kategória név": "naptár",
                                    "MEGYS": "db",
                                    "Mennyiség": "1",
                                    "Átlag": "273,219512195122"
                                },
                                {
                                    "Kategória név": "naptárhát",
                                    "MEGYS": "db",
                                    "Mennyiség": "2",
                                    "Átlag": "169,14705882352942"
                                },
                                {
                                    "Kategória név": "naptárhát",
                                    "MEGYS": "db",
                                    "Mennyiség": "2",
                                    "Átlag": "273,219512195122"
                                },
                                {
                                    "Kategória név": "névjegytartó",
                                    "MEGYS": "db",
                                    "Mennyiség": "1",
                                    "Átlag": "169,14705882352942"
                                },
                                {
                                    "Kategória név": "notesz",
                                    "MEGYS": "db",
                                    "Mennyiség": "5",
                                    "Átlag": "169,14705882352942"
                                },
                                {
                                    "Kategória név": "notesz",
                                    "MEGYS": "db",
                                    "Mennyiség": "5",
                                    "Átlag": "215,22641509433961"
                                },
                                {
                                    "Kategória név": "notesz",
                                    "MEGYS": "db",
                                    "Mennyiség": "5",
                                    "Átlag": "262,48837209302326"
                                },
                                {
                                    "Kategória név": "női kabát",
                                    "MEGYS": "db",
                                    "Mennyiség": "1",
                                    "Átlag": "9160"
                                },
                                {
                                    "Kategória név": "női nadrág",
                                    "MEGYS": "db",
                                    "Mennyiség": "1",
                                    "Átlag": "12579,8"
                                },
                                {
                                    "Kategória név": "ofszet",
                                    "MEGYS": "ív",
                                    "Mennyiség": "1",
                                    "Átlag": "159,25"
                                },
                                {
                                    "Kategória név": "oklevél",
                                    "MEGYS": "db",
                                    "Mennyiség": "2",
                                    "Átlag": "169,14705882352942"
                                },
                                {
                                    "Kategória név": "olló",
                                    "MEGYS": "db",
                                    "Mennyiség": "3",
                                    "Átlag": "159,25"
                                },
                                {
                                    "Kategória név": "olló",
                                    "MEGYS": "db",
                                    "Mennyiség": "3",
                                    "Átlag": "262,48837209302326"
                                },
                                {
                                    "Kategória név": "olló",
                                    "MEGYS": "db",
                                    "Mennyiség": "3",
                                    "Átlag": "273,219512195122"
                                },
                                {
                                    "Kategória név": "öntapadó",
                                    "MEGYS": "db",
                                    "Mennyiség": "2",
                                    "Átlag": "273,219512195122"
                                },
                                {
                                    "Kategória név": "öntapadó",
                                    "MEGYS": "doboz",
                                    "Mennyiség": "2",
                                    "Átlag": "262,48837209302326"
                                },
                                {
                                    "Kategória név": "papízsebkendő",
                                    "MEGYS": "csomag",
                                    "Mennyiség": "1",
                                    "Átlag": "273,219512195122"
                                },
                                {
                                    "Kategória név": "pausz",
                                    "MEGYS": "ív",
                                    "Mennyiség": "1",
                                    "Átlag": "273,219512195122"
                                },
                                {
                                    "Kategória név": "pénztárbizonylat",
                                    "MEGYS": "db",
                                    "Mennyiség": "2",
                                    "Átlag": "159,25"
                                },
                                {
                                    "Kategória név": "pénztárbizonylat",
                                    "MEGYS": "db",
                                    "Mennyiség": "2",
                                    "Átlag": "215,22641509433961"
                                },
                                {
                                    "Kategória név": "pénztárgépszalag",
                                    "MEGYS": "db",
                                    "Mennyiség": "2",
                                    "Átlag": "169,14705882352942"
                                },
                                {
                                    "Kategória név": "pénztárgépszalag",
                                    "MEGYS": "db",
                                    "Mennyiség": "2",
                                    "Átlag": "215,22641509433961"
                                },
                                {
                                    "Kategória név": "pixiron",
                                    "MEGYS": "db",
                                    "Mennyiség": "9",
                                    "Átlag": "159,25"
                                },
                                {
                                    "Kategória név": "pixiron",
                                    "MEGYS": "db",
                                    "Mennyiség": "9",
                                    "Átlag": "169,14705882352942"
                                },
                                {
                                    "Kategória név": "pixiron",
                                    "MEGYS": "db",
                                    "Mennyiség": "9",
                                    "Átlag": "262,48837209302326"
                                },
                                {
                                    "Kategória név": "pixiron",
                                    "MEGYS": "db",
                                    "Mennyiség": "9",
                                    "Átlag": "273,219512195122"
                                },
                                {
                                    "Kategória név": "plüss",
                                    "MEGYS": "db",
                                    "Mennyiség": "3",
                                    "Átlag": "159,25"
                                },
                                {
                                    "Kategória név": "plüss",
                                    "MEGYS": "db",
                                    "Mennyiség": "3",
                                    "Átlag": "169,14705882352942"
                                },
                                {
                                    "Kategória név": "plüss",
                                    "MEGYS": "db",
                                    "Mennyiség": "3",
                                    "Átlag": "262,48837209302326"
                                },
                                {
                                    "Kategória név": "post-it",
                                    "MEGYS": "db",
                                    "Mennyiség": "2",
                                    "Átlag": "159,25"
                                },
                                {
                                    "Kategória név": "post-it",
                                    "MEGYS": "db",
                                    "Mennyiség": "2",
                                    "Átlag": "273,219512195122"
                                },
                                {
                                    "Kategória név": "radír",
                                    "MEGYS": "db",
                                    "Mennyiség": "7",
                                    "Átlag": "159,25"
                                },
                                {
                                    "Kategória név": "radír",
                                    "MEGYS": "db",
                                    "Mennyiség": "7",
                                    "Átlag": "169,14705882352942"
                                },
                                {
                                    "Kategória név": "radír",
                                    "MEGYS": "db",
                                    "Mennyiség": "7",
                                    "Átlag": "215,22641509433961"
                                },
                                {
                                    "Kategória név": "radír",
                                    "MEGYS": "db",
                                    "Mennyiség": "7",
                                    "Átlag": "273,219512195122"
                                },
                                {
                                    "Kategória név": "radírtoll",
                                    "MEGYS": "db",
                                    "Mennyiség": "2",
                                    "Átlag": "159,25"
                                },
                                {
                                    "Kategória név": "radírtoll",
                                    "MEGYS": "db",
                                    "Mennyiség": "2",
                                    "Átlag": "262,48837209302326"
                                },
                                {
                                    "Kategória név": "ragasztó",
                                    "MEGYS": "db",
                                    "Mennyiség": "10",
                                    "Átlag": "159,25"
                                },
                                {
                                    "Kategória név": "ragasztó",
                                    "MEGYS": "db",
                                    "Mennyiség": "10",
                                    "Átlag": "169,14705882352942"
                                },
                                {
                                    "Kategória név": "ragasztó",
                                    "MEGYS": "db",
                                    "Mennyiség": "10",
                                    "Átlag": "215,22641509433961"
                                },
                                {
                                    "Kategória név": "ragasztó",
                                    "MEGYS": "db",
                                    "Mennyiség": "10",
                                    "Átlag": "262,48837209302326"
                                },
                                {
                                    "Kategória név": "ragasztó",
                                    "MEGYS": "db",
                                    "Mennyiség": "10",
                                    "Átlag": "273,219512195122"
                                },
                                {
                                    "Kategória név": "ragasztószalag",
                                    "MEGYS": "db",
                                    "Mennyiség": "4",
                                    "Átlag": "159,25"
                                },
                                {
                                    "Kategória név": "ragasztószalag",
                                    "MEGYS": "db",
                                    "Mennyiség": "4",
                                    "Átlag": "169,14705882352942"
                                },
                                {
                                    "Kategória név": "ragasztószalag",
                                    "MEGYS": "db",
                                    "Mennyiség": "4",
                                    "Átlag": "215,22641509433961"
                                },
                                {
                                    "Kategória név": "rágógumi",
                                    "MEGYS": "csomag",
                                    "Mennyiség": "1",
                                    "Átlag": "169,14705882352942"
                                },
                                {
                                    "Kategória név": "rajzlap",
                                    "MEGYS": "csomag",
                                    "Mennyiség": "2",
                                    "Átlag": "169,14705882352942"
                                },
                                {
                                    "Kategória név": "rajzlap",
                                    "MEGYS": "csomag",
                                    "Mennyiség": "2",
                                    "Átlag": "262,48837209302326"
                                },
                                {
                                    "Kategória név": "rajzszeg",
                                    "MEGYS": "csomag",
                                    "Mennyiség": "2",
                                    "Átlag": "273,219512195122"
                                },
                                {
                                    "Kategória név": "rajzszeg",
                                    "MEGYS": "db",
                                    "Mennyiség": "2",
                                    "Átlag": "215,22641509433961"
                                },
                                {
                                    "Kategória név": "regiszteres füzet",
                                    "MEGYS": "db",
                                    "Mennyiség": "2",
                                    "Átlag": "169,14705882352942"
                                },
                                {
                                    "Kategória név": "regiszteres füzet",
                                    "MEGYS": "db",
                                    "Mennyiség": "2",
                                    "Átlag": "262,48837209302326"
                                },
                                {
                                    "Kategória név": "sál",
                                    "MEGYS": "db",
                                    "Mennyiség": "1",
                                    "Átlag": "9160"
                                },
                                {
                                    "Kategória név": "spirál",
                                    "MEGYS": "db",
                                    "Mennyiség": "1",
                                    "Átlag": "169,14705882352942"
                                },
                                {
                                    "Kategória név": "strandlabda",
                                    "MEGYS": "db",
                                    "Mennyiség": "1",
                                    "Átlag": "273,219512195122"
                                },
                                {
                                    "Kategória név": "szalvéta",
                                    "MEGYS": "csomag",
                                    "Mennyiség": "6",
                                    "Átlag": "159,25"
                                },
                                {
                                    "Kategória név": "szalvéta",
                                    "MEGYS": "csomag",
                                    "Mennyiség": "6",
                                    "Átlag": "169,14705882352942"
                                },
                                {
                                    "Kategória név": "szalvéta",
                                    "MEGYS": "csomag",
                                    "Mennyiség": "6",
                                    "Átlag": "215,22641509433961"
                                },
                                {
                                    "Kategória név": "szalvéta",
                                    "MEGYS": "csomag",
                                    "Mennyiség": "6",
                                    "Átlag": "262,48837209302326"
                                },
                                {
                                    "Kategória név": "szalvéta",
                                    "MEGYS": "csomag",
                                    "Mennyiség": "6",
                                    "Átlag": "273,219512195122"
                                },
                                {
                                    "Kategória név": "számológép",
                                    "MEGYS": "db",
                                    "Mennyiség": "2",
                                    "Átlag": "215,22641509433961"
                                },
                                {
                                    "Kategória név": "számológép",
                                    "MEGYS": "db",
                                    "Mennyiség": "2",
                                    "Átlag": "262,48837209302326"
                                },
                                {
                                    "Kategória név": "szemetes",
                                    "MEGYS": "csomag",
                                    "Mennyiség": "1",
                                    "Átlag": "159,25"
                                },
                                {
                                    "Kategória név": "színes",
                                    "MEGYS": "db",
                                    "Mennyiség": "2",
                                    "Átlag": "159,25"
                                },
                                {
                                    "Kategória név": "színes",
                                    "MEGYS": "db",
                                    "Mennyiség": "2",
                                    "Átlag": "273,219512195122"
                                },
                                {
                                    "Kategória név": "szögmérő",
                                    "MEGYS": "db",
                                    "Mennyiség": "3",
                                    "Átlag": "169,14705882352942"
                                },
                                {
                                    "Kategória név": "szögmérő",
                                    "MEGYS": "db",
                                    "Mennyiség": "3",
                                    "Átlag": "215,22641509433961"
                                },
                                {
                                    "Kategória név": "szövegkiemelő",
                                    "MEGYS": "csomag",
                                    "Mennyiség": "5",
                                    "Átlag": "215,22641509433961"
                                },
                                {
                                    "Kategória név": "szövegkiemelő",
                                    "MEGYS": "db",
                                    "Mennyiség": "5",
                                    "Átlag": "159,25"
                                },
                                {
                                    "Kategória név": "szövegkiemelő",
                                    "MEGYS": "db",
                                    "Mennyiség": "5",
                                    "Átlag": "169,14705882352942"
                                },
                                {
                                    "Kategória név": "szövegkiemelő",
                                    "MEGYS": "db",
                                    "Mennyiség": "5",
                                    "Átlag": "262,48837209302326"
                                },
                                {
                                    "Kategória név": "szövegkiemelő",
                                    "MEGYS": "db",
                                    "Mennyiség": "5",
                                    "Átlag": "273,219512195122"
                                },
                                {
                                    "Kategória név": "táblafilc",
                                    "MEGYS": "csomag",
                                    "Mennyiség": "1",
                                    "Átlag": "169,14705882352942"
                                },
                                {
                                    "Kategória név": "tapétavágó",
                                    "MEGYS": "db",
                                    "Mennyiség": "1",
                                    "Átlag": "215,22641509433961"
                                },
                                {
                                    "Kategória név": "tempera",
                                    "MEGYS": "db",
                                    "Mennyiség": "2",
                                    "Átlag": "273,219512195122"
                                },
                                {
                                    "Kategória név": "térképtű",
                                    "MEGYS": "csomag",
                                    "Mennyiség": "1",
                                    "Átlag": "215,22641509433961"
                                },
                                {
                                    "Kategória név": "tintapatron",
                                    "MEGYS": "csomag",
                                    "Mennyiség": "3",
                                    "Átlag": "159,25"
                                },
                                {
                                    "Kategória név": "tintapatron",
                                    "MEGYS": "db",
                                    "Mennyiség": "3",
                                    "Átlag": "159,25"
                                },
                                {
                                    "Kategória név": "tintapatron",
                                    "MEGYS": "db",
                                    "Mennyiség": "3",
                                    "Átlag": "169,14705882352942"
                                },
                                {
                                    "Kategória név": "toll",
                                    "MEGYS": "db",
                                    "Mennyiség": "2",
                                    "Átlag": "169,14705882352942"
                                },
                                {
                                    "Kategória név": "toll",
                                    "MEGYS": "db",
                                    "Mennyiség": "2",
                                    "Átlag": "262,48837209302326"
                                },
                                {
                                    "Kategória név": "tollbetét",
                                    "MEGYS": "db",
                                    "Mennyiség": "18",
                                    "Átlag": "159,25"
                                },
                                {
                                    "Kategória név": "tollbetét",
                                    "MEGYS": "db",
                                    "Mennyiség": "18",
                                    "Átlag": "169,14705882352942"
                                },
                                {
                                    "Kategória név": "tollbetét",
                                    "MEGYS": "db",
                                    "Mennyiség": "18",
                                    "Átlag": "215,22641509433961"
                                },
                                {
                                    "Kategória név": "tollbetét",
                                    "MEGYS": "db",
                                    "Mennyiség": "18",
                                    "Átlag": "262,48837209302326"
                                },
                                {
                                    "Kategória név": "tollbetét",
                                    "MEGYS": "db",
                                    "Mennyiség": "18",
                                    "Átlag": "273,219512195122"
                                },
                                {
                                    "Kategória név": "tolltartó",
                                    "MEGYS": "csomag",
                                    "Mennyiség": "7",
                                    "Átlag": "273,219512195122"
                                },
                                {
                                    "Kategória név": "tolltartó",
                                    "MEGYS": "db",
                                    "Mennyiség": "7",
                                    "Átlag": "159,25"
                                },
                                {
                                    "Kategória név": "tolltartó",
                                    "MEGYS": "db",
                                    "Mennyiség": "7",
                                    "Átlag": "169,14705882352942"
                                },
                                {
                                    "Kategória név": "tolltartó",
                                    "MEGYS": "db",
                                    "Mennyiség": "7",
                                    "Átlag": "262,48837209302326"
                                },
                                {
                                    "Kategória név": "toner",
                                    "MEGYS": "db",
                                    "Mennyiség": "1",
                                    "Átlag": "273,219512195122"
                                },
                                {
                                    "Kategória név": "töltőtoll",
                                    "MEGYS": "üveg",
                                    "Mennyiség": "1",
                                    "Átlag": "262,48837209302326"
                                },
                                {
                                    "Kategória név": "tűzőgép",
                                    "MEGYS": "db",
                                    "Mennyiség": "6",
                                    "Átlag": "215,22641509433961"
                                },
                                {
                                    "Kategória név": "tűzőgép",
                                    "MEGYS": "db",
                                    "Mennyiség": "6",
                                    "Átlag": "262,48837209302326"
                                },
                                {
                                    "Kategória név": "tűzőgép",
                                    "MEGYS": "db",
                                    "Mennyiség": "6",
                                    "Átlag": "273,219512195122"
                                },
                                {
                                    "Kategória név": "tűzőkapocs",
                                    "MEGYS": "csomag",
                                    "Mennyiség": "2",
                                    "Átlag": "159,25"
                                },
                                {
                                    "Kategória név": "tűzőkapocs",
                                    "MEGYS": "csomag",
                                    "Mennyiség": "2",
                                    "Átlag": "169,14705882352942"
                                },
                                {
                                    "Kategória név": "vízfesték",
                                    "MEGYS": "db",
                                    "Mennyiség": "4",
                                    "Átlag": "159,25"
                                },
                                {
                                    "Kategória név": "vízfesték",
                                    "MEGYS": "db",
                                    "Mennyiség": "4",
                                    "Átlag": "215,22641509433961"
                                },
                                {
                                    "Kategória név": "vonalzó",
                                    "MEGYS": "db",
                                    "Mennyiség": "6",
                                    "Átlag": "159,25"
                                },
                                {
                                    "Kategória név": "vonalzó",
                                    "MEGYS": "db",
                                    "Mennyiség": "6",
                                    "Átlag": "169,14705882352942"
                                },
                                {
                                    "Kategória név": "vonalzó",
                                    "MEGYS": "db",
                                    "Mennyiség": "6",
                                    "Átlag": "215,22641509433961"
                                },
                                {
                                    "Kategória név": "vonalzó",
                                    "MEGYS": "db",
                                    "Mennyiség": "6",
                                    "Átlag": "273,219512195122"
                                },
                                {
                                    "Kategória név": "zászló",
                                    "MEGYS": "db",
                                    "Mennyiség": "1",
                                    "Átlag": "262,48837209302326"
                                },
                                {
                                    "Kategória név": "zseléstoll",
                                    "MEGYS": "csomag",
                                    "Mennyiség": "4",
                                    "Átlag": "159,25"
                                },
                                {
                                    "Kategória név": "zseléstoll",
                                    "MEGYS": "db",
                                    "Mennyiség": "4",
                                    "Átlag": "159,25"
                                },
                                {
                                    "Kategória név": "zseléstoll",
                                    "MEGYS": "db",
                                    "Mennyiség": "4",
                                    "Átlag": "169,14705882352942"
                                }
                            ]
                        },
                        "text/html": [
                            "<table>",
                            "<tr><th>Kategória név</th><th>MEGYS</th><th>Mennyiség</th><th>Átlag</th></tr>",
                            "<tr><td>ajándék tárgy</td><td>db</td><td>3</td><td>169,14705882352942</td></tr>",
                            "<tr><td>ajándék tárgy</td><td>db</td><td>3</td><td>262,48837209302326</td></tr>",
                            "<tr><td>ajándék tasak</td><td>db</td><td>20</td><td>159,25</td></tr>",
                            "<tr><td>ajándék tasak</td><td>db</td><td>20</td><td>169,14705882352942</td></tr>",
                            "<tr><td>ajándék tasak</td><td>db</td><td>20</td><td>215,22641509433961</td></tr>",
                            "<tr><td>ajándék tasak</td><td>db</td><td>20</td><td>273,219512195122</td></tr>",
                            "<tr><td>ajándék tasak</td><td>tekercs</td><td>20</td><td>159,25</td></tr>",
                            "<tr><td>álarc</td><td>db</td><td>3</td><td>159,25</td></tr>",
                            "<tr><td>álarc</td><td>db</td><td>3</td><td>273,219512195122</td></tr>",
                            "<tr><td>alkalmi</td><td>db</td><td>3</td><td>7716,428571428572</td></tr>",
                            "<tr><td>alkalmi</td><td>db</td><td>3</td><td>12345</td></tr>",
                            "<tr><td>alufólia</td><td>db</td><td>2</td><td>169,14705882352942</td></tr>",
                            "<tr><td>alufólia</td><td>db</td><td>2</td><td>215,22641509433961</td></tr>",
                            "<tr><td>árazószalag</td><td>db</td><td>1</td><td>169,14705882352942</td></tr>",
                            "<tr><td>átírótömb</td><td>db</td><td>1</td><td>273,219512195122</td></tr>",
                            "<tr><td>beíró</td><td>db</td><td>1</td><td>262,48837209302326</td></tr>",
                            "<tr><td>beírókönyv</td><td>db</td><td>2</td><td>262,48837209302326</td></tr>",
                            "<tr><td>beírókönyv</td><td>db</td><td>2</td><td>273,219512195122</td></tr>",
                            "<tr><td>bélyegző</td><td>db</td><td>4</td><td>159,25</td></tr>",
                            "<tr><td>bélyegző</td><td>db</td><td>4</td><td>215,22641509433961</td></tr>",
                            "<tr><td>bélyegző</td><td>db</td><td>4</td><td>273,219512195122</td></tr>",
                            "<tr><td>bélyegzőfesték</td><td>db</td><td>1</td><td>169,14705882352942</td></tr>",
                            "<tr><td>boríték</td><td>db</td><td>7</td><td>159,25</td></tr>",
                            "<tr><td>boríték</td><td>db</td><td>7</td><td>169,14705882352942</td></tr>",
                            "<tr><td>boríték</td><td>db</td><td>7</td><td>215,22641509433961</td></tr>",
                            "<tr><td>boríték</td><td>db</td><td>7</td><td>262,48837209302326</td></tr>",
                            "<tr><td>boríték</td><td>db</td><td>7</td><td>273,219512195122</td></tr>",
                            "<tr><td>cd tok</td><td>db</td><td>1</td><td>273,219512195122</td></tr>",
                            "<tr><td>celofán</td><td>csomag</td><td>2</td><td>273,219512195122</td></tr>",
                            "<tr><td>celofán</td><td>db</td><td>2</td><td>273,219512195122</td></tr>",
                            "<tr><td>ceruza</td><td>db</td><td>19</td><td>159,25</td></tr>",
                            "<tr><td>ceruza</td><td>db</td><td>19</td><td>169,14705882352942</td></tr>",
                            "<tr><td>ceruza</td><td>db</td><td>19</td><td>215,22641509433961</td></tr>",
                            "<tr><td>ceruza</td><td>db</td><td>19</td><td>262,48837209302326</td></tr>",
                            "<tr><td>ceruza</td><td>db</td><td>19</td><td>273,219512195122</td></tr>",
                            "<tr><td>címke</td><td>db</td><td>3</td><td>159,25</td></tr>",
                            "<tr><td>címke</td><td>db</td><td>3</td><td>169,14705882352942</td></tr>",
                            "<tr><td>color copy</td><td>csomag</td><td>5</td><td>262,48837209302326</td></tr>",
                            "<tr><td>color copy</td><td>Ív</td><td>5</td><td>169,14705882352942</td></tr>",
                            "<tr><td>color copy</td><td>ív</td><td>5</td><td>215,22641509433961</td></tr>",
                            "<tr><td>color copy</td><td>ív</td><td>5</td><td>262,48837209302326</td></tr>",
                            "<tr><td>csomagoló</td><td>csomag</td><td>2</td><td>273,219512195122</td></tr>",
                            "<tr><td>csomagoló</td><td>db</td><td>2</td><td>159,25</td></tr>",
                            "<tr><td>csomagoló papír</td><td>db</td><td>7</td><td>159,25</td></tr>",
                            "<tr><td>csomagoló papír</td><td>db</td><td>7</td><td>169,14705882352942</td></tr>",
                            "<tr><td>csomagoló papír</td><td>db</td><td>7</td><td>215,22641509433961</td></tr>",
                            "<tr><td>csomagoló papír</td><td>db</td><td>7</td><td>262,48837209302326</td></tr>",
                            "<tr><td>csomagoló papír</td><td>ív</td><td>7</td><td>169,14705882352942</td></tr>",
                            "<tr><td>csomagoló papír</td><td>ív</td><td>7</td><td>262,48837209302326</td></tr>",
                            "<tr><td>dekor</td><td>db</td><td>4</td><td>159,25</td></tr>",
                            "<tr><td>dekor</td><td>db</td><td>4</td><td>215,22641509433961</td></tr>",
                            "<tr><td>dekor</td><td>db</td><td>4</td><td>262,48837209302326</td></tr>",
                            "<tr><td>dekor</td><td>db</td><td>4</td><td>273,219512195122</td></tr>",
                            "<tr><td>dipa</td><td>ív</td><td>1</td><td>169,14705882352942</td></tr>",
                            "<tr><td>díszdoboz</td><td>db</td><td>3</td><td>159,25</td></tr>",
                            "<tr><td>díszdoboz</td><td>db</td><td>3</td><td>169,14705882352942</td></tr>",
                            "<tr><td>díszdoboz</td><td>db</td><td>3</td><td>262,48837209302326</td></tr>",
                            "<tr><td>díszkötöző</td><td>db</td><td>5</td><td>215,22641509433961</td></tr>",
                            "<tr><td>díszkötöző</td><td>db</td><td>5</td><td>273,219512195122</td></tr>",
                            "<tr><td>dvd</td><td>db</td><td>1</td><td>169,14705882352942</td></tr>",
                            "<tr><td>ecset</td><td>db</td><td>7</td><td>159,25</td></tr>",
                            "<tr><td>ecset</td><td>db</td><td>7</td><td>169,14705882352942</td></tr>",
                            "<tr><td>ecset</td><td>db</td><td>7</td><td>215,22641509433961</td></tr>",
                            "<tr><td>ecset</td><td>db</td><td>7</td><td>262,48837209302326</td></tr>",
                            "<tr><td>ecset</td><td>db</td><td>7</td><td>273,219512195122</td></tr>",
                            "<tr><td>előlap</td><td>db</td><td>1</td><td>262,48837209302326</td></tr>",
                            "<tr><td>emlékkönyv</td><td>db</td><td>3</td><td>159,25</td></tr>",
                            "<tr><td>emlékkönyv</td><td>db</td><td>3</td><td>215,22641509433961</td></tr>",
                            "<tr><td>emléklap</td><td>db</td><td>1</td><td>159,25</td></tr>",
                            "<tr><td>fax papír</td><td>db</td><td>1</td><td>169,14705882352942</td></tr>",
                            "<tr><td>fehérnemű</td><td>db</td><td>7</td><td>7716,428571428572</td></tr>",
                            "<tr><td>fehérnemű</td><td>db</td><td>7</td><td>9160</td></tr>",
                            "<tr><td>fehérnemű</td><td>db</td><td>7</td><td>12345</td></tr>",
                            "<tr><td>fehérnemű</td><td>db</td><td>7</td><td>12579,8</td></tr>",
                            "<tr><td>fénymásoló papír</td><td>csomag</td><td>5</td><td>169,14705882352942</td></tr>",
                            "<tr><td>fénymásoló papír</td><td>csomag</td><td>5</td><td>215,22641509433961</td></tr>",
                            "<tr><td>fénymásoló papír</td><td>csomag</td><td>5</td><td>262,48837209302326</td></tr>",
                            "<tr><td>férfi ing</td><td>db</td><td>1</td><td>9160</td></tr>",
                            "<tr><td>férfi kabát</td><td>db</td><td>1</td><td>9160</td></tr>",
                            "<tr><td>férfi nadrág</td><td>db</td><td>2</td><td>7716,428571428572</td></tr>",
                            "<tr><td>férfi nadrág</td><td>db</td><td>2</td><td>9160</td></tr>",
                            "<tr><td>festékpatron</td><td>db</td><td>1</td><td>215,22641509433961</td></tr>",
                            "<tr><td>filctoll</td><td>csomag</td><td>13</td><td>169,14705882352942</td></tr>",
                            "<tr><td>filctoll</td><td>db</td><td>13</td><td>159,25</td></tr>",
                            "<tr><td>filctoll</td><td>db</td><td>13</td><td>169,14705882352942</td></tr>",
                            "<tr><td>filctoll</td><td>db</td><td>13</td><td>262,48837209302326</td></tr>",
                            "<tr><td>filctoll</td><td>db</td><td>13</td><td>273,219512195122</td></tr>",
                            "<tr><td>floppy</td><td>db</td><td>1</td><td>159,25</td></tr>",
                            "<tr><td>fólia</td><td>ív</td><td>3</td><td>169,14705882352942</td></tr>",
                            "<tr><td>fólia</td><td>ív</td><td>3</td><td>273,219512195122</td></tr>",
                            "<tr><td>fotópapír</td><td>db</td><td>1</td><td>169,14705882352942</td></tr>",
                            "<tr><td>füzet</td><td>db</td><td>11</td><td>159,25</td></tr>",
                            "<tr><td>füzet</td><td>db</td><td>11</td><td>169,14705882352942</td></tr>",
                            "<tr><td>füzet</td><td>db</td><td>11</td><td>215,22641509433961</td></tr>",
                            "<tr><td>füzet</td><td>db</td><td>11</td><td>262,48837209302326</td></tr>",
                            "<tr><td>füzet</td><td>db</td><td>11</td><td>273,219512195122</td></tr>",
                            "<tr><td>füzetborító</td><td>csomag</td><td>7</td><td>159,25</td></tr>",
                            "<tr><td>füzetborító</td><td>db</td><td>7</td><td>159,25</td></tr>",
                            "<tr><td>füzetborító</td><td>db</td><td>7</td><td>169,14705882352942</td></tr>",
                            "<tr><td>füzetborító</td><td>db</td><td>7</td><td>215,22641509433961</td></tr>",
                            "<tr><td>füzetborító</td><td>db</td><td>7</td><td>12579,8</td></tr>",
                            "<tr><td>füzettartó</td><td>db</td><td>4</td><td>159,25</td></tr>",
                            "<tr><td>füzettartó</td><td>db</td><td>4</td><td>169,14705882352942</td></tr>",
                            "<tr><td>füzettartó</td><td>db</td><td>4</td><td>215,22641509433961</td></tr>",
                            "<tr><td>gemkapocs</td><td>db</td><td>2</td><td>159,25</td></tr>",
                            "<tr><td>gemkapocs</td><td>db</td><td>2</td><td>273,219512195122</td></tr>",
                            "<tr><td>gémkapocs</td><td>csomag</td><td>2</td><td>262,48837209302326</td></tr>",
                            "<tr><td>gémkapocs</td><td>csomag</td><td>2</td><td>273,219512195122</td></tr>",
                            "<tr><td>genoterm</td><td>csomag</td><td>1</td><td>159,25</td></tr>",
                            "<tr><td>genotherm</td><td>csomag</td><td>3</td><td>159,25</td></tr>",
                            "<tr><td>genotherm</td><td>csomag</td><td>3</td><td>169,14705882352942</td></tr>",
                            "<tr><td>genotherm</td><td>db</td><td>3</td><td>273,219512195122</td></tr>",
                            "<tr><td>golyóstoll</td><td>db</td><td>26</td><td>159,25</td></tr>",
                            "<tr><td>golyóstoll</td><td>db</td><td>26</td><td>169,14705882352942</td></tr>",
                            "<tr><td>golyóstoll</td><td>db</td><td>26</td><td>215,22641509433961</td></tr>",
                            "<tr><td>golyóstoll</td><td>db</td><td>26</td><td>262,48837209302326</td></tr>",
                            "<tr><td>golyóstoll</td><td>db</td><td>26</td><td>273,219512195122</td></tr>",
                            "<tr><td>gumigyűrű</td><td>csomag</td><td>1</td><td>169,14705882352942</td></tr>",
                            "<tr><td>gyermek cipő</td><td>db</td><td>6</td><td>7716,428571428572</td></tr>",
                            "<tr><td>gyermek cipő</td><td>db</td><td>6</td><td>9160</td></tr>",
                            "<tr><td>gyermek cipő</td><td>db</td><td>6</td><td>12579,8</td></tr>",
                            "<tr><td>gyermek kabát</td><td>db</td><td>2</td><td>9160</td></tr>",
                            "<tr><td>gyermek nadrág</td><td>db</td><td>4</td><td>7716,428571428572</td></tr>",
                            "<tr><td>gyermek nadrág</td><td>db</td><td>4</td><td>9160</td></tr>",
                            "<tr><td>gyermek póló</td><td>db</td><td>2</td><td>7716,428571428572</td></tr>",
                            "<tr><td>gyorsfűző</td><td>db</td><td>3</td><td>159,25</td></tr>",
                            "<tr><td>gyorsfűző</td><td>db</td><td>3</td><td>262,48837209302326</td></tr>",
                            "<tr><td>gyorsfűző</td><td>db</td><td>3</td><td>273,219512195122</td></tr>",
                            "<tr><td>gyurma</td><td>csomag</td><td>4</td><td>169,14705882352942</td></tr>",
                            "<tr><td>gyurma</td><td>csomag</td><td>4</td><td>262,48837209302326</td></tr>",
                            "<tr><td>gyurma</td><td>db</td><td>4</td><td>215,22641509433961</td></tr>",
                            "<tr><td>gyurma</td><td>db</td><td>4</td><td>273,219512195122</td></tr>",
                            "<tr><td>gyűrűskönyv</td><td>db</td><td>5</td><td>159,25</td></tr>",
                            "<tr><td>gyűrűskönyv</td><td>db</td><td>5</td><td>169,14705882352942</td></tr>",
                            "<tr><td>gyűrűskönyv</td><td>db</td><td>5</td><td>215,22641509433961</td></tr>",
                            "<tr><td>hajgumi</td><td>db</td><td>1</td><td>273,219512195122</td></tr>",
                            "<tr><td>határidő napló</td><td>db</td><td>2</td><td>169,14705882352942</td></tr>",
                            "<tr><td>hegyező</td><td>db</td><td>4</td><td>215,22641509433961</td></tr>",
                            "<tr><td>hegyező</td><td>db</td><td>4</td><td>273,219512195122</td></tr>",
                            "<tr><td>hegyző</td><td>db</td><td>2</td><td>159,25</td></tr>",
                            "<tr><td>hegyző</td><td>db</td><td>2</td><td>169,14705882352942</td></tr>",
                            "<tr><td>hibajavító</td><td>db</td><td>7</td><td>159,25</td></tr>",
                            "<tr><td>hibajavító</td><td>db</td><td>7</td><td>169,14705882352942</td></tr>",
                            "<tr><td>hibajavító</td><td>db</td><td>7</td><td>215,22641509433961</td></tr>",
                            "<tr><td>hibajavító</td><td>db</td><td>7</td><td>262,48837209302326</td></tr>",
                            "<tr><td>hibajavító</td><td>db</td><td>7</td><td>273,219512195122</td></tr>",
                            "<tr><td>hűtőmágnes</td><td>db</td><td>2</td><td>159,25</td></tr>",
                            "<tr><td>hűtőmágnes</td><td>db</td><td>2</td><td>273,219512195122</td></tr>",
                            "<tr><td>indigó</td><td>db</td><td>2</td><td>262,48837209302326</td></tr>",
                            "<tr><td>írásvetítő fólia</td><td>db</td><td>1</td><td>273,219512195122</td></tr>",
                            "<tr><td>iratgyűjtő</td><td>db</td><td>3</td><td>215,22641509433961</td></tr>",
                            "<tr><td>iratgyűjtő</td><td>db</td><td>3</td><td>273,219512195122</td></tr>",
                            "<tr><td>iratrendező</td><td>db</td><td>2</td><td>169,14705882352942</td></tr>",
                            "<tr><td>iratrendező</td><td>db</td><td>2</td><td>262,48837209302326</td></tr>",
                            "<tr><td>iratsín</td><td>db</td><td>2</td><td>159,25</td></tr>",
                            "<tr><td>iratsín</td><td>db</td><td>2</td><td>215,22641509433961</td></tr>",
                            "<tr><td>irattartó</td><td>db</td><td>2</td><td>159,25</td></tr>",
                            "<tr><td>irattartó</td><td>db</td><td>2</td><td>273,219512195122</td></tr>",
                            "<tr><td>irodaszer</td><td>db</td><td>1</td><td>262,48837209302326</td></tr>",
                            "<tr><td>írólap</td><td>db</td><td>2</td><td>273,219512195122</td></tr>",
                            "<tr><td>ironbél</td><td>db</td><td>5</td><td>159,25</td></tr>",
                            "<tr><td>ironbél</td><td>db</td><td>5</td><td>215,22641509433961</td></tr>",
                            "<tr><td>ironbél</td><td>db</td><td>5</td><td>262,48837209302326</td></tr>",
                            "<tr><td>iskolaszer</td><td>csomag</td><td>24</td><td>159,25</td></tr>",
                            "<tr><td>iskolaszer</td><td>csomag</td><td>24</td><td>215,22641509433961</td></tr>",
                            "<tr><td>iskolaszer</td><td>csomag</td><td>24</td><td>262,48837209302326</td></tr>",
                            "<tr><td>iskolaszer</td><td>db</td><td>24</td><td>159,25</td></tr>",
                            "<tr><td>iskolaszer</td><td>db</td><td>24</td><td>169,14705882352942</td></tr>",
                            "<tr><td>iskolaszer</td><td>db</td><td>24</td><td>215,22641509433961</td></tr>",
                            "<tr><td>iskolaszer</td><td>db</td><td>24</td><td>262,48837209302326</td></tr>",
                            "<tr><td>iskolaszer</td><td>db</td><td>24</td><td>273,219512195122</td></tr>",
                            "<tr><td>játékautó</td><td>db</td><td>4</td><td>159,25</td></tr>",
                            "<tr><td>jelzőkréta</td><td>db</td><td>1</td><td>262,48837209302326</td></tr>",
                            "<tr><td>kapocskiszedő</td><td>db</td><td>1</td><td>273,219512195122</td></tr>",
                            "<tr><td>karton</td><td>ív</td><td>6</td><td>159,25</td></tr>",
                            "<tr><td>karton</td><td>ív</td><td>6</td><td>169,14705882352942</td></tr>",
                            "<tr><td>karton</td><td>ív</td><td>6</td><td>215,22641509433961</td></tr>",
                            "<tr><td>karton</td><td>ív</td><td>6</td><td>262,48837209302326</td></tr>",
                            "<tr><td>karton</td><td>ív</td><td>6</td><td>273,219512195122</td></tr>",
                            "<tr><td>kártya</td><td>db</td><td>1</td><td>215,22641509433961</td></tr>",
                            "<tr><td>képeslap</td><td>db</td><td>16</td><td>159,25</td></tr>",
                            "<tr><td>képeslap</td><td>db</td><td>16</td><td>169,14705882352942</td></tr>",
                            "<tr><td>képeslap</td><td>db</td><td>16</td><td>215,22641509433961</td></tr>",
                            "<tr><td>képeslap</td><td>db</td><td>16</td><td>262,48837209302326</td></tr>",
                            "<tr><td>képeslap</td><td>db</td><td>16</td><td>273,219512195122</td></tr>",
                            "<tr><td>képkirakó</td><td>db</td><td>1</td><td>159,25</td></tr>",
                            "<tr><td>kosztüm</td><td>db</td><td>2</td><td>7716,428571428572</td></tr>",
                            "<tr><td>kosztüm</td><td>db</td><td>2</td><td>12579,8</td></tr>",
                            "<tr><td>könyv</td><td>db</td><td>15</td><td>159,25</td></tr>",
                            "<tr><td>könyv</td><td>db</td><td>15</td><td>169,14705882352942</td></tr>",
                            "<tr><td>könyv</td><td>db</td><td>15</td><td>215,22641509433961</td></tr>",
                            "<tr><td>könyv</td><td>db</td><td>15</td><td>262,48837209302326</td></tr>",
                            "<tr><td>könyv</td><td>db</td><td>15</td><td>273,219512195122</td></tr>",
                            "<tr><td>körző</td><td>db</td><td>3</td><td>215,22641509433961</td></tr>",
                            "<tr><td>körző</td><td>db</td><td>3</td><td>262,48837209302326</td></tr>",
                            "<tr><td>körző</td><td>db</td><td>3</td><td>273,219512195122</td></tr>",
                            "<tr><td>kreatív</td><td>ív</td><td>2</td><td>262,48837209302326</td></tr>",
                            "<tr><td>kreatív</td><td>Ív</td><td>2</td><td>273,219512195122</td></tr>",
                            "<tr><td>kulcstartó</td><td>db</td><td>7</td><td>169,14705882352942</td></tr>",
                            "<tr><td>kulcstartó</td><td>db</td><td>7</td><td>273,219512195122</td></tr>",
                            "<tr><td>labda</td><td>db</td><td>2</td><td>159,25</td></tr>",
                            "<tr><td>labda</td><td>db</td><td>2</td><td>273,219512195122</td></tr>",
                            "<tr><td>levélpapír</td><td>csomag</td><td>7</td><td>215,22641509433961</td></tr>",
                            "<tr><td>levélpapír</td><td>db</td><td>7</td><td>159,25</td></tr>",
                            "<tr><td>levélpapír</td><td>db</td><td>7</td><td>215,22641509433961</td></tr>",
                            "<tr><td>lufi</td><td>db</td><td>2</td><td>159,25</td></tr>",
                            "<tr><td>lufi</td><td>db</td><td>2</td><td>215,22641509433961</td></tr>",
                            "<tr><td>lyukasztó</td><td>db</td><td>2</td><td>159,25</td></tr>",
                            "<tr><td>lyukasztó</td><td>db</td><td>2</td><td>169,14705882352942</td></tr>",
                            "<tr><td>mappa</td><td>db</td><td>9</td><td>159,25</td></tr>",
                            "<tr><td>mappa</td><td>db</td><td>9</td><td>169,14705882352942</td></tr>",
                            "<tr><td>mappa</td><td>db</td><td>9</td><td>215,22641509433961</td></tr>",
                            "<tr><td>mappa</td><td>db</td><td>9</td><td>273,219512195122</td></tr>",
                            "<tr><td>matrica</td><td>db</td><td>10</td><td>159,25</td></tr>",
                            "<tr><td>matrica</td><td>db</td><td>10</td><td>169,14705882352942</td></tr>",
                            "<tr><td>matrica</td><td>db</td><td>10</td><td>215,22641509433961</td></tr>",
                            "<tr><td>matrica</td><td>db</td><td>10</td><td>262,48837209302326</td></tr>",
                            "<tr><td>matrica</td><td>db</td><td>10</td><td>273,219512195122</td></tr>",
                            "<tr><td>meghívó</td><td>db</td><td>4</td><td>169,14705882352942</td></tr>",
                            "<tr><td>meghívó</td><td>db</td><td>4</td><td>215,22641509433961</td></tr>",
                            "<tr><td>meghívó</td><td>db</td><td>4</td><td>262,48837209302326</td></tr>",
                            "<tr><td>miliméterpapír</td><td>db</td><td>1</td><td>215,22641509433961</td></tr>",
                            "<tr><td>munkafüzet</td><td>db</td><td>9</td><td>159,25</td></tr>",
                            "<tr><td>munkafüzet</td><td>db</td><td>9</td><td>169,14705882352942</td></tr>",
                            "<tr><td>munkafüzet</td><td>db</td><td>9</td><td>215,22641509433961</td></tr>",
                            "<tr><td>munkafüzet</td><td>db</td><td>9</td><td>262,48837209302326</td></tr>",
                            "<tr><td>munkafüzet</td><td>db</td><td>9</td><td>273,219512195122</td></tr>",
                            "<tr><td>műnyomó</td><td>ív</td><td>1</td><td>273,219512195122</td></tr>",
                            "<tr><td>naptár</td><td>db</td><td>1</td><td>273,219512195122</td></tr>",
                            "<tr><td>naptárhát</td><td>db</td><td>2</td><td>169,14705882352942</td></tr>",
                            "<tr><td>naptárhát</td><td>db</td><td>2</td><td>273,219512195122</td></tr>",
                            "<tr><td>névjegytartó</td><td>db</td><td>1</td><td>169,14705882352942</td></tr>",
                            "<tr><td>notesz</td><td>db</td><td>5</td><td>169,14705882352942</td></tr>",
                            "<tr><td>notesz</td><td>db</td><td>5</td><td>215,22641509433961</td></tr>",
                            "<tr><td>notesz</td><td>db</td><td>5</td><td>262,48837209302326</td></tr>",
                            "<tr><td>női kabát</td><td>db</td><td>1</td><td>9160</td></tr>",
                            "<tr><td>női nadrág</td><td>db</td><td>1</td><td>12579,8</td></tr>",
                            "<tr><td>ofszet</td><td>ív</td><td>1</td><td>159,25</td></tr>",
                            "<tr><td>oklevél</td><td>db</td><td>2</td><td>169,14705882352942</td></tr>",
                            "<tr><td>olló</td><td>db</td><td>3</td><td>159,25</td></tr>",
                            "<tr><td>olló</td><td>db</td><td>3</td><td>262,48837209302326</td></tr>",
                            "<tr><td>olló</td><td>db</td><td>3</td><td>273,219512195122</td></tr>",
                            "<tr><td>öntapadó</td><td>db</td><td>2</td><td>273,219512195122</td></tr>",
                            "<tr><td>öntapadó</td><td>doboz</td><td>2</td><td>262,48837209302326</td></tr>",
                            "<tr><td>papízsebkendő</td><td>csomag</td><td>1</td><td>273,219512195122</td></tr>",
                            "<tr><td>pausz</td><td>ív</td><td>1</td><td>273,219512195122</td></tr>",
                            "<tr><td>pénztárbizonylat</td><td>db</td><td>2</td><td>159,25</td></tr>",
                            "<tr><td>pénztárbizonylat</td><td>db</td><td>2</td><td>215,22641509433961</td></tr>",
                            "<tr><td>pénztárgépszalag</td><td>db</td><td>2</td><td>169,14705882352942</td></tr>",
                            "<tr><td>pénztárgépszalag</td><td>db</td><td>2</td><td>215,22641509433961</td></tr>",
                            "<tr><td>pixiron</td><td>db</td><td>9</td><td>159,25</td></tr>",
                            "<tr><td>pixiron</td><td>db</td><td>9</td><td>169,14705882352942</td></tr>",
                            "<tr><td>pixiron</td><td>db</td><td>9</td><td>262,48837209302326</td></tr>",
                            "<tr><td>pixiron</td><td>db</td><td>9</td><td>273,219512195122</td></tr>",
                            "<tr><td>plüss</td><td>db</td><td>3</td><td>159,25</td></tr>",
                            "<tr><td>plüss</td><td>db</td><td>3</td><td>169,14705882352942</td></tr>",
                            "<tr><td>plüss</td><td>db</td><td>3</td><td>262,48837209302326</td></tr>",
                            "<tr><td>post-it</td><td>db</td><td>2</td><td>159,25</td></tr>",
                            "<tr><td>post-it</td><td>db</td><td>2</td><td>273,219512195122</td></tr>",
                            "<tr><td>radír</td><td>db</td><td>7</td><td>159,25</td></tr>",
                            "<tr><td>radír</td><td>db</td><td>7</td><td>169,14705882352942</td></tr>",
                            "<tr><td>radír</td><td>db</td><td>7</td><td>215,22641509433961</td></tr>",
                            "<tr><td>radír</td><td>db</td><td>7</td><td>273,219512195122</td></tr>",
                            "<tr><td>radírtoll</td><td>db</td><td>2</td><td>159,25</td></tr>",
                            "<tr><td>radírtoll</td><td>db</td><td>2</td><td>262,48837209302326</td></tr>",
                            "<tr><td>ragasztó</td><td>db</td><td>10</td><td>159,25</td></tr>",
                            "<tr><td>ragasztó</td><td>db</td><td>10</td><td>169,14705882352942</td></tr>",
                            "<tr><td>ragasztó</td><td>db</td><td>10</td><td>215,22641509433961</td></tr>",
                            "<tr><td>ragasztó</td><td>db</td><td>10</td><td>262,48837209302326</td></tr>",
                            "<tr><td>ragasztó</td><td>db</td><td>10</td><td>273,219512195122</td></tr>",
                            "<tr><td>ragasztószalag</td><td>db</td><td>4</td><td>159,25</td></tr>",
                            "<tr><td>ragasztószalag</td><td>db</td><td>4</td><td>169,14705882352942</td></tr>",
                            "<tr><td>ragasztószalag</td><td>db</td><td>4</td><td>215,22641509433961</td></tr>",
                            "<tr><td>rágógumi</td><td>csomag</td><td>1</td><td>169,14705882352942</td></tr>",
                            "<tr><td>rajzlap</td><td>csomag</td><td>2</td><td>169,14705882352942</td></tr>",
                            "<tr><td>rajzlap</td><td>csomag</td><td>2</td><td>262,48837209302326</td></tr>",
                            "<tr><td>rajzszeg</td><td>csomag</td><td>2</td><td>273,219512195122</td></tr>",
                            "<tr><td>rajzszeg</td><td>db</td><td>2</td><td>215,22641509433961</td></tr>",
                            "<tr><td>regiszteres füzet</td><td>db</td><td>2</td><td>169,14705882352942</td></tr>",
                            "<tr><td>regiszteres füzet</td><td>db</td><td>2</td><td>262,48837209302326</td></tr>",
                            "<tr><td>sál</td><td>db</td><td>1</td><td>9160</td></tr>",
                            "<tr><td>spirál</td><td>db</td><td>1</td><td>169,14705882352942</td></tr>",
                            "<tr><td>strandlabda</td><td>db</td><td>1</td><td>273,219512195122</td></tr>",
                            "<tr><td>szalvéta</td><td>csomag</td><td>6</td><td>159,25</td></tr>",
                            "<tr><td>szalvéta</td><td>csomag</td><td>6</td><td>169,14705882352942</td></tr>",
                            "<tr><td>szalvéta</td><td>csomag</td><td>6</td><td>215,22641509433961</td></tr>",
                            "<tr><td>szalvéta</td><td>csomag</td><td>6</td><td>262,48837209302326</td></tr>",
                            "<tr><td>szalvéta</td><td>csomag</td><td>6</td><td>273,219512195122</td></tr>",
                            "<tr><td>számológép</td><td>db</td><td>2</td><td>215,22641509433961</td></tr>",
                            "<tr><td>számológép</td><td>db</td><td>2</td><td>262,48837209302326</td></tr>",
                            "<tr><td>szemetes</td><td>csomag</td><td>1</td><td>159,25</td></tr>",
                            "<tr><td>színes</td><td>db</td><td>2</td><td>159,25</td></tr>",
                            "<tr><td>színes</td><td>db</td><td>2</td><td>273,219512195122</td></tr>",
                            "<tr><td>szögmérő</td><td>db</td><td>3</td><td>169,14705882352942</td></tr>",
                            "<tr><td>szögmérő</td><td>db</td><td>3</td><td>215,22641509433961</td></tr>",
                            "<tr><td>szövegkiemelő</td><td>csomag</td><td>5</td><td>215,22641509433961</td></tr>",
                            "<tr><td>szövegkiemelő</td><td>db</td><td>5</td><td>159,25</td></tr>",
                            "<tr><td>szövegkiemelő</td><td>db</td><td>5</td><td>169,14705882352942</td></tr>",
                            "<tr><td>szövegkiemelő</td><td>db</td><td>5</td><td>262,48837209302326</td></tr>",
                            "<tr><td>szövegkiemelő</td><td>db</td><td>5</td><td>273,219512195122</td></tr>",
                            "<tr><td>táblafilc</td><td>csomag</td><td>1</td><td>169,14705882352942</td></tr>",
                            "<tr><td>tapétavágó</td><td>db</td><td>1</td><td>215,22641509433961</td></tr>",
                            "<tr><td>tempera</td><td>db</td><td>2</td><td>273,219512195122</td></tr>",
                            "<tr><td>térképtű</td><td>csomag</td><td>1</td><td>215,22641509433961</td></tr>",
                            "<tr><td>tintapatron</td><td>csomag</td><td>3</td><td>159,25</td></tr>",
                            "<tr><td>tintapatron</td><td>db</td><td>3</td><td>159,25</td></tr>",
                            "<tr><td>tintapatron</td><td>db</td><td>3</td><td>169,14705882352942</td></tr>",
                            "<tr><td>toll</td><td>db</td><td>2</td><td>169,14705882352942</td></tr>",
                            "<tr><td>toll</td><td>db</td><td>2</td><td>262,48837209302326</td></tr>",
                            "<tr><td>tollbetét</td><td>db</td><td>18</td><td>159,25</td></tr>",
                            "<tr><td>tollbetét</td><td>db</td><td>18</td><td>169,14705882352942</td></tr>",
                            "<tr><td>tollbetét</td><td>db</td><td>18</td><td>215,22641509433961</td></tr>",
                            "<tr><td>tollbetét</td><td>db</td><td>18</td><td>262,48837209302326</td></tr>",
                            "<tr><td>tollbetét</td><td>db</td><td>18</td><td>273,219512195122</td></tr>",
                            "<tr><td>tolltartó</td><td>csomag</td><td>7</td><td>273,219512195122</td></tr>",
                            "<tr><td>tolltartó</td><td>db</td><td>7</td><td>159,25</td></tr>",
                            "<tr><td>tolltartó</td><td>db</td><td>7</td><td>169,14705882352942</td></tr>",
                            "<tr><td>tolltartó</td><td>db</td><td>7</td><td>262,48837209302326</td></tr>",
                            "<tr><td>toner</td><td>db</td><td>1</td><td>273,219512195122</td></tr>",
                            "<tr><td>töltőtoll</td><td>üveg</td><td>1</td><td>262,48837209302326</td></tr>",
                            "<tr><td>tűzőgép</td><td>db</td><td>6</td><td>215,22641509433961</td></tr>",
                            "<tr><td>tűzőgép</td><td>db</td><td>6</td><td>262,48837209302326</td></tr>",
                            "<tr><td>tűzőgép</td><td>db</td><td>6</td><td>273,219512195122</td></tr>",
                            "<tr><td>tűzőkapocs</td><td>csomag</td><td>2</td><td>159,25</td></tr>",
                            "<tr><td>tűzőkapocs</td><td>csomag</td><td>2</td><td>169,14705882352942</td></tr>",
                            "<tr><td>vízfesték</td><td>db</td><td>4</td><td>159,25</td></tr>",
                            "<tr><td>vízfesték</td><td>db</td><td>4</td><td>215,22641509433961</td></tr>",
                            "<tr><td>vonalzó</td><td>db</td><td>6</td><td>159,25</td></tr>",
                            "<tr><td>vonalzó</td><td>db</td><td>6</td><td>169,14705882352942</td></tr>",
                            "<tr><td>vonalzó</td><td>db</td><td>6</td><td>215,22641509433961</td></tr>",
                            "<tr><td>vonalzó</td><td>db</td><td>6</td><td>273,219512195122</td></tr>",
                            "<tr><td>zászló</td><td>db</td><td>1</td><td>262,48837209302326</td></tr>",
                            "<tr><td>zseléstoll</td><td>csomag</td><td>4</td><td>159,25</td></tr>",
                            "<tr><td>zseléstoll</td><td>db</td><td>4</td><td>159,25</td></tr>",
                            "<tr><td>zseléstoll</td><td>db</td><td>4</td><td>169,14705882352942</td></tr>",
                            "</table>"
                        ]
                    }
                }
            ],
            "execution_count": 35
        },
        {
            "cell_type": "markdown",
            "source": [
                "8. <span style=\"font-weight: 600; color: rgb(36, 41, 47); font-family: -apple-system, BlinkMacSystemFont, &quot;Segoe UI&quot;, Helvetica, Arial, sans-serif, &quot;Apple Color Emoji&quot;, &quot;Segoe UI Emoji&quot;; font-size: 16px;\">Készítsünk listát a rendelési tételekről. Az egyes rendelési tételeket termékenként soroljuk be 4 osztályba a rendelés mennyisége alapján. Jelenítsük meg ezt az információt is egy új oszlopban, az oszlop neve legyen 'Mennyiségi kategória'.</span>\n",
                "\n",
                "1. A lista csak a 100 Ft feletti egységárú rendelési tételeket vegye figyelembe!"
            ],
            "metadata": {
                "azdata_cell_guid": "27a3d3dc-eafb-4a5e-b103-9f465b9eda8f"
            },
            "attachments": {}
        },
        {
            "cell_type": "code",
            "source": [
                ""
            ],
            "metadata": {
                "azdata_cell_guid": "f09edb3f-649b-4a96-958e-9e12774ae8b7",
                "language": "sql"
            },
            "outputs": [],
            "execution_count": null
        },
        {
            "cell_type": "markdown",
            "source": [
                "9. <span style=\"font-weight: 600; color: rgb(36, 41, 47); font-family: -apple-system, BlinkMacSystemFont, &quot;Segoe UI&quot;, Helvetica, Arial, sans-serif, &quot;Apple Color Emoji&quot;, &quot;Segoe UI Emoji&quot;; font-size: 16px;\">Listázzuk a termékek kódját, megnevezését, kategóriájának nevét, és listaárát.</span>\n",
                "\n",
                "1. A listát egészítsük ki két új oszloppal, amelyek a kategória legolcsóbb, illetve legdrágább termékének árát tartalmazzák.\n",
                "2. A két új oszlop létrehozásánál partíciókkal dolgozzunk!"
            ],
            "metadata": {
                "azdata_cell_guid": "f12a331a-0e26-4d3d-9c68-812316286577"
            },
            "attachments": {}
        },
        {
            "cell_type": "code",
            "source": [
                ""
            ],
            "metadata": {
                "azdata_cell_guid": "10a77fc9-e61a-46fc-a401-59720d82bc50",
                "language": "sql"
            },
            "outputs": [],
            "execution_count": null
        },
        {
            "cell_type": "markdown",
            "source": [
                "10. <span style=\"font-weight: 600; color: rgb(36, 41, 47); font-family: -apple-system, BlinkMacSystemFont, &quot;Segoe UI&quot;, Helvetica, Arial, sans-serif, &quot;Apple Color Emoji&quot;, &quot;Segoe UI Emoji&quot;; font-size: 16px;\">Készítsünk listát a rendelésekről. A lista legyen rendezve ügyfelenként (LOGIN), azon belül a rendelés dátuma szerint. A listához készítsünk sorszámozást is. A sorszám a következő formában jelenjen meg: sorszám_év_login. Pl: 1_2015_adam1</span>\n",
                "\n",
                "1. A számozás login-onként, azon belül rendelési évenként kezdődjön újra.\n",
                "2. A sorszám oszlop neve legyen Azonosító"
            ],
            "metadata": {
                "azdata_cell_guid": "9229e2b6-e200-4499-b95b-2d0222149831"
            },
            "attachments": {}
        },
        {
            "cell_type": "code",
            "source": [
                ""
            ],
            "metadata": {
                "azdata_cell_guid": "8b49ed67-28c6-4880-82a8-cd369e5bba99",
                "language": "sql"
            },
            "outputs": [],
            "execution_count": null
        },
        {
            "cell_type": "markdown",
            "source": [
                "11. <span style=\"color: rgb(36, 41, 47); font-family: -apple-system, BlinkMacSystemFont, &quot;Segoe UI&quot;, Helvetica, Arial, sans-serif, &quot;Apple Color Emoji&quot;, &quot;Segoe UI Emoji&quot;; font-size: 16px;\">Készítsünk listát a termékek adatairól listaár szerint növekvő sorrendben! A lista jelenítse meg két új oszlopban a sorrend szerint előző, illetve következő termék listaárát is a termék saját kategóriájában és raktárában!</span>\n",
                "\n",
                "1. Ahol nincs előző vagy következő érték, ott 0 jelenjen meg!\n",
                "2. Az oszlopokat nevezzük el értelemszerűen!"
            ],
            "metadata": {
                "azdata_cell_guid": "7f5fc7a7-3b6a-4d89-b292-490830afb0c6"
            },
            "attachments": {}
        },
        {
            "cell_type": "code",
            "source": [
                ""
            ],
            "metadata": {
                "azdata_cell_guid": "4a9ece40-f782-4c0d-92cd-9c21969067ed",
                "language": "sql"
            },
            "outputs": [],
            "execution_count": null
        },
        {
            "cell_type": "markdown",
            "source": [
                "12. <span style=\"color: rgb(36, 41, 47); font-family: -apple-system, BlinkMacSystemFont, &quot;Segoe UI&quot;, Helvetica, Arial, sans-serif, &quot;Apple Color Emoji&quot;, &quot;Segoe UI Emoji&quot;; font-size: 16px;\">Listázzuk a termékek kódját, nevét és listaárát listaár szerinti sorrendben!</span>\n",
                "\n",
                "1. Vegyünk fel egy új oszlopot Mozgóátlag néven, amely minden esetben az aktuális termék, az előző, és a következő termék átlagárát tartalmazza!\n",
                "2. A mozgóátlagot kerekítsük két tizedesre!"
            ],
            "metadata": {
                "azdata_cell_guid": "5a483c52-bb98-44bb-bd03-1146d4b0abfa"
            },
            "attachments": {}
        },
        {
            "cell_type": "code",
            "source": [
                ""
            ],
            "metadata": {
                "azdata_cell_guid": "dd6e89bd-08f9-4b18-8460-03c45b503df0",
                "language": "sql"
            },
            "outputs": [],
            "execution_count": null
        },
        {
            "cell_type": "markdown",
            "source": [
                "13. <span style=\"color: rgb(36, 41, 47); font-family: -apple-system, BlinkMacSystemFont, &quot;Segoe UI&quot;, Helvetica, Arial, sans-serif, &quot;Apple Color Emoji&quot;, &quot;Segoe UI Emoji&quot;; font-size: 16px;\">Készítsünk listát, amely a rendelések sorszámát és a rendelés értékét tartalmazza. A listát egészítsük ki egy új oszloppal, amely minden rendelés esetén addigi rendelések összegét tartalmazza (az aktuálisat is beleértve)!</span>\n",
                "\n",
                "1. A listát rendezzük sorszám szerint növekvő sorrendbe.\n",
                "2. A lista ne tartalmazzon duplikált sorokat!"
            ],
            "metadata": {
                "azdata_cell_guid": "85d5cb66-96c6-42de-99cf-85ab22d08548"
            },
            "attachments": {}
        },
        {
            "cell_type": "code",
            "source": [
                ""
            ],
            "metadata": {
                "azdata_cell_guid": "cb07d64b-0eaa-498b-b4d2-0b46971e95ce",
                "language": "sql"
            },
            "outputs": [],
            "execution_count": null
        },
        {
            "cell_type": "markdown",
            "source": [
                "14. <span style=\"color: rgb(36, 41, 47); font-family: -apple-system, BlinkMacSystemFont, &quot;Segoe UI&quot;, Helvetica, Arial, sans-serif, &quot;Apple Color Emoji&quot;, &quot;Segoe UI Emoji&quot;; font-size: 16px;\">Készítsünk listát a termékek kódjáról, nevéről, kategória azonosítójáról, raktár azonosítójáról és listaáráról, valamint a termék adott szempontok szerinti rangsorokban elfoglalt helyezéseiről. (Szempontonként külön oszlopban, a helyezéseknél növekvő sorrendet feltételezve). A szempontok a következők legyenek: listaár, kategória szerinti listaár, és raktárkód szerinti listaár.</span>\n",
                "\n",
                "1. Az oszlopokat nevezzük el értelemszerűen.\n",
                "2. A helyezések egyenlőség esetén \"sűrűn\" kövessék egymást.\n",
                "3. A lista legyen rendezett kategória azonosító, azon belül listaár szerint!"
            ],
            "metadata": {
                "azdata_cell_guid": "f95ad665-a807-4099-bf06-64ed974f866f"
            },
            "attachments": {}
        },
        {
            "cell_type": "code",
            "source": [
                ""
            ],
            "metadata": {
                "azdata_cell_guid": "74c7ec8a-ae4a-4d03-b1c4-e8f6bb1be12c",
                "language": "sql"
            },
            "outputs": [],
            "execution_count": null
        },
        {
            "cell_type": "markdown",
            "source": [
                "15. <span style=\"color: rgb(36, 41, 47); font-family: -apple-system, BlinkMacSystemFont, &quot;Segoe UI&quot;, Helvetica, Arial, sans-serif, &quot;Apple Color Emoji&quot;, &quot;Segoe UI Emoji&quot;; font-size: 16px;\">Készítsünk listát a rendelési tételekről, amely minden sor esetén göngyölítve tartalmazza az ügyfél adott rendelési tételig meglévő rendelési tételeinek összértékét!</span>\n",
                "\n",
                "1. Az új oszlop neve legyen Eddigi rendelési tételek összértéke!\n",
                "2. Az ügyfél neve is jelenjen meg!"
            ],
            "metadata": {
                "azdata_cell_guid": "93552388-ffec-49ff-99e5-ae8dc8072601"
            },
            "attachments": {}
        },
        {
            "cell_type": "code",
            "source": [
                ""
            ],
            "metadata": {
                "azdata_cell_guid": "0e7f547f-7d96-4611-b1c2-0fa84a581e79",
                "language": "sql"
            },
            "outputs": [],
            "execution_count": null
        }
    ]
}